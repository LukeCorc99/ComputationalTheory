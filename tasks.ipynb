{
 "cells": [
  {
   "attachments": {},
   "cell_type": "markdown",
   "metadata": {},
   "source": [
    "# Computational Theory Tasks\n",
    "## By Luke Corcoran\n",
    "### G00410404"
   ]
  },
  {
   "cell_type": "code",
   "execution_count": 2,
   "metadata": {},
   "outputs": [],
   "source": [
    "# Define necessary imports"
   ]
  },
  {
   "attachments": {},
   "cell_type": "markdown",
   "metadata": {},
   "source": [
    "# Task 1: Binary Representations\n",
    "This task involves creating functions to manipulate binary representations of 32-bit unsigned integers.\n",
    "\n",
    "**Sources:**\n",
    "- Rotating bits of a number in Python: https://www.geeksforgeeks.org/python3-program-to-rotate-bits-of-a-number/\n",
    "\n",
    "## Function 1: rotl(x, n=1) (Left Rotation)\n",
    "The `rotl` function performs a left rotation on a 32-bit unsigned integer. Left rotation shifts bits to the left by `n` positions, wrapping around the bits that overflow beyond the 32-bit boundary.\n",
    "### Example I/O: \n",
    "**Input:**  \n",
    "`x` = 0b110010101011, `n` = 3\n",
    "\n",
    "**Output:**  \n",
    "0b010101100000"
   ]
  },
  {
   "cell_type": "code",
   "execution_count": 3,
   "metadata": {},
   "outputs": [],
   "source": [
    "# Rotate bits of x to the left by n positions.\n",
    "def rotateLeft(x, n=1):\n",
    "    bits = 32 # Number of bits in an integer\n",
    "    n = n % bits  # Ensure n is within the range of 0-31\n",
    "    return ((x << n) & 0xFFFFFFFF) | (x >> (bits - n)) # Rotate bits to the left by n positions"
   ]
  },
  {
   "cell_type": "markdown",
   "metadata": {},
   "source": [
    "### Example Usage:"
   ]
  },
  {
   "cell_type": "code",
   "execution_count": null,
   "metadata": {},
   "outputs": [],
   "source": [
    "x = 0b110010101011  # Example binary number\n",
    "n = 3  # Number of positions to rotate\n",
    "result = rotateLeft(x, n)  # Compute left rotation\n",
    "\n",
    "print(f\"Input: x = {bin(x)}, n = {n}\")  # Print input values\n",
    "print(f\"Output: {bin(result)}\")  # Print output of rotateLeft function"
   ]
  },
  {
   "cell_type": "markdown",
   "metadata": {},
   "source": [
    "## Function 2: rotl(x, n=1) (Right Rotation)\n",
    "The `rotl` function performs a right rotation on a 32-bit unsigned integer. Right rotation shifts bits to the right by `n` positions, wrapping around the bits that overflow beyond the 32-bit boundary.\n",
    "### Example I/O: \n",
    "**Input:**  \n",
    "`x` = 0b110010101011\n",
    "\n",
    "`n` = 3\n",
    "\n",
    "**Output:**  \n",
    "0b011110010101"
   ]
  },
  {
   "cell_type": "code",
   "execution_count": 4,
   "metadata": {},
   "outputs": [],
   "source": [
    "# Rotate bits of x to the right by n positions.\n",
    "def rotateRight(x, n=1):\n",
    "    bits = 32  # Number of bits in an integer\n",
    "    n = n % bits  # Ensure n is within the range of 0-31\n",
    "    return ((x >> n) | (x << (bits - n))) & 0xFFFFFFFF  # Rotate bits to the right by n positions"
   ]
  },
  {
   "cell_type": "markdown",
   "metadata": {},
   "source": [
    "### Example Usage:"
   ]
  },
  {
   "cell_type": "code",
   "execution_count": null,
   "metadata": {},
   "outputs": [],
   "source": [
    "x = 0b110010101011  # Example binary number\n",
    "n = 3  # Number of positions to rotate\n",
    "result = rotateRight(x, n)  # Compute right rotation\n",
    "\n",
    "print(f\"Input: x = {bin(x)}, n = {n}\")  # Print input values\n",
    "print(f\"Output: {bin(result)}\")  # Print output of rotateRight function"
   ]
  },
  {
   "cell_type": "markdown",
   "metadata": {},
   "source": [
    "## Function 3: ch(x, y, z) (Bitwise Choice)\n",
    "The `ch` function selects bits from `y` where `x` has bits set to 1 and from `z` where `x` has bits set to 0.\n",
    "### Example I/O: \n",
    "**Input:**  \n",
    "`x` = 0b110010101011 \n",
    "\n",
    "`y` = 0b101010101010\n",
    "\n",
    "`z` = 0b010101010101\n",
    "\n",
    "**Output:**  \n",
    "0b101000101011"
   ]
  },
  {
   "cell_type": "code",
   "execution_count": 5,
   "metadata": {},
   "outputs": [],
   "source": [
    "# Choose bits from y where x has bits set to 1, and bits from z where x has bits set to 0.\n",
    "def bitwiseChoice(x, y, z):\n",
    "    return (x & y) ^ (~x & z)  # Select bits from y where x is 1, otherwise from z"
   ]
  },
  {
   "cell_type": "markdown",
   "metadata": {},
   "source": [
    "### Example Usage:"
   ]
  },
  {
   "cell_type": "code",
   "execution_count": null,
   "metadata": {},
   "outputs": [
    {
     "name": "stdout",
     "output_type": "stream",
     "text": [
      "Input: x = 0b110010101011, y = 0b101010101010, z = 0b10101010101\n",
      "Output: 0b100111111110\n"
     ]
    }
   ],
   "source": [
    "# Define binary values for x, y, and z\n",
    "x = 0b110010101011\n",
    "y = 0b101010101010 \n",
    "z = 0b010101010101  \n",
    "result = bitwiseChoice(x, y, z)  # Compute bitwiseChoice function\n",
    "\n",
    "print(f\"Input: x = {bin(x)}, y = {bin(y)}, z = {bin(z)}\")  # Print input values\n",
    "print(f\"Output: {bin(result)}\")  # Print output of bitwiseChoice function"
   ]
  }
 ],
 "metadata": {
  "kernelspec": {
   "display_name": "base",
   "language": "python",
   "name": "python3"
  },
  "language_info": {
   "codemirror_mode": {
    "name": "ipython",
    "version": 3
   },
   "file_extension": ".py",
   "mimetype": "text/x-python",
   "name": "python",
   "nbconvert_exporter": "python",
   "pygments_lexer": "ipython3",
   "version": "3.11.5"
  },
  "orig_nbformat": 4
 },
 "nbformat": 4,
 "nbformat_minor": 2
}
