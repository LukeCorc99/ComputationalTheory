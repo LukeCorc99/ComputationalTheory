{
 "cells": [
  {
   "attachments": {},
   "cell_type": "markdown",
   "metadata": {},
   "source": [
    "# Computational Theory Tasks\n",
    "## By Luke Corcoran\n",
    "### G00410404"
   ]
  },
  {
   "cell_type": "code",
   "execution_count": 8,
   "metadata": {},
   "outputs": [],
   "source": [
    "# Define necessary imports"
   ]
  },
  {
   "attachments": {},
   "cell_type": "markdown",
   "metadata": {},
   "source": [
    "# Task 1: Binary Representations\n",
    "This task involves creating functions to manipulate binary representations of 32-bit unsigned integers.\n",
    "\n",
    "**Sources:**\n",
    "- Rotating bits of a number in Python: https://www.geeksforgeeks.org/python3-program-to-rotate-bits-of-a-number/\n",
    "\n",
    "## Function 1: rotl(x, n=1) (Left Rotation)\n",
    "The `rotl` function performs a left rotation on a 32-bit unsigned integer. Left rotation shifts bits to the left by `n` positions, wrapping around the bits that overflow beyond the 32-bit boundary.\n",
    "### Example I/O: \n",
    "**Input:**  \n",
    "```\n",
    "x = 0b110010101011\n",
    "n = 3\n",
    "```\n",
    "\n",
    "**Output:** \n",
    "``` \n",
    "0b010101100000\n",
    "```"
   ]
  },
  {
   "cell_type": "code",
   "execution_count": 9,
   "metadata": {},
   "outputs": [],
   "source": [
    "# Rotate bits of x to the left by n positions.\n",
    "def rotl(x, n=1):\n",
    "    bits = 32 # Number of bits in an integer\n",
    "    n = n % bits  # Ensure n is within the range of 0-31\n",
    "    return ((x << n) & 0xFFFFFFFF) | (x >> (bits - n)) # Rotate bits to the left by n positions"
   ]
  },
  {
   "cell_type": "markdown",
   "metadata": {},
   "source": [
    "### Example Usage:"
   ]
  },
  {
   "cell_type": "code",
   "execution_count": 10,
   "metadata": {},
   "outputs": [
    {
     "name": "stdout",
     "output_type": "stream",
     "text": [
      "Input: x = 0b110010101011, n = 3\n",
      "Output: 0b110010101011000\n"
     ]
    }
   ],
   "source": [
    "x = 0b110010101011  # Example binary number\n",
    "n = 3  # Number of positions to rotate\n",
    "result = rotl(x, n)  # Compute left rotation\n",
    "\n",
    "print(f\"Input: x = {bin(x)}, n = {n}\")  # Print input values\n",
    "print(f\"Output: {bin(result)}\")  # Print output of rotl function"
   ]
  },
  {
   "cell_type": "markdown",
   "metadata": {},
   "source": [
    "## Function 2: rotr(x, n=1) (Right Rotation)\n",
    "The `rotr` function performs a right rotation on a 32-bit unsigned integer. Right rotation shifts bits to the right by `n` positions, wrapping around the bits that overflow beyond the 32-bit boundary.\n",
    "### Example I/O: \n",
    "**Input:**  \n",
    "```\n",
    "x = 0b110010101011\n",
    "n = 3\n",
    "```\n",
    "\n",
    "**Output:** \n",
    "``` \n",
    "0b011110010101\n",
    "```"
   ]
  },
  {
   "cell_type": "code",
   "execution_count": 11,
   "metadata": {},
   "outputs": [],
   "source": [
    "# Rotate bits of x to the right by n positions.\n",
    "def rotr(x, n=1):\n",
    "    bits = 32  # Number of bits in an integer\n",
    "    n = n % bits  # Ensure n is within the range of 0-31\n",
    "    return ((x >> n) | (x << (bits - n))) & 0xFFFFFFFF  # Rotate bits to the right by n positions"
   ]
  },
  {
   "cell_type": "markdown",
   "metadata": {},
   "source": [
    "### Example Usage:"
   ]
  },
  {
   "cell_type": "code",
   "execution_count": 12,
   "metadata": {},
   "outputs": [
    {
     "name": "stdout",
     "output_type": "stream",
     "text": [
      "Input: x = 0b110010101011, n = 3\n",
      "Output: 0b1100000000000000000000110010101\n"
     ]
    }
   ],
   "source": [
    "x = 0b110010101011  # Example binary number\n",
    "n = 3  # Number of positions to rotate\n",
    "result = rotr(x, n)  # Compute right rotation\n",
    "\n",
    "print(f\"Input: x = {bin(x)}, n = {n}\")  # Print input values\n",
    "print(f\"Output: {bin(result)}\")  # Print output of rotr function"
   ]
  },
  {
   "cell_type": "markdown",
   "metadata": {},
   "source": [
    "## Function 3: ch(x, y, z) (Bitwise Choice)\n",
    "The `ch` function selects bits from `y` where `x` has bits set to 1 and from `z` where `x` has bits set to 0.\n",
    "### Example I/O: \n",
    "**Input:**  \n",
    "```\n",
    "x = 0b110010101011 \n",
    "y = 0b101010101010\n",
    "z = 0b010101010101\n",
    "```\n",
    "\n",
    "**Output:**\n",
    "``` \n",
    "0b101000101011\n",
    "```"
   ]
  },
  {
   "cell_type": "code",
   "execution_count": 13,
   "metadata": {},
   "outputs": [],
   "source": [
    "# Choose bits from y where x has bits set to 1, and bits from z where x has bits set to 0.\n",
    "def ch(x, y, z):\n",
    "    return (x & y) ^ (~x & z)  # Select bits from y where x is 1, otherwise from z"
   ]
  },
  {
   "cell_type": "markdown",
   "metadata": {},
   "source": [
    "### Example Usage:"
   ]
  },
  {
   "cell_type": "code",
   "execution_count": 14,
   "metadata": {},
   "outputs": [
    {
     "name": "stdout",
     "output_type": "stream",
     "text": [
      "Input: x = 0b110010101011, y = 0b101010101010, z = 0b10101010101\n",
      "Output: 0b100111111110\n"
     ]
    }
   ],
   "source": [
    "# Define binary values for x, y, and z\n",
    "x = 0b110010101011\n",
    "y = 0b101010101010 \n",
    "z = 0b010101010101  \n",
    "result = ch(x, y, z)  # Compute ch function\n",
    "\n",
    "print(f\"Input: x = {bin(x)}, y = {bin(y)}, z = {bin(z)}\")  # Print input values\n",
    "print(f\"Output: {bin(result)}\")  # Print output of ch function"
   ]
  },
  {
   "cell_type": "markdown",
   "metadata": {},
   "source": [
    "## Function 4: maj(x, y, z) (Bitwise Majority)\n",
    "\n",
    "The `maj` function performs a majority vote on the bits of `x`, `y`, and `z`.\n",
    "The output has a `1` in bit position `i` where at least two of `x`, `y`, and `z` have `1`s in position `i`.\n",
    "All other output bit positions are `0`.\n",
    "\n",
    "#### Example I/O:\n",
    "\n",
    "**Input:**\n",
    "```\n",
    "x = 0b110010101011\n",
    "y = 0b101010101010\n",
    "z = 0b010101010101\n",
    "```\n",
    "\n",
    "**Output:**\n",
    "```\n",
    "0b110010101011\n",
    "```"
   ]
  },
  {
   "cell_type": "code",
   "execution_count": 15,
   "metadata": {},
   "outputs": [],
   "source": [
    "# Compute the majority vote for each bit position in x, y, and z\n",
    "def maj(x, y, z):\n",
    "    return (x & y) | (y & z) | (x & z)  # Majority function: At least two bits must be 1"
   ]
  },
  {
   "cell_type": "markdown",
   "metadata": {},
   "source": [
    "### Example Usage:"
   ]
  },
  {
   "cell_type": "code",
   "execution_count": 16,
   "metadata": {},
   "outputs": [
    {
     "name": "stdout",
     "output_type": "stream",
     "text": [
      "Input: x = 0b110010101011, y = 0b101010101010, z = 0b10101010101\n",
      "Output: 0b110010101011\n"
     ]
    }
   ],
   "source": [
    "# Define binary values for x, y, and z\n",
    "x = 0b110010101011\n",
    "y = 0b101010101010\n",
    "z = 0b010101010101\n",
    "\n",
    "result = maj(x, y, z)  # Compute majority function\n",
    "\n",
    "print(f\"Input: x = {bin(x)}, y = {bin(y)}, z = {bin(z)}\")  # Print input values\n",
    "print(f\"Output: {bin(result)}\")  # Print output of maj function"
   ]
  },
  {
   "cell_type": "markdown",
   "metadata": {},
   "source": [
    "# Task 2: Hash Functions"
   ]
  },
  {
   "cell_type": "code",
   "execution_count": null,
   "metadata": {},
   "outputs": [],
   "source": [
    "def hash(s: str) -> int:\n",
    "    hashval = 0\n",
    "    for char in s:\n",
    "        hashval = ord(char) + 31 * hashval\n",
    "    return hashval % 101"
   ]
  },
  {
   "cell_type": "markdown",
   "metadata": {},
   "source": [
    "# Task 3: SHA256"
   ]
  },
  {
   "cell_type": "code",
   "execution_count": null,
   "metadata": {},
   "outputs": [],
   "source": [
    "import sys\n",
    "\n",
    "def sha256_padding(file_path):\n",
    "    with open(file_path, \"rb\") as f:\n",
    "        data = f.read()\n",
    "\n",
    "    length = len(data) * 8  # Original message length in bits\n",
    "    data += b'\\x80'  # Append 1 bit (10000000 in binary)\n",
    "\n",
    "    while (len(data) * 8) % 512 != 448:\n",
    "        data += b'\\x00'  # Append 0 bits until message length is 448 mod 512\n",
    "\n",
    "    data += length.to_bytes(8, \"big\")  # Append original length as 64-bit big-endian\n",
    "\n",
    "    # Extract and print the padding in hex format\n",
    "    padding = data[len(data) - 64 // 8:]  # Extract last 64 bytes\n",
    "    print(\" \".join(f\"{byte:02x}\" for byte in padding))\n",
    "\n",
    "if __name__ == \"__main__\":\n",
    "    sha256_padding(sys.argv[1])"
   ]
  },
  {
   "cell_type": "markdown",
   "metadata": {},
   "source": [
    "## Task 4: Prime Numbers"
   ]
  },
  {
   "cell_type": "markdown",
   "metadata": {},
   "source": [
    "### 1. Trial Division"
   ]
  },
  {
   "cell_type": "code",
   "execution_count": 1,
   "metadata": {},
   "outputs": [],
   "source": [
    "def trial_division_primes(n):\n",
    "    primes = []\n",
    "    num = 2\n",
    "    while len(primes) < n:\n",
    "        is_prime = True\n",
    "        i = 2\n",
    "        while i * i <= num: \n",
    "            if num % i == 0:\n",
    "                is_prime = False\n",
    "                break\n",
    "            i += 1\n",
    "        if is_prime:\n",
    "            primes.append(num)\n",
    "        num += 1\n",
    "    return primes"
   ]
  },
  {
   "cell_type": "markdown",
   "metadata": {},
   "source": [
    "### 2.  Sieve of Eratosthenes"
   ]
  },
  {
   "cell_type": "code",
   "execution_count": 2,
   "metadata": {},
   "outputs": [],
   "source": [
    "def sieve_of_eratosthenes(n):\n",
    "    limit = 550 \n",
    "    sieve = [True] * (limit + 1)\n",
    "    sieve[0] = sieve[1] = False\n",
    "    start = 2\n",
    "    while start * start <= limit:\n",
    "        if sieve[start]:\n",
    "            multiple = start * start\n",
    "            while multiple <= limit:\n",
    "                sieve[multiple] = False\n",
    "                multiple += start\n",
    "        start += 1\n",
    "    primes = [num for num, prime in enumerate(sieve) if prime]\n",
    "    return primes[:n]"
   ]
  },
  {
   "cell_type": "code",
   "execution_count": 3,
   "metadata": {},
   "outputs": [
    {
     "name": "stdout",
     "output_type": "stream",
     "text": [
      "First 100 primes using Trial Division: [2, 3, 5, 7, 11, 13, 17, 19, 23, 29, 31, 37, 41, 43, 47, 53, 59, 61, 67, 71, 73, 79, 83, 89, 97, 101, 103, 107, 109, 113, 127, 131, 137, 139, 149, 151, 157, 163, 167, 173, 179, 181, 191, 193, 197, 199, 211, 223, 227, 229, 233, 239, 241, 251, 257, 263, 269, 271, 277, 281, 283, 293, 307, 311, 313, 317, 331, 337, 347, 349, 353, 359, 367, 373, 379, 383, 389, 397, 401, 409, 419, 421, 431, 433, 439, 443, 449, 457, 461, 463, 467, 479, 487, 491, 499, 503, 509, 521, 523, 541]\n",
      "First 100 primes using Sieve of Eratosthenes: [2, 3, 5, 7, 11, 13, 17, 19, 23, 29, 31, 37, 41, 43, 47, 53, 59, 61, 67, 71, 73, 79, 83, 89, 97, 101, 103, 107, 109, 113, 127, 131, 137, 139, 149, 151, 157, 163, 167, 173, 179, 181, 191, 193, 197, 199, 211, 223, 227, 229, 233, 239, 241, 251, 257, 263, 269, 271, 277, 281, 283, 293, 307, 311, 313, 317, 331, 337, 347, 349, 353, 359, 367, 373, 379, 383, 389, 397, 401, 409, 419, 421, 431, 433, 439, 443, 449, 457, 461, 463, 467, 479, 487, 491, 499, 503, 509, 521, 523, 541]\n"
     ]
    }
   ],
   "source": [
    "# Find the first 100 primes using both methods\n",
    "primes_trial = trial_division_primes(100)\n",
    "primes_sieve = sieve_of_eratosthenes(100)\n",
    "\n",
    "print(\"First 100 primes using Trial Division:\", primes_trial)\n",
    "print(\"First 100 primes using Sieve of Eratosthenes:\", primes_sieve)"
   ]
  }
 ],
 "metadata": {
  "kernelspec": {
   "display_name": "Python 3",
   "language": "python",
   "name": "python3"
  },
  "language_info": {
   "codemirror_mode": {
    "name": "ipython",
    "version": 3
   },
   "file_extension": ".py",
   "mimetype": "text/x-python",
   "name": "python",
   "nbconvert_exporter": "python",
   "pygments_lexer": "ipython3",
   "version": "3.12.0"
  },
  "orig_nbformat": 4
 },
 "nbformat": 4,
 "nbformat_minor": 2
}
