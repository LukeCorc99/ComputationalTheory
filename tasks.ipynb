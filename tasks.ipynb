{
 "cells": [
  {
   "attachments": {},
   "cell_type": "markdown",
   "metadata": {},
   "source": [
    "# Computational Theory Tasks\n",
    "## By Luke Corcoran\n",
    "### G00410404"
   ]
  },
  {
   "cell_type": "code",
   "execution_count": 123,
   "metadata": {},
   "outputs": [],
   "source": [
    "# Define necessary imports"
   ]
  },
  {
   "attachments": {},
   "cell_type": "markdown",
   "metadata": {},
   "source": [
    "# Task 1: Binary Representations\n",
    "This task involves creating functions to manipulate binary representations of 32-bit unsigned integers.\n",
    "\n",
    "**Sources:**\n",
    "- Rotating bits of a number in Python: https://www.geeksforgeeks.org/python3-program-to-rotate-bits-of-a-number/\n",
    "\n",
    "## Function 1: rotl(x, n=1) (Left Rotation)\n",
    "The `rotl` function performs a left rotation on a 32-bit unsigned integer. Left rotation shifts bits to the left by `n` positions, wrapping around the bits that overflow beyond the 32-bit boundary.\n",
    "### Example I/O: \n",
    "**Input:**  \n",
    "```\n",
    "x = 0b110010101011\n",
    "n = 3\n",
    "```\n",
    "\n",
    "**Output:** \n",
    "``` \n",
    "0b010101100000\n",
    "```"
   ]
  },
  {
   "cell_type": "code",
   "execution_count": 124,
   "metadata": {},
   "outputs": [],
   "source": [
    "# Rotate bits of x to the left by n positions.\n",
    "def rotl(x, n=1):\n",
    "    bits = 32 # Number of bits in an integer\n",
    "    n = n % bits  # Ensure n is within the range of 0-31\n",
    "    return ((x << n) & 0xFFFFFFFF) | (x >> (bits - n)) # Rotate bits to the left by n positions"
   ]
  },
  {
   "cell_type": "markdown",
   "metadata": {},
   "source": [
    "### Example Usage:"
   ]
  },
  {
   "cell_type": "code",
   "execution_count": 125,
   "metadata": {},
   "outputs": [
    {
     "name": "stdout",
     "output_type": "stream",
     "text": [
      "Input: x = 0b110010101011, n = 3\n",
      "Output: 0b110010101011000\n"
     ]
    }
   ],
   "source": [
    "x = 0b110010101011  # Example binary number\n",
    "n = 3  # Number of positions to rotate\n",
    "result = rotl(x, n)  # Compute left rotation\n",
    "\n",
    "print(f\"Input: x = {bin(x)}, n = {n}\")  # Print input values\n",
    "print(f\"Output: {bin(result)}\")  # Print output of rotl function"
   ]
  },
  {
   "cell_type": "markdown",
   "metadata": {},
   "source": [
    "## Test 1"
   ]
  },
  {
   "cell_type": "code",
   "execution_count": 173,
   "metadata": {},
   "outputs": [
    {
     "name": "stdout",
     "output_type": "stream",
     "text": [
      "Test rotl basic - Input: x = 0b110010101011, n = 3\n",
      "Expected: 0b110010101011000\n",
      "Result:   0b110010101011000\n",
      "Test passed: True\n"
     ]
    }
   ],
   "source": [
    "def testRotlBasic():\n",
    "    x = 0b110010101011  # 3243 in decimal\n",
    "    n = 3\n",
    "    expected = 0b110010101011000 & 0xFFFFFFFF  # Left rotation by 3 positions\n",
    "    result = rotl(x, n)\n",
    "    \n",
    "    print(f\"Test rotl basic - Input: x = {bin(x)}, n = {n}\")\n",
    "    print(f\"Expected: {bin(expected)}\")\n",
    "    print(f\"Result:   {bin(result)}\")\n",
    "    print(f\"Test passed: {result == expected}\")\n",
    "    assert result == expected, f\"Expected {bin(expected)}, got {bin(result)}\"\n",
    "    \n",
    "testRotlBasic()"
   ]
  },
  {
   "cell_type": "markdown",
   "metadata": {},
   "source": [
    "## Test 2"
   ]
  },
  {
   "cell_type": "code",
   "execution_count": 174,
   "metadata": {},
   "outputs": [
    {
     "name": "stdout",
     "output_type": "stream",
     "text": [
      "Test rotl full rotation - Input: x = 0b11001010101110000111\n",
      "Original:       0b11001010101110000111\n",
      "Rotated by 32:  0b11001010101110000111\n",
      "Rotated by 0:   0b11001010101110000111\n",
      "Test passed: True\n"
     ]
    }
   ],
   "source": [
    "def testRotlFullRotation():\n",
    "    \"\"\"Test rotation by a full 32 bits (should return the original value)\"\"\"\n",
    "    x = 0b11001010101110000111  # Some arbitrary value\n",
    "    result1 = rotl(x, 32)\n",
    "    result2 = rotl(x, 0)\n",
    "    \n",
    "    print(f\"Test rotl full rotation - Input: x = {bin(x)}\")\n",
    "    print(f\"Original:       {bin(x)}\")\n",
    "    print(f\"Rotated by 32:  {bin(result1)}\")\n",
    "    print(f\"Rotated by 0:   {bin(result2)}\")\n",
    "    print(f\"Test passed: {result1 == x and result2 == x}\")\n",
    "    assert result1 == x, f\"32-bit rotation should return original value\"\n",
    "    assert result2 == x, f\"0-bit rotation should return original value\"\n",
    "testRotlFullRotation()"
   ]
  },
  {
   "cell_type": "markdown",
   "metadata": {},
   "source": [
    "## Function 2: rotr(x, n=1) (Right Rotation)\n",
    "The `rotr` function performs a right rotation on a 32-bit unsigned integer. Right rotation shifts bits to the right by `n` positions, wrapping around the bits that overflow beyond the 32-bit boundary.\n",
    "### Example I/O: \n",
    "**Input:**  \n",
    "```\n",
    "x = 0b110010101011\n",
    "n = 3\n",
    "```\n",
    "\n",
    "**Output:** \n",
    "``` \n",
    "0b011110010101\n",
    "```"
   ]
  },
  {
   "cell_type": "code",
   "execution_count": 128,
   "metadata": {},
   "outputs": [],
   "source": [
    "# Rotate bits of x to the right by n positions.\n",
    "def rotr(x, n=1):\n",
    "    bits = 32  # Number of bits in an integer\n",
    "    n = n % bits  # Ensure n is within the range of 0-31\n",
    "    return ((x >> n) | (x << (bits - n))) & 0xFFFFFFFF  # Rotate bits to the right by n positions"
   ]
  },
  {
   "cell_type": "markdown",
   "metadata": {},
   "source": [
    "### Example Usage:"
   ]
  },
  {
   "cell_type": "code",
   "execution_count": 129,
   "metadata": {},
   "outputs": [
    {
     "name": "stdout",
     "output_type": "stream",
     "text": [
      "Input: x = 0b110010101011, n = 3\n",
      "Output: 0b1100000000000000000000110010101\n"
     ]
    }
   ],
   "source": [
    "x = 0b110010101011  # Example binary number\n",
    "n = 3  # Number of positions to rotate\n",
    "result = rotr(x, n)  # Compute right rotation\n",
    "\n",
    "print(f\"Input: x = {bin(x)}, n = {n}\")  # Print input values\n",
    "print(f\"Output: {bin(result)}\")  # Print output of rotr function"
   ]
  },
  {
   "cell_type": "markdown",
   "metadata": {},
   "source": [
    "# Test 1"
   ]
  },
  {
   "cell_type": "code",
   "execution_count": 175,
   "metadata": {},
   "outputs": [
    {
     "name": "stdout",
     "output_type": "stream",
     "text": [
      "Test rotr basic - Input: x = 0b110010101011, n = 3\n",
      "Expected: 0b1100000000000000000000110010101\n",
      "Result:   0b1100000000000000000000110010101\n",
      "Test passed: True\n"
     ]
    }
   ],
   "source": [
    "def testRotrBasic():\n",
    "    x = 0b110010101011  # 3243 in decimal\n",
    "    n = 3\n",
    "    # In a full 32-bit context, right rotation by 3 should put the 3 rightmost bits at the left\n",
    "    expected = ((x >> 3) | (x << (32 - 3))) & 0xFFFFFFFF\n",
    "    result = rotr(x, n)\n",
    "    \n",
    "    print(f\"Test rotr basic - Input: x = {bin(x)}, n = {n}\")\n",
    "    print(f\"Expected: {bin(expected)}\")\n",
    "    print(f\"Result:   {bin(result)}\")\n",
    "    print(f\"Test passed: {result == expected}\")\n",
    "    assert result == expected, f\"Expected {bin(expected)}, got {bin(result)}\"\n",
    "\n",
    "testRotrBasic()"
   ]
  },
  {
   "cell_type": "markdown",
   "metadata": {},
   "source": [
    "## Test 2"
   ]
  },
  {
   "cell_type": "code",
   "execution_count": 176,
   "metadata": {},
   "outputs": [
    {
     "name": "stdout",
     "output_type": "stream",
     "text": [
      "Test rotr full rotation - Input: x = 0b11001010101110000111\n",
      "Original:       0b11001010101110000111\n",
      "Rotated by 32:  0b11001010101110000111\n",
      "Rotated by 0:   0b11001010101110000111\n",
      "Test passed: True\n"
     ]
    }
   ],
   "source": [
    "def testRotrFullRotation():\n",
    "    \"\"\"Test rotation by a full 32 bits (should return the original value)\"\"\"\n",
    "    x = 0b11001010101110000111  # Some arbitrary value\n",
    "    result1 = rotr(x, 32)\n",
    "    result2 = rotr(x, 0)\n",
    "    \n",
    "    print(f\"Test rotr full rotation - Input: x = {bin(x)}\")\n",
    "    print(f\"Original:       {bin(x)}\")\n",
    "    print(f\"Rotated by 32:  {bin(result1)}\")\n",
    "    print(f\"Rotated by 0:   {bin(result2)}\")\n",
    "    print(f\"Test passed: {result1 == x and result2 == x}\")\n",
    "    assert result1 == x, f\"32-bit rotation should return original value\"\n",
    "    assert result2 == x, f\"0-bit rotation should return original value\"\n",
    "\n",
    "testRotrFullRotation()"
   ]
  },
  {
   "cell_type": "markdown",
   "metadata": {},
   "source": [
    "## Function 3: ch(x, y, z) (Bitwise Choice)\n",
    "The `ch` function selects bits from `y` where `x` has bits set to 1 and from `z` where `x` has bits set to 0.\n",
    "### Example I/O: \n",
    "**Input:**  \n",
    "```\n",
    "x = 0b110010101011 \n",
    "y = 0b101010101010\n",
    "z = 0b010101010101\n",
    "```\n",
    "\n",
    "**Output:**\n",
    "``` \n",
    "0b101000101011\n",
    "```"
   ]
  },
  {
   "cell_type": "code",
   "execution_count": 132,
   "metadata": {},
   "outputs": [],
   "source": [
    "# Choose bits from y where x has bits set to 1, and bits from z where x has bits set to 0.\n",
    "def ch(x, y, z):\n",
    "    return (x & y) ^ (~x & z)  # Select bits from y where x is 1, otherwise from z"
   ]
  },
  {
   "cell_type": "markdown",
   "metadata": {},
   "source": [
    "### Example Usage:"
   ]
  },
  {
   "cell_type": "code",
   "execution_count": 133,
   "metadata": {},
   "outputs": [
    {
     "name": "stdout",
     "output_type": "stream",
     "text": [
      "Input: x = 0b110010101011, y = 0b101010101010, z = 0b10101010101\n",
      "Output: 0b100111111110\n"
     ]
    }
   ],
   "source": [
    "# Define binary values for x, y, and z\n",
    "x = 0b110010101011\n",
    "y = 0b101010101010 \n",
    "z = 0b010101010101  \n",
    "result = ch(x, y, z)  # Compute ch function\n",
    "\n",
    "print(f\"Input: x = {bin(x)}, y = {bin(y)}, z = {bin(z)}\")  # Print input values\n",
    "print(f\"Output: {bin(result)}\")  # Print output of ch function"
   ]
  },
  {
   "cell_type": "markdown",
   "metadata": {},
   "source": [
    "## Test 1"
   ]
  },
  {
   "cell_type": "code",
   "execution_count": null,
   "metadata": {},
   "outputs": [
    {
     "name": "stdout",
     "output_type": "stream",
     "text": [
      "Test ch basic - Inputs:\n",
      "x = 0b110010101011\n",
      "y = 0b101010101010\n",
      "z = 0b10101010101\n",
      "Expected: 0b100111111110\n",
      "Result:   0b100111111110\n",
      "Test passed: True\n"
     ]
    }
   ],
   "source": [
    "def testChBasic():\n",
    "    \"\"\"Test basic choice function behavior\"\"\"\n",
    "    x = 0b110010101011\n",
    "    y = 0b101010101010\n",
    "    z = 0b010101010101\n",
    "    # ch selects bits from y where x=1, and from z where x=0\n",
    "    expected = (x & y) ^ (~x & z)\n",
    "    result = ch(x, y, z)\n",
    "    \n",
    "    print(f\"Test ch basic - Inputs:\")\n",
    "    print(f\"x = {bin(x)}\")\n",
    "    print(f\"y = {bin(y)}\")\n",
    "    print(f\"z = {bin(z)}\")\n",
    "    print(f\"Expected: {bin(expected)}\")\n",
    "    print(f\"Result:   {bin(result)}\")\n",
    "    print(f\"Test passed: {result == expected}\")\n",
    "    assert result == expected, f\"Expected {bin(expected)}, got {bin(result)}\"\n",
    "\n",
    "testChBasic()"
   ]
  },
  {
   "cell_type": "markdown",
   "metadata": {},
   "source": [
    "## Test 2"
   ]
  },
  {
   "cell_type": "code",
   "execution_count": 177,
   "metadata": {},
   "outputs": [
    {
     "name": "stdout",
     "output_type": "stream",
     "text": [
      "Test ch extreme cases:\n",
      "y = 0b101010101010\n",
      "z = 0b10101010101\n",
      "When x is all 1s - Expected: 0b101010101010\n",
      "When x is all 1s - Result:   0b101010101010\n",
      "When x is all 0s - Expected: 0b10101010101\n",
      "When x is all 0s - Result:   0b10101010101\n",
      "Test passed: True\n"
     ]
    }
   ],
   "source": [
    "def testChExtremeCases():\n",
    "    \"\"\"Test choice function with extreme values (all 0s or all 1s)\"\"\"\n",
    "    # When x is all 1s, output should be exactly y\n",
    "    xAllOnes = 0xFFFFFFFF\n",
    "    y = 0b101010101010\n",
    "    z = 0b010101010101\n",
    "    result1 = ch(xAllOnes, y, z)\n",
    "    \n",
    "    # When x is all 0s, output should be exactly z\n",
    "    xAllZeros = 0\n",
    "    result2 = ch(xAllZeros, y, z)\n",
    "    \n",
    "    print(f\"Test ch extreme cases:\")\n",
    "    print(f\"y = {bin(y)}\")\n",
    "    print(f\"z = {bin(z)}\")\n",
    "    print(f\"When x is all 1s - Expected: {bin(y)}\")\n",
    "    print(f\"When x is all 1s - Result:   {bin(result1)}\")\n",
    "    print(f\"When x is all 0s - Expected: {bin(z)}\")\n",
    "    print(f\"When x is all 0s - Result:   {bin(result2)}\")\n",
    "    print(f\"Test passed: {result1 == y and result2 == z}\")\n",
    "    assert result1 == y, f\"When x is all 1s, ch(x,y,z) should equal y\"\n",
    "    assert result2 == z, f\"When x is all 0s, ch(x,y,z) should equal z\"\n",
    "\n",
    "testChExtremeCases()"
   ]
  },
  {
   "cell_type": "markdown",
   "metadata": {},
   "source": [
    "## Function 4: maj(x, y, z) (Bitwise Majority)\n",
    "\n",
    "The `maj` function performs a majority vote on the bits of `x`, `y`, and `z`.\n",
    "The output has a `1` in bit position `i` where at least two of `x`, `y`, and `z` have `1`s in position `i`.\n",
    "All other output bit positions are `0`.\n",
    "\n",
    "#### Example I/O:\n",
    "\n",
    "**Input:**\n",
    "```\n",
    "x = 0b110010101011\n",
    "y = 0b101010101010\n",
    "z = 0b010101010101\n",
    "```\n",
    "\n",
    "**Output:**\n",
    "```\n",
    "0b110010101011\n",
    "```"
   ]
  },
  {
   "cell_type": "code",
   "execution_count": 136,
   "metadata": {},
   "outputs": [],
   "source": [
    "# Compute the majority vote for each bit position in x, y, and z\n",
    "def maj(x, y, z):\n",
    "    return (x & y) | (y & z) | (x & z)  # Majority function: At least two bits must be 1"
   ]
  },
  {
   "cell_type": "markdown",
   "metadata": {},
   "source": [
    "### Example Usage:"
   ]
  },
  {
   "cell_type": "code",
   "execution_count": 137,
   "metadata": {},
   "outputs": [
    {
     "name": "stdout",
     "output_type": "stream",
     "text": [
      "Input: x = 0b110010101011, y = 0b101010101010, z = 0b10101010101\n",
      "Output: 0b110010101011\n"
     ]
    }
   ],
   "source": [
    "# Define binary values for x, y, and z\n",
    "x = 0b110010101011\n",
    "y = 0b101010101010\n",
    "z = 0b010101010101\n",
    "\n",
    "result = maj(x, y, z)  # Compute majority function\n",
    "\n",
    "print(f\"Input: x = {bin(x)}, y = {bin(y)}, z = {bin(z)}\")  # Print input values\n",
    "print(f\"Output: {bin(result)}\")  # Print output of maj function"
   ]
  },
  {
   "cell_type": "markdown",
   "metadata": {},
   "source": [
    "## Test 1"
   ]
  },
  {
   "cell_type": "code",
   "execution_count": null,
   "metadata": {},
   "outputs": [
    {
     "name": "stdout",
     "output_type": "stream",
     "text": [
      "Test maj basic - Inputs:\n",
      "x = 0b110010101011\n",
      "y = 0b101010101010\n",
      "z = 0b10101010101\n",
      "Expected: 0b110010101011\n",
      "Result:   0b110010101011\n",
      "Test passed: True\n"
     ]
    }
   ],
   "source": [
    "def testMajBasic():\n",
    "    x = 0b110010101011\n",
    "    y = 0b101010101010\n",
    "    z = 0b010101010101\n",
    "    # maj returns 1 if at least two inputs have 1, otherwise 0\n",
    "    expected = (x & y) | (y & z) | (x & z)\n",
    "    result = maj(x, y, z)\n",
    "    \n",
    "    print(f\"Test maj basic - Inputs:\")\n",
    "    print(f\"x = {bin(x)}\")\n",
    "    print(f\"y = {bin(y)}\")\n",
    "    print(f\"z = {bin(z)}\")\n",
    "    print(f\"Expected: {bin(expected)}\")\n",
    "    print(f\"Result:   {bin(result)}\")\n",
    "    print(f\"Test passed: {result == expected}\")\n",
    "    assert result == expected, f\"Expected {bin(expected)}, got {bin(result)}\"\n",
    "\n",
    "testMajBasic()"
   ]
  },
  {
   "cell_type": "markdown",
   "metadata": {},
   "source": [
    "## Test 2"
   ]
  },
  {
   "cell_type": "code",
   "execution_count": null,
   "metadata": {},
   "outputs": [
    {
     "name": "stdout",
     "output_type": "stream",
     "text": [
      "Test maj extreme cases:\n",
      "z = 0b10101010101\n",
      "When x and y are all 1s - Expected: 0b11111111111111111111111111111111\n",
      "When x and y are all 1s - Result:   0b11111111111111111111111111111111\n",
      "When x and y are all 0s - Expected: 0b0\n",
      "When x and y are all 0s - Result:   0b0\n",
      "Test passed: True\n"
     ]
    }
   ],
   "source": [
    "def testMajExtremeCases():\n",
    "    # When any two inputs are all 1s, output should be all 1s\n",
    "    xAllOnes = 0xFFFFFFFF\n",
    "    yAllOnes = 0xFFFFFFFF\n",
    "    z = 0b010101010101\n",
    "    result1 = maj(xAllOnes, yAllOnes, z)\n",
    "    \n",
    "    # When any two inputs are all 0s, output should be all 0s\n",
    "    xAllZeros = 0\n",
    "    yAllZeros = 0\n",
    "    result2 = maj(xAllZeros, yAllZeros, z)\n",
    "    \n",
    "    print(f\"Test maj extreme cases:\")\n",
    "    print(f\"z = {bin(z)}\")\n",
    "    print(f\"When x and y are all 1s - Expected: {bin(0xFFFFFFFF)}\")\n",
    "    print(f\"When x and y are all 1s - Result:   {bin(result1)}\")\n",
    "    print(f\"When x and y are all 0s - Expected: {bin(0)}\")\n",
    "    print(f\"When x and y are all 0s - Result:   {bin(result2)}\")\n",
    "    print(f\"Test passed: {result1 == 0xFFFFFFFF and result2 == 0}\")\n",
    "    assert result1 == 0xFFFFFFFF, f\"When two inputs are all 1s, maj should be all 1s\"\n",
    "    assert result2 == 0, f\"When two inputs are all 0s, maj should be all 0s\"\n",
    "\n",
    "testMajExtremeCases()"
   ]
  },
  {
   "cell_type": "markdown",
   "metadata": {},
   "source": [
    "# Task 2: Hash Functions\n",
    "\n",
    "** suggest why the values 31 and 101 are used.**"
   ]
  },
  {
   "cell_type": "code",
   "execution_count": 140,
   "metadata": {},
   "outputs": [
    {
     "data": {
      "text/plain": [
       "13"
      ]
     },
     "execution_count": 140,
     "metadata": {},
     "output_type": "execute_result"
    }
   ],
   "source": [
    "def hash(s: str) -> int:\n",
    "    hashval = 0\n",
    "    for char in s:\n",
    "        hashval = ord(char) + 31 * hashval\n",
    "    return hashval % 101\n",
    "\n",
    "hash(\"hello world\")  # Example usage of hash function"
   ]
  },
  {
   "cell_type": "markdown",
   "metadata": {},
   "source": [
    "## Test 1"
   ]
  },
  {
   "cell_type": "code",
   "execution_count": null,
   "metadata": {},
   "outputs": [
    {
     "name": "stdout",
     "output_type": "stream",
     "text": [
      "Test hash basic - Input: 'hello'\n",
      "Expected hash value: 17\n",
      "Calculated hash value: 17\n",
      "Test passed: True\n"
     ]
    }
   ],
   "source": [
    "def testHashBasic():\n",
    "    inputStr = \"hello\"\n",
    "    result = hash(inputStr)\n",
    "    \n",
    "    # Calculate expected result manually for verification\n",
    "    expected = 0\n",
    "    for char in inputStr:\n",
    "        expected = ord(char) + 31 * expected\n",
    "    expected = expected % 101\n",
    "    \n",
    "    print(f\"Test hash basic - Input: '{inputStr}'\")\n",
    "    print(f\"Expected hash value: {expected}\")\n",
    "    print(f\"Calculated hash value: {result}\")\n",
    "    print(f\"Test passed: {result == expected}\")\n",
    "    assert result == expected, f\"Expected {expected}, got {result}\"\n",
    "\n",
    "testHashBasic()"
   ]
  },
  {
   "cell_type": "markdown",
   "metadata": {},
   "source": [
    "## Test 2"
   ]
  },
  {
   "cell_type": "code",
   "execution_count": null,
   "metadata": {},
   "outputs": [
    {
     "name": "stdout",
     "output_type": "stream",
     "text": [
      "Test hash with different multipliers - Input: hashfunction\n",
      "Multiplier 1: Hash value = 78\n",
      "Multiplier 2: Hash value = 43\n",
      "Multiplier 10: Hash value = 33\n",
      "Multiplier 31: Hash value = 56\n",
      "Multiplier 32: Hash value = 28\n",
      "Multiplier 33: Hash value = 17\n",
      "Multiplier 64: Hash value = 59\n",
      "Unique hash values: 7 out of 7\n",
      "31 vs 32 produce different hashes: True\n"
     ]
    }
   ],
   "source": [
    "def testDifferentMultipliers():\n",
    "    testStr = \"hashfunction\"\n",
    "    \n",
    "    # Function to calculate hash with different multiplier\n",
    "    def hashWithMultiplier(s, multiplier):\n",
    "        hashval = 0\n",
    "        for char in s:\n",
    "            hashval = ord(char) + multiplier * hashval\n",
    "        return hashval % 101\n",
    "    \n",
    "    # Test a set of multipliers, including 31 and some non-prime values\n",
    "    multipliers = [1, 2, 10, 31, 32, 33, 64]\n",
    "    results = {}\n",
    "    \n",
    "    for m in multipliers:\n",
    "        results[m] = hashWithMultiplier(testStr, m)\n",
    "    \n",
    "    print(\"Test hash with different multipliers - Input:\", testStr)\n",
    "    for m, result in results.items():\n",
    "        print(f\"Multiplier {m}: Hash value = {result}\")\n",
    "    \n",
    "    # Check if all hash values are different (indicating good distribution)\n",
    "    uniqueValues = len(set(results.values()))\n",
    "    totalValues = len(results)\n",
    "    print(f\"Unique hash values: {uniqueValues} out of {totalValues}\")\n",
    "    \n",
    "    # Check specifically if 31 produces a different hash than nearby values\n",
    "    print(f\"31 vs 32 produce different hashes: {results[31] != results[32]}\")\n",
    "\n",
    "testDifferentMultipliers()"
   ]
  },
  {
   "cell_type": "markdown",
   "metadata": {},
   "source": [
    "## Test 3"
   ]
  },
  {
   "cell_type": "code",
   "execution_count": 182,
   "metadata": {},
   "outputs": [
    {
     "name": "stdout",
     "output_type": "stream",
     "text": [
      "Testing different modulus values:\n",
      "Modulus 10: 4 unique hashes out of 5 strings\n",
      "   Used 4 out of 10 possible buckets\n",
      "Modulus 100: 5 unique hashes out of 5 strings\n",
      "   Used 5 out of 100 possible buckets\n",
      "Modulus 101: 5 unique hashes out of 5 strings\n",
      "   Used 5 out of 101 possible buckets\n",
      "Modulus 102: 5 unique hashes out of 5 strings\n",
      "Modulus 200: 5 unique hashes out of 5 strings\n"
     ]
    }
   ],
   "source": [
    "def testDifferentModuli():\n",
    "    testStrings = [\"algorithm\", \"computer\", \"science\", \"python\", \"hash\"]\n",
    "    \n",
    "    # Function to calculate hash with different modulus\n",
    "    def hashWithModulus(s, modulus):\n",
    "        hashval = 0\n",
    "        for char in s:\n",
    "            hashval = ord(char) + 31 * hashval\n",
    "        return hashval % modulus\n",
    "    \n",
    "    # Test a set of moduli, including 101 and some non-prime values\n",
    "    moduli = [10, 100, 101, 102, 200]\n",
    "    \n",
    "    # For each modulus, check how many unique hash values we get for our test strings\n",
    "    print(\"Testing different modulus values:\")\n",
    "    for mod in moduli:\n",
    "        hashValues = [hashWithModulus(s, mod) for s in testStrings]\n",
    "        uniqueValues = len(set(hashValues))\n",
    "        \n",
    "        print(f\"Modulus {mod}: {uniqueValues} unique hashes out of {len(testStrings)} strings\")\n",
    "        \n",
    "        # Additional check: how many buckets are actually used\n",
    "        if mod <= 101:  # Only check for smaller moduli to keep output manageable\n",
    "            usedBuckets = set(hashValues)\n",
    "            print(f\"   Used {len(usedBuckets)} out of {mod} possible buckets\")\n",
    "\n",
    "testDifferentModuli()"
   ]
  },
  {
   "cell_type": "markdown",
   "metadata": {},
   "source": [
    "# Task 3: SHA256"
   ]
  },
  {
   "cell_type": "code",
   "execution_count": 144,
   "metadata": {},
   "outputs": [],
   "source": [
    "def sha256Padding(filePath):\n",
    "    # Read the file as binary\n",
    "    try:\n",
    "        with open(filePath, 'rb') as file:\n",
    "            data = file.read()\n",
    "    except Exception as e:\n",
    "        print(f\"Error reading file: {e}\")\n",
    "        return\n",
    "        \n",
    "    # Calculate original length in bits\n",
    "    originalLength = len(data) * 8\n",
    "    \n",
    "    # Step 1: Append the bit '1' (0x80) to the message\n",
    "    paddedData = bytearray(data)\n",
    "    paddedData.append(0x80)\n",
    "    \n",
    "    # Step 2: Append 0 bits until message length is 448 mod 512\n",
    "    while (len(paddedData) * 8) % 512 != 448:\n",
    "        paddedData.append(0x00)\n",
    "    \n",
    "    # Step 3: Append length as a 64-bit big-endian integer\n",
    "    lengthBytes = originalLength.to_bytes(8, \"big\")\n",
    "    paddedData.extend(lengthBytes)\n",
    "    \n",
    "    # Extract the padding (everything after the original data)\n",
    "    padding = paddedData[len(data):]\n",
    "    \n",
    "    # Print the padding in hex format with spaces between bytes\n",
    "    paddingHex = \" \".join(f\"{byte:02x}\" for byte in padding)\n",
    "    print(paddingHex)"
   ]
  },
  {
   "cell_type": "markdown",
   "metadata": {},
   "source": [
    "## Make method to create a temporary file"
   ]
  },
  {
   "cell_type": "code",
   "execution_count": 145,
   "metadata": {},
   "outputs": [],
   "source": [
    "import tempfile\n",
    "\n",
    "def createTestFile(content):\n",
    "    \"\"\"Create a temporary file with the given content and return its path\"\"\"\n",
    "    with tempfile.NamedTemporaryFile(delete=False) as temp:\n",
    "        if isinstance(content, str):\n",
    "            temp.write(content.encode('utf-8'))\n",
    "        else:\n",
    "            temp.write(content)\n",
    "        return temp.name"
   ]
  },
  {
   "cell_type": "markdown",
   "metadata": {},
   "source": [
    "## Test 1"
   ]
  },
  {
   "cell_type": "code",
   "execution_count": 146,
   "metadata": {},
   "outputs": [
    {
     "name": "stdout",
     "output_type": "stream",
     "text": [
      "Testing with content: 'abc' (3 bytes = 24 bits)\n",
      "Expected result from specification:\n",
      "80 00 00 00 00 00 00 00 00 00 00 00 00 00 00 00 00 00 00 00\n",
      "00 00 00 00 00 00 00 00 00 00 00 00 00 00 00 00 00 00 00 00\n",
      "00 00 00 00 00 00 00 00 00 00 00 00 00 00 00 18\n",
      "\n",
      "Your function output:\n",
      "80 00 00 00 00 00 00 00 00 00 00 00 00 00 00 00 00 00 00 00 00 00 00 00 00 00 00 00 00 00 00 00 00 00 00 00 00 00 00 00 00 00 00 00 00 00 00 00 00 00 00 00 00 00 00 00 00 00 00 00 18\n"
     ]
    }
   ],
   "source": [
    "import os\n",
    "\n",
    "def testAbcExample():\n",
    "    content = \"abc\"\n",
    "    \n",
    "    # Create a temporary file with content \"abc\"\n",
    "    filePath = createTestFile(content)\n",
    "    \n",
    "    print(f\"Testing with content: '{content}' (3 bytes = 24 bits)\")\n",
    "    print(f\"Expected result from specification:\")\n",
    "    print(\"80 00 00 00 00 00 00 00 00 00 00 00 00 00 00 00 00 00 00 00\")\n",
    "    print(\"00 00 00 00 00 00 00 00 00 00 00 00 00 00 00 00 00 00 00 00\")\n",
    "    print(\"00 00 00 00 00 00 00 00 00 00 00 00 00 00 00 18\")\n",
    "    print(\"\\nYour function output:\")\n",
    "    \n",
    "    # Call your sha256Padding function\n",
    "    sha256Padding(filePath)\n",
    "    \n",
    "    # Clean up temporary file\n",
    "    os.unlink(filePath)\n",
    "\n",
    "testAbcExample()"
   ]
  },
  {
   "cell_type": "markdown",
   "metadata": {},
   "source": [
    "## Test 2"
   ]
  },
  {
   "cell_type": "code",
   "execution_count": 147,
   "metadata": {},
   "outputs": [
    {
     "name": "stdout",
     "output_type": "stream",
     "text": [
      "Testing with an empty message (0 bytes = 0 bits)\n",
      "Expected pattern: 0x80 byte + zero padding + 8-byte length field with value 0\n",
      "\n",
      "Your function output:\n",
      "80 00 00 00 00 00 00 00 00 00 00 00 00 00 00 00 00 00 00 00 00 00 00 00 00 00 00 00 00 00 00 00 00 00 00 00 00 00 00 00 00 00 00 00 00 00 00 00 00 00 00 00 00 00 00 00 00 00 00 00 00 00 00 00\n",
      "\n",
      "Analysis:\n",
      "- For an empty message, the padding should start with 0x80\n",
      "- The length field (last 8 bytes) should be all zeros\n",
      "- Total padded length should be exactly 64 bytes (512 bits)\n"
     ]
    }
   ],
   "source": [
    "# Test 2: Empty message (0 bytes) - edge case\n",
    "def testEmptyMessage():\n",
    "    content = \"\"\n",
    "    \n",
    "    # Create a temporary file with empty content\n",
    "    filePath = createTestFile(content)\n",
    "    \n",
    "    print(f\"Testing with an empty message (0 bytes = 0 bits)\")\n",
    "    print(\"Expected pattern: 0x80 byte + zero padding + 8-byte length field with value 0\")\n",
    "    print(\"\\nYour function output:\")\n",
    "    \n",
    "    # Call your sha256Padding function\n",
    "    sha256Padding(filePath)\n",
    "    \n",
    "    print(\"\\nAnalysis:\")\n",
    "    print(\"- For an empty message, the padding should start with 0x80\")\n",
    "    print(\"- The length field (last 8 bytes) should be all zeros\")\n",
    "    print(\"- Total padded length should be exactly 64 bytes (512 bits)\")\n",
    "    \n",
    "    # Clean up temporary file\n",
    "    os.unlink(filePath)\n",
    "\n",
    "testEmptyMessage()"
   ]
  },
  {
   "cell_type": "markdown",
   "metadata": {},
   "source": [
    "## Test 3"
   ]
  },
  {
   "cell_type": "code",
   "execution_count": 148,
   "metadata": {},
   "outputs": [
    {
     "name": "stdout",
     "output_type": "stream",
     "text": [
      "Testing with content: 55 'a' characters (55 bytes = 440 bits)\n",
      "Expected pattern: 0x80 byte + 8-byte length field with value 440 (0x1B8)\n",
      "\n",
      "Your function output:\n",
      "80 00 00 00 00 00 00 01 b8\n",
      "\n",
      "Analysis:\n",
      "- This is a special case: 55 bytes + 1 byte (0x80) + 8 bytes (length) = 64 bytes\n",
      "- This is the maximum message size that fits in a single block with padding\n",
      "- The length field should represent 440 bits (0x01B8)\n",
      "- This message requires minimal padding (just 9 bytes)\n"
     ]
    }
   ],
   "source": [
    "def test55Bytes():\n",
    "    content = \"a\" * 55\n",
    "    \n",
    "    # Create a temporary file with 55 'a' characters\n",
    "    filePath = createTestFile(content)\n",
    "    \n",
    "    print(f\"Testing with content: 55 'a' characters (55 bytes = 440 bits)\")\n",
    "    print(\"Expected pattern: 0x80 byte + 8-byte length field with value 440 (0x1B8)\")\n",
    "    print(\"\\nYour function output:\")\n",
    "    \n",
    "    # Call your sha256Padding function\n",
    "    sha256Padding(filePath)\n",
    "    \n",
    "    print(\"\\nAnalysis:\")\n",
    "    print(\"- This is a special case: 55 bytes + 1 byte (0x80) + 8 bytes (length) = 64 bytes\")\n",
    "    print(\"- This is the maximum message size that fits in a single block with padding\")\n",
    "    print(\"- The length field should represent 440 bits (0x01B8)\")\n",
    "    print(\"- This message requires minimal padding (just 9 bytes)\")\n",
    "    \n",
    "    # Clean up temporary file\n",
    "    os.unlink(filePath)\n",
    "\n",
    "test55Bytes()"
   ]
  },
  {
   "cell_type": "markdown",
   "metadata": {},
   "source": [
    "## Test 4"
   ]
  },
  {
   "cell_type": "code",
   "execution_count": 149,
   "metadata": {},
   "outputs": [
    {
     "name": "stdout",
     "output_type": "stream",
     "text": [
      "Testing with content: 56 'a' characters (56 bytes = 448 bits)\n",
      "Expected pattern: 0x80 byte + many zero bytes + 8-byte length field with value 448 (0x1C0)\n",
      "\n",
      "Your function output:\n",
      "80 00 00 00 00 00 00 00 00 00 00 00 00 00 00 00 00 00 00 00 00 00 00 00 00 00 00 00 00 00 00 00 00 00 00 00 00 00 00 00 00 00 00 00 00 00 00 00 00 00 00 00 00 00 00 00 00 00 00 00 00 00 00 00 00 00 00 00 00 00 01 c0\n",
      "\n",
      "Analysis:\n",
      "- This is the threshold case: 56 bytes doesn't fit in a single block with padding\n",
      "- 56 bytes + 1 byte (0x80) + 8 bytes (length) = 65 bytes, which exceeds 64 bytes\n",
      "- The padding should include 0x80 followed by many zeros\n",
      "- The length field should represent 448 bits (0x01C0)\n",
      "- The padded message will require 2 full 512-bit blocks\n"
     ]
    }
   ],
   "source": [
    "# Test 4: Message of 56 bytes (requires additional block for padding)\n",
    "def test56Bytes():\n",
    "    content = \"a\" * 56\n",
    "    \n",
    "    # Create a temporary file with 56 'a' characters\n",
    "    filePath = createTestFile(content)\n",
    "    \n",
    "    print(f\"Testing with content: 56 'a' characters (56 bytes = 448 bits)\")\n",
    "    print(\"Expected pattern: 0x80 byte + many zero bytes + 8-byte length field with value 448 (0x1C0)\")\n",
    "    print(\"\\nYour function output:\")\n",
    "    \n",
    "    # Call your sha256Padding function\n",
    "    sha256Padding(filePath)\n",
    "    \n",
    "    print(\"\\nAnalysis:\")\n",
    "    print(\"- This is the threshold case: 56 bytes doesn't fit in a single block with padding\")\n",
    "    print(\"- 56 bytes + 1 byte (0x80) + 8 bytes (length) = 65 bytes, which exceeds 64 bytes\")\n",
    "    print(\"- The padding should include 0x80 followed by many zeros\")\n",
    "    print(\"- The length field should represent 448 bits (0x01C0)\")\n",
    "    print(\"- The padded message will require 2 full 512-bit blocks\")\n",
    "    \n",
    "    # Clean up temporary file\n",
    "    os.unlink(filePath)\n",
    "\n",
    "test56Bytes()"
   ]
  },
  {
   "cell_type": "markdown",
   "metadata": {},
   "source": [
    "## Test 5"
   ]
  },
  {
   "cell_type": "code",
   "execution_count": 150,
   "metadata": {},
   "outputs": [
    {
     "name": "stdout",
     "output_type": "stream",
     "text": [
      "Testing with content: 64 'a' characters (64 bytes = 512 bits)\n",
      "Expected pattern: 0x80 byte + many zero bytes + 8-byte length field with value 512 (0x200)\n",
      "\n",
      "Your function output:\n",
      "80 00 00 00 00 00 00 00 00 00 00 00 00 00 00 00 00 00 00 00 00 00 00 00 00 00 00 00 00 00 00 00 00 00 00 00 00 00 00 00 00 00 00 00 00 00 00 00 00 00 00 00 00 00 00 00 00 00 00 00 00 00 02 00\n",
      "\n",
      "Analysis:\n",
      "- The original message is exactly one block (64 bytes)\n",
      "- When a message is exactly a multiple of the block size, an entire additional block is needed\n",
      "- The padding should include 0x80 followed by zeros to fill the block\n",
      "- The length field should represent 512 bits (0x0200)\n",
      "- The padded message will require 2 full 512-bit blocks\n"
     ]
    }
   ],
   "source": [
    "def test64Bytes():\n",
    "    content = \"a\" * 64\n",
    "    \n",
    "    # Create a temporary file with 64 'a' characters\n",
    "    filePath = createTestFile(content)\n",
    "    \n",
    "    print(f\"Testing with content: 64 'a' characters (64 bytes = 512 bits)\")\n",
    "    print(\"Expected pattern: 0x80 byte + many zero bytes + 8-byte length field with value 512 (0x200)\")\n",
    "    print(\"\\nYour function output:\")\n",
    "    \n",
    "    # Call your sha256Padding function\n",
    "    sha256Padding(filePath)\n",
    "    \n",
    "    print(\"\\nAnalysis:\")\n",
    "    print(\"- The original message is exactly one block (64 bytes)\")\n",
    "    print(\"- When a message is exactly a multiple of the block size, an entire additional block is needed\")\n",
    "    print(\"- The padding should include 0x80 followed by zeros to fill the block\")\n",
    "    print(\"- The length field should represent 512 bits (0x0200)\")\n",
    "    print(\"- The padded message will require 2 full 512-bit blocks\")\n",
    "    \n",
    "    # Clean up temporary file\n",
    "    os.unlink(filePath)\n",
    "\n",
    "test64Bytes()"
   ]
  },
  {
   "cell_type": "markdown",
   "metadata": {},
   "source": [
    "## Task 4: Prime Numbers"
   ]
  },
  {
   "cell_type": "markdown",
   "metadata": {},
   "source": [
    "### 1. Trial Division"
   ]
  },
  {
   "cell_type": "code",
   "execution_count": 151,
   "metadata": {},
   "outputs": [],
   "source": [
    "def trialDivisionPrimes(n):\n",
    "    primes = []\n",
    "    num = 2\n",
    "    while len(primes) < n:\n",
    "        isPrime = True\n",
    "        i = 2\n",
    "        while i * i <= num: \n",
    "            if num % i == 0:\n",
    "                isPrime = False\n",
    "                break\n",
    "            i += 1\n",
    "        if isPrime:\n",
    "            primes.append(num)\n",
    "        num += 1\n",
    "    return primes"
   ]
  },
  {
   "cell_type": "markdown",
   "metadata": {},
   "source": [
    "## Test 1"
   ]
  },
  {
   "cell_type": "code",
   "execution_count": 165,
   "metadata": {},
   "outputs": [
    {
     "name": "stdout",
     "output_type": "stream",
     "text": [
      "First 10 primes using Trial Division:\n",
      "[2, 3, 5, 7, 11, 13, 17, 19, 23, 29]\n",
      "The 10th prime number is: 29\n"
     ]
    }
   ],
   "source": [
    "def testTrialDivisionBasic(n=10):\n",
    "    primes = trialDivisionPrimes(n)\n",
    "    print(f\"First {n} primes using Trial Division:\")\n",
    "    print(primes)\n",
    "    if n >= 10:\n",
    "        print(f\"The 10th prime number is: {primes[9]}\")\n",
    "\n",
    "testTrialDivisionBasic(10)"
   ]
  },
  {
   "cell_type": "markdown",
   "metadata": {},
   "source": [
    "## Test 2"
   ]
  },
  {
   "cell_type": "code",
   "execution_count": 153,
   "metadata": {},
   "outputs": [
    {
     "name": "stdout",
     "output_type": "stream",
     "text": [
      "Testing if 17 is prime using Trial Division:\n",
      "Checking divisors up to sqrt(17) = 4\n",
      "17 is prime! No divisors found among [2, 3, 4].\n",
      "Testing if 15 is prime using Trial Division:\n",
      "Checking divisors up to sqrt(15) = 3\n",
      "  3 divides 15 evenly (15 = 3 × 5)\n",
      "15 is not prime because it's divisible by 3.\n"
     ]
    }
   ],
   "source": [
    "def testTrialDivisionProcess(num=17):\n",
    "    isPrime = True\n",
    "    i = 2\n",
    "    divisorsChecked = []\n",
    "    \n",
    "    print(f\"Testing if {num} is prime using Trial Division:\")\n",
    "    print(f\"Checking divisors up to sqrt({num}) = {int(num**0.5)}\")\n",
    "    \n",
    "    while i * i <= num:\n",
    "        divisorsChecked.append(i)\n",
    "        if num % i == 0:\n",
    "            isPrime = False\n",
    "            print(f\"  {i} divides {num} evenly ({num} = {i} × {num//i})\")\n",
    "            break\n",
    "        i += 1\n",
    "    \n",
    "    if isPrime:\n",
    "        print(f\"{num} is prime! No divisors found among {divisorsChecked}.\")\n",
    "    else:\n",
    "        print(f\"{num} is not prime because it's divisible by {i}.\")\n",
    "    \n",
    "testTrialDivisionProcess(17)  # Test with a prime\n",
    "testTrialDivisionProcess(15)  # Test with a non-prime"
   ]
  },
  {
   "cell_type": "markdown",
   "metadata": {},
   "source": [
    "## Test 3"
   ]
  },
  {
   "cell_type": "code",
   "execution_count": 164,
   "metadata": {},
   "outputs": [
    {
     "name": "stdout",
     "output_type": "stream",
     "text": [
      "Trial Division Key Characteristic: Divisor Checking\n",
      "-------------------------------------------------\n",
      "Number | Prime? | Divisors Checked | Max Possible\n",
      "-------------------------------------------------\n",
      "    10 | False  |                1 |            2\n",
      "    17 | True   |                3 |            3\n",
      "   100 | False  |                1 |            9\n",
      "   101 | True   |                9 |            9\n",
      "  1000 | False  |                1 |           30\n",
      "  1009 | True   |               30 |           30\n"
     ]
    }
   ],
   "source": [
    "def testTrialDivisionDivisorCount():\n",
    "    testNumbers = [10, 17, 100, 101, 1000, 1009]\n",
    "    \n",
    "    results = []\n",
    "    for num in testNumbers:\n",
    "        divisorsChecked = 0\n",
    "        isPrime = True\n",
    "        \n",
    "        # Trial division process\n",
    "        i = 2\n",
    "        while i * i <= num:\n",
    "            divisorsChecked += 1\n",
    "            if num % i == 0:\n",
    "                isPrime = False\n",
    "                break\n",
    "            i += 1\n",
    "        \n",
    "        results.append({\n",
    "            'number': num,\n",
    "            'isPrime': isPrime,\n",
    "            'divisorsChecked': divisorsChecked,\n",
    "            'maxPossibleDivisors': int(num**0.5) - 1\n",
    "        })\n",
    "    \n",
    "    # Display results\n",
    "    print(\"Trial Division Key Characteristic: Divisor Checking\")\n",
    "    print(\"-------------------------------------------------\")\n",
    "    print(\"Number | Prime? | Divisors Checked | Max Possible\")\n",
    "    print(\"-------------------------------------------------\")\n",
    "    \n",
    "    for r in results:\n",
    "        print(f\"{r['number']:6d} | {str(r['isPrime']):6s} | {r['divisorsChecked']:16d} | {r['maxPossibleDivisors']:12d}\")\n",
    "\n",
    "testTrialDivisionDivisorCount()"
   ]
  },
  {
   "cell_type": "markdown",
   "metadata": {},
   "source": [
    "## Test 4"
   ]
  },
  {
   "cell_type": "code",
   "execution_count": 155,
   "metadata": {},
   "outputs": [
    {
     "name": "stdout",
     "output_type": "stream",
     "text": [
      "Trial Division and Prime Gaps\n",
      "-------------------------------------------------\n",
      "\n",
      "Finding 20 primes from 1 to 67:\n",
      "Numbers checked: 67\n",
      "Prime density: 29.85%\n",
      "Largest gap between primes: 5\n",
      "Average checks per number: 3.35\n",
      "\n",
      "Finding 20 primes from 1000 to 1123:\n",
      "Numbers checked: 124\n",
      "Prime density: 16.13%\n",
      "Largest gap between primes: 17\n",
      "Average checks per number: 6.20\n",
      "\n",
      "Finding 20 primes from 10000 to 10169:\n",
      "Numbers checked: 170\n",
      "Prime density: 11.76%\n",
      "Largest gap between primes: 27\n",
      "Average checks per number: 8.50\n"
     ]
    }
   ],
   "source": [
    "def testTrialDivisionGapImpact():\n",
    "    seqLengths = [20, 20, 20]\n",
    "    startingPoints = [1, 1000, 10000]\n",
    "    \n",
    "    print(\"Trial Division and Prime Gaps\")\n",
    "    print(\"-------------------------------------------------\")\n",
    "    \n",
    "    for length, start in zip(seqLengths, startingPoints):\n",
    "        primesFound = 0\n",
    "        numbersChecked = 0\n",
    "        maxGap = 0\n",
    "        currentGap = 0\n",
    "        num = start\n",
    "        \n",
    "        # Find primes in range\n",
    "        while primesFound < length:\n",
    "            isPrime = True\n",
    "            i = 2\n",
    "            divisorChecks = 0\n",
    "            \n",
    "            while i * i <= num:\n",
    "                divisorChecks += 1\n",
    "                if num % i == 0:\n",
    "                    isPrime = False\n",
    "                    break\n",
    "                i += 1\n",
    "            \n",
    "            if isPrime:\n",
    "                if primesFound > 0:\n",
    "                    maxGap = max(maxGap, currentGap)\n",
    "                currentGap = 0\n",
    "                primesFound += 1\n",
    "            else:\n",
    "                currentGap += 1\n",
    "            \n",
    "            numbersChecked += 1\n",
    "            num += 1\n",
    "        \n",
    "        end = num - 1\n",
    "        \n",
    "        print(f\"\\nFinding {length} primes from {start} to {end}:\")\n",
    "        print(f\"Numbers checked: {numbersChecked}\")\n",
    "        print(f\"Prime density: {length/numbersChecked:.2%}\")\n",
    "        print(f\"Largest gap between primes: {maxGap}\")\n",
    "        print(f\"Average checks per number: {numbersChecked/length:.2f}\")\n",
    "\n",
    "testTrialDivisionGapImpact()"
   ]
  },
  {
   "cell_type": "markdown",
   "metadata": {},
   "source": [
    "### 2.  Sieve of Eratosthenes"
   ]
  },
  {
   "cell_type": "code",
   "execution_count": 156,
   "metadata": {},
   "outputs": [],
   "source": [
    "def sieveOfEratosthenes(n):\n",
    "    limit = 550 \n",
    "    sieve = [True] * (limit + 1)\n",
    "    sieve[0] = sieve[1] = False\n",
    "    start = 2\n",
    "    while start * start <= limit:\n",
    "        if sieve[start]:\n",
    "            multiple = start * start\n",
    "            while multiple <= limit:\n",
    "                sieve[multiple] = False\n",
    "                multiple += start\n",
    "        start += 1\n",
    "    primes = [num for num, prime in enumerate(sieve) if prime]\n",
    "    return primes[:n]"
   ]
  },
  {
   "cell_type": "markdown",
   "metadata": {},
   "source": [
    "## Test 1"
   ]
  },
  {
   "cell_type": "code",
   "execution_count": 163,
   "metadata": {},
   "outputs": [
    {
     "name": "stdout",
     "output_type": "stream",
     "text": [
      "Prime 2: crossed out 24 multiples: [4, 6, 8, 10, 12, 14, 16, 18, 20, 22, 24, 26, 28, 30, 32, 34, 36, 38, 40, 42, 44, 46, 48, 50]\n",
      "Prime 3: crossed out 7 multiples: [9, 15, 21, 27, 33, 39, 45]\n",
      "Prime 5: crossed out 2 multiples: [25, 35]\n",
      "Prime 7: crossed out 1 multiples: [49]\n",
      "\n",
      "All primes up to 50: [2, 3, 5, 7, 11, 13, 17, 19, 23, 29, 31, 37, 41, 43, 47]\n",
      "\n",
      "Sieve Efficiency:\n",
      "Total numbers processed: 49\n",
      "Numbers marked as composite: 34\n",
      "Total crossing-out operations: 34\n"
     ]
    }
   ],
   "source": [
    "def testSieveCrossouts():\n",
    "    limit = 50\n",
    "    sieve = [True] * (limit + 1)\n",
    "    sieve[0] = sieve[1] = False\n",
    "    \n",
    "    # Track which numbers were crossed out by which prime\n",
    "    crossoutSource = {}\n",
    "    \n",
    "    # For visualization, track the state after each prime's processing\n",
    "    states = []\n",
    "    states.append(sieve.copy())\n",
    "    \n",
    "    # Process the sieve\n",
    "    for p in range(2, int(limit**0.5) + 1):\n",
    "        if sieve[p]:\n",
    "            crossedOut = []\n",
    "            \n",
    "            # Mark all multiples of p as composite\n",
    "            for multiple in range(p*p, limit+1, p):\n",
    "                if sieve[multiple]:  # Only count if not already crossed out\n",
    "                    crossedOut.append(multiple)\n",
    "                    crossoutSource[multiple] = p\n",
    "                sieve[multiple] = False\n",
    "            \n",
    "            states.append(sieve.copy())\n",
    "            print(f\"Prime {p}: crossed out {len(crossedOut)} multiples: {crossedOut}\")\n",
    "    \n",
    "    # Display final results\n",
    "    remainingPrimes = [i for i, isPrime in enumerate(sieve) if isPrime]\n",
    "    print(f\"\\nAll primes up to {limit}: {remainingPrimes}\")\n",
    "    \n",
    "    # Calculate efficiency\n",
    "    totalCrossouts = len(crossoutSource)\n",
    "    uniqueCrossouts = len(set(crossoutSource.keys()))\n",
    "    totalNumbers = limit - 2 + 1  # Count from 2 to limit\n",
    "    \n",
    "    print(f\"\\nSieve Efficiency:\")\n",
    "    print(f\"Total numbers processed: {totalNumbers}\")\n",
    "    print(f\"Numbers marked as composite: {uniqueCrossouts}\")\n",
    "    print(f\"Total crossing-out operations: {totalCrossouts}\")\n",
    "\n",
    "testSieveCrossouts()"
   ]
  },
  {
   "cell_type": "markdown",
   "metadata": {},
   "source": [
    "## Test 2"
   ]
  },
  {
   "cell_type": "code",
   "execution_count": 172,
   "metadata": {},
   "outputs": [
    {
     "name": "stdout",
     "output_type": "stream",
     "text": [
      "Sieve of Eratosthenes Memory Usage\n",
      "-------------------------------------------------\n",
      "Limit | Array Size | Primes Found | Memory per Prime\n",
      "-------------------------------------------------\n",
      "   100 |        101 |           25 |             4.04\n",
      "  1000 |       1001 |          168 |             5.96\n",
      " 10000 |      10001 |         1229 |             8.14\n"
     ]
    }
   ],
   "source": [
    "def testSieveMemoryUsage():\n",
    "    testLimits = [100, 1000, 10000]\n",
    "    results = []\n",
    "    \n",
    "    for limit in testLimits:\n",
    "        # Create sieve\n",
    "        sieve = [True] * (limit + 1)\n",
    "        sieve[0] = sieve[1] = False\n",
    "        \n",
    "        for p in range(2, int(limit**0.5) + 1):\n",
    "            if sieve[p]:\n",
    "                for multiple in range(p*p, limit+1, p):\n",
    "                    sieve[multiple] = False\n",
    "        \n",
    "        # Count primes found\n",
    "        primes = [num for num, isPrime in enumerate(sieve) if isPrime]\n",
    "        \n",
    "        results.append({\n",
    "            'limit': limit,\n",
    "            'memorySize': limit + 1,\n",
    "            'primesFound': len(primes),\n",
    "            'memoryPerPrime': (limit + 1) / len(primes)\n",
    "        })\n",
    "    \n",
    "    # Display results\n",
    "    print(\"Sieve of Eratosthenes Memory Usage\")\n",
    "    print(\"-------------------------------------------------\")\n",
    "    print(\"Limit | Array Size | Primes Found | Memory per Prime\")\n",
    "    print(\"-------------------------------------------------\")\n",
    "    \n",
    "    for r in results:\n",
    "        print(f\"{r['limit']:6d} | {r['memorySize']:10d} | {r['primesFound']:12d} | {r['memoryPerPrime']:16.2f}\")\n",
    "    \n",
    "\n",
    "testSieveMemoryUsage()"
   ]
  },
  {
   "cell_type": "markdown",
   "metadata": {},
   "source": [
    "## Test 3"
   ]
  },
  {
   "cell_type": "code",
   "execution_count": 171,
   "metadata": {},
   "outputs": [
    {
     "name": "stdout",
     "output_type": "stream",
     "text": [
      "Finding All Primes in Different Ranges\n",
      "-------------------------------------------------\n",
      "\n",
      "Range 2 to 100:\n",
      "Range size: 99\n",
      "Primes found: 25\n",
      "Prime density: 25.25%\n",
      "Marking operations: 104\n",
      "First few primes: [2, 3, 5, 7, 11]...\n",
      "\n",
      "Range 100 to 200:\n",
      "Range size: 101\n",
      "Primes found: 21\n",
      "Prime density: 20.79%\n",
      "Marking operations: 214\n",
      "First few primes: [101, 103, 107, 109, 113]...\n",
      "\n",
      "Range 1000 to 1100:\n",
      "Range size: 101\n",
      "Primes found: 16\n",
      "Prime density: 15.84%\n",
      "Marking operations: 314\n",
      "First few primes: [1009, 1013, 1019, 1021, 1031]...\n"
     ]
    }
   ],
   "source": [
    "def testSieveVsRange():\n",
    "    # Test ranges\n",
    "    ranges = [(2, 100), (100, 200), (1000, 1100)]\n",
    "    \n",
    "    print(\"Finding All Primes in Different Ranges\")\n",
    "    print(\"-------------------------------------------------\")\n",
    "    \n",
    "    for start, end in ranges:\n",
    "        # Create sieve\n",
    "        sieve = [True] * (end + 1)\n",
    "        sieve[0] = sieve[1] = False\n",
    "        \n",
    "        # Count operations\n",
    "        markingOps = 0\n",
    "        \n",
    "        for p in range(2, int(end**0.5) + 1):\n",
    "            if sieve[p]:\n",
    "                for multiple in range(max(p*p, start + (p - start % p) % p), end+1, p):\n",
    "                    sieve[multiple] = False\n",
    "                    markingOps += 1\n",
    "        \n",
    "        # Count primes found\n",
    "        primes = [num for num in range(max(2, start), end+1) if sieve[num]]\n",
    "        \n",
    "        print(f\"\\nRange {start} to {end}:\")\n",
    "        print(f\"Range size: {end - start + 1}\")\n",
    "        print(f\"Primes found: {len(primes)}\")\n",
    "        print(f\"Prime density: {len(primes)/(end-start+1):.2%}\")\n",
    "        print(f\"Marking operations: {markingOps}\")\n",
    "        print(f\"First few primes: {primes[:5]}...\")\n",
    "\n",
    "testSieveVsRange()"
   ]
  },
  {
   "cell_type": "markdown",
   "metadata": {},
   "source": [
    "## Task 5: Roots"
   ]
  },
  {
   "cell_type": "code",
   "execution_count": 183,
   "metadata": {},
   "outputs": [],
   "source": [
    "def isPrime(n):\n",
    "    if n <= 1:\n",
    "        return False\n",
    "    if n == 2:\n",
    "        return True\n",
    "    if n % 2 == 0:\n",
    "        return False\n",
    "    i = 3\n",
    "    while i * i <= n:\n",
    "        if n % i == 0:\n",
    "            return False\n",
    "        i += 2\n",
    "    return True\n",
    "\n",
    "def getFirstNPrimes(n):\n",
    "    primes = []\n",
    "    num = 2\n",
    "    while len(primes) < n:\n",
    "        if isPrime(num):\n",
    "            primes.append(num)\n",
    "        num += 1\n",
    "    return primes\n",
    "\n",
    "def sqrtNewton(x, tolerance=1e-15):\n",
    "    if x == 0:\n",
    "        return 0\n",
    "    guess = x / 2.0\n",
    "    while True:\n",
    "        nextGuess = (guess + x / guess) / 2\n",
    "        if abs(nextGuess - guess) < tolerance:\n",
    "            return nextGuess\n",
    "        guess = nextGuess\n",
    "\n",
    "def fractionalBitsOfSqrt(x, bits=32):\n",
    "    root = sqrtNewton(x)\n",
    "    frac = root - int(root)\n",
    "    result = ''\n",
    "    for _ in range(bits):\n",
    "        frac *= 2\n",
    "        bit = int(frac)\n",
    "        result += str(bit)\n",
    "        frac -= bit\n",
    "    return result\n",
    "\n",
    "def calculateRootFractions(nPrimes=100, bits=32):\n",
    "    primes = getFirstNPrimes(nPrimes)\n",
    "    return [fractionalBitsOfSqrt(p, bits) for p in primes]"
   ]
  },
  {
   "cell_type": "markdown",
   "metadata": {},
   "source": [
    "## Task 6: Proof of Work"
   ]
  },
  {
   "cell_type": "code",
   "execution_count": 184,
   "metadata": {},
   "outputs": [],
   "source": [
    "import hashlib\n",
    "\n",
    "def loadWords(path=\"words.txt\"):\n",
    "    with open(path, \"r\") as file:\n",
    "        return [line.strip().lower() for line in file if line.strip().isalpha()]\n",
    "\n",
    "def sha256(word):\n",
    "    return hashlib.sha256(word.encode()).hexdigest()\n",
    "\n",
    "def countLeadingZeroBits(hexDigest):\n",
    "    binary = bin(int(hexDigest, 16))[2:].zfill(256)\n",
    "    return len(binary) - len(binary.lstrip('0'))\n",
    "\n",
    "def findWordsWithMaxLeadingZeros(words):\n",
    "    maxZeros = -1\n",
    "    bestWords = []\n",
    "\n",
    "    for word in words:\n",
    "        digest = sha256(word)\n",
    "        zeros = countLeadingZeroBits(digest)\n",
    "\n",
    "        if zeros > maxZeros:\n",
    "            maxZeros = zeros\n",
    "            bestWords = [(word, digest, zeros)]\n",
    "        elif zeros == maxZeros:\n",
    "            bestWords.append((word, digest, zeros))\n",
    "    \n",
    "    return bestWords\n"
   ]
  },
  {
   "cell_type": "markdown",
   "metadata": {},
   "source": [
    "## Task 7: Turing Machines"
   ]
  },
  {
   "cell_type": "code",
   "execution_count": 185,
   "metadata": {},
   "outputs": [],
   "source": [
    "def addOneTuringMachine(inputTape):\n",
    "    tape = list(inputTape)\n",
    "    headPosition = len(tape) - 1\n",
    "    state = 'add'\n",
    "    \n",
    "    while True:\n",
    "        currentSymbol = tape[headPosition]\n",
    "        \n",
    "        if state == 'add':\n",
    "            if currentSymbol == '0':\n",
    "                tape[headPosition] = '1'\n",
    "                break\n",
    "            elif currentSymbol == '1':\n",
    "                tape[headPosition] = '0'\n",
    "                state = 'carry'\n",
    "                headPosition -= 1\n",
    "            \n",
    "        elif state == 'carry':\n",
    "            if headPosition < 0:\n",
    "                tape.insert(0, '1')\n",
    "                break\n",
    "            elif currentSymbol == '0':\n",
    "                tape[headPosition] = '1'\n",
    "                break\n",
    "            elif currentSymbol == '1':\n",
    "                tape[headPosition] = '0'\n",
    "                headPosition -= 1\n",
    "    \n",
    "    return ''.join(tape)"
   ]
  },
  {
   "cell_type": "markdown",
   "metadata": {},
   "source": [
    "## Task 8: Computational Complexity"
   ]
  },
  {
   "cell_type": "code",
   "execution_count": null,
   "metadata": {},
   "outputs": [],
   "source": [
    "def bubbleSort(arr):\n",
    "    # Create a copy of the array to avoid modifying the original\n",
    "    arrCopy = arr.copy()\n",
    "    n = len(arrCopy)\n",
    "    comparisons = 0\n",
    "    \n",
    "    # Traverse through all array elements\n",
    "    for i in range(n):\n",
    "        # Flag to optimize if no swaps occur in a pass\n",
    "        swapped = False\n",
    "        # Last i elements are already in place\n",
    "        for j in range(0, n-i-1):\n",
    "            # Compare adjacent elements\n",
    "            comparisons += 1\n",
    "            if arrCopy[j] > arrCopy[j+1]:\n",
    "                # Swap if the element found is greater than the next element\n",
    "                arrCopy[j], arrCopy[j+1] = arrCopy[j+1], arrCopy[j]\n",
    "                swapped = True\n",
    "        \n",
    "        # If no swapping occurred in this pass, array is sorted\n",
    "        if not swapped:\n",
    "            break\n",
    "                \n",
    "    return arrCopy, comparisons"
   ]
  }
 ],
 "metadata": {
  "kernelspec": {
   "display_name": "Python 3",
   "language": "python",
   "name": "python3"
  },
  "language_info": {
   "codemirror_mode": {
    "name": "ipython",
    "version": 3
   },
   "file_extension": ".py",
   "mimetype": "text/x-python",
   "name": "python",
   "nbconvert_exporter": "python",
   "pygments_lexer": "ipython3",
   "version": "3.12.0"
  },
  "orig_nbformat": 4
 },
 "nbformat": 4,
 "nbformat_minor": 2
}
