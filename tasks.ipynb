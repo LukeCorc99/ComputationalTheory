{
 "cells": [
  {
   "attachments": {},
   "cell_type": "markdown",
   "metadata": {},
   "source": [
    "# Computational Theory Tasks\n",
    "## By Luke Corcoran\n",
    "### G00410404"
   ]
  },
  {
   "cell_type": "code",
   "execution_count": 76,
   "metadata": {},
   "outputs": [],
   "source": [
    "# Define necessary imports"
   ]
  },
  {
   "attachments": {},
   "cell_type": "markdown",
   "metadata": {},
   "source": [
    "# Task 1: Binary Representations\n",
    "This task involves creating functions to manipulate binary representations of 32-bit unsigned integers.\n",
    "\n",
    "**Sources:**\n",
    "- Rotating bits of a number in Python: https://www.geeksforgeeks.org/python3-program-to-rotate-bits-of-a-number/\n",
    "\n",
    "## Function 1: rotl(x, n=1) (Left Rotation)\n",
    "The `rotl` function performs a left rotation on a 32-bit unsigned integer. Left rotation shifts bits to the left by `n` positions, wrapping around the bits that overflow beyond the 32-bit boundary.\n",
    "### Example I/O: \n",
    "**Input:**  \n",
    "```\n",
    "x = 0b110010101011\n",
    "n = 3\n",
    "```\n",
    "\n",
    "**Output:** \n",
    "``` \n",
    "0b010101100000\n",
    "```"
   ]
  },
  {
   "cell_type": "code",
   "execution_count": 77,
   "metadata": {},
   "outputs": [],
   "source": [
    "# Rotate bits of x to the left by n positions.\n",
    "def rotl(x, n=1):\n",
    "    bits = 32 # Number of bits in an integer\n",
    "    n = n % bits  # Ensure n is within the range of 0-31\n",
    "    return ((x << n) & 0xFFFFFFFF) | (x >> (bits - n)) # Rotate bits to the left by n positions"
   ]
  },
  {
   "cell_type": "markdown",
   "metadata": {},
   "source": [
    "### Example Usage:"
   ]
  },
  {
   "cell_type": "code",
   "execution_count": 78,
   "metadata": {},
   "outputs": [
    {
     "name": "stdout",
     "output_type": "stream",
     "text": [
      "Input: x = 0b110010101011, n = 3\n",
      "Output: 0b110010101011000\n"
     ]
    }
   ],
   "source": [
    "x = 0b110010101011  # Example binary number\n",
    "n = 3  # Number of positions to rotate\n",
    "result = rotl(x, n)  # Compute left rotation\n",
    "\n",
    "print(f\"Input: x = {bin(x)}, n = {n}\")  # Print input values\n",
    "print(f\"Output: {bin(result)}\")  # Print output of rotl function"
   ]
  },
  {
   "cell_type": "markdown",
   "metadata": {},
   "source": [
    "## Test 1"
   ]
  },
  {
   "cell_type": "code",
   "execution_count": 79,
   "metadata": {},
   "outputs": [
    {
     "name": "stdout",
     "output_type": "stream",
     "text": [
      "Test rotl basic - Input: x = 0b110010101011, n = 3\n",
      "Expected: 0b110010101011000\n",
      "Result:   0b110010101011000\n",
      "Test passed: True\n"
     ]
    }
   ],
   "source": [
    "# Test 1 for rotl function\n",
    "def test_rotl_basic():\n",
    "    \"\"\"Test basic left rotation behavior\"\"\"\n",
    "    x = 0b110010101011  # 3243 in decimal\n",
    "    n = 3\n",
    "    expected = 0b110010101011000 & 0xFFFFFFFF  # Left rotation by 3 positions\n",
    "    result = rotl(x, n)\n",
    "    \n",
    "    print(f\"Test rotl basic - Input: x = {bin(x)}, n = {n}\")\n",
    "    print(f\"Expected: {bin(expected)}\")\n",
    "    print(f\"Result:   {bin(result)}\")\n",
    "    print(f\"Test passed: {result == expected}\")\n",
    "    assert result == expected, f\"Expected {bin(expected)}, got {bin(result)}\"\n",
    "    \n",
    "test_rotl_basic()"
   ]
  },
  {
   "cell_type": "markdown",
   "metadata": {},
   "source": [
    "## Test 2"
   ]
  },
  {
   "cell_type": "code",
   "execution_count": 80,
   "metadata": {},
   "outputs": [
    {
     "name": "stdout",
     "output_type": "stream",
     "text": [
      "Test rotl full rotation - Input: x = 0b11001010101110000111\n",
      "Original:       0b11001010101110000111\n",
      "Rotated by 32:  0b11001010101110000111\n",
      "Rotated by 0:   0b11001010101110000111\n",
      "Test passed: True\n"
     ]
    }
   ],
   "source": [
    "# Test 2 for rotl function\n",
    "def test_rotl_full_rotation():\n",
    "    \"\"\"Test rotation by a full 32 bits (should return the original value)\"\"\"\n",
    "    x = 0b11001010101110000111  # Some arbitrary value\n",
    "    result1 = rotl(x, 32)\n",
    "    result2 = rotl(x, 0)\n",
    "    \n",
    "    print(f\"Test rotl full rotation - Input: x = {bin(x)}\")\n",
    "    print(f\"Original:       {bin(x)}\")\n",
    "    print(f\"Rotated by 32:  {bin(result1)}\")\n",
    "    print(f\"Rotated by 0:   {bin(result2)}\")\n",
    "    print(f\"Test passed: {result1 == x and result2 == x}\")\n",
    "    assert result1 == x, f\"32-bit rotation should return original value\"\n",
    "    assert result2 == x, f\"0-bit rotation should return original value\"\n",
    "\n",
    "test_rotl_full_rotation()"
   ]
  },
  {
   "cell_type": "markdown",
   "metadata": {},
   "source": [
    "## Function 2: rotr(x, n=1) (Right Rotation)\n",
    "The `rotr` function performs a right rotation on a 32-bit unsigned integer. Right rotation shifts bits to the right by `n` positions, wrapping around the bits that overflow beyond the 32-bit boundary.\n",
    "### Example I/O: \n",
    "**Input:**  \n",
    "```\n",
    "x = 0b110010101011\n",
    "n = 3\n",
    "```\n",
    "\n",
    "**Output:** \n",
    "``` \n",
    "0b011110010101\n",
    "```"
   ]
  },
  {
   "cell_type": "code",
   "execution_count": 81,
   "metadata": {},
   "outputs": [],
   "source": [
    "# Rotate bits of x to the right by n positions.\n",
    "def rotr(x, n=1):\n",
    "    bits = 32  # Number of bits in an integer\n",
    "    n = n % bits  # Ensure n is within the range of 0-31\n",
    "    return ((x >> n) | (x << (bits - n))) & 0xFFFFFFFF  # Rotate bits to the right by n positions"
   ]
  },
  {
   "cell_type": "markdown",
   "metadata": {},
   "source": [
    "### Example Usage:"
   ]
  },
  {
   "cell_type": "code",
   "execution_count": 82,
   "metadata": {},
   "outputs": [
    {
     "name": "stdout",
     "output_type": "stream",
     "text": [
      "Input: x = 0b110010101011, n = 3\n",
      "Output: 0b1100000000000000000000110010101\n"
     ]
    }
   ],
   "source": [
    "x = 0b110010101011  # Example binary number\n",
    "n = 3  # Number of positions to rotate\n",
    "result = rotr(x, n)  # Compute right rotation\n",
    "\n",
    "print(f\"Input: x = {bin(x)}, n = {n}\")  # Print input values\n",
    "print(f\"Output: {bin(result)}\")  # Print output of rotr function"
   ]
  },
  {
   "cell_type": "markdown",
   "metadata": {},
   "source": [
    "# Test 1"
   ]
  },
  {
   "cell_type": "code",
   "execution_count": 83,
   "metadata": {},
   "outputs": [
    {
     "name": "stdout",
     "output_type": "stream",
     "text": [
      "Test rotr basic - Input: x = 0b110010101011, n = 3\n",
      "Expected: 0b1100000000000000000000110010101\n",
      "Result:   0b1100000000000000000000110010101\n",
      "Test passed: True\n"
     ]
    }
   ],
   "source": [
    "# Test 1 for rotr function\n",
    "def test_rotr_basic():\n",
    "    \"\"\"Test basic right rotation behavior\"\"\"\n",
    "    x = 0b110010101011  # 3243 in decimal\n",
    "    n = 3\n",
    "    # In a full 32-bit context, right rotation by 3 should put the 3 rightmost bits at the left\n",
    "    expected = ((x >> 3) | (x << (32 - 3))) & 0xFFFFFFFF\n",
    "    result = rotr(x, n)\n",
    "    \n",
    "    print(f\"Test rotr basic - Input: x = {bin(x)}, n = {n}\")\n",
    "    print(f\"Expected: {bin(expected)}\")\n",
    "    print(f\"Result:   {bin(result)}\")\n",
    "    print(f\"Test passed: {result == expected}\")\n",
    "    assert result == expected, f\"Expected {bin(expected)}, got {bin(result)}\"\n",
    "\n",
    "test_rotr_basic()"
   ]
  },
  {
   "cell_type": "markdown",
   "metadata": {},
   "source": [
    "## Test 2"
   ]
  },
  {
   "cell_type": "code",
   "execution_count": 84,
   "metadata": {},
   "outputs": [
    {
     "name": "stdout",
     "output_type": "stream",
     "text": [
      "Test rotr full rotation - Input: x = 0b11001010101110000111\n",
      "Original:       0b11001010101110000111\n",
      "Rotated by 32:  0b11001010101110000111\n",
      "Rotated by 0:   0b11001010101110000111\n",
      "Test passed: True\n"
     ]
    }
   ],
   "source": [
    "def test_rotr_full_rotation():\n",
    "    \"\"\"Test rotation by a full 32 bits (should return the original value)\"\"\"\n",
    "    x = 0b11001010101110000111  # Some arbitrary value\n",
    "    result1 = rotr(x, 32)\n",
    "    result2 = rotr(x, 0)\n",
    "    \n",
    "    print(f\"Test rotr full rotation - Input: x = {bin(x)}\")\n",
    "    print(f\"Original:       {bin(x)}\")\n",
    "    print(f\"Rotated by 32:  {bin(result1)}\")\n",
    "    print(f\"Rotated by 0:   {bin(result2)}\")\n",
    "    print(f\"Test passed: {result1 == x and result2 == x}\")\n",
    "    assert result1 == x, f\"32-bit rotation should return original value\"\n",
    "    assert result2 == x, f\"0-bit rotation should return original value\"\n",
    "\n",
    "test_rotr_full_rotation()"
   ]
  },
  {
   "cell_type": "markdown",
   "metadata": {},
   "source": [
    "## Function 3: ch(x, y, z) (Bitwise Choice)\n",
    "The `ch` function selects bits from `y` where `x` has bits set to 1 and from `z` where `x` has bits set to 0.\n",
    "### Example I/O: \n",
    "**Input:**  \n",
    "```\n",
    "x = 0b110010101011 \n",
    "y = 0b101010101010\n",
    "z = 0b010101010101\n",
    "```\n",
    "\n",
    "**Output:**\n",
    "``` \n",
    "0b101000101011\n",
    "```"
   ]
  },
  {
   "cell_type": "code",
   "execution_count": 85,
   "metadata": {},
   "outputs": [],
   "source": [
    "# Choose bits from y where x has bits set to 1, and bits from z where x has bits set to 0.\n",
    "def ch(x, y, z):\n",
    "    return (x & y) ^ (~x & z)  # Select bits from y where x is 1, otherwise from z"
   ]
  },
  {
   "cell_type": "markdown",
   "metadata": {},
   "source": [
    "### Example Usage:"
   ]
  },
  {
   "cell_type": "code",
   "execution_count": 86,
   "metadata": {},
   "outputs": [
    {
     "name": "stdout",
     "output_type": "stream",
     "text": [
      "Input: x = 0b110010101011, y = 0b101010101010, z = 0b10101010101\n",
      "Output: 0b100111111110\n"
     ]
    }
   ],
   "source": [
    "# Define binary values for x, y, and z\n",
    "x = 0b110010101011\n",
    "y = 0b101010101010 \n",
    "z = 0b010101010101  \n",
    "result = ch(x, y, z)  # Compute ch function\n",
    "\n",
    "print(f\"Input: x = {bin(x)}, y = {bin(y)}, z = {bin(z)}\")  # Print input values\n",
    "print(f\"Output: {bin(result)}\")  # Print output of ch function"
   ]
  },
  {
   "cell_type": "markdown",
   "metadata": {},
   "source": [
    "## Test 1"
   ]
  },
  {
   "cell_type": "code",
   "execution_count": 87,
   "metadata": {},
   "outputs": [
    {
     "name": "stdout",
     "output_type": "stream",
     "text": [
      "Test ch basic - Inputs:\n",
      "x = 0b110010101011\n",
      "y = 0b101010101010\n",
      "z = 0b10101010101\n",
      "Expected: 0b100111111110\n",
      "Result:   0b100111111110\n",
      "Test passed: True\n"
     ]
    }
   ],
   "source": [
    "def test_ch_basic():\n",
    "    \"\"\"Test basic choice function behavior\"\"\"\n",
    "    x = 0b110010101011\n",
    "    y = 0b101010101010\n",
    "    z = 0b010101010101\n",
    "    # ch selects bits from y where x=1, and from z where x=0\n",
    "    expected = (x & y) ^ (~x & z)\n",
    "    result = ch(x, y, z)\n",
    "    \n",
    "    print(f\"Test ch basic - Inputs:\")\n",
    "    print(f\"x = {bin(x)}\")\n",
    "    print(f\"y = {bin(y)}\")\n",
    "    print(f\"z = {bin(z)}\")\n",
    "    print(f\"Expected: {bin(expected)}\")\n",
    "    print(f\"Result:   {bin(result)}\")\n",
    "    print(f\"Test passed: {result == expected}\")\n",
    "    assert result == expected, f\"Expected {bin(expected)}, got {bin(result)}\"\n",
    "\n",
    "test_ch_basic()"
   ]
  },
  {
   "cell_type": "markdown",
   "metadata": {},
   "source": [
    "## Test 2"
   ]
  },
  {
   "cell_type": "code",
   "execution_count": 88,
   "metadata": {},
   "outputs": [
    {
     "name": "stdout",
     "output_type": "stream",
     "text": [
      "Test ch extreme cases:\n",
      "y = 0b101010101010\n",
      "z = 0b10101010101\n",
      "When x is all 1s - Expected: 0b101010101010\n",
      "When x is all 1s - Result:   0b101010101010\n",
      "When x is all 0s - Expected: 0b10101010101\n",
      "When x is all 0s - Result:   0b10101010101\n",
      "Test passed: True\n"
     ]
    }
   ],
   "source": [
    "def test_ch_extreme_cases():\n",
    "    \"\"\"Test choice function with extreme values (all 0s or all 1s)\"\"\"\n",
    "    # When x is all 1s, output should be exactly y\n",
    "    x_all_ones = 0xFFFFFFFF\n",
    "    y = 0b101010101010\n",
    "    z = 0b010101010101\n",
    "    result1 = ch(x_all_ones, y, z)\n",
    "    \n",
    "    # When x is all 0s, output should be exactly z\n",
    "    x_all_zeros = 0\n",
    "    result2 = ch(x_all_zeros, y, z)\n",
    "    \n",
    "    print(f\"Test ch extreme cases:\")\n",
    "    print(f\"y = {bin(y)}\")\n",
    "    print(f\"z = {bin(z)}\")\n",
    "    print(f\"When x is all 1s - Expected: {bin(y)}\")\n",
    "    print(f\"When x is all 1s - Result:   {bin(result1)}\")\n",
    "    print(f\"When x is all 0s - Expected: {bin(z)}\")\n",
    "    print(f\"When x is all 0s - Result:   {bin(result2)}\")\n",
    "    print(f\"Test passed: {result1 == y and result2 == z}\")\n",
    "    assert result1 == y, f\"When x is all 1s, ch(x,y,z) should equal y\"\n",
    "    assert result2 == z, f\"When x is all 0s, ch(x,y,z) should equal z\"\n",
    "\n",
    "test_ch_extreme_cases()"
   ]
  },
  {
   "cell_type": "markdown",
   "metadata": {},
   "source": [
    "## Function 4: maj(x, y, z) (Bitwise Majority)\n",
    "\n",
    "The `maj` function performs a majority vote on the bits of `x`, `y`, and `z`.\n",
    "The output has a `1` in bit position `i` where at least two of `x`, `y`, and `z` have `1`s in position `i`.\n",
    "All other output bit positions are `0`.\n",
    "\n",
    "#### Example I/O:\n",
    "\n",
    "**Input:**\n",
    "```\n",
    "x = 0b110010101011\n",
    "y = 0b101010101010\n",
    "z = 0b010101010101\n",
    "```\n",
    "\n",
    "**Output:**\n",
    "```\n",
    "0b110010101011\n",
    "```"
   ]
  },
  {
   "cell_type": "code",
   "execution_count": 89,
   "metadata": {},
   "outputs": [],
   "source": [
    "# Compute the majority vote for each bit position in x, y, and z\n",
    "def maj(x, y, z):\n",
    "    return (x & y) | (y & z) | (x & z)  # Majority function: At least two bits must be 1"
   ]
  },
  {
   "cell_type": "markdown",
   "metadata": {},
   "source": [
    "### Example Usage:"
   ]
  },
  {
   "cell_type": "code",
   "execution_count": 90,
   "metadata": {},
   "outputs": [
    {
     "name": "stdout",
     "output_type": "stream",
     "text": [
      "Input: x = 0b110010101011, y = 0b101010101010, z = 0b10101010101\n",
      "Output: 0b110010101011\n"
     ]
    }
   ],
   "source": [
    "# Define binary values for x, y, and z\n",
    "x = 0b110010101011\n",
    "y = 0b101010101010\n",
    "z = 0b010101010101\n",
    "\n",
    "result = maj(x, y, z)  # Compute majority function\n",
    "\n",
    "print(f\"Input: x = {bin(x)}, y = {bin(y)}, z = {bin(z)}\")  # Print input values\n",
    "print(f\"Output: {bin(result)}\")  # Print output of maj function"
   ]
  },
  {
   "cell_type": "markdown",
   "metadata": {},
   "source": [
    "## Test 1"
   ]
  },
  {
   "cell_type": "code",
   "execution_count": 91,
   "metadata": {},
   "outputs": [
    {
     "name": "stdout",
     "output_type": "stream",
     "text": [
      "Test maj basic - Inputs:\n",
      "x = 0b110010101011\n",
      "y = 0b101010101010\n",
      "z = 0b10101010101\n",
      "Expected: 0b110010101011\n",
      "Result:   0b110010101011\n",
      "Test passed: True\n"
     ]
    }
   ],
   "source": [
    "def test_maj_basic():\n",
    "    \"\"\"Test basic majority function behavior\"\"\"\n",
    "    x = 0b110010101011\n",
    "    y = 0b101010101010\n",
    "    z = 0b010101010101\n",
    "    # maj returns 1 if at least two inputs have 1, otherwise 0\n",
    "    expected = (x & y) | (y & z) | (x & z)\n",
    "    result = maj(x, y, z)\n",
    "    \n",
    "    print(f\"Test maj basic - Inputs:\")\n",
    "    print(f\"x = {bin(x)}\")\n",
    "    print(f\"y = {bin(y)}\")\n",
    "    print(f\"z = {bin(z)}\")\n",
    "    print(f\"Expected: {bin(expected)}\")\n",
    "    print(f\"Result:   {bin(result)}\")\n",
    "    print(f\"Test passed: {result == expected}\")\n",
    "    assert result == expected, f\"Expected {bin(expected)}, got {bin(result)}\"\n",
    "\n",
    "test_maj_basic()"
   ]
  },
  {
   "cell_type": "markdown",
   "metadata": {},
   "source": [
    "## Test 2"
   ]
  },
  {
   "cell_type": "code",
   "execution_count": 92,
   "metadata": {},
   "outputs": [
    {
     "name": "stdout",
     "output_type": "stream",
     "text": [
      "Test maj extreme cases:\n",
      "z = 0b10101010101\n",
      "When x and y are all 1s - Expected: 0b11111111111111111111111111111111\n",
      "When x and y are all 1s - Result:   0b11111111111111111111111111111111\n",
      "When x and y are all 0s - Expected: 0b0\n",
      "When x and y are all 0s - Result:   0b0\n",
      "Test passed: True\n"
     ]
    }
   ],
   "source": [
    "def test_maj_extreme_cases():\n",
    "    \"\"\"Test majority function with extreme values\"\"\"\n",
    "    # When any two inputs are all 1s, output should be all 1s\n",
    "    x_all_ones = 0xFFFFFFFF\n",
    "    y_all_ones = 0xFFFFFFFF\n",
    "    z = 0b010101010101\n",
    "    result1 = maj(x_all_ones, y_all_ones, z)\n",
    "    \n",
    "    # When any two inputs are all 0s, output should be all 0s\n",
    "    x_all_zeros = 0\n",
    "    y_all_zeros = 0\n",
    "    result2 = maj(x_all_zeros, y_all_zeros, z)\n",
    "    \n",
    "    print(f\"Test maj extreme cases:\")\n",
    "    print(f\"z = {bin(z)}\")\n",
    "    print(f\"When x and y are all 1s - Expected: {bin(0xFFFFFFFF)}\")\n",
    "    print(f\"When x and y are all 1s - Result:   {bin(result1)}\")\n",
    "    print(f\"When x and y are all 0s - Expected: {bin(0)}\")\n",
    "    print(f\"When x and y are all 0s - Result:   {bin(result2)}\")\n",
    "    print(f\"Test passed: {result1 == 0xFFFFFFFF and result2 == 0}\")\n",
    "    assert result1 == 0xFFFFFFFF, f\"When two inputs are all 1s, maj should be all 1s\"\n",
    "    assert result2 == 0, f\"When two inputs are all 0s, maj should be all 0s\"\n",
    "\n",
    "test_maj_extreme_cases()"
   ]
  },
  {
   "cell_type": "markdown",
   "metadata": {},
   "source": [
    "# Task 2: Hash Functions\n",
    "\n",
    "** suggest why the values 31 and 101 are used.**"
   ]
  },
  {
   "cell_type": "code",
   "execution_count": 93,
   "metadata": {},
   "outputs": [
    {
     "data": {
      "text/plain": [
       "13"
      ]
     },
     "execution_count": 93,
     "metadata": {},
     "output_type": "execute_result"
    }
   ],
   "source": [
    "def hash(s: str) -> int:\n",
    "    hashval = 0\n",
    "    for char in s:\n",
    "        hashval = ord(char) + 31 * hashval\n",
    "    return hashval % 101\n",
    "\n",
    "hash(\"hello world\")  # Example usage of hash function"
   ]
  },
  {
   "cell_type": "markdown",
   "metadata": {},
   "source": [
    "## Test 1"
   ]
  },
  {
   "cell_type": "code",
   "execution_count": 94,
   "metadata": {},
   "outputs": [
    {
     "name": "stdout",
     "output_type": "stream",
     "text": [
      "Test hash basic - Input: 'hello'\n",
      "Expected hash value: 17\n",
      "Calculated hash value: 17\n",
      "Test passed: True\n"
     ]
    }
   ],
   "source": [
    "# Test 1: Basic hashing test with a simple string\n",
    "def test_hash_basic():\n",
    "    \"\"\"Test basic hashing of a simple string\"\"\"\n",
    "    input_str = \"hello\"\n",
    "    result = hash(input_str)\n",
    "    \n",
    "    # Calculate expected result manually for verification\n",
    "    expected = 0\n",
    "    for char in input_str:\n",
    "        expected = ord(char) + 31 * expected\n",
    "    expected = expected % 101\n",
    "    \n",
    "    print(f\"Test hash basic - Input: '{input_str}'\")\n",
    "    print(f\"Expected hash value: {expected}\")\n",
    "    print(f\"Calculated hash value: {result}\")\n",
    "    print(f\"Test passed: {result == expected}\")\n",
    "    assert result == expected, f\"Expected {expected}, got {result}\"\n",
    "\n",
    "test_hash_basic()"
   ]
  },
  {
   "cell_type": "markdown",
   "metadata": {},
   "source": [
    "## Test 2"
   ]
  },
  {
   "cell_type": "code",
   "execution_count": 95,
   "metadata": {},
   "outputs": [
    {
     "name": "stdout",
     "output_type": "stream",
     "text": [
      "Test hash with different multipliers - Input: hashfunction\n",
      "Multiplier 1: Hash value = 78\n",
      "Multiplier 2: Hash value = 43\n",
      "Multiplier 10: Hash value = 33\n",
      "Multiplier 31: Hash value = 56\n",
      "Multiplier 32: Hash value = 28\n",
      "Multiplier 33: Hash value = 17\n",
      "Multiplier 64: Hash value = 59\n",
      "Unique hash values: 7 out of 7\n",
      "31 vs 32 produce different hashes: True\n"
     ]
    }
   ],
   "source": [
    "# Test 2: Test different multiplier values to understand the effect of 31\n",
    "def test_different_multipliers():\n",
    "    \"\"\"Test the hash function with different multiplier values\"\"\"\n",
    "    test_str = \"hashfunction\"\n",
    "    \n",
    "    # Function to calculate hash with different multiplier\n",
    "    def hash_with_multiplier(s, multiplier):\n",
    "        hashval = 0\n",
    "        for char in s:\n",
    "            hashval = ord(char) + multiplier * hashval\n",
    "        return hashval % 101\n",
    "    \n",
    "    # Test a set of multipliers, including 31 and some non-prime values\n",
    "    multipliers = [1, 2, 10, 31, 32, 33, 64]\n",
    "    results = {}\n",
    "    \n",
    "    for m in multipliers:\n",
    "        results[m] = hash_with_multiplier(test_str, m)\n",
    "    \n",
    "    print(\"Test hash with different multipliers - Input:\", test_str)\n",
    "    for m, result in results.items():\n",
    "        print(f\"Multiplier {m}: Hash value = {result}\")\n",
    "    \n",
    "    # Check if all hash values are different (indicating good distribution)\n",
    "    unique_values = len(set(results.values()))\n",
    "    total_values = len(results)\n",
    "    print(f\"Unique hash values: {unique_values} out of {total_values}\")\n",
    "    \n",
    "    # Check specifically if 31 produces a different hash than nearby values\n",
    "    print(f\"31 vs 32 produce different hashes: {results[31] != results[32]}\")\n",
    "\n",
    "test_different_multipliers()"
   ]
  },
  {
   "cell_type": "markdown",
   "metadata": {},
   "source": [
    "## Test 3"
   ]
  },
  {
   "cell_type": "code",
   "execution_count": 96,
   "metadata": {},
   "outputs": [
    {
     "name": "stdout",
     "output_type": "stream",
     "text": [
      "Testing different modulus values:\n",
      "Modulus 10: 4 unique hashes out of 5 strings\n",
      "   Used 4 out of 10 possible buckets\n",
      "Modulus 100: 5 unique hashes out of 5 strings\n",
      "   Used 5 out of 100 possible buckets\n",
      "Modulus 101: 5 unique hashes out of 5 strings\n",
      "   Used 5 out of 101 possible buckets\n",
      "Modulus 102: 5 unique hashes out of 5 strings\n",
      "Modulus 200: 5 unique hashes out of 5 strings\n"
     ]
    }
   ],
   "source": [
    "# Test 3: Test different modulus values to understand the effect of 101\n",
    "def test_different_moduli():\n",
    "    \"\"\"Test the hash function with different modulus values\"\"\"\n",
    "    test_strings = [\"algorithm\", \"computer\", \"science\", \"python\", \"hash\"]\n",
    "    \n",
    "    # Function to calculate hash with different modulus\n",
    "    def hash_with_modulus(s, modulus):\n",
    "        hashval = 0\n",
    "        for char in s:\n",
    "            hashval = ord(char) + 31 * hashval\n",
    "        return hashval % modulus\n",
    "    \n",
    "    # Test a set of moduli, including 101 and some non-prime values\n",
    "    moduli = [10, 100, 101, 102, 200]\n",
    "    \n",
    "    # For each modulus, check how many unique hash values we get for our test strings\n",
    "    print(\"Testing different modulus values:\")\n",
    "    for mod in moduli:\n",
    "        hash_values = [hash_with_modulus(s, mod) for s in test_strings]\n",
    "        unique_values = len(set(hash_values))\n",
    "        \n",
    "        print(f\"Modulus {mod}: {unique_values} unique hashes out of {len(test_strings)} strings\")\n",
    "        \n",
    "        # Additional check: how many buckets are actually used\n",
    "        if mod <= 101:  # Only check for smaller moduli to keep output manageable\n",
    "            used_buckets = set(hash_values)\n",
    "            print(f\"   Used {len(used_buckets)} out of {mod} possible buckets\")\n",
    "\n",
    "test_different_moduli()"
   ]
  },
  {
   "cell_type": "markdown",
   "metadata": {},
   "source": [
    "# Task 3: SHA256"
   ]
  },
  {
   "cell_type": "code",
   "execution_count": 97,
   "metadata": {},
   "outputs": [],
   "source": [
    "def sha256Padding(filePath):\n",
    "    # Read the file as binary\n",
    "    try:\n",
    "        with open(filePath, 'rb') as file:\n",
    "            data = file.read()\n",
    "    except Exception as e:\n",
    "        print(f\"Error reading file: {e}\")\n",
    "        return\n",
    "        \n",
    "    # Calculate original length in bits\n",
    "    originalLength = len(data) * 8\n",
    "    \n",
    "    # Step 1: Append the bit '1' (0x80) to the message\n",
    "    paddedData = bytearray(data)\n",
    "    paddedData.append(0x80)\n",
    "    \n",
    "    # Step 2: Append 0 bits until message length is 448 mod 512\n",
    "    while (len(paddedData) * 8) % 512 != 448:\n",
    "        paddedData.append(0x00)\n",
    "    \n",
    "    # Step 3: Append length as a 64-bit big-endian integer\n",
    "    lengthBytes = originalLength.to_bytes(8, \"big\")\n",
    "    paddedData.extend(lengthBytes)\n",
    "    \n",
    "    # Extract the padding (everything after the original data)\n",
    "    padding = paddedData[len(data):]\n",
    "    \n",
    "    # Print the padding in hex format with spaces between bytes\n",
    "    paddingHex = \" \".join(f\"{byte:02x}\" for byte in padding)\n",
    "    print(paddingHex)"
   ]
  },
  {
   "cell_type": "markdown",
   "metadata": {},
   "source": [
    "## Make method to create a temporary file"
   ]
  },
  {
   "cell_type": "code",
   "execution_count": 98,
   "metadata": {},
   "outputs": [],
   "source": [
    "import tempfile\n",
    "\n",
    "def createTestFile(content):\n",
    "    \"\"\"Create a temporary file with the given content and return its path\"\"\"\n",
    "    with tempfile.NamedTemporaryFile(delete=False) as temp:\n",
    "        if isinstance(content, str):\n",
    "            temp.write(content.encode('utf-8'))\n",
    "        else:\n",
    "            temp.write(content)\n",
    "        return temp.name"
   ]
  },
  {
   "cell_type": "markdown",
   "metadata": {},
   "source": [
    "## Test 1"
   ]
  },
  {
   "cell_type": "code",
   "execution_count": 99,
   "metadata": {},
   "outputs": [
    {
     "name": "stdout",
     "output_type": "stream",
     "text": [
      "Testing with content: 'abc' (3 bytes = 24 bits)\n",
      "Expected result from specification:\n",
      "80 00 00 00 00 00 00 00 00 00 00 00 00 00 00 00 00 00 00 00\n",
      "00 00 00 00 00 00 00 00 00 00 00 00 00 00 00 00 00 00 00 00\n",
      "00 00 00 00 00 00 00 00 00 00 00 00 00 00 00 18\n",
      "\n",
      "Your function output:\n",
      "80 00 00 00 00 00 00 00 00 00 00 00 00 00 00 00 00 00 00 00 00 00 00 00 00 00 00 00 00 00 00 00 00 00 00 00 00 00 00 00 00 00 00 00 00 00 00 00 00 00 00 00 00 00 00 00 00 00 00 00 18\n"
     ]
    }
   ],
   "source": [
    "import os\n",
    "\n",
    "def testAbcExample():\n",
    "    content = \"abc\"\n",
    "    \n",
    "    # Create a temporary file with content \"abc\"\n",
    "    filePath = createTestFile(content)\n",
    "    \n",
    "    print(f\"Testing with content: '{content}' (3 bytes = 24 bits)\")\n",
    "    print(f\"Expected result from specification:\")\n",
    "    print(\"80 00 00 00 00 00 00 00 00 00 00 00 00 00 00 00 00 00 00 00\")\n",
    "    print(\"00 00 00 00 00 00 00 00 00 00 00 00 00 00 00 00 00 00 00 00\")\n",
    "    print(\"00 00 00 00 00 00 00 00 00 00 00 00 00 00 00 18\")\n",
    "    print(\"\\nYour function output:\")\n",
    "    \n",
    "    # Call your sha256Padding function\n",
    "    sha256Padding(filePath)\n",
    "    \n",
    "    # Clean up temporary file\n",
    "    os.unlink(filePath)\n",
    "\n",
    "testAbcExample()"
   ]
  },
  {
   "cell_type": "markdown",
   "metadata": {},
   "source": [
    "## Test 2"
   ]
  },
  {
   "cell_type": "code",
   "execution_count": 100,
   "metadata": {},
   "outputs": [
    {
     "name": "stdout",
     "output_type": "stream",
     "text": [
      "Testing with an empty message (0 bytes = 0 bits)\n",
      "Expected pattern: 0x80 byte + zero padding + 8-byte length field with value 0\n",
      "\n",
      "Your function output:\n",
      "80 00 00 00 00 00 00 00 00 00 00 00 00 00 00 00 00 00 00 00 00 00 00 00 00 00 00 00 00 00 00 00 00 00 00 00 00 00 00 00 00 00 00 00 00 00 00 00 00 00 00 00 00 00 00 00 00 00 00 00 00 00 00 00\n",
      "\n",
      "Analysis:\n",
      "- For an empty message, the padding should start with 0x80\n",
      "- The length field (last 8 bytes) should be all zeros\n",
      "- Total padded length should be exactly 64 bytes (512 bits)\n"
     ]
    }
   ],
   "source": [
    "# Test 2: Empty message (0 bytes) - edge case\n",
    "def testEmptyMessage():\n",
    "    content = \"\"\n",
    "    \n",
    "    # Create a temporary file with empty content\n",
    "    filePath = createTestFile(content)\n",
    "    \n",
    "    print(f\"Testing with an empty message (0 bytes = 0 bits)\")\n",
    "    print(\"Expected pattern: 0x80 byte + zero padding + 8-byte length field with value 0\")\n",
    "    print(\"\\nYour function output:\")\n",
    "    \n",
    "    # Call your sha256Padding function\n",
    "    sha256Padding(filePath)\n",
    "    \n",
    "    print(\"\\nAnalysis:\")\n",
    "    print(\"- For an empty message, the padding should start with 0x80\")\n",
    "    print(\"- The length field (last 8 bytes) should be all zeros\")\n",
    "    print(\"- Total padded length should be exactly 64 bytes (512 bits)\")\n",
    "    \n",
    "    # Clean up temporary file\n",
    "    os.unlink(filePath)\n",
    "\n",
    "testEmptyMessage()"
   ]
  },
  {
   "cell_type": "markdown",
   "metadata": {},
   "source": [
    "## Test 3"
   ]
  },
  {
   "cell_type": "code",
   "execution_count": 101,
   "metadata": {},
   "outputs": [
    {
     "name": "stdout",
     "output_type": "stream",
     "text": [
      "Testing with content: 55 'a' characters (55 bytes = 440 bits)\n",
      "Expected pattern: 0x80 byte + 8-byte length field with value 440 (0x1B8)\n",
      "\n",
      "Your function output:\n",
      "80 00 00 00 00 00 00 01 b8\n",
      "\n",
      "Analysis:\n",
      "- This is a special case: 55 bytes + 1 byte (0x80) + 8 bytes (length) = 64 bytes\n",
      "- This is the maximum message size that fits in a single block with padding\n",
      "- The length field should represent 440 bits (0x01B8)\n",
      "- This message requires minimal padding (just 9 bytes)\n"
     ]
    }
   ],
   "source": [
    "def test55Bytes():\n",
    "    content = \"a\" * 55\n",
    "    \n",
    "    # Create a temporary file with 55 'a' characters\n",
    "    filePath = createTestFile(content)\n",
    "    \n",
    "    print(f\"Testing with content: 55 'a' characters (55 bytes = 440 bits)\")\n",
    "    print(\"Expected pattern: 0x80 byte + 8-byte length field with value 440 (0x1B8)\")\n",
    "    print(\"\\nYour function output:\")\n",
    "    \n",
    "    # Call your sha256Padding function\n",
    "    sha256Padding(filePath)\n",
    "    \n",
    "    print(\"\\nAnalysis:\")\n",
    "    print(\"- This is a special case: 55 bytes + 1 byte (0x80) + 8 bytes (length) = 64 bytes\")\n",
    "    print(\"- This is the maximum message size that fits in a single block with padding\")\n",
    "    print(\"- The length field should represent 440 bits (0x01B8)\")\n",
    "    print(\"- This message requires minimal padding (just 9 bytes)\")\n",
    "    \n",
    "    # Clean up temporary file\n",
    "    os.unlink(filePath)\n",
    "\n",
    "test55Bytes()"
   ]
  },
  {
   "cell_type": "markdown",
   "metadata": {},
   "source": [
    "## Test 4"
   ]
  },
  {
   "cell_type": "code",
   "execution_count": 102,
   "metadata": {},
   "outputs": [
    {
     "name": "stdout",
     "output_type": "stream",
     "text": [
      "Testing with content: 56 'a' characters (56 bytes = 448 bits)\n",
      "Expected pattern: 0x80 byte + many zero bytes + 8-byte length field with value 448 (0x1C0)\n",
      "\n",
      "Your function output:\n",
      "80 00 00 00 00 00 00 00 00 00 00 00 00 00 00 00 00 00 00 00 00 00 00 00 00 00 00 00 00 00 00 00 00 00 00 00 00 00 00 00 00 00 00 00 00 00 00 00 00 00 00 00 00 00 00 00 00 00 00 00 00 00 00 00 00 00 00 00 00 00 01 c0\n",
      "\n",
      "Analysis:\n",
      "- This is the threshold case: 56 bytes doesn't fit in a single block with padding\n",
      "- 56 bytes + 1 byte (0x80) + 8 bytes (length) = 65 bytes, which exceeds 64 bytes\n",
      "- The padding should include 0x80 followed by many zeros\n",
      "- The length field should represent 448 bits (0x01C0)\n",
      "- The padded message will require 2 full 512-bit blocks\n"
     ]
    }
   ],
   "source": [
    "# Test 4: Message of 56 bytes (requires additional block for padding)\n",
    "def test56Bytes():\n",
    "    content = \"a\" * 56\n",
    "    \n",
    "    # Create a temporary file with 56 'a' characters\n",
    "    filePath = createTestFile(content)\n",
    "    \n",
    "    print(f\"Testing with content: 56 'a' characters (56 bytes = 448 bits)\")\n",
    "    print(\"Expected pattern: 0x80 byte + many zero bytes + 8-byte length field with value 448 (0x1C0)\")\n",
    "    print(\"\\nYour function output:\")\n",
    "    \n",
    "    # Call your sha256Padding function\n",
    "    sha256Padding(filePath)\n",
    "    \n",
    "    print(\"\\nAnalysis:\")\n",
    "    print(\"- This is the threshold case: 56 bytes doesn't fit in a single block with padding\")\n",
    "    print(\"- 56 bytes + 1 byte (0x80) + 8 bytes (length) = 65 bytes, which exceeds 64 bytes\")\n",
    "    print(\"- The padding should include 0x80 followed by many zeros\")\n",
    "    print(\"- The length field should represent 448 bits (0x01C0)\")\n",
    "    print(\"- The padded message will require 2 full 512-bit blocks\")\n",
    "    \n",
    "    # Clean up temporary file\n",
    "    os.unlink(filePath)\n",
    "\n",
    "test56Bytes()"
   ]
  },
  {
   "cell_type": "markdown",
   "metadata": {},
   "source": [
    "## Test 5"
   ]
  },
  {
   "cell_type": "code",
   "execution_count": 103,
   "metadata": {},
   "outputs": [
    {
     "name": "stdout",
     "output_type": "stream",
     "text": [
      "Testing with content: 64 'a' characters (64 bytes = 512 bits)\n",
      "Expected pattern: 0x80 byte + many zero bytes + 8-byte length field with value 512 (0x200)\n",
      "\n",
      "Your function output:\n",
      "80 00 00 00 00 00 00 00 00 00 00 00 00 00 00 00 00 00 00 00 00 00 00 00 00 00 00 00 00 00 00 00 00 00 00 00 00 00 00 00 00 00 00 00 00 00 00 00 00 00 00 00 00 00 00 00 00 00 00 00 00 00 02 00\n",
      "\n",
      "Analysis:\n",
      "- The original message is exactly one block (64 bytes)\n",
      "- When a message is exactly a multiple of the block size, an entire additional block is needed\n",
      "- The padding should include 0x80 followed by zeros to fill the block\n",
      "- The length field should represent 512 bits (0x0200)\n",
      "- The padded message will require 2 full 512-bit blocks\n"
     ]
    }
   ],
   "source": [
    "def test64Bytes():\n",
    "    content = \"a\" * 64\n",
    "    \n",
    "    # Create a temporary file with 64 'a' characters\n",
    "    filePath = createTestFile(content)\n",
    "    \n",
    "    print(f\"Testing with content: 64 'a' characters (64 bytes = 512 bits)\")\n",
    "    print(\"Expected pattern: 0x80 byte + many zero bytes + 8-byte length field with value 512 (0x200)\")\n",
    "    print(\"\\nYour function output:\")\n",
    "    \n",
    "    # Call your sha256Padding function\n",
    "    sha256Padding(filePath)\n",
    "    \n",
    "    print(\"\\nAnalysis:\")\n",
    "    print(\"- The original message is exactly one block (64 bytes)\")\n",
    "    print(\"- When a message is exactly a multiple of the block size, an entire additional block is needed\")\n",
    "    print(\"- The padding should include 0x80 followed by zeros to fill the block\")\n",
    "    print(\"- The length field should represent 512 bits (0x0200)\")\n",
    "    print(\"- The padded message will require 2 full 512-bit blocks\")\n",
    "    \n",
    "    # Clean up temporary file\n",
    "    os.unlink(filePath)\n",
    "\n",
    "test64Bytes()"
   ]
  },
  {
   "cell_type": "markdown",
   "metadata": {},
   "source": [
    "## Task 4: Prime Numbers"
   ]
  },
  {
   "cell_type": "markdown",
   "metadata": {},
   "source": [
    "### 1. Trial Division"
   ]
  },
  {
   "cell_type": "code",
   "execution_count": 113,
   "metadata": {},
   "outputs": [],
   "source": [
    "def trialDivisionPrimes(n):\n",
    "    primes = []\n",
    "    num = 2\n",
    "    while len(primes) < n:\n",
    "        isPrime = True\n",
    "        i = 2\n",
    "        while i * i <= num: \n",
    "            if num % i == 0:\n",
    "                isPrime = False\n",
    "                break\n",
    "            i += 1\n",
    "        if isPrime:\n",
    "            primes.append(num)\n",
    "        num += 1\n",
    "    return primes"
   ]
  },
  {
   "cell_type": "markdown",
   "metadata": {},
   "source": [
    "## Test 1"
   ]
  },
  {
   "cell_type": "code",
   "execution_count": 114,
   "metadata": {},
   "outputs": [
    {
     "name": "stdout",
     "output_type": "stream",
     "text": [
      "First 10 primes using Trial Division:\n",
      "[2, 3, 5, 7, 11, 13, 17, 19, 23, 29]\n",
      "The 10th prime number is: 29\n"
     ]
    },
    {
     "data": {
      "text/plain": [
       "[2, 3, 5, 7, 11, 13, 17, 19, 23, 29]"
      ]
     },
     "execution_count": 114,
     "metadata": {},
     "output_type": "execute_result"
    }
   ],
   "source": [
    "def testTrialDivisionBasic(n=10):\n",
    "    primes = trialDivisionPrimes(n)\n",
    "    print(f\"First {n} primes using Trial Division:\")\n",
    "    print(primes)\n",
    "    if n >= 10:\n",
    "        print(f\"The 10th prime number is: {primes[9]}\")\n",
    "    return primes\n",
    "\n",
    "testTrialDivisionBasic(10)"
   ]
  },
  {
   "cell_type": "markdown",
   "metadata": {},
   "source": [
    "## Test 2"
   ]
  },
  {
   "cell_type": "code",
   "execution_count": 116,
   "metadata": {},
   "outputs": [
    {
     "name": "stdout",
     "output_type": "stream",
     "text": [
      "Testing if 17 is prime using Trial Division:\n",
      "Checking divisors up to sqrt(17) = 4\n",
      "17 is prime! No divisors found among [2, 3, 4].\n",
      "Testing if 15 is prime using Trial Division:\n",
      "Checking divisors up to sqrt(15) = 3\n",
      "  3 divides 15 evenly (15 = 3 × 5)\n",
      "15 is not prime because it's divisible by 3.\n"
     ]
    }
   ],
   "source": [
    "def testTrialDivisionProcess(num=17):\n",
    "    isPrime = True\n",
    "    i = 2\n",
    "    divisorsChecked = []\n",
    "    \n",
    "    print(f\"Testing if {num} is prime using Trial Division:\")\n",
    "    print(f\"Checking divisors up to sqrt({num}) = {int(num**0.5)}\")\n",
    "    \n",
    "    while i * i <= num:\n",
    "        divisorsChecked.append(i)\n",
    "        if num % i == 0:\n",
    "            isPrime = False\n",
    "            print(f\"  {i} divides {num} evenly ({num} = {i} × {num//i})\")\n",
    "            break\n",
    "        i += 1\n",
    "    \n",
    "    if isPrime:\n",
    "        print(f\"{num} is prime! No divisors found among {divisorsChecked}.\")\n",
    "    else:\n",
    "        print(f\"{num} is not prime because it's divisible by {i}.\")\n",
    "    \n",
    "testTrialDivisionProcess(17)  # Test with a prime\n",
    "testTrialDivisionProcess(15)  # Test with a non-prime"
   ]
  },
  {
   "cell_type": "markdown",
   "metadata": {},
   "source": [
    "## Test 3"
   ]
  },
  {
   "cell_type": "code",
   "execution_count": 120,
   "metadata": {},
   "outputs": [
    {
     "name": "stdout",
     "output_type": "stream",
     "text": [
      "Trial Division Key Characteristic: Divisor Checking\n",
      "-------------------------------------------------\n",
      "Number | Prime? | Divisors Checked | Max Possible\n",
      "-------------------------------------------------\n",
      "    10 | False  |                1 |            2\n",
      "    17 | True   |                3 |            3\n",
      "   100 | False  |                1 |            9\n",
      "   101 | True   |                9 |            9\n",
      "  1000 | False  |                1 |           30\n",
      "  1009 | True   |               30 |           30\n"
     ]
    },
    {
     "data": {
      "text/plain": [
       "[{'number': 10,\n",
       "  'isPrime': False,\n",
       "  'divisorsChecked': 1,\n",
       "  'maxPossibleDivisors': 2},\n",
       " {'number': 17,\n",
       "  'isPrime': True,\n",
       "  'divisorsChecked': 3,\n",
       "  'maxPossibleDivisors': 3},\n",
       " {'number': 100,\n",
       "  'isPrime': False,\n",
       "  'divisorsChecked': 1,\n",
       "  'maxPossibleDivisors': 9},\n",
       " {'number': 101,\n",
       "  'isPrime': True,\n",
       "  'divisorsChecked': 9,\n",
       "  'maxPossibleDivisors': 9},\n",
       " {'number': 1000,\n",
       "  'isPrime': False,\n",
       "  'divisorsChecked': 1,\n",
       "  'maxPossibleDivisors': 30},\n",
       " {'number': 1009,\n",
       "  'isPrime': True,\n",
       "  'divisorsChecked': 30,\n",
       "  'maxPossibleDivisors': 30}]"
      ]
     },
     "execution_count": 120,
     "metadata": {},
     "output_type": "execute_result"
    }
   ],
   "source": [
    "def testTrialDivisionDivisorCount():\n",
    "    testNumbers = [10, 17, 100, 101, 1000, 1009]\n",
    "    \n",
    "    results = []\n",
    "    for num in testNumbers:\n",
    "        divisorsChecked = 0\n",
    "        isPrime = True\n",
    "        \n",
    "        # Trial division process\n",
    "        i = 2\n",
    "        while i * i <= num:\n",
    "            divisorsChecked += 1\n",
    "            if num % i == 0:\n",
    "                isPrime = False\n",
    "                break\n",
    "            i += 1\n",
    "        \n",
    "        results.append({\n",
    "            'number': num,\n",
    "            'isPrime': isPrime,\n",
    "            'divisorsChecked': divisorsChecked,\n",
    "            'maxPossibleDivisors': int(num**0.5) - 1\n",
    "        })\n",
    "    \n",
    "    # Display results\n",
    "    print(\"Trial Division Key Characteristic: Divisor Checking\")\n",
    "    print(\"-------------------------------------------------\")\n",
    "    print(\"Number | Prime? | Divisors Checked | Max Possible\")\n",
    "    print(\"-------------------------------------------------\")\n",
    "    \n",
    "    for r in results:\n",
    "        print(f\"{r['number']:6d} | {str(r['isPrime']):6s} | {r['divisorsChecked']:16d} | {r['maxPossibleDivisors']:12d}\")\n",
    "    \n",
    "    return results\n",
    "\n",
    "testTrialDivisionDivisorCount()"
   ]
  },
  {
   "cell_type": "markdown",
   "metadata": {},
   "source": [
    "## Test 4"
   ]
  },
  {
   "cell_type": "code",
   "execution_count": null,
   "metadata": {},
   "outputs": [],
   "source": [
    "def testTrialDivisionGapImpact():\n",
    "    seqLengths = [20, 20, 20]\n",
    "    startingPoints = [1, 1000, 10000]\n",
    "    \n",
    "    print(\"Trial Division and Prime Gaps\")\n",
    "    print(\"-------------------------------------------------\")\n",
    "    \n",
    "    for length, start in zip(seqLengths, startingPoints):\n",
    "        primesFound = 0\n",
    "        numbersChecked = 0\n",
    "        maxGap = 0\n",
    "        currentGap = 0\n",
    "        num = start\n",
    "        \n",
    "        # Find primes in range\n",
    "        while primesFound < length:\n",
    "            isPrime = True\n",
    "            i = 2\n",
    "            divisorChecks = 0\n",
    "            \n",
    "            while i * i <= num:\n",
    "                divisorChecks += 1\n",
    "                if num % i == 0:\n",
    "                    isPrime = False\n",
    "                    break\n",
    "                i += 1\n",
    "            \n",
    "            if isPrime:\n",
    "                if primesFound > 0:\n",
    "                    maxGap = max(maxGap, currentGap)\n",
    "                currentGap = 0\n",
    "                primesFound += 1\n",
    "            else:\n",
    "                currentGap += 1\n",
    "            \n",
    "            numbersChecked += 1\n",
    "            num += 1\n",
    "        \n",
    "        end = num - 1\n",
    "        \n",
    "        print(f\"\\nFinding {length} primes from {start} to {end}:\")\n",
    "        print(f\"Numbers checked: {numbersChecked}\")\n",
    "        print(f\"Prime density: {length/numbersChecked:.2%}\")\n",
    "        print(f\"Largest gap between primes: {maxGap}\")\n",
    "        print(f\"Average checks per number: {numbersChecked/length:.2f}\")\n",
    "\n",
    "testTrialDivisionGapImpact()"
   ]
  },
  {
   "cell_type": "markdown",
   "metadata": {},
   "source": [
    "### 2.  Sieve of Eratosthenes"
   ]
  },
  {
   "cell_type": "code",
   "execution_count": null,
   "metadata": {},
   "outputs": [],
   "source": [
    "def sieveOfEratosthenes(n):\n",
    "    limit = 550 \n",
    "    sieve = [True] * (limit + 1)\n",
    "    sieve[0] = sieve[1] = False\n",
    "    start = 2\n",
    "    while start * start <= limit:\n",
    "        if sieve[start]:\n",
    "            multiple = start * start\n",
    "            while multiple <= limit:\n",
    "                sieve[multiple] = False\n",
    "                multiple += start\n",
    "        start += 1\n",
    "    primes = [num for num, prime in enumerate(sieve) if prime]\n",
    "    return primes[:n]"
   ]
  },
  {
   "cell_type": "markdown",
   "metadata": {},
   "source": [
    "## Task 5: Roots"
   ]
  },
  {
   "cell_type": "code",
   "execution_count": 106,
   "metadata": {},
   "outputs": [
    {
     "name": "stdout",
     "output_type": "stream",
     "text": [
      "Prime 1: 01101010000010011110011001100111\n",
      "Prime 2: 10111011011001111010111010000101\n",
      "Prime 3: 00111100011011101111001101110010\n",
      "Prime 4: 10100101010011111111010100111010\n",
      "Prime 5: 01010001000011100101001001111111\n",
      "Prime 6: 10011011000001010110100010001100\n",
      "Prime 7: 00011111100000111101100110101011\n",
      "Prime 8: 01011011111000001100110100011001\n",
      "Prime 9: 11001011101110111001110101011101\n",
      "Prime 10: 01100010100110100010100100101010\n",
      "Prime 11: 10010001010110010000000101011010\n",
      "Prime 12: 00010101001011111110110011011000\n",
      "Prime 13: 01100111001100110010011001100111\n",
      "Prime 14: 10001110101101000100101010000111\n",
      "Prime 15: 11011011000011000010111000001101\n",
      "Prime 16: 01000111101101010100100000011101\n",
      "Prime 17: 10101110010111111001000101010110\n",
      "Prime 18: 11001111011011001000010111010011\n",
      "Prime 19: 00101111011100110100011101111101\n",
      "Prime 20: 01101101000110000010011011001010\n",
      "Prime 21: 10001011010000111101010001010111\n",
      "Prime 22: 11100011011000001011010110010110\n",
      "Prime 23: 00011100010001010110000000000010\n",
      "Prime 24: 01101111000110010110001100110001\n",
      "Prime 25: 11011001010011101011111010110001\n",
      "Prime 26: 00001100110001001010011000010001\n",
      "Prime 27: 00100110000111011100000111110010\n",
      "Prime 28: 01011000000101011010011110111110\n",
      "Prime 29: 01110000101101111110110101100111\n",
      "Prime 30: 10100001010100010011110001101001\n",
      "Prime 31: 01000100111110010011011000110101\n",
      "Prime 32: 01110010000011011100110111111101\n",
      "Prime 33: 10110100011001110011011010011110\n",
      "Prime 34: 11001010001100100000101101110101\n",
      "Prime 35: 00110100111000001101010000101110\n",
      "Prime 36: 01001001110001111101100110111101\n",
      "Prime 37: 10000111101010111011100111110010\n",
      "Prime 38: 11000100011000111010001011111100\n",
      "Prime 39: 11101100001111111100001111110011\n",
      "Prime 40: 00100111001001110111111101101101\n",
      "Prime 41: 01100001000010111110101111110010\n",
      "Prime 42: 01110100001000001011010010011110\n",
      "Prime 43: 11010001111111011000101000110011\n",
      "Prime 44: 11100100011101110011010110010100\n",
      "Prime 45: 00001001001000011001011111110110\n",
      "Prime 46: 00011011010100110000110010010101\n",
      "Prime 47: 10000110100111010110001101000010\n",
      "Prime 48: 11101110111001010010111001001111\n",
      "Prime 49: 00010001000001110110011010001001\n",
      "Prime 50: 00100001111110111010001101111011\n",
      "Prime 51: 01000011101010111001111110110110\n",
      "Prime 52: 01110101101010011111100100011101\n",
      "Prime 53: 10000110001100000101000000011001\n",
      "Prime 54: 11010111110011011000000101110011\n",
      "Prime 55: 00000111111111100000000011111111\n",
      "Prime 56: 00110111100111110101000100111111\n",
      "Prime 57: 01100110101101100101000110101000\n",
      "Prime 58: 01110110010010101011100001000010\n",
      "Prime 59: 10100100101100000110101111100001\n",
      "Prime 60: 11000011010101111000110000010101\n",
      "Prime 61: 11010010100101100010101001010011\n",
      "Prime 62: 00011110000000111001111101000000\n",
      "Prime 63: 10000101011110110111101111101110\n",
      "Prime 64: 10100010100110111111001011011110\n",
      "Prime 65: 10110001000110100011001011101000\n",
      "Prime 66: 11001101111100110100111010000000\n",
      "Prime 67: 00110001100000110000010000100110\n",
      "Prime 68: 01011011100010010000100100101011\n",
      "Prime 69: 10100000110000000110101000010011\n",
      "Prime 70: 10101110011110011000010000101111\n",
      "Prime 71: 11001001110011011010011010001001\n",
      "Prime 72: 11110010100000011111001000111001\n",
      "Prime 73: 00101000010000010010010110010010\n",
      "Prime 74: 01010000001011100110010011011011\n",
      "Prime 75: 01110111110010011100001000010001\n",
      "Prime 76: 10010010000001001100110110011101\n",
      "Prime 77: 10111001000110111111011001100011\n",
      "Prime 78: 11101100110000111000110010011101\n",
      "Prime 79: 00000110011001010110000010010101\n",
      "Prime 80: 00111001010001111001001110000001\n",
      "Prime 81: 01111000001100000111011010010111\n",
      "Prime 82: 10000100101011100100101101111100\n",
      "Prime 83: 11000010101100101011011101010101\n",
      "Prime 84: 11001111000000111101001000001110\n",
      "Prime 85: 11110011110010111011000100010111\n",
      "Prime 86: 00001100001011010011101101001011\n",
      "Prime 87: 00110000100010101111000101100001\n",
      "Prime 88: 01100000101001111010100110011000\n",
      "Prime 89: 01111000100011011001100000010010\n",
      "Prime 90: 10000100011101101001101101000010\n",
      "Prime 91: 10011100001101001111000001100010\n",
      "Prime 92: 11100010110101010110010011000100\n",
      "Prime 93: 00010001011011010111010111111101\n",
      "Prime 94: 00101000100101001100000100000111\n",
      "Prime 95: 01010110100110110101100011000110\n",
      "Prime 96: 01101101011110110011100100111001\n",
      "Prime 97: 10001111100111111000110110111011\n",
      "Prime 98: 11010011010011110000001111001101\n",
      "Prime 99: 11011110100000110111001011101111\n",
      "Prime 100: 01000010011010000111101000111001\n"
     ]
    }
   ],
   "source": [
    "def is_prime(n):\n",
    "    if n <= 1:\n",
    "        return False\n",
    "    if n == 2:\n",
    "        return True\n",
    "    if n % 2 == 0:\n",
    "        return False\n",
    "    i = 3\n",
    "    while i * i <= n:\n",
    "        if n % i == 0:\n",
    "            return False\n",
    "        i += 2\n",
    "    return True\n",
    "\n",
    "def get_first_n_primes(n):\n",
    "    primes = []\n",
    "    num = 2\n",
    "    while len(primes) < n:\n",
    "        if is_prime(num):\n",
    "            primes.append(num)\n",
    "        num += 1\n",
    "    return primes\n",
    "\n",
    "def sqrt_newton(x, tolerance=1e-15):\n",
    "    if x == 0:\n",
    "        return 0\n",
    "    guess = x / 2.0\n",
    "    while True:\n",
    "        next_guess = (guess + x / guess) / 2\n",
    "        if abs(next_guess - guess) < tolerance:\n",
    "            return next_guess\n",
    "        guess = next_guess\n",
    "\n",
    "def fractional_bits_of_sqrt(x, bits=32):\n",
    "    root = sqrt_newton(x)\n",
    "    frac = root - int(root)\n",
    "    result = ''\n",
    "    for _ in range(bits):\n",
    "        frac *= 2\n",
    "        bit = int(frac)\n",
    "        result += str(bit)\n",
    "        frac -= bit\n",
    "    return result\n",
    "\n",
    "def calculate_root_fractions(n_primes=100, bits=32):\n",
    "    primes = get_first_n_primes(n_primes)\n",
    "    return [fractional_bits_of_sqrt(p, bits) for p in primes]\n",
    "\n",
    "if __name__ == \"__main__\":\n",
    "    results = calculate_root_fractions()\n",
    "    for i, bits in enumerate(results, 1):\n",
    "        print(f\"Prime {i}: {bits}\")"
   ]
  },
  {
   "cell_type": "markdown",
   "metadata": {},
   "source": [
    "## Task 6: Proof of Work"
   ]
  },
  {
   "cell_type": "code",
   "execution_count": 107,
   "metadata": {},
   "outputs": [
    {
     "name": "stdout",
     "output_type": "stream",
     "text": [
      "Words with the most leading zero bits in SHA-256:\n",
      "grady -> 00015674232002d9293d38e1da786f88f5eb55cdaca0a9186a8de3817663ab6c (15 leading zero bits)\n",
      "mountable -> 00019347bddcfe0cd6b54f6751d9928518ad1acff8c8489f14fb834da3795f64 (15 leading zero bits)\n"
     ]
    }
   ],
   "source": [
    "import hashlib\n",
    "\n",
    "def load_words(path=\"words.txt\"):\n",
    "    with open(path, \"r\") as file:\n",
    "        return [line.strip().lower() for line in file if line.strip().isalpha()]\n",
    "\n",
    "def sha256(word):\n",
    "    return hashlib.sha256(word.encode()).hexdigest()\n",
    "\n",
    "def count_leading_zero_bits(hex_digest):\n",
    "    binary = bin(int(hex_digest, 16))[2:].zfill(256)\n",
    "    return len(binary) - len(binary.lstrip('0'))\n",
    "\n",
    "def find_words_with_max_leading_zeros(words):\n",
    "    max_zeros = -1\n",
    "    best_words = []\n",
    "\n",
    "    for word in words:\n",
    "        digest = sha256(word)\n",
    "        zeros = count_leading_zero_bits(digest)\n",
    "\n",
    "        if zeros > max_zeros:\n",
    "            max_zeros = zeros\n",
    "            best_words = [(word, digest, zeros)]\n",
    "        elif zeros == max_zeros:\n",
    "            best_words.append((word, digest, zeros))\n",
    "    \n",
    "    return best_words\n",
    "\n",
    "words = load_words()\n",
    "best = find_words_with_max_leading_zeros(words)\n",
    "\n",
    "print(\"Words with the most leading zero bits in SHA-256:\")\n",
    "for word, digest, zeros in best:\n",
    "    print(f\"{word} -> {digest} ({zeros} leading zero bits)\")\n"
   ]
  },
  {
   "cell_type": "markdown",
   "metadata": {},
   "source": [
    "## Task 7: Turing Machines"
   ]
  },
  {
   "cell_type": "code",
   "execution_count": 108,
   "metadata": {},
   "outputs": [
    {
     "name": "stdout",
     "output_type": "stream",
     "text": [
      "Input:  100111\n",
      "Output: 101000\n",
      "Expected output: 101000\n",
      "Matches example: True\n"
     ]
    }
   ],
   "source": [
    "def add_one_turing_machine(input_tape):\n",
    "    tape = list(input_tape)\n",
    "    head_position = len(tape) - 1\n",
    "    state = 'add'\n",
    "    \n",
    "    while True:\n",
    "        current_symbol = tape[head_position]\n",
    "        \n",
    "        if state == 'add':\n",
    "            if current_symbol == '0':\n",
    "                tape[head_position] = '1'\n",
    "                break\n",
    "            elif current_symbol == '1':\n",
    "                tape[head_position] = '0'\n",
    "                state = 'carry'\n",
    "                head_position -= 1\n",
    "            \n",
    "        elif state == 'carry':\n",
    "            if head_position < 0:\n",
    "                tape.insert(0, '1')\n",
    "                break\n",
    "            elif current_symbol == '0':\n",
    "                tape[head_position] = '1'\n",
    "                break\n",
    "            elif current_symbol == '1':\n",
    "                tape[head_position] = '0'\n",
    "                head_position -= 1\n",
    "    \n",
    "    return ''.join(tape)\n",
    "\n",
    "input_tape = \"100111\"\n",
    "output_tape = add_one_turing_machine(input_tape)\n",
    "print(f\"Input:  {input_tape}\")\n",
    "print(f\"Output: {output_tape}\")\n",
    "\n",
    "second_example = \"101000\"\n",
    "expected_output = add_one_turing_machine(\"100111\")\n",
    "print(f\"Expected output: {expected_output}\")\n",
    "print(f\"Matches example: {expected_output == second_example}\")"
   ]
  },
  {
   "cell_type": "markdown",
   "metadata": {},
   "source": [
    "## Task 8: Computational Complexity"
   ]
  },
  {
   "cell_type": "code",
   "execution_count": 109,
   "metadata": {},
   "outputs": [
    {
     "name": "stdout",
     "output_type": "stream",
     "text": [
      "[1, 2, 3, 4, 5] -> 4 comparisons\n",
      "[1, 2, 3, 5, 4] -> 7 comparisons\n",
      "[1, 2, 4, 3, 5] -> 7 comparisons\n",
      "[1, 2, 4, 5, 3] -> 9 comparisons\n",
      "[1, 2, 5, 3, 4] -> 7 comparisons\n",
      "[1, 2, 5, 4, 3] -> 9 comparisons\n",
      "[1, 3, 2, 4, 5] -> 7 comparisons\n",
      "[1, 3, 2, 5, 4] -> 7 comparisons\n",
      "[1, 3, 4, 2, 5] -> 9 comparisons\n",
      "[1, 3, 4, 5, 2] -> 10 comparisons\n",
      "[1, 3, 5, 2, 4] -> 9 comparisons\n",
      "[1, 3, 5, 4, 2] -> 10 comparisons\n",
      "[1, 4, 2, 3, 5] -> 7 comparisons\n",
      "[1, 4, 2, 5, 3] -> 9 comparisons\n",
      "[1, 4, 3, 2, 5] -> 9 comparisons\n",
      "[1, 4, 3, 5, 2] -> 10 comparisons\n",
      "[1, 4, 5, 2, 3] -> 9 comparisons\n",
      "[1, 4, 5, 3, 2] -> 10 comparisons\n",
      "[1, 5, 2, 3, 4] -> 7 comparisons\n",
      "[1, 5, 2, 4, 3] -> 9 comparisons\n",
      "[1, 5, 3, 2, 4] -> 9 comparisons\n",
      "[1, 5, 3, 4, 2] -> 10 comparisons\n",
      "[1, 5, 4, 2, 3] -> 9 comparisons\n",
      "[1, 5, 4, 3, 2] -> 10 comparisons\n",
      "[2, 1, 3, 4, 5] -> 7 comparisons\n",
      "[2, 1, 3, 5, 4] -> 7 comparisons\n",
      "[2, 1, 4, 3, 5] -> 7 comparisons\n",
      "[2, 1, 4, 5, 3] -> 9 comparisons\n",
      "[2, 1, 5, 3, 4] -> 7 comparisons\n",
      "[2, 1, 5, 4, 3] -> 9 comparisons\n",
      "[2, 3, 1, 4, 5] -> 9 comparisons\n",
      "[2, 3, 1, 5, 4] -> 9 comparisons\n",
      "[2, 3, 4, 1, 5] -> 10 comparisons\n",
      "[2, 3, 4, 5, 1] -> 10 comparisons\n",
      "[2, 3, 5, 1, 4] -> 10 comparisons\n",
      "[2, 3, 5, 4, 1] -> 10 comparisons\n",
      "[2, 4, 1, 3, 5] -> 9 comparisons\n",
      "[2, 4, 1, 5, 3] -> 9 comparisons\n",
      "[2, 4, 3, 1, 5] -> 10 comparisons\n",
      "[2, 4, 3, 5, 1] -> 10 comparisons\n",
      "[2, 4, 5, 1, 3] -> 10 comparisons\n",
      "[2, 4, 5, 3, 1] -> 10 comparisons\n",
      "[2, 5, 1, 3, 4] -> 9 comparisons\n",
      "[2, 5, 1, 4, 3] -> 9 comparisons\n",
      "[2, 5, 3, 1, 4] -> 10 comparisons\n",
      "[2, 5, 3, 4, 1] -> 10 comparisons\n",
      "[2, 5, 4, 1, 3] -> 10 comparisons\n",
      "[2, 5, 4, 3, 1] -> 10 comparisons\n",
      "[3, 1, 2, 4, 5] -> 7 comparisons\n",
      "[3, 1, 2, 5, 4] -> 7 comparisons\n",
      "[3, 1, 4, 2, 5] -> 9 comparisons\n",
      "[3, 1, 4, 5, 2] -> 10 comparisons\n",
      "[3, 1, 5, 2, 4] -> 9 comparisons\n",
      "[3, 1, 5, 4, 2] -> 10 comparisons\n",
      "[3, 2, 1, 4, 5] -> 9 comparisons\n",
      "[3, 2, 1, 5, 4] -> 9 comparisons\n",
      "[3, 2, 4, 1, 5] -> 10 comparisons\n",
      "[3, 2, 4, 5, 1] -> 10 comparisons\n",
      "[3, 2, 5, 1, 4] -> 10 comparisons\n",
      "[3, 2, 5, 4, 1] -> 10 comparisons\n",
      "[3, 4, 1, 2, 5] -> 9 comparisons\n",
      "[3, 4, 1, 5, 2] -> 10 comparisons\n",
      "[3, 4, 2, 1, 5] -> 10 comparisons\n",
      "[3, 4, 2, 5, 1] -> 10 comparisons\n",
      "[3, 4, 5, 1, 2] -> 10 comparisons\n",
      "[3, 4, 5, 2, 1] -> 10 comparisons\n",
      "[3, 5, 1, 2, 4] -> 9 comparisons\n",
      "[3, 5, 1, 4, 2] -> 10 comparisons\n",
      "[3, 5, 2, 1, 4] -> 10 comparisons\n",
      "[3, 5, 2, 4, 1] -> 10 comparisons\n",
      "[3, 5, 4, 1, 2] -> 10 comparisons\n",
      "[3, 5, 4, 2, 1] -> 10 comparisons\n",
      "[4, 1, 2, 3, 5] -> 7 comparisons\n",
      "[4, 1, 2, 5, 3] -> 9 comparisons\n",
      "[4, 1, 3, 2, 5] -> 9 comparisons\n",
      "[4, 1, 3, 5, 2] -> 10 comparisons\n",
      "[4, 1, 5, 2, 3] -> 9 comparisons\n",
      "[4, 1, 5, 3, 2] -> 10 comparisons\n",
      "[4, 2, 1, 3, 5] -> 9 comparisons\n",
      "[4, 2, 1, 5, 3] -> 9 comparisons\n",
      "[4, 2, 3, 1, 5] -> 10 comparisons\n",
      "[4, 2, 3, 5, 1] -> 10 comparisons\n",
      "[4, 2, 5, 1, 3] -> 10 comparisons\n",
      "[4, 2, 5, 3, 1] -> 10 comparisons\n",
      "[4, 3, 1, 2, 5] -> 9 comparisons\n",
      "[4, 3, 1, 5, 2] -> 10 comparisons\n",
      "[4, 3, 2, 1, 5] -> 10 comparisons\n",
      "[4, 3, 2, 5, 1] -> 10 comparisons\n",
      "[4, 3, 5, 1, 2] -> 10 comparisons\n",
      "[4, 3, 5, 2, 1] -> 10 comparisons\n",
      "[4, 5, 1, 2, 3] -> 9 comparisons\n",
      "[4, 5, 1, 3, 2] -> 10 comparisons\n",
      "[4, 5, 2, 1, 3] -> 10 comparisons\n",
      "[4, 5, 2, 3, 1] -> 10 comparisons\n",
      "[4, 5, 3, 1, 2] -> 10 comparisons\n",
      "[4, 5, 3, 2, 1] -> 10 comparisons\n",
      "[5, 1, 2, 3, 4] -> 7 comparisons\n",
      "[5, 1, 2, 4, 3] -> 9 comparisons\n",
      "[5, 1, 3, 2, 4] -> 9 comparisons\n",
      "[5, 1, 3, 4, 2] -> 10 comparisons\n",
      "[5, 1, 4, 2, 3] -> 9 comparisons\n",
      "[5, 1, 4, 3, 2] -> 10 comparisons\n",
      "[5, 2, 1, 3, 4] -> 9 comparisons\n",
      "[5, 2, 1, 4, 3] -> 9 comparisons\n",
      "[5, 2, 3, 1, 4] -> 10 comparisons\n",
      "[5, 2, 3, 4, 1] -> 10 comparisons\n",
      "[5, 2, 4, 1, 3] -> 10 comparisons\n",
      "[5, 2, 4, 3, 1] -> 10 comparisons\n",
      "[5, 3, 1, 2, 4] -> 9 comparisons\n",
      "[5, 3, 1, 4, 2] -> 10 comparisons\n",
      "[5, 3, 2, 1, 4] -> 10 comparisons\n",
      "[5, 3, 2, 4, 1] -> 10 comparisons\n",
      "[5, 3, 4, 1, 2] -> 10 comparisons\n",
      "[5, 3, 4, 2, 1] -> 10 comparisons\n",
      "[5, 4, 1, 2, 3] -> 9 comparisons\n",
      "[5, 4, 1, 3, 2] -> 10 comparisons\n",
      "[5, 4, 2, 1, 3] -> 10 comparisons\n",
      "[5, 4, 2, 3, 1] -> 10 comparisons\n",
      "[5, 4, 3, 1, 2] -> 10 comparisons\n",
      "[5, 4, 3, 2, 1] -> 10 comparisons\n"
     ]
    }
   ],
   "source": [
    "import itertools\n",
    "\n",
    "def bubble_sort(arr):\n",
    "    # Create a copy of the array to avoid modifying the original\n",
    "    arr_copy = arr.copy()\n",
    "    n = len(arr_copy)\n",
    "    comparisons = 0\n",
    "    \n",
    "    # Traverse through all array elements\n",
    "    for i in range(n):\n",
    "        # Flag to optimize if no swaps occur in a pass\n",
    "        swapped = False\n",
    "        # Last i elements are already in place\n",
    "        for j in range(0, n-i-1):\n",
    "            # Compare adjacent elements\n",
    "            comparisons += 1\n",
    "            if arr_copy[j] > arr_copy[j+1]:\n",
    "                # Swap if the element found is greater than the next element\n",
    "                arr_copy[j], arr_copy[j+1] = arr_copy[j+1], arr_copy[j]\n",
    "                swapped = True\n",
    "        \n",
    "        # If no swapping occurred in this pass, array is sorted\n",
    "        if not swapped:\n",
    "            break\n",
    "                \n",
    "    return arr_copy, comparisons\n",
    "\n",
    "# Original list\n",
    "L = [1, 2, 3, 4, 5]\n",
    "\n",
    "# Generate all permutations of the list\n",
    "all_permutations = list(itertools.permutations(L))\n",
    "\n",
    "# Sort each permutation and count comparisons\n",
    "for perm in all_permutations:\n",
    "    perm_list = list(perm)  # Convert tuple to list\n",
    "    sorted_list, comparison_count = bubble_sort(perm_list)\n",
    "    print(f\"{perm_list} -> {comparison_count} comparisons\")"
   ]
  }
 ],
 "metadata": {
  "kernelspec": {
   "display_name": "Python 3",
   "language": "python",
   "name": "python3"
  },
  "language_info": {
   "codemirror_mode": {
    "name": "ipython",
    "version": 3
   },
   "file_extension": ".py",
   "mimetype": "text/x-python",
   "name": "python",
   "nbconvert_exporter": "python",
   "pygments_lexer": "ipython3",
   "version": "3.12.0"
  },
  "orig_nbformat": 4
 },
 "nbformat": 4,
 "nbformat_minor": 2
}
