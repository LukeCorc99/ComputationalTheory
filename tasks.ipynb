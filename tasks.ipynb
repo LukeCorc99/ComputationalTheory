{
 "cells": [
  {
   "attachments": {},
   "cell_type": "markdown",
   "metadata": {},
   "source": [
    "# Computational Theory Tasks\n",
    "## By Luke Corcoran\n",
    "### G00410404"
   ]
  },
  {
   "cell_type": "code",
   "execution_count": null,
   "metadata": {},
   "outputs": [],
   "source": [
    "# Define necessary imports"
   ]
  },
  {
   "attachments": {},
   "cell_type": "markdown",
   "metadata": {},
   "source": [
    "# Task 1: Binary Representations\n",
    "This task involves creating functions to manipulate binary representations of 32-bit unsigned integers.\n",
    "\n",
    "**Sources:**\n",
    "- Rotating bits of a number in Python: https://www.geeksforgeeks.org/python3-program-to-rotate-bits-of-a-number/\n",
    "\n",
    "## Function 1: rotl(x, n=1)\n",
    "The `rotl` function performs a left rotation on a 32-bit unsigned integer. Left rotation shifts bits to the left by `n` positions, wrapping around the bits that overflow beyond the 32-bit boundary.\n",
    "### Example:\n",
    "**Input:** x = 0b110010101011, n = 3\n",
    "\n",
    "**Output:** 0b010101100000\n"
   ]
  },
  {
   "cell_type": "code",
   "execution_count": 3,
   "metadata": {},
   "outputs": [],
   "source": [
    "# Rotate bits of x to the left by n positions.\n",
    "def rotateLeft(x, n=1):\n",
    "    bits = 32\n",
    "    n = n % bits  # Ensure n is within the range of 0-31\n",
    "    return ((x << n) & 0xFFFFFFFF) | (x >> (bits - n))"
   ]
  },
  {
   "cell_type": "code",
   "execution_count": null,
   "metadata": {},
   "outputs": [],
   "source": []
  }
 ],
 "metadata": {
  "kernelspec": {
   "display_name": "Python 3",
   "language": "python",
   "name": "python3"
  },
  "language_info": {
   "codemirror_mode": {
    "name": "ipython",
    "version": 3
   },
   "file_extension": ".py",
   "mimetype": "text/x-python",
   "name": "python",
   "nbconvert_exporter": "python",
   "pygments_lexer": "ipython3",
   "version": "3.10.4"
  },
  "orig_nbformat": 4
 },
 "nbformat": 4,
 "nbformat_minor": 2
}
