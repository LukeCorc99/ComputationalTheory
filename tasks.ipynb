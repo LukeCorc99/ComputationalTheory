{
 "cells": [
  {
   "attachments": {},
   "cell_type": "markdown",
   "metadata": {},
   "source": [
    "# Computational Theory Tasks\n",
    "## By Luke Corcoran\n",
    "### G00410404"
   ]
  },
  {
   "cell_type": "code",
   "execution_count": 97,
   "metadata": {},
   "outputs": [],
   "source": [
    "# Define necessary imports\n",
    "import numpy as np\n",
    "import tempfile\n",
    "import os\n",
    "import time\n",
    "import math\n",
    "import hashlib\n",
    "import itertools\n",
    "import random\n",
    "import matplotlib.pyplot as plt\n",
    "import matplotlib.ticker as ticker\n"
   ]
  },
  {
   "attachments": {},
   "cell_type": "markdown",
   "metadata": {},
   "source": [
    "# Task 1: Binary Representations\n",
    "Manipulating binary representations is done as part of the **Secure Hash Standard (SHS)** algorithms [1]. The [National Institute of Standards and Technology (2015)](https://nvlpubs.nist.gov/nistpubs/FIPS/NIST.FIPS.180-4.pdf) note that the primary reason for these manipulations is to generate 'digests' of messages, which are condensed representations of electronic data [1].\n",
    "\n",
    "\n",
    "The primary function of generating message digests is to verify if messages have remained unaltered since the time the digests were originally created [1]. The algorithms specified in the Standard allow for the identification of the message’s integrity [1]. This occurs because any modification to the message will almost certainly produce a different digest [1].\n",
    "\n",
    "\n",
    "The **manipulation of binary representations** is the fundamental mechanism by which these hash algorithms operate. The hash computation process involves iteratively generating a series of hash values using a message schedule, functions, constants, and word operations [1]. These word operations are specifically defined binary manipulations that operate on fixed-size groups of bits called \"words\".\n",
    "\n",
    "\n",
    "The specific operations used to manipulate the binary representations of words include:\n",
    "\n",
    "- **Bitwise logical word operations:** AND, OR, XOR, and complement.\n",
    "- **Addition modulo 2^w:** Where 'w' is the word size (32 or 64 bits, depending on the specific SHA algorithm). This operation is defined by adding the integer values represented by the words and taking the remainder modulo 2^w.\n",
    "- **Left-shift operation (<<):** Obtained by discarding bits furthest to the left and padding with zeros on the right.\n",
    "- **Right-shift operation (>> or SHR n (x)):** Obtained by discarding bits furthest to the right and padding with zeros on the left.\n",
    "- **Rotate operations (ROTR/ROTL):** For circular shifts.\n",
    "\n",
    "\n",
    "These binary manipulations are defined within the functions used by the algorithms, such as the Ch, Maj, Sigma0, and sigma0 functions for SHA-224 and SHA-256, which combine bitwise logic, shifts, and rotations [1].\n",
    "Beyond message integrity, the characteristic where any modification to the message produces a different digest can also facilitate digital signature creation and validation, message authentication code verification, and random number generation [1].\n",
    "\n",
    "The following functions introduce binary operations used in Secure Hash Standard algorithms for message digest creation, providing implementations of the bit manipulation operations that form the foundation of cryptographic hash functions.\n",
    "\n",
    "\n",
    "## Function 1: rotl(x, n=1) (Left Rotation)\n",
    "The **ROTL (Rotate Left)** operation is fundamental in the SHA-1 algorithm and represents a circular left shift [1]. It performs a shift of x by n positions to the left. The `rotl` function defined below performs a left rotation on a 32-bit unsigned integer. Left rotation shifts bits to the left by `n` positions, wrapping around the bits that overflow beyond the 32-bit boundary. This implementation uses [bitwise shift operators (`<<` and `>>`)](https://www.geeksforgeeks.org/python3-program-to-rotate-bits-of-a-number/) to perform the rotation, combining the left shift with a right shift of the remaining bits.\n",
    "\n",
    "\n",
    "### Example I/O: \n",
    "**Input:**  \n",
    "```\n",
    "x = 0b11001010101100000000000000000000\n",
    "n = 3\n",
    "```\n",
    "\n",
    "**Output:** \n",
    "``` \n",
    "0b010101011000000000000000000110\n",
    "```"
   ]
  },
  {
   "cell_type": "code",
   "execution_count": 2,
   "metadata": {},
   "outputs": [],
   "source": [
    "# Rotate bits of x to the left by n positions.\n",
    "def rotl(x, n=1):\n",
    "    bits = 32 # Number of bits in an integer\n",
    "    n = n % bits  # Ensure n is within the range of 0-31\n",
    "    return ((x << n) & 0xFFFFFFFF) | (x >> (bits - n)) # Rotate bits to the left by n positions"
   ]
  },
  {
   "cell_type": "markdown",
   "metadata": {},
   "source": [
    "## Test 1: Basic Usage\n",
    "This test verifies the basic functionality of the `rotl()` function by rotating a 32-bit unsigned integer by 3 positions to the left. A set expected result is compared with the actual output from the function. The test confirms that bits shifted beyond the left boundary correctly wrap around to the right side.\n"
   ]
  },
  {
   "cell_type": "code",
   "execution_count": 3,
   "metadata": {},
   "outputs": [
    {
     "name": "stdout",
     "output_type": "stream",
     "text": [
      "Input: x = 0b11001010101100000000000000000000, n = 3\n",
      "Expected: 0b1010101100000000000000000000110\n",
      "Result:   0b1010101100000000000000000000110\n",
      "Test passed: True\n"
     ]
    }
   ],
   "source": [
    "x = 0b11001010101100000000000000000000 # Input 32-bit integer\n",
    "n = 3  # Number of positions to rotate left\n",
    "expected = 0b001010101100000000000000000000110  # Expected result after rotating left by 3 bits\n",
    "result = rotl(x, n)  # Call rot1 function with 32-bit unsigned integer\n",
    "\n",
    "# Display the results\n",
    "print(f\"Input: x = {bin(x)}, n = {n}\")\n",
    "print(f\"Expected: {bin(expected)}\")\n",
    "print(f\"Result:   {bin(result)}\") \n",
    "print(f\"Test passed: {result == expected}\")  # Show if test was successful"
   ]
  },
  {
   "cell_type": "markdown",
   "metadata": {},
   "source": [
    "## Test 2: Edge Cases\n",
    "This test examines two important edge cases for bit rotation: rotating by exactly 32 bits (a full rotation) and rotating by 0 bits (no rotation). In both scenarios, the output should match the original input value since rotating by the full bit-width returns to the original state, and rotating by zero bits makes no changes. This test ensures the function handles these boundary conditions correctly."
   ]
  },
  {
   "cell_type": "code",
   "execution_count": 4,
   "metadata": {},
   "outputs": [
    {
     "name": "stdout",
     "output_type": "stream",
     "text": [
      "Original:     0b10101010101010101010101010101010\n",
      "Rotated by 32: 0b10101010101010101010101010101010\n",
      "Rotated by 0:  0b10101010101010101010101010101010\n",
      "Test passed: True\n"
     ]
    }
   ],
   "source": [
    "x = 0b10101010101010101010101010101010 # 32-bit integer\n",
    "result1 = rotl(x, 32)  # Rotate by exactly 32 bits (full rotation)\n",
    "result2 = rotl(x, 0)   # Rotate by 0 bits (no rotation)\n",
    "\n",
    "print(f\"Original:     {bin(x)}\") \n",
    "print(f\"Rotated by 32: {bin(result1)}\")  # Display result after 32-bit rotation\n",
    "print(f\"Rotated by 0:  {bin(result2)}\")  # Display result after 0-bit rotation\n",
    "print(f\"Test passed: {result1 == x and result2 == x}\") "
   ]
  },
  {
   "cell_type": "markdown",
   "metadata": {},
   "source": [
    "## Function 2: rotr(x, n=1) (Right Rotation)\n",
    "The **ROTR (Rotate Right)** operation, similar to ROTL, is fundamental in many cryptographic algorithms and represents a circular right shift [1]. It performs a shift of x by n positions to the right. The `rotr` function defined below performs a right rotation on a 32-bit unsigned integer. Right rotation shifts bits to the right by `n` positions, wrapping around the bits that overflow beyond the 32-bit boundary. Just like in the `rotl` function, it uses [bitwise shift operators (>> and <<)](https://www.geeksforgeeks.org/python3-program-to-rotate-bits-of-a-number/) to perform the rotation, combining the right shift with a left shift of the remaining bits.\n",
    "### Example I/O: \n",
    "**Input:**  \n",
    "```\n",
    "x = 0b00000000000000000000110010101011\n",
    "n = 3\n",
    "```\n",
    "\n",
    "**Output:** \n",
    "``` \n",
    "0b01100000000000000000000110010101\n",
    "\n",
    "```"
   ]
  },
  {
   "cell_type": "code",
   "execution_count": 5,
   "metadata": {},
   "outputs": [],
   "source": [
    "# Rotate bits of x to the right by n positions.\n",
    "def rotr(x, n=1):\n",
    "    bits = 32  # Number of bits in an integer\n",
    "    n = n % bits  # Ensure n is within the range of 0-31\n",
    "    return ((x >> n) | (x << (bits - n))) & 0xFFFFFFFF  # Rotate bits to the right by n positions"
   ]
  },
  {
   "cell_type": "markdown",
   "metadata": {},
   "source": [
    "## Test 1: Basic Usage\n",
    "Just like the basic usage test for the `rotl()` function, this test verifies the basic functionality of the `rotr()` function by rotating a 32-bit unsigned integer by 3 positions, but this time to the right. A set expected result is compared with the actual output from the function. The test confirms that bits shifted beyond the right boundary correctly wrap around to the left side."
   ]
  },
  {
   "cell_type": "code",
   "execution_count": 6,
   "metadata": {},
   "outputs": [
    {
     "name": "stdout",
     "output_type": "stream",
     "text": [
      "Input: x = 0b110010101011, n = 3\n",
      "Expected: 0b1100000000000000000000110010101\n",
      "Result:   0b1100000000000000000000110010101\n",
      "Test passed: True\n"
     ]
    }
   ],
   "source": [
    "x = 0b00000000000000000000110010101011  # 32-bit integer\n",
    "n = 3  # Number of positions to rotate right\n",
    "\n",
    "# Right rotation by 3 should put the 3 bits furthest to the right, at the left\n",
    "expected = 0b01100000000000000000000110010101 \n",
    "result = rotr(x, n)  # Call rotr function with 32-bit unsigned integer\n",
    "\n",
    "# Display the results\n",
    "print(f\"Input: x = {bin(x)}, n = {n}\")\n",
    "print(f\"Expected: {bin(expected)}\")\n",
    "print(f\"Result:   {bin(result)}\")\n",
    "print(f\"Test passed: {result == expected}\")  # Test passed if result matches expected"
   ]
  },
  {
   "cell_type": "markdown",
   "metadata": {},
   "source": [
    "## Test 2: Edge Cases\n",
    "Also similarly to the edge cases test for the `rotl()` function, this test examines a full rotation (rotating by 32 bits) and no rotation (rotating by 0 bits). In both scenarios, the output should match the original input value since rotating by the full bit-width returns to the original state, and rotating by zero bits makes no changes."
   ]
  },
  {
   "cell_type": "code",
   "execution_count": 7,
   "metadata": {},
   "outputs": [
    {
     "name": "stdout",
     "output_type": "stream",
     "text": [
      "Original:     0b10101010101010101010101010101010\n",
      "Rotated by 32: 0b10101010101010101010101010101010\n",
      "Rotated by 0:  0b10101010101010101010101010101010\n",
      "Test passed: True\n"
     ]
    }
   ],
   "source": [
    "x = 0b10101010101010101010101010101010  # 32-bit integer\n",
    "result1 = rotr(x, 32)  # Rotate by full 32 bits (should be identical to input)\n",
    "result2 = rotr(x, 0)   # Rotate by 0 bits (should be identical to input)\n",
    "\n",
    "print(f\"Original:     {bin(x)}\")\n",
    "print(f\"Rotated by 32: {bin(result1)}\") # Display result after 32-bit rotation\n",
    "print(f\"Rotated by 0:  {bin(result2)}\") # Display result after 0-bit rotation\n",
    "print(f\"Test passed: {result1 == x and result2 == x}\") # Test passed if both results match input"
   ]
  },
  {
   "cell_type": "markdown",
   "metadata": {},
   "source": [
    "## Function 3: ch(x, y, z) (Bitwise Choice)\n",
    "The **CH (Choice)** operation is commonly used in cryptographic hash functions like SHA-256 and acts as a bitwise conditional selection (XOR) [1]. It performs a bit-by-bit selection between two values based on a control value. The `ch` function defined below implements this conditional selection on unsigned integers. For each bit position, if the corresponding bit in `x` is 1, the output bit comes from `y`; if the bit in `x` is 0, the output bit comes from `z`. This implementation uses [bitwise operators (&, ^, and ~)](https://docs.python.org/3/library/stdtypes.html#bitwise-xor\n",
    ") to perform a [Bitwise XOR](https://github.com/ianmcloughlin/computational_theory/blob/main/materials/binary_representations.ipynb).\n",
    "### Example I/O:\n",
    "**Input:**\n",
    "```\n",
    "x = 0b10101010101010101010101010101010\n",
    "y = 0b11111111111111110000000000000000\n",
    "z = 0b00000000000000001111111111111111\n",
    "```\n",
    "**Output:**\n",
    "```\n",
    "0b11111111111111111111111111111111\n",
    "```"
   ]
  },
  {
   "cell_type": "code",
   "execution_count": 8,
   "metadata": {},
   "outputs": [],
   "source": [
    "# Choose bits from y where x has bits set to 1, and bits from z where x has bits set to 0.\n",
    "def ch(x, y, z):\n",
    "    return (x & y) ^ (~x & z)  # Select bits from y where x is 1, otherwise from z"
   ]
  },
  {
   "cell_type": "markdown",
   "metadata": {},
   "source": [
    "## Test 1: Basic Usage\n",
    "\n",
    "This test verifies the basic functionality of the `ch()` function by demonstrating its bitwise selection behaviour. Input values are provided for `x`, `y`, and `z`, where `x` serves as the input that determines whether bits are chosen from `y` (when corresponding bits in `x` are 1) or from `z` (when bits in `x` are 0). An expected result is compared with the function's actual output to confirm bitwise selection works as intended."
   ]
  },
  {
   "cell_type": "code",
   "execution_count": 9,
   "metadata": {},
   "outputs": [
    {
     "name": "stdout",
     "output_type": "stream",
     "text": [
      "Input: x = 0b11001010101, y = 0b10101010101, z = 0b1010101010\n",
      "Expected: 0b10011111111\n",
      "Result:   0b10011111111\n",
      "Test passed: True\n"
     ]
    }
   ],
   "source": [
    "x = 0b11001010101  # Input value\n",
    "y = 0b10101010101  # Value to select from when x bit is 1\n",
    "z = 0b01010101010  # Value to select from when x bit is 0\n",
    "\n",
    "expected =  0b10011111111 # Expected output for ch function\n",
    "result = ch(x, y, z)  # Compute ch function\n",
    "\n",
    "# Display input values and expected result\n",
    "print(f\"Input: x = {bin(x)}, y = {bin(y)}, z = {bin(z)}\")\n",
    "print(f\"Expected: {bin(expected)}\")  \n",
    "print(f\"Result:   {bin(result)}\") \n",
    "print(f\"Test passed: {result == expected}\")  # Passes if result matches expected"
   ]
  },
  {
   "cell_type": "markdown",
   "metadata": {},
   "source": [
    "## Test 2: Edge Cases\n",
    "\n",
    "This test examines two important edge cases for the bitwise choice function: when `x` contains all 1's and when `x` contains all 0's. In the first scenario, when `x` is all 1's, the output should be identical to `y` since every bit is selected from `y`. In the second scenario, when `x` is all 0's, the output should be identical to `z` since every bit is selected from `z`. These tests confirm the function behaves correctly at these boundaries."
   ]
  },
  {
   "cell_type": "code",
   "execution_count": 10,
   "metadata": {},
   "outputs": [
    {
     "name": "stdout",
     "output_type": "stream",
     "text": [
      "y = 0b10101010101, z = 0b10101010100\n",
      "When x is all 1s - Expected: 0b10101010101, -- Result: 0b10101010101\n",
      "When x is all 0s - Expected: 0b10101010100,  -- Result: 0b10101010100\n",
      "Test passed: True\n"
     ]
    }
   ],
   "source": [
    "xAllOnes = 0b11111111111111111111111111111111 # When x is all 1s, output should be exactly y\n",
    "y = 0b10101010101  # Value to select from when x bit is 1\n",
    "z = 0b10101010100   # Value to select from when x bit is 0\n",
    "result1 = ch(xAllOnes, y, z)\n",
    "\n",
    "xAllZeros = 0 # When x is all 0s, output should be exactly z\n",
    "result2 = ch(xAllZeros, y, z)\n",
    "\n",
    "# Display results for all 1s and all 0s cases\n",
    "print(f\"y = {bin(y)}, z = {bin(z)}\")\n",
    "print(f\"When x is all 1s - Expected: {bin(y)}, -- Result: {bin(result1)}\")\n",
    "print(f\"When x is all 0s - Expected: {bin(z)},  -- Result: {bin(result2)}\")\n",
    "print(f\"Test passed: {result1 == y and result2 == z}\") # Test passed if results match expected values"
   ]
  },
  {
   "cell_type": "markdown",
   "metadata": {},
   "source": [
    "## Function 4: maj(x, y, z) (Bitwise Majority)\n",
    "The **MAJ (Majority)** operation is commonly used in cryptographic hash functions and represents a bitwise majority vote [1]. It performs a bit-by-bit majority decision across three input values. The `maj` function defined below implements this majority operation on unsigned integers. For each bit position, if two or more of the corresponding bits in `x`, `y`, and `z` are 1, then the output bit is 1; otherwise, it's 0. This implementation uses bitwise operators including [Bitwise AND ( & )](https://docs.python.org/3/library/stdtypes.html#bitwise-or) and [Bitwise OR ( | )](https://github.com/ianmcloughlin/computational_theory/blob/main/materials/binary_representations.ipynb) to compute the majority vote by checking all possible combinations where at least two inputs have 1-bits at a given position.\n",
    "\n",
    "### Example I/O:\n",
    "**Input:**\n",
    "```\n",
    "x = 0b110010101011\n",
    "y = 0b101010101010\n",
    "z = 0b010101010101\n",
    "```\n",
    "\n",
    "**Output:**\n",
    "```\n",
    "0b110010101011\n",
    "```"
   ]
  },
  {
   "cell_type": "code",
   "execution_count": 11,
   "metadata": {},
   "outputs": [],
   "source": [
    "# Compute the majority vote for each bit position in x, y, and z\n",
    "def maj(x, y, z):\n",
    "    return (x & y) | (y & z) | (x & z)  # Majority function: At least two bits must be 1"
   ]
  },
  {
   "cell_type": "markdown",
   "metadata": {},
   "source": [
    "## Test 1: Basic Usage\n",
    "\n",
    "This test verifies the basic functionality of the `maj()` function by demonstrating its bitwise majority voting behaviour. Values for `x`, `y`, and `z` are provided, to confirm the function correctly implements the majority rule: for each bit position, if at least two of the three input bits are 1, the output bit is 1; otherwise it's 0. The expected result is calculated manually and compared with the function's actual output to confirm the function works as intended."
   ]
  },
  {
   "cell_type": "code",
   "execution_count": 12,
   "metadata": {},
   "outputs": [
    {
     "name": "stdout",
     "output_type": "stream",
     "text": [
      "Input: x = 0b110010101011, y = 0b101010101010, z = 0b10101010101\n",
      "Expected: 0b110010101011\n",
      "Result:   0b110010101011\n",
      "Test passed: True\n"
     ]
    }
   ],
   "source": [
    "# Test input values\n",
    "x = 0b110010101011\n",
    "y = 0b101010101010\n",
    "z = 0b010101010101 \n",
    "\n",
    "# maj returns 1 if at least two inputs have 1, otherwise 0. In this case, majority of 1s is 0b110010101011\n",
    "expected = 0b110010101011 \n",
    "result = maj(x, y, z)\n",
    "\n",
    "# Display input values and expected vs actual results\n",
    "print(f\"Input: x = {bin(x)}, y = {bin(y)}, z = {bin(z)}\")\n",
    "print(f\"Expected: {bin(expected)}\")\n",
    "print(f\"Result:   {bin(result)}\")\n",
    "print(f\"Test passed: {result == expected}\") # Test passed if result matches expected"
   ]
  },
  {
   "cell_type": "markdown",
   "metadata": {},
   "source": [
    "## Test 2: Edge Cases\n",
    "\n",
    "This test examines edge cases for the bitwise majority function, specifically when two inputs contain all 1's or all 0's. When any two inputs are all 1's, the output should be all 1's regardless of the third input, since the majority (two out of three) will always be 1 at every position. Conversely, when any two inputs are all 0's, the output should be all 0's regardless of the third input. These tests confirm the function behaves correctly at these boundaries."
   ]
  },
  {
   "cell_type": "code",
   "execution_count": 13,
   "metadata": {},
   "outputs": [
    {
     "name": "stdout",
     "output_type": "stream",
     "text": [
      "z = 0b10101010101\n",
      "When x and y are all 1s:\n",
      "Expected: 0b11111111111111111111111111111111 -- Result: 0b11111111111111111111111111111111\n",
      "When x and y are all 0s:\n",
      "Expected: 0b0 -- Result: 0b0\n",
      "Test passed: True\n"
     ]
    }
   ],
   "source": [
    "# Test input values. When any two inputs are all 1s, output should be all 1s\n",
    "xAllOnes = 0b11111111111111111111111111111111\n",
    "yAllOnes = 0b11111111111111111111111111111111\n",
    "z = 0b010101010101\n",
    "\n",
    "result1 = maj(xAllOnes, yAllOnes, z)\n",
    "\n",
    "# When any two inputs are all 0s, output should be all 0s\n",
    "xAllZeros = 0\n",
    "yAllZeros = 0\n",
    "result2 = maj(xAllZeros, yAllZeros, z) \n",
    "\n",
    "# Display results for all 1s and all 0s cases\n",
    "print(f\"z = {bin(z)}\")\n",
    "print(\"When x and y are all 1s:\")\n",
    "print(f\"Expected: {bin(0b11111111111111111111111111111111)} -- Result: {bin(result1)}\")\n",
    "print(\"When x and y are all 0s:\")\n",
    "print(f\"Expected: {bin(0)} -- Result: {bin(result2)}\")\n",
    "print(f\"Test passed: {result1 == 0b11111111111111111111111111111111 and result2 == 0}\") "
   ]
  },
  {
   "cell_type": "markdown",
   "metadata": {},
   "source": [
    "# Task 2: Hash Functions\n",
    "**Manipulating hash values** is done as part of hash table lookup algorithms [2]. [Kernighan and Ritchie (1988)](https://www.cimat.mx/ciencia_para_jovenes/bachillerato/libros/%5BKernighan-Ritchie%5DThe_C_Programming_Language.pdf) provide an implementation of an algorithm which functions as a hash-search, converting a word into a positive integer (hash value) [2].\n",
    "The primary function of this algorithm is to allow for searching within hash tables by using the generated integer as an index [2]. The algorithm serves as the basis for Java's [hashCode()](https://www.geeksforgeeks.org/java-string-hashcode-method-with-examples/), which is used to return a String's hash value. \n",
    "\n",
    "The `hash` function defined below is a Python version of Kernighan and Ritchie's algorithm, which works by iteratively processing each character in the input string and combining it with previously processed characters in a way that distributes values evenly across the hash table. \n",
    "- [The algorithm uses 31 as a multiplier](https://www.geeksforgeeks.org/why-does-javas-hashcode-in-string-use-31-as-a-multiplier/) due to its nature as a prime number, which creates different distributions of keys in the array. When using a prime multiplier, the same key (e.g. \"DEV\") would generate different hash values (e.g. D31 + E31 + V*31) compared to using a non-prime multiplier (e.g. 30), resulting in better distribution of values across the hash table. \n",
    "- [101 is used as the modulo value](https://www.designgurus.io/answers/detail/why-should-hash-functions-use-a-prime-number-modulus) for the hash function because it constrains the output to a fixed range (0-100) that can be directly used as an index in a hash table of size 101. As a prime, 101 has no common factors with other numbers except 1, allowing hash values to spread evenly across all buckets (array slots where elements with the same hash value are stored) rather than clustering in predictable patterns. This helps to reduce collisions and improve overall performance.\n",
    "\n",
    "\n",
    "The `hash` function initializes a hash value at 0 and loops through each character of the input string. Using [`ord()`](https://docs.python.org/3/library/functions.html#ord), each character is converted to an integer, multiplied by 31, and combined with the current hash value. The result is reduced to a fixed range using the modulo operator (101).\n",
    "\n",
    "### Example I/O:\n",
    "**Input:**\n",
    "```\n",
    "\"hello\"\n",
    "```\n",
    "\n",
    "**Output:**\n",
    "```\n",
    "17\n",
    "```\n"
   ]
  },
  {
   "cell_type": "code",
   "execution_count": 14,
   "metadata": {},
   "outputs": [],
   "source": [
    "def hash(s: str, multiplier: int = 31, modulo: int = 101) -> int:\n",
    "    hashval = 0  # Initialize hash value to 0\n",
    "    \n",
    "    for char in s:\n",
    "        # Add character value and multiply by prime multiplier\n",
    "        hashval = ord(char) + multiplier * hashval\n",
    "    \n",
    "    # Keep hash in range 0-100\n",
    "    return hashval % modulo"
   ]
  },
  {
   "cell_type": "markdown",
   "metadata": {},
   "source": [
    "## Test 1: Testing Basic Functionality\n",
    "This test verifies the basic functionality of the `hash()` function by testing it with a simple input string, \"hello\". The test calculates the hash value using the `hash()` function and compares it with the expected value of 17. This confirms the function is correctly implementing Kernighan and Ritchie's hash algorithm with the specified multiplier (31) and modulo (101) parameters. The test passes when the calculated hash matches the expected result."
   ]
  },
  {
   "cell_type": "code",
   "execution_count": 15,
   "metadata": {},
   "outputs": [
    {
     "name": "stdout",
     "output_type": "stream",
     "text": [
      "String: 'hello'\n",
      "Expected hash value: 17\n",
      "Calculated hash value: 17\n",
      "Test passed: True\n"
     ]
    }
   ],
   "source": [
    "testString = \"hello\"  # Test string\n",
    "result = hash(testString)  # Calculate the hash value of the string\n",
    "\n",
    "expected = 17  # Expected hash value for \"hello\" using the hash function\n",
    "\n",
    "# Output test results for verification\n",
    "print(f\"String: '{testString}'\")\n",
    "print(f\"Expected hash value: {expected}\")\n",
    "print(f\"Calculated hash value: {result}\")\n",
    "print(f\"Test passed: {result == expected}\")  # Test passed if result matches expected value"
   ]
  },
  {
   "cell_type": "markdown",
   "metadata": {},
   "source": [
    "## Test 2: Showcasing why 31 is chosen\n",
    "This test demonstrates why **prime numbers like 31** are preferred as multipliers in hash functions. By comparing the hash distribution quality between prime and non-prime multipliers, we can observe how prime multipliers create more unique hash values for similar input strings. The multiplier 31 is specifically chosen because it's a prime number that provides good distribution characteristics while remaining computationally efficient."
   ]
  },
  {
   "cell_type": "code",
   "execution_count": 16,
   "metadata": {},
   "outputs": [],
   "source": [
    "# Test strings with similar patterns\n",
    "similarStrings = [\n",
    "        \"abc\", \"acb\", \"bac\", \"bca\", \"cab\", \"cba\", \n",
    "        \"aaa\", \"bbb\", \"abc1\", \"abc2\"              \n",
    "    ]\n",
    "\n",
    "# Compare prime vs non-prime multipliers\n",
    "primeMultipliers = [3, 7, 11, 13, 17, 19, 23, 29, 31, 37, 41, 43, 47, 53, 101]\n",
    "nonPrimeMultipliers = [1, 4, 6, 8, 9, 10, 12, 15, 16, 20, 24, 25, 32, 36, 100]\n",
    "\n",
    "# Initialize counters for prime and non-prime multipliers\n",
    "results = {\"Prime\": 0, \"Non-Prime\": 0}"
   ]
  },
  {
   "cell_type": "markdown",
   "metadata": {},
   "source": [
    "The code below measures **hash distribution quality** by calculating the ratio of hash values to total inputs. A higher ratio indicates better distribution. For each multiplier (both prime and non-prime), the test generates hash values for all strings in the `similarStrings` collection. The `uniqueRatio` variable represents how well the hash function distributes these similar inputs across the hash space. Prime multipliers like 31 should theoretically produce higher uniqueness ratios compared to non-prime multipliers.\n",
    "\n",
    "- The process begins with two loops - one iterating through prime multipliers and another through non-prime multipliers. \n",
    "- In each iteration, the `hash` function is applied to every string in the `similarStrings` collection using the current multiplier. \n",
    "- For each multiplier, a `uniqueRatio` is calculated by dividing the number of hash values by the total number of strings, while using a [`set()`](https://www.geeksforgeeks.org/python-ways-to-remove-duplicates-from-list/) conversion to eliminate duplicates. This ratio represents the distribution quality - higher values indicate better distribution. \n",
    "- The calculated `uniqueRatio` for each multiplier is stored in the corresponding \"Prime\" or \"Non-Prime\" category in the results dictionary, which will later be used to calculate the average distribution quality for each multiplier type."
   ]
  },
  {
   "cell_type": "code",
   "execution_count": 17,
   "metadata": {},
   "outputs": [],
   "source": [
    "# Test hash distribution for prime multipliers\n",
    "for multiplier in primeMultipliers:\n",
    "    hashValues = [hash(s, multiplier) for s in similarStrings] # Create hash values using the hash function\n",
    "    uniqueRatio = len(set(hashValues)) / len(similarStrings) # Calculate distribution quality (unique values / total)\n",
    "    results[\"Prime\"] += uniqueRatio\n",
    "\n",
    "# Test hash distribution for non-prime multipliers\n",
    "for multiplier in nonPrimeMultipliers:\n",
    "    hashValues = [hash(s, multiplier) for s in similarStrings] # Create hash values\n",
    "    uniqueRatio = len(set(hashValues)) / len(similarStrings) # Calculate distribution quality\n",
    "    results[\"Non-Prime\"] += uniqueRatio "
   ]
  },
  {
   "cell_type": "markdown",
   "metadata": {},
   "source": [
    "The final section calculates the **average distribution quality** for both prime and non-prime multipliers. By averaging the ratios across the multipliers in each category, we can measure which type of multiplier provides better overall performance. It is shown that prime multipliers (including 31) produce better hash distribution quality than non-prime multipliers, hence justifying the use of 31 in the `hash` function."
   ]
  },
  {
   "cell_type": "code",
   "execution_count": 18,
   "metadata": {},
   "outputs": [
    {
     "name": "stdout",
     "output_type": "stream",
     "text": [
      "Average distribution quality:\n",
      "  Prime multipliers: 0.95\n",
      "  Non-Prime multipliers: 0.91\n",
      "\n",
      "CONCLUSION: Prime multipliers produce better hash distribution quality\n"
     ]
    }
   ],
   "source": [
    "# Calculate average distribution quality\n",
    "results[\"Prime\"] /= len(primeMultipliers)\n",
    "results[\"Non-Prime\"] /= len(nonPrimeMultipliers)\n",
    "\n",
    "# Print results\n",
    "print(f\"Average distribution quality:\")\n",
    "print(f\"  Prime multipliers: {results['Prime']:.2f}\")\n",
    "print(f\"  Non-Prime multipliers: {results['Non-Prime']:.2f}\")\n",
    "print(f\"\\nCONCLUSION: {'Prime' if results['Prime'] > results['Non-Prime'] else 'Non-Prime'} \" +\n",
    "        \"multipliers produce better hash distribution quality\")"
   ]
  },
  {
   "cell_type": "markdown",
   "metadata": {},
   "source": [
    "## Test 3: Showcasing why 101 is chosen\n",
    "This test demonstrates why **101** is chosen as the modulo value in the hash function implementation. As mentioned earlier, using a prime number like 101 as the modulo value helps constrain the output to a fixed range (0-100) while ensuring hash values spread evenly across all possible buckets. Since 101 is prime, it has no common factors with other numbers except 1, which helps reduce collisions in hash tables. This test compares the bucket distribution between a non-prime table size (100) and a prime table size (101) to demonstrate the advantage of using prime numbers for hash table sizes."
   ]
  },
  {
   "cell_type": "code",
   "execution_count": 19,
   "metadata": {},
   "outputs": [],
   "source": [
    "values10 = [10, 20, 30, 40, 50, 60, 70, 80, 90, 100] # Test values, multiples of 10\n",
    "values25 = [25, 50, 75, 100, 125, 150, 175, 200, 225, 250] # Test values, multiples of 25\n",
    "testValues = values10 + values25 # Combine test values \n",
    "tableLengths = {\"Non-prime (100)\": 100, \"Prime (101)\": 101} # Test prime vs non-prime table sizes"
   ]
  },
  {
   "cell_type": "markdown",
   "metadata": {},
   "source": [
    "The code below analyzes how test values **distribute across buckets** when using different table lengths. It takes various test values (multiples of ten and twenty-five) and applies the modulo operation with both a non-prime (100) and a prime (101) table size. \n",
    "\n",
    "- For each table length, the code first creates an empty dictionary (`buckets`) to track populated buckets. \n",
    "- Then for each test value, it calculates a bucket index using the modulo operation, initializes the bucket as an empty list if needed, and appends the current value to its corresponding bucket. \n",
    "- Finally, it counts and calculates what percentage of buckets were used. \n",
    "\n",
    "The results clearly demonstrate the advantage of using a prime modulo - with **101**, almost **18%** of buckets are used, while with **100**, only **12%** of buckets are used. This confirms that prime numbers help distribute values more evenly across available buckets, reducing clustering and collisions in hash tables."
   ]
  },
  {
   "cell_type": "code",
   "execution_count": 20,
   "metadata": {},
   "outputs": [
    {
     "name": "stdout",
     "output_type": "stream",
     "text": [
      "\n",
      "Non-prime (100):\n",
      "  Buckets used: 12 out of 100 (12.0%)\n",
      "\n",
      "Prime (101):\n",
      "  Buckets used: 18 out of 101 (17.8%)\n"
     ]
    }
   ],
   "source": [
    "# Loop through each table length and test the distribution of values\n",
    "for name, tableLength in tableLengths.items():\n",
    "    buckets = {} # Track populated buckets\n",
    "\n",
    "    # Hash each value and store in corresponding bucket\n",
    "    for val in testValues:\n",
    "        index = val % tableLength # Calculate bucket index using modulo operation\n",
    "        \n",
    "        if index not in buckets: # Initialize bucket if not present\n",
    "            buckets[index] = []\n",
    "            \n",
    "        buckets[index].append(val) # Store value in its bucket\n",
    "    \n",
    "    usedBuckets = len(buckets)  # Count distinct buckets used\n",
    "    print(f\"\\n{name}:\")\n",
    "    print(f\"  Buckets used: {usedBuckets} out of {tableLength} ({usedBuckets/tableLength*100:.1f}%)\")"
   ]
  },
  {
   "cell_type": "markdown",
   "metadata": {},
   "source": [
    "# Task 3: SHA256 Padding\n",
    "The [SHA-256 algorithm](https://nvlpubs.nist.gov/nistpubs/FIPS/NIST.FIPS.180-4.pdf) is a cryptographic hash function which encrypts data through a series of preprocessing steps. **Padding** is one of the three steps in the algorithm, alongside parsing and setting initial hash values, with its fundamental purpose being to ensure a message's total length is a multiple of 512 bits, which allows for subsequent processing in 512-bit blocks [1]. \n",
    "\n",
    "**The padding process follows a specific sequence:**\n",
    "- **Append the bit \"1\"** to the end of a message.\n",
    "- Then, append ***k* zero bits** so that the total length of the message (after adding the 1-bit) plus these zero bits equals 448 bits % 512. \n",
    "- Finally, append a **64-bit number** that represents the original message's length in bits. This number is written in big-endian format (most significant byte first). \n",
    "\n",
    "After padding is applied, the message length becomes a multiple of 512 bits [1]. This allows the message to be parsed into the algorithm's 512-bit blocks and subsequently processed to generate the final hash value [1].\n",
    "\n",
    "The `sha256Padding()` function below provides an implementation of the SHA-256 padding algorithm. \n",
    "- Firstly, it reads the input file in [binary mode](https://chatgpt.com/share/68169237-6f20-800f-846f-f816ae0256f0) and stores the data from the file. \n",
    "- Then, it appends the required \"1\" bit (represented as the byte `0x80`) using [`bytearray()`](https://www.geeksforgeeks.org/python-bytearray-function/). \n",
    "- Next, it calculates and adds zero bytes until the length % 512 bits equals 448 bits, using a while loop that checks if the current length in bits (multiplied by 8 to convert bytes to bits) % 512 is equal to 448. If not, it appends another zero byte (`0x00`). \n",
    "- Finally, it appends the original message length as a [64-bit big-endian value,](https://chatgpt.com/c/68169493-4908-800f-a07b-52b8439c4721) using the length of the original data multiplied by 8 (to convert bytes to bits) and formatting it as an 8-byte big-endian representation. \n",
    "- The function concludes by returning the padding portion in [hexadecimal format,](https://github.com/ianmcloughlin/computational_theory/blob/main/materials/sha256.ipynb) joining the byte values and formatting each as a two-digit value.\n",
    "\n",
    "\n",
    "### Example I/O:\n",
    "**Input:**\n",
    "```\n",
    "01100001 01100010 01100011\n",
    "```\n",
    "\n",
    "**Output:**\n",
    "```\n",
    "80 00 00 00 00 00 00 00 00 00 00 00 00 00 00 00 00 00 00 00 00 00 00 00 00 00\n",
    "00 00 00 00 00 00 00 00 00 00 00 00 00 00 00 00 00 00 00 00 00 00 00 00 00 00\n",
    "00 00 00 00 00 00 00 00 18\n",
    "```"
   ]
  },
  {
   "cell_type": "code",
   "execution_count": 21,
   "metadata": {},
   "outputs": [],
   "source": [
    "def sha256Padding(filePath):\n",
    "    # Read file and initialize padding\n",
    "    with open(filePath, 'rb') as file:\n",
    "        data = file.read()\n",
    "    \n",
    "    # Create padded data with 1-bit appended (0x80)\n",
    "    paddedData = bytearray(data) + bytearray([0x80])\n",
    "    \n",
    "    # Add zeros until the length % 512 is equal to 448\n",
    "    while (len(paddedData) * 8) % 512 != 448:\n",
    "        paddedData.append(0x00)\n",
    "    \n",
    "    # Add original length as 64-bit big-endian value\n",
    "    paddedData.extend((len(data) * 8).to_bytes(8, \"big\"))\n",
    "    \n",
    "    # Return padding portion in hex format\n",
    "    return \" \".join(f\"{b:02x}\" for b in paddedData[len(data):])"
   ]
  },
  {
   "cell_type": "markdown",
   "metadata": {},
   "source": [
    "### Function to Create a Temporary Test File\n",
    "\n",
    "The `createTestFile` function is used in the subsequent tests for generating test files with specified binary content.\n",
    "- Firstly, it creates a new temporary directory using [`tempfile.mkdtemp()`](https://www.geeksforgeeks.org/create-temporary-files-and-directories-using-python-tempfile/) to make sure test files don't interfere with existing files. \n",
    "- Then, it generates a full path for the test file by joining the temporary directory with `\"test.bin\"` using [`os.path.join()`](https://chatgpt.com/c/68169b38-aa1c-800f-a5e6-9a16a10d2993).\n",
    "- Next, it opens this path in binary write mode [`('wb')`](https://www.tutorialspoint.com/How-to-write-binary-data-to-a-file-using-Python#:~:text=Open%20the%20File%20in%20Binary%20Mode&text=file_path%20%3D%20%22path%2Fto%2F,is%20properly%20closed%20after%20writing.) and writes the provided binary content to the file.\n",
    "- Finally, it returns both the file path and temporary directory, allowing tests to both access the file and clean up afterward."
   ]
  },
  {
   "cell_type": "code",
   "execution_count": 22,
   "metadata": {},
   "outputs": [],
   "source": [
    "def createTestFile(content):\n",
    "    tempdir = tempfile.mkdtemp()  # Create a new temporary directory\n",
    "    path = os.path.join(tempdir, \"test.bin\")  # Generate full path for test file\n",
    "    with open(path, \"wb\") as f: f.write(content)  # Write binary content to file\n",
    "    return path, tempdir  # Return both file path and directory"
   ]
  },
  {
   "cell_type": "markdown",
   "metadata": {},
   "source": [
    "## Test 1: Example Usage\n",
    "This test demonstrates a basic use of the `sha256Padding()` function with a simple input string `\"abc\"`.\n",
    "\n",
    "- Firstly, it creates a test file containing the three bytes `\"abc\"` using the `createTestFile()` function. Note that `\"abc\"` is 24 bits long (3 characters * 8 bits per character).\n",
    "- Then, it applies the SHA-256 padding to this test file by calling the `sha256Padding()` function with the generated file path.\n",
    "- Next, it defines the expected padding result: `\"80\"` (the appended 1-bit as byte 0x80), followed by enough zeros to reach 448 bits, and finally `\"18\"` (the 64-bit big-endian representation of the original message length, 24 in decimal).\n",
    "- It compares the actual output with the expected result, printing both values and a pass/fail message based on their equality.\n",
    "- Finally, it uses both [`os.remove()` and `os.rmdir()`](https://www.geeksforgeeks.org/delete-a-directory-or-file-using-python/) to clean up by removing the temporary test file and directory, avoiding issues in subsequent tests."
   ]
  },
  {
   "cell_type": "code",
   "execution_count": 23,
   "metadata": {},
   "outputs": [
    {
     "name": "stdout",
     "output_type": "stream",
     "text": [
      "Expected: 80 00 00 00 00 00 00 00 00 00 00 00 00 00 00 00 00 00 00 00 00 00 00 00 00 00 00 00 00 00 00 00 00 00 00 00 00 00 00 00 00 00 00 00 00 00 00 00 00 00 00 00 00 00 00 00 00 00 00 00 18\n",
      "Actual: 80 00 00 00 00 00 00 00 00 00 00 00 00 00 00 00 00 00 00 00 00 00 00 00 00 00 00 00 00 00 00 00 00 00 00 00 00 00 00 00 00 00 00 00 00 00 00 00 00 00 00 00 00 00 00 00 00 00 00 00 18\n",
      "Test passed: True\n"
     ]
    }
   ],
   "source": [
    "# Create test file with \"abc\" content and apply padding.\n",
    "path, tempdir = createTestFile(b\"abc\") # \"abc\" is 24 bits long (3 characters * 8 bits per char)\n",
    "output = sha256Padding(path) # Apply SHA-256 padding to the test file\n",
    "\n",
    "# Compare expected vs actual padding result\n",
    "expected = \"80 \" + \"00 \" * 52 + \"00 00 00 00 00 00 00 18\"  # 0x80=appended 1-bit, zeros for padding, 0x18=24 in hex\n",
    "print(f\"Expected: {expected}\")\n",
    "print(f\"Actual: {output}\")\n",
    "print(f\"Test passed: {output == expected}\")  # Test passed if output matches expected value\n",
    "\n",
    "# Cleanup temporary file and directory\n",
    "os.remove(path)\n",
    "os.rmdir(tempdir)"
   ]
  },
  {
   "cell_type": "markdown",
   "metadata": {},
   "source": [
    "## Test 2: Single One Bit\n",
    "This test verifies the `sha256Padding()` behaviour with an edge case of a single byte with all bits set to 1.\n",
    "\n",
    "- Firstly, it creates a test file containing a single byte with all bits set to 1 (`\"\\xFF\"`) using the `createTestFile()` function.\n",
    "- Then, it applies the SHA-256 padding to this test file by calling the `sha256Padding()` function with the generated file path.\n",
    "- Next, it extracts the first byte of the padding result by splitting the output string and getting the first element.\n",
    "- It verifies that this first byte is `\"80\"`, which represents the appended 1-bit, and prints a pass/fail message based on the comparison.\n",
    "- Finally, it performs cleanup by removing the temporary test file and directory, preventing issues in subsequent tests"
   ]
  },
  {
   "cell_type": "code",
   "execution_count": 24,
   "metadata": {},
   "outputs": [
    {
     "name": "stdout",
     "output_type": "stream",
     "text": [
      "First byte is 80, should be 80: Passed\n"
     ]
    }
   ],
   "source": [
    "# Create a test file with a single byte (0xFF) and apply padding\n",
    "path, tempdir = createTestFile(b\"\\xFF\")  # Single byte with all bits set to 1\n",
    "output = sha256Padding(path) # Apply SHA-256 padding to the test file\n",
    "\n",
    "# Extract and verify the first byte of padding is 0x80 (appended 1-bit)\n",
    "firstByte = output.split()[0]  # Get first byte from the space-separated output\n",
    "print(f\"First byte is {firstByte}, should be 80: {'Passed' if firstByte == '80' else 'Failed'}\")  # Verify correct padding\n",
    "\n",
    "# Cleanup\n",
    "os.remove(path)\n",
    "os.rmdir(tempdir)"
   ]
  },
  {
   "cell_type": "markdown",
   "metadata": {},
   "source": [
    "## Test 3: Multiple Of 512 Bits\n",
    "This test verifies that `sha256Padding` correctly handles input files of various sizes, ensuring the final padded message length is always a multiple of 512 bits (64 bytes).\n",
    "\n",
    "* Firstly, it tests multiple input sizes by creating test files with various sizes based on each input.\n",
    "* Then, it applies the SHA-256 padding to each test file by calling the `sha256Padding()` function with the generated file path.\n",
    "* Next, it calculates the total padded message length by counting the number of bytes in the padding output and adding it to the original input size.\n",
    "* It verifies that the total padded message length is always a multiple of 64 bytes (512 bits), printing a pass/fail message for each input.\n",
    "* Finally, it performs cleanup by removing each temporary test file and directory after testing, preventing issues in subsequent tests."
   ]
  },
  {
   "cell_type": "code",
   "execution_count": 25,
   "metadata": {},
   "outputs": [
    {
     "name": "stdout",
     "output_type": "stream",
     "text": [
      "Size 0: total bytes 64, multiple of 64: Yes\n",
      "Size 3: total bytes 64, multiple of 64: Yes\n",
      "Size 55: total bytes 64, multiple of 64: Yes\n",
      "Size 64: total bytes 128, multiple of 64: Yes\n",
      "Size 65: total bytes 128, multiple of 64: Yes\n",
      "Size 128: total bytes 192, multiple of 64: Yes\n",
      "Size 512: total bytes 576, multiple of 64: Yes\n",
      "Size 1024: total bytes 1088, multiple of 64: Yes\n"
     ]
    }
   ],
   "source": [
    "# Test padding for various input sizes\n",
    "for size in [0, 3, 55, 64, 65, 128, 512, 1024]:\n",
    "    path, tempdir = createTestFile(b\"A\" * size)  # Create test files of different sizes\n",
    "    output = sha256Padding(path) # Apply padding function to the test file\n",
    "\n",
    "    paddingBytes = len(output.split())  # Count bytes added during padding\n",
    "    totalBytes = size + paddingBytes  # Calculate final message length after padding\n",
    "    \n",
    "    # Verify the padded message length is a multiple of 64 bytes (512 bits)\n",
    "    print(f\"Size {size}: total bytes {totalBytes}, multiple of 64: {'Yes' if totalBytes % 64 == 0 else 'No'}\")\n",
    "    \n",
    "    # Cleanup\n",
    "    os.remove(path)\n",
    "    os.rmdir(tempdir)"
   ]
  },
  {
   "cell_type": "markdown",
   "metadata": {},
   "source": [
    "## Test 4: K Zero Bits\n",
    "This test verifies the correct implementation of the k zero bits calculation in `sha256Padding`, testing various input sizes to verify that the proper number of padding zeros are added.\n",
    "\n",
    "* Firstly, it tests multiple input sizes by creating test files with various sizes based on each input.\n",
    "* Then, it calculates the expected number of zero bits (k) that should be added during padding using the formula *k = (448 - (λ + 1)) % 512*, where *λ* is the original message length in bits.\n",
    "* Next, it converts this bit count to bytes and applies the `sha256Padding()` function to the test file.\n",
    "* It counts the actual number of zero bytes in the padding output by [checking all bytes equal to `\"00\"`](https://chatgpt.com/c/6816a4ba-18cc-800f-81e9-9c3c1a05b6e2) in the padding result.\n",
    "* The test then verifies that the actual number of zero bytes matches the expected calculation from the formula, printing a pass/fail message for each input.\n",
    "* Finally, it performs cleanup by removing each temporary test file and directory after testing.\n"
   ]
  },
  {
   "cell_type": "code",
   "execution_count": 26,
   "metadata": {},
   "outputs": [
    {
     "name": "stdout",
     "output_type": "stream",
     "text": [
      "Size 0: expected zeros 55, actual zeros 55: Passed\n",
      "Size 3: expected zeros 52, actual zeros 52: Passed\n",
      "Size 55: expected zeros 0, actual zeros 0: Passed\n",
      "Size 64: expected zeros 55, actual zeros 55: Passed\n",
      "Size 65: expected zeros 54, actual zeros 54: Passed\n",
      "Size 128: expected zeros 55, actual zeros 55: Passed\n",
      "Size 512: expected zeros 55, actual zeros 55: Passed\n",
      "Size 1024: expected zeros 55, actual zeros 55: Passed\n"
     ]
    }
   ],
   "source": [
    "# Verify the correct number of zero bytes are added during padding for different input sizes\n",
    "for size in [0, 3, 55, 64, 65, 128, 512, 1024]:\n",
    "    path, tempdir = createTestFile(b\"A\" * size)  # Create test files of different sizes\n",
    "    lambdaBits = size * 8  # Convert file size to bits\n",
    "\n",
    "    k = (448 - (lambdaBits + 1)) % 512  # Calculate required zero bits (k) for padding\n",
    "    expectedZeros = k // 8  # Convert bits to bytes\n",
    "    \n",
    "    output = sha256Padding(path)  # Apply padding function\n",
    "    paddingHex = output.split()  # Get all padding bytes as a list\n",
    "    actualZeros = sum(1 for b in paddingHex[1:-8] if b == \"00\")  # Count zero bytes\n",
    "    \n",
    "    # Verify the actual number of zero bytes matches the expected calculation\n",
    "    print(f\"Size {size}: expected zeros {expectedZeros}, actual zeros {actualZeros}: {'Passed' if actualZeros == expectedZeros else 'Failed'}\")\n",
    "    \n",
    "    # Cleanup\n",
    "    os.remove(path)\n",
    "    os.rmdir(tempdir)"
   ]
  },
  {
   "cell_type": "markdown",
   "metadata": {},
   "source": [
    "## Test 5: 64 Bit Length\n",
    "This test case verifies that `sha256Padding()` correctly encodes the original message length as a 64-bit big-endian value in the final 8 bytes of the padding.\n",
    "\n",
    "* Firstly, it creates a test file with 1234 `\"A\"` characters (equivalent to 9872 bits) using the `createTestFile()` function.\n",
    "* Then, it calculates the expected 64-bit representation of this length by converting 9872 bits to an 8-byte [big-endian](https://chatgpt.com/c/68169493-4908-800f-a07b-52b8439c4721) representation.\n",
    "* Next, it formats this expected value as a [hexadecimal string](https://github.com/ianmcloughlin/computational_theory/blob/main/materials/sha256.ipynb) for comparison purposes.\n",
    "* It applies the `sha256Padding()` function to the test file and extracts the last 8 bytes from the output, which should contain the 64-bit length field.\n",
    "* The test verifies that the extracted length field matches the expected 64-bit representation of the original message length (9872 bits), printing both values and a pass/fail message based on their equality.\n",
    "* Finally, it performs cleanup by removing the temporary test file and directory."
   ]
  },
  {
   "cell_type": "code",
   "execution_count": 27,
   "metadata": {},
   "outputs": [
    {
     "name": "stdout",
     "output_type": "stream",
     "text": [
      "Expected length hex: 00 00 00 00 00 00 26 90\n",
      "Actual length hex: 00 00 00 00 00 00 26 90\n",
      "Length representation: Passed\n"
     ]
    }
   ],
   "source": [
    "size = 1234  # 1234 bytes = 9872 bits\n",
    "path, tempdir = createTestFile(b\"A\" * size)  # Create test file with 1234 'A' characters\n",
    "\n",
    "expectedBits = size * 8  # Convert bytes to bits\n",
    "expectedBytes = expectedBits.to_bytes(8, \"big\")  # Convert to 8-byte big-endian representation\n",
    "expectedHex = \" \".join(f\"{b:02x}\" for b in expectedBytes)  # Format as space-separated hex values\n",
    "\n",
    "output = sha256Padding(path)  # Apply padding function\n",
    "actualHex = \" \".join(output.split()[-8:])  # Extract the last 8 bytes (64-bit length field)\n",
    "\n",
    "# Verify the 64-bit length field matches the expected value\n",
    "print(f\"Expected length hex: {expectedHex}\")\n",
    "print(f\"Actual length hex: {actualHex}\")\n",
    "print(f\"Length representation: {'Passed' if actualHex == expectedHex else 'Failed'}\")\n",
    "\n",
    "# Cleanup\n",
    "os.remove(path)\n",
    "os.rmdir(tempdir)"
   ]
  },
  {
   "cell_type": "markdown",
   "metadata": {},
   "source": [
    "# Task 4: Prime Number Algorithms"
   ]
  },
  {
   "cell_type": "markdown",
   "metadata": {},
   "source": [
    "## 1. Trial Division\n",
    "**Trial division** is [described as one of the most straightforward methods](https://www.geeksforgeeks.org/trial-division-algorithm-for-prime-factorization/) for determining whether a given number **n** (where n > 1) is prime or composite.\n",
    "\n",
    "**Step-by-step algorithm:**\n",
    "\n",
    "1. **Start with 2**: Begin with the smallest prime number.\n",
    "\n",
    "2. **Division Test**: See if the number can be divided evenly by 2.\n",
    "   - If yes - The number is not prime\n",
    "   - If no - Continue to the next step\n",
    "\n",
    "3. **Try next number**: Test with 3, then 5, 7, and so on, skipping any even numbers after 2.\n",
    "\n",
    "4. **When to stop**: Test up to the square root of the number.\n",
    "   - Example: For 100, stop at 10\n",
    "   - Example: For 17, stop at 4\n",
    "\n",
    "5. **The result**:\n",
    "   - If nothing divides the number evenly - It's prime\n",
    "   - If something divides it evenly - It's not prime\n",
    "\n",
    " \n",
    " \n",
    "[Pomerance (1982)](https://www.jstor.org/stable/24966751) notes that the algorithm's ability to **stop as soon as the trial divisor exceeds the square root of n** helps to significantly speed up the test [3]. This is because any composite number must have at least one factor pair where both factors are no greater than its square root [3]. If all potential divisors up to the square root have been tested, and none divide the number evenly, then the number must be prime [3].\n",
    "\n",
    "Another shortcut includes **deleting all even trial divisors after 2** [3]. If n is composite, the trial division procedure will terminate by finding a divisor that divides n evenly (leaves no remainder). \n",
    "\n",
    "Despite these advantages, Pomerance notes that the algorithm is extremely inefficient at testing larger prime numbers, due to the quantity of divisions it must undertake to determine their primality [3].\n",
    "\n",
    "\n",
    "\n",
    "The function shown below, `trialDivisionPrimes`, implements the trial division algorithm to generate a specified amount of prime numbers.\n",
    "\n",
    "* First, it initializes an empty list to store the prime numbers as they are found.\n",
    "* Then, it sets `num = 2` as the starting point, since 2 is the first prime number to check.\n",
    "* Next, it enters a while loop that continues until `n` primes are found.\n",
    "* The function checks divisibility only up to the square root of the current number (`i * i <= num`).\n",
    "* If any divisor is found, it marks the number as composite and breaks out of the inner loop.\n",
    "* The function adds each confirmed prime number to the list when no divisors are found.\n",
    "* Finally, it increments to the next number and continues the process until `n` prime numbers have been collected.\n",
    "\n",
    "### Example I/O:\n",
    "**Input:**\n",
    "```\n",
    "10\n",
    "```\n",
    "\n",
    "**Output:**\n",
    "```\n",
    "[2, 3, 5, 7, 11, 13, 17, 19, 23, 29]\n",
    "```\n"
   ]
  },
  {
   "cell_type": "code",
   "execution_count": 28,
   "metadata": {},
   "outputs": [],
   "source": [
    "def trialDivisionPrimes(n):\n",
    "    primes = []  # List to store prime numbers\n",
    "    num = 2      # Start with the first prime\n",
    "    \n",
    "    # Loop until n primes are found\n",
    "    while len(primes) < n:\n",
    "        isPrime = True  # Assume prime until proven otherwise\n",
    "        i = 2\n",
    "        # Check divisibility up to square root of num (optimization)\n",
    "        while i * i <= num:\n",
    "            if num % i == 0: isPrime = False; break  # Not prime if divisible\n",
    "            i += 1\n",
    "        if isPrime: primes.append(num)  # Add to list if prime\n",
    "        num += 1  # Check next number\n",
    "    return primes"
   ]
  },
  {
   "cell_type": "markdown",
   "metadata": {},
   "source": [
    "### Test 1: Basic Usage\n",
    "\n",
    "This test demonstrates the functionality of the `trialDivisionPrimes()` function for generating prime numbers.\n",
    "\n",
    "* Firstly, it calls `trialDivisionPrimes()` to generate and print a list of the first 100 prime numbers using the trial division algorithm.\n",
    "* Then, it implements a validation loop that tests each number in the primes list individually:\n",
    "  * If any number is less than 2, it's immediately marked as non-prime (since 1 is not prime by definition).\n",
    "  * For each potential prime, it [checks divisibility by all integers from 2 up to its square root](https://chatgpt.com/share/6817ebe3-d09c-800f-8b2c-aad1a96ff576).\n",
    "  * If any divisor is found, the validation flag is set to `False` and the loop exits early.\n",
    "* Finally, it outputs a validation message stating whether all numbers in the list are prime or not."
   ]
  },
  {
   "cell_type": "code",
   "execution_count": 29,
   "metadata": {},
   "outputs": [
    {
     "name": "stdout",
     "output_type": "stream",
     "text": [
      "First 100 primes using Trial Division:\n",
      "[2, 3, 5, 7, 11, 13, 17, 19, 23, 29, 31, 37, 41, 43, 47, 53, 59, 61, 67, 71, 73, 79, 83, 89, 97, 101, 103, 107, 109, 113, 127, 131, 137, 139, 149, 151, 157, 163, 167, 173, 179, 181, 191, 193, 197, 199, 211, 223, 227, 229, 233, 239, 241, 251, 257, 263, 269, 271, 277, 281, 283, 293, 307, 311, 313, 317, 331, 337, 347, 349, 353, 359, 367, 373, 379, 383, 389, 397, 401, 409, 419, 421, 431, 433, 439, 443, 449, 457, 461, 463, 467, 479, 487, 491, 499, 503, 509, 521, 523, 541]\n",
      "All numbers are prime: True\n"
     ]
    }
   ],
   "source": [
    "primes = trialDivisionPrimes(100) # Get first 100 primes using trial division\n",
    "print(f\"First 100 primes using Trial Division:\")\n",
    "print(primes)\n",
    "\n",
    "# Validate if all numbers in the list are prime\n",
    "validation = True\n",
    "for num in primes:\n",
    "    # Check if each number is prime\n",
    "    if num < 2:\n",
    "        validation = False # Not prime if less than 2\n",
    "        break\n",
    "    for i in range(2, int(num**0.5) + 1): # Check divisibility up to square root of num\n",
    "        if num % i == 0:\n",
    "            validation = False # Not prime if divisible\n",
    "            break\n",
    "    if not validation: # Exit loop if not prime\n",
    "        break\n",
    "\n",
    "print(f\"All numbers are prime: {'True' if validation else 'False'}\")"
   ]
  },
  {
   "cell_type": "markdown",
   "metadata": {},
   "source": [
    "### Test 2: Test Exclusion of Composite Numbers\n",
    "\n",
    "This test verifies that the trial division algorithm correctly excludes composite numbers from the generated list of primes.\n",
    "* Firstly, it calls `trialDivisionPrimes()` to generate a list of the first 100 prime numbers using the trial division algorithm.\n",
    "* Then, it creates a list of known composite numbers for testing purposes.\n",
    "* Next, it implements a verification loop that checks each composite number against the generated prime list.\n",
    "* If any composite number is found within the prime list, the test immediately fails with an error message indicating which composite number was incorrectly included.\n",
    "* If the loop completes normally (no composites found in the prime list), it prints a success message confirming that all composite numbers were correctly excluded."
   ]
  },
  {
   "cell_type": "code",
   "execution_count": 30,
   "metadata": {},
   "outputs": [
    {
     "name": "stdout",
     "output_type": "stream",
     "text": [
      "Passed - No composite numbers found in prime list\n"
     ]
    }
   ],
   "source": [
    "primesList = trialDivisionPrimes(100)  # Get first 100 primes\n",
    "compositeNumbers = [4, 6, 8, 9, 10, 12, 14, 15, 16, 18, 20] # Non-prime numbers\n",
    "\n",
    "# Check all composite numbers are excluded from primes list\n",
    "for num in compositeNumbers:\n",
    "   if num in primesList:\n",
    "       print(f\"Failed - Composite number {num} found in prime list\")\n",
    "       break\n",
    "else:\n",
    "   # Loop completed without finding any composites\n",
    "   print(\"Passed - No composite numbers found in prime list\")"
   ]
  },
  {
   "cell_type": "markdown",
   "metadata": {},
   "source": [
    "### Test 3: Square Root Optimization\n",
    "\n",
    "This test verifies the effectiveness of the square root optimization in the trial division algorithm, which significantly reduces the number of divisibility checks required.\n",
    "\n",
    "Firstly, it defines a function `countChecks()` that counts the actual number of divisibility checks performed:\n",
    "* The function starts checking from 2 (the smallest prime) and only tests divisors up to the square root of the input number.\n",
    "* For each potential divisor, it increments the counter and proceeds to the next number.\n",
    "* Finally, it returns both the actual count of checks performed and the theoretical maximum checks, which refers to how many divisibility tests would be needed if the square root shortcut was not used. This is equal to the square root of the number being tested."
   ]
  },
  {
   "cell_type": "code",
   "execution_count": 31,
   "metadata": {},
   "outputs": [],
   "source": [
    "# Count divisibility checks up to square root\n",
    "def countChecks(num):\n",
    "   checks = 0  # Initialize check counter\n",
    "   i = 2  # Start checking from 2\n",
    "   \n",
    "   while i * i <= num:  # Only check up to square root\n",
    "       checks += 1  # Count each check\n",
    "       i += 1  # Move to next number\n",
    "   return checks, int(num**0.5)  # Return count and max possible checks"
   ]
  },
  {
   "cell_type": "markdown",
   "metadata": {},
   "source": [
    "The test then validates the square root optimization by using various prime numbers:\n",
    "\n",
    "* For each prime number, it:\n",
    "    * Counts the divisibility checks performed using the `countChecks` function.\n",
    "    * Compares the actual checks against the theoretical maximum.\n",
    "    * Verifies trial division's square root optimization by confirming the amount of checks performed is less than the amount of maximum theoretical checks that couldve been performed.\n",
    "  \n",
    "* The output shows:\n",
    "  * The prime number being tested.\n",
    "  * Its square root (showing how many checks are theoretically needed) using [`np.sqrt`](https://docs.vultr.com/python/third-party/numpy/sqrt).\n",
    "  * The actual number of checks performed by the trial divison algorithm.\n",
    "  * The maximum possible checks that wouldve been performed without optimization.\n",
    "  * Whether the optimization is verified (checks < theoretical maximum).\n",
    "\n",
    "The results demonstrate that the square root optimization reduces the computational work required."
   ]
  },
  {
   "cell_type": "code",
   "execution_count": 32,
   "metadata": {},
   "outputs": [
    {
     "name": "stdout",
     "output_type": "stream",
     "text": [
      "Number: 2 | Square root: 1.4142 | Checks: 0 | Max theoretical checks: 1\n",
      "Optimization verified: Yes\n",
      "--------------------\n",
      "Number: 3 | Square root: 1.7321 | Checks: 0 | Max theoretical checks: 1\n",
      "Optimization verified: Yes\n",
      "--------------------\n",
      "Number: 7 | Square root: 2.6458 | Checks: 1 | Max theoretical checks: 2\n",
      "Optimization verified: Yes\n",
      "--------------------\n",
      "Number: 19 | Square root: 4.3589 | Checks: 3 | Max theoretical checks: 4\n",
      "Optimization verified: Yes\n",
      "--------------------\n",
      "Number: 47 | Square root: 6.8557 | Checks: 5 | Max theoretical checks: 6\n",
      "Optimization verified: Yes\n",
      "--------------------\n",
      "Number: 101 | Square root: 10.0499 | Checks: 9 | Max theoretical checks: 10\n",
      "Optimization verified: Yes\n",
      "--------------------\n",
      "Number: 501 | Square root: 22.3830 | Checks: 21 | Max theoretical checks: 22\n",
      "Optimization verified: Yes\n",
      "--------------------\n"
     ]
    }
   ],
   "source": [
    "testCases = [2, 3, 7, 19, 47, 101, 501]  # Test various prime sizes\n",
    "\n",
    "nums = []  # Store numbers\n",
    "checksMade = []  # Store checks performed\n",
    "\n",
    "# Test each number\n",
    "for num in testCases:\n",
    "   checks, maxChecks = countChecks(num)  # Count both checks and max possible checks\n",
    "   nums.append(num)  # Record number\n",
    "   checksMade.append(checks)  # Record checks performed\n",
    "   \n",
    "   print(f\"Number: {num} | Square root: {np.sqrt(num):.4f} | Checks: {checks} | Max theoretical checks: {maxChecks}\")\n",
    "   print(f\"Optimization verified: {'Yes' if checks < maxChecks else 'No'}\")\n",
    "   print(\"-\" * 20)"
   ]
  },
  {
   "cell_type": "markdown",
   "metadata": {},
   "source": [
    "### Test 4: Large Prime Number Inefficiency\n",
    "\n",
    "This test demonstrates how trial division becomes increasingly inefficient when generating larger prime numbers, a limitation noted by Pomerance (1982).\n",
    "\n",
    "* Firstly, it defines a list of progressively larger numbers to test.\n",
    "* Then, it uses [`time.time()`](https://www.geeksforgeeks.org/python-time-time-method/) to precisely measure how long each calculation takes.\n",
    "* Next, it calls `trialDivisionPrimes()` for each test case to generate the specified number of primes.\n",
    "* The number of prime numbers, the largest prime found and the execution time required to find it is then displayed.\n",
    "\n",
    "The results demonstrate that while trial division works efficiently for small primes, it becomes computationally inefficient for larger prime numbers due to the sheer number of division operations that must be performed, which increases dramatically as numbers get larger."
   ]
  },
  {
   "cell_type": "code",
   "execution_count": 33,
   "metadata": {},
   "outputs": [
    {
     "name": "stdout",
     "output_type": "stream",
     "text": [
      "Count | Largest Prime | Time (seconds)\n",
      "----------------------------------------\n",
      "2 | 3 | 0.000000\n",
      "7 | 17 | 0.000000\n",
      "19 | 67 | 0.000000\n",
      "101 | 547 | 0.000000\n",
      "1009 | 8,011 | 0.007999\n",
      "10007 | 104,801 | 0.235999\n",
      "100003 | 1,299,763 | 7.971794\n",
      "1000003 | 15,485,927 | 269.040452\n"
     ]
    }
   ],
   "source": [
    "print(\"Count | Largest Prime | Time (seconds)\")\n",
    "print(\"-\" * 40) \n",
    "\n",
    "# Test with progressively larger prime numbers to show the performance degradation\n",
    "for size in [2, 7, 19, 101, 1009, 10007, 100003, 1000003]:\n",
    "    startTime = time.time()  # Record the starting time for performance measurement\n",
    "    primes = trialDivisionPrimes(size)  # Generate primes up to the specified size\n",
    "    elapsedTime = time.time() - startTime  # Calculate execution time\n",
    "    \n",
    "    # Print the size, largest prime found, and execution time\n",
    "    print(f\"{size} | {primes[-1]:,} | {elapsedTime:.6f}\")"
   ]
  },
  {
   "cell_type": "markdown",
   "metadata": {},
   "source": [
    "## 2. Sieve of Eratosthenes\n",
    "The **Sieve of Eratosthenes**, discovered by ancient Greek scientist Eratosthenes, is considered the simplest algorithm for generating prime numbers between 1 and a given number n by systematically eliminating non-prime numbers from a collection [4].\n",
    "\n",
    "**Step-by-step algorithm for Sieve of Eratosthenes:**\n",
    "1. **Start with a list**: Create a list of all numbers from 2 up to the maximum limit.\n",
    "\n",
    "2. **Initialize all as prime**: Begin by assuming all numbers in the list are potential primes.\n",
    "\n",
    "3. **Begin with 2**: Start with the first prime number, which is 2.\n",
    "\n",
    "4. **Mark multiples as non-prime**: Cross out all multiples of 2 (4, 6, 8, etc.) in the list.\n",
    "\n",
    "5. **Move to next unmarked number**: The next unmarked number (3) is now the new prime.\n",
    "\n",
    "6. **Repeat the process**: Mark all multiples of 3 as non-prime (6, 9, 12, etc.).\n",
    "\n",
    "7. **Continue the pattern**: Keep finding the next unmarked number and crossing out its multiples.\n",
    "   - Example: After 3, process 5, then 7, then 11, etc.\n",
    "\n",
    "8. **When to stop**: Similarly to Trial Division, only need to check numbers up to the square root of the limit, because any larger factor would already have a smaller counterpart that was marked.\n",
    "   - Example: For finding primes up to 100, only need to check up to 10\n",
    "\n",
    "9. **The result**: All numbers that remain unmarked are prime numbers.\n",
    "\n",
    "Research conducted by [Abdullah et al. (2018)](https://iopscience.iop.org/article/10.1088/1742-6596/978/1/012123) comparing the Sieve of Eratosthenes and Sieve of Sundaram algorithms in a computational context reveals interesting performance differences between the two [4]. The comparative analysis shows that performance varies based on the size of numbers being evaluated [4]. For smaller ranges of numbers, the Sieve of Sundaram demonstrates better performance characteristics than the Sieve of Eratosthenes [4]. However, as the quantity of prime numbers increases or when dealing with larger number ranges, the Sieve of Eratosthenes consistently outperforms the Sundaram method [4]. This performance advantage makes the Eratosthenes algorithm better suited for applications requiring the identification of large prime numbers or when generating extensive sets of primes.\n",
    "\n",
    "\n",
    "\n",
    "\n",
    "The function shown below, `sieveOfEratosthenes`, implements the Sieve of Eratosthenes algorithm to generate a specified amount of prime numbers.\n",
    "\n",
    "* First, it calculates an appropriate upper limit using the [prime number theorem](https://chatgpt.com/share/6816d7b3-f1dc-800f-8fd4-4a5aaf7fa4ef) to estimate how many numbers need to be included in the sieve to find n prime numbers.\n",
    "* Then, it initializes a boolean array (`sieve`) where each index represents a number, with all values set to `True` (prime) initially.\n",
    "* Next, it marks positions 0 and 1 as `False` since they aren't prime numbers.\n",
    "* The function then iterates from [2 up to the square root of the limit](https://chatgpt.com/share/6817ebe3-d09c-800f-8b2c-aad1a96ff576), marking all multiples as non-prime.\n",
    "* If a number is still marked as prime, it [processes all its multiples](https://www.geeksforgeeks.org/python-program-for-sieve-of-eratosthenes/) and marks them as `False` (composite).\n",
    "* For each prime number found, all of its multiples are systematically eliminated from the sieve.\n",
    "* Finally, it collects all numbers that remain marked as prime by [combining a list comprehension with the `enumerate()` function](https://sqlpad.io/tutorial/python-enumerate/#:~:text=When%20you%20combine%20enumerate%20with,from%20another%20list%20or%20iterable.), and returns exactly `n` primes from this collection.\n",
    "\n",
    "### Example I/O:\n",
    "**Input:**\n",
    "```\n",
    "10\n",
    "```\n",
    "\n",
    "**Output:**\n",
    "```\n",
    "[2, 3, 5, 7, 11, 13, 17, 19, 23, 29]\n",
    "```\n",
    "\n"
   ]
  },
  {
   "cell_type": "code",
   "execution_count": 34,
   "metadata": {},
   "outputs": [],
   "source": [
    "def sieveOfEratosthenes(n):\n",
    "    if n <= 0:\n",
    "        return [] # Return empty list for invalid inputs\n",
    "\n",
    "    limit = int(n * math.log(n) * 2) if n > 1 else 10 # Upper bound estimation for primes. Based on prime number theorem.\n",
    "    \n",
    "    # Create sieve array\n",
    "    sieve = [True] * (limit + 1) # Initialize all numbers as prime\n",
    "    sieve[0] = sieve[1] = False # 0 and 1 aren't prime\n",
    "    \n",
    "    # Mark non-primes in the sieve\n",
    "    for start in range(2, int(limit**0.5) + 1):\n",
    "        if sieve[start]: # If current number is prime..\n",
    "            # Mark all its multiples as non-prime\n",
    "            for multiple in range(start*start, limit + 1, start):\n",
    "                sieve[multiple] = False\n",
    "    \n",
    "    # Collect primes\n",
    "    primes = [num for num, isPrime in enumerate(sieve) if isPrime]\n",
    "    \n",
    "    return primes[:n] # Return exactly n primes"
   ]
  },
  {
   "cell_type": "markdown",
   "metadata": {},
   "source": [
    "### Test 1: Basic Usage\n",
    "This test demonstrates the functionality of the `sieveOfEratosthenes()` function for generating prime numbers.\n",
    "\n",
    "* Firstly, it calls `sieveOfEratosthenes()` to generate and print a list of the first 100 prime numbers using the Sieve of Eratosthenes algorithm.\n",
    "* Then, it implements a validation loop that tests each number in the primes list individually, similarly to the trial division:\n",
    "  * If any number is less than 2, it's immediately marked as non-prime (since 1 is not prime by definition).\n",
    "  * For each potential prime, it checks divisibility by all integers from 2 up to its square root.\n",
    "  * If any divisor is found, the validation flag is set to `False` and the loop exits early.\n",
    "\n",
    "* Finally, it outputs a validation message stating whether all numbers in the list are prime or not."
   ]
  },
  {
   "cell_type": "code",
   "execution_count": 35,
   "metadata": {},
   "outputs": [
    {
     "name": "stdout",
     "output_type": "stream",
     "text": [
      "First 100 primes using Sieve of Eratosthenes:\n",
      "[2, 3, 5, 7, 11, 13, 17, 19, 23, 29, 31, 37, 41, 43, 47, 53, 59, 61, 67, 71, 73, 79, 83, 89, 97, 101, 103, 107, 109, 113, 127, 131, 137, 139, 149, 151, 157, 163, 167, 173, 179, 181, 191, 193, 197, 199, 211, 223, 227, 229, 233, 239, 241, 251, 257, 263, 269, 271, 277, 281, 283, 293, 307, 311, 313, 317, 331, 337, 347, 349, 353, 359, 367, 373, 379, 383, 389, 397, 401, 409, 419, 421, 431, 433, 439, 443, 449, 457, 461, 463, 467, 479, 487, 491, 499, 503, 509, 521, 523, 541]\n",
      "All numbers are prime: True\n"
     ]
    }
   ],
   "source": [
    "primes = sieveOfEratosthenes(100) # Get first 100 primes using Sieve of Eratosthenes\n",
    "print(f\"First 100 primes using Sieve of Eratosthenes:\")\n",
    "print(primes)\n",
    "\n",
    "# Validate if all numbers in the list are prime\n",
    "validation = True\n",
    "for num in primes:\n",
    "    # Check if each number is prime\n",
    "    if num < 2:\n",
    "        validation = False # Not prime if less than 2\n",
    "        break\n",
    "    for i in range(2, int(num**0.5) + 1): # Check divisibility up to square root of num\n",
    "        if num % i == 0:\n",
    "            validation = False # Not prime if divisible\n",
    "            break\n",
    "    if not validation: # Exit loop if not prime\n",
    "        break\n",
    "\n",
    "print(f\"All numbers are prime: {'True' if validation else 'False'}\")"
   ]
  },
  {
   "cell_type": "markdown",
   "metadata": {},
   "source": [
    "### Test 2: Test Exclusion of Composite Numbers\n",
    "This test verifies that the Sieve of Eratosthenes algorithm correctly excludes composite numbers from the generated list of primes.\n",
    "\n",
    "* Firstly, it calls `sieveOfEratosthenes` to generate a list of the first 100 prime numbers using the Sieve of Eratosthenes algorithm.\n",
    "* Then, it creates a list of known composite numbers for testing purposes.\n",
    "* Next, it implements a verification loop that checks each composite number against the generated prime list.\n",
    "* If any composite number is found within the prime list, the test immediately fails with an error message indicating which composite number was incorrectly included.\n",
    "* If the loop completes normally (no composites found in the prime list), it prints a success message confirming that all composite numbers were correctly excluded."
   ]
  },
  {
   "cell_type": "code",
   "execution_count": 36,
   "metadata": {},
   "outputs": [
    {
     "name": "stdout",
     "output_type": "stream",
     "text": [
      "Passed - No composite numbers found in prime list\n"
     ]
    }
   ],
   "source": [
    "primesList = sieveOfEratosthenes(100)  # Get first 100 primes\n",
    "compositeNumbers = [4, 6, 8, 9, 10, 12, 14, 15, 16, 18, 20] # Non-prime numbers\n",
    "\n",
    "# Check all composite numbers are excluded from primes list\n",
    "for num in compositeNumbers:\n",
    "   if num in primesList:\n",
    "       print(f\"Failed - Composite number {num} found in prime list\")\n",
    "       break\n",
    "else:\n",
    "   # Loop completed without finding any composites\n",
    "   print(\"Passed - No composite numbers found in prime list\")"
   ]
  },
  {
   "cell_type": "markdown",
   "metadata": {},
   "source": [
    "### Test 3: Comparison with Sieve of Sundaram\n",
    "\n",
    "This test compares the performance of the **Sieve of Eratosthenes** and **Sieve of Sundaram** algorithms for prime number generation. It aims to investigate Abdullah et al.'s claim that the Sieve of Eratosthenes algorithm is computationally faster than the Sieve of Sundaram algorithm for larger prime number ranges.\n",
    "\n",
    "**Step-by-step algorithm for Sieve of Sundaram:**\n",
    "\n",
    "1. **Start with a list**: Create a list of all numbers from 1 up to half of the maximum limit.\n",
    "2. **Initialize all as unmarked**: Begin by assuming all numbers in the list will produce primes.\n",
    "3. **Mark numbers to exclude**: Using a specific pattern (*i+j+2ij*), mark certain numbers that won't produce primes.\n",
    "4. **Process all number pairs**: Check all combinations of numbers to mark those that should be excluded.\n",
    "5. **Convert unmarked numbers**: Each unmarked number k produces a prime number by doubling and adding 1.\n",
    "6. **Include special case**: Add 2 (the only even prime) to the final list of prime numbers.\n",
    "7. **When to stop**: Stop once all required number pairs within the limit are processed.\n",
    "8. **The result**: The final list contains all prime numbers up to the specified maximum.\n",
    "\n",
    "\n",
    "The function below, `sieveOfSundaram`, implements the Sieve of Sundaram algorithm to generate a specified amount of prime numbers:\n",
    "\n",
    "* First, it handles special cases: it returns an empty list for `n ≤ 0`, and returns `[2]` if `n = 1`.\n",
    "* Then, it calculates an upper limit using the [prime number theorem](https://chatgpt.com/share/6816d7b3-f1dc-800f-8fd4-4a5aaf7fa4ef) to estimate how many numbers need to be included.\n",
    "* Next, it initializes a boolean array where each index will be marked if the corresponding number should be excluded.\n",
    "* The function then iterates through the array [applying Sundaram's formula](https://www.geeksforgeeks.org/sieve-sundaram-print-primes-smaller-n/): numbers of the form `i+j+2*i*j` are marked as non-prime.\n",
    "* Finally, it builds the prime list starting with 2 (the only even prime), and then adds all odd numbers corresponding to unmarked positions.\n"
   ]
  },
  {
   "cell_type": "code",
   "execution_count": 37,
   "metadata": {},
   "outputs": [],
   "source": [
    "def sieveOfSundaram(n):\n",
    "    if n <= 0: return []   # Handle invalid input\n",
    "    if n == 1: return [2]   # Special case for first prime\n",
    "    \n",
    "    limit = int(n * math.log(n) * 2) if n > 1 else 10  # Upper bound estimation for primes. Based on prime number theorem.\n",
    "    marked = [False] * (limit + 1)   # Create array to mark non-primes\n",
    "    \n",
    "    # Mark non-primes using Sundaram's formula\n",
    "    for i in range(1, limit + 1):\n",
    "        j = i # Start j from i\n",
    "        while i + j + 2 * i * j <= limit: # Check condition for marking\n",
    "            marked[i + j + 2 * i * j] = True # Mark numbers of form i+j+2ij as non-prime\n",
    "            j += 1 # Increment j to check next multiple\n",
    "    \n",
    "    primes = [2] # Initialize prime list with 2 (the only even prime)\n",
    "\n",
    "    for i in range(1, limit + 1): # Check odd numbers\n",
    "        if not marked[i]: # If not marked as non-prime..\n",
    "            primes.append(2*i + 1) # Add corresponding odd number to primes\n",
    "            if len(primes) >= n: break # Stop once we have enough primes\n",
    "        \n",
    "    return primes[:n] # Return exactly n primes"
   ]
  },
  {
   "cell_type": "markdown",
   "metadata": {},
   "source": [
    "The test then uses `sieveOfSundaram` and `sieveOfEratosthenes` to measure and compare the performance of both algorithms when generating the first 10,000 prime numbers.\n",
    "* First, it records the start time using [`time.time()`](https://www.geeksforgeeks.org/python-time-time-method/) before calling the `sieveOfEratosthenes()` function to generate primes using the Eratosthenes algorithm.\n",
    "* It then calculates the elapsed time by subtracting the start time from the current time.\n",
    "* This process is repeated for the Sundaram algorithm using `sieveOfSundaram()`.\n",
    "* Finally, the code prints the number of primes generated by each algorithm along with their respective execution times.\n",
    "\n",
    "The results confirm Abdullah et al.'s findings, showing that Eratosthenes completed the task in approximately 0.02 seconds while Sundaram required about 0.13 seconds - making Eratosthenes roughly 6.5 times faster for this specific test case.\n",
    "This aligns with the conclusion that while Sundaram may perform better for smaller ranges, Eratosthenes outperforms it when generating larger sets of prime numbers.\n"
   ]
  },
  {
   "cell_type": "code",
   "execution_count": 38,
   "metadata": {},
   "outputs": [
    {
     "name": "stdout",
     "output_type": "stream",
     "text": [
      "Eratosthenes: 10000 primes in 0.01899886131286621094 seconds\n",
      "Sundaram: 10000 primes in 0.11199808120727539062 seconds\n"
     ]
    }
   ],
   "source": [
    "startTime = time.time() # Record start time for Eratosthenes test\n",
    "largePrimesEratosthenes = sieveOfEratosthenes(10000) # Get first 10000 primes using Eratosthenes' method\n",
    "eratosLargeTime = time.time() - startTime # Calculate time taken for Eratosthenes test\n",
    "\n",
    "startTime = time.time() # Record start time for Sundaram test\n",
    "largePrimesSundaram = sieveOfSundaram(10000) # Get first 10000 primes using Sundaram's method\n",
    "sundaramLargeTime = time.time() - startTime # Calculate time taken for Sundaram test\n",
    "\n",
    "print(f\"Eratosthenes: {len(largePrimesEratosthenes)} primes in {eratosLargeTime:.20f} seconds\")\n",
    "print(f\"Sundaram: {len(largePrimesSundaram)} primes in {sundaramLargeTime:.20f} seconds\")"
   ]
  },
  {
   "cell_type": "markdown",
   "metadata": {},
   "source": [
    "# Task 5: Roots\n",
    "**Heron's method** is described by [Pardeshi et al. (2023)](https://ijaem.net/issue_dcp/A%20Comparative%20study%20of%20calculating%20square%20roots%20using%20Heron%20s%20formula%20and%20a%20novel%20method%20discovered.pdf) as an iterative algorithm for calculating square roots, also known as the Babylonian method [5].  It works by estimating a value and then refining it through successive iterations until the desired accuracy is achieved [5]. Each iteration produces a better approximation than the previous one [5].\n",
    "\n",
    "\n",
    "**Step-by-step algorithm:**\n",
    "1. **Start with a guess**: Begin with an approximate value for the square root\n",
    "2. **Apply the formula**: Use the formula: **y = 1/2(x+a/x)**\n",
    "   - Where x is the nonperfect square \n",
    "   - a is the closest perfect square to x\n",
    "3. **Iterate**: Repeat the process using each new approximation\n",
    "4. **When to stop**: Continue until desired accuracy is reached\n",
    "\n",
    "Pardeshi et al. highlight both advantages and disadvantages of Heron's method, citing limitations regarding p-adic numbers (alternative number systems based on prime number divisibility patterns), while acknowledging its effectiveness within appropriate numerical domains [5]. The research specifically compares calculated values between an experimental method created by Pardeshi et al. and Heron's formula, finding no significant difference in first-iteration results but documenting error differences in second and third iterations [5]. This analysis shows that the Heron method's ability to provide continual iterative improvement is a distinction that demonstrates the algorithm's value in square root calculation despite its ancient origins.\n",
    "\n",
    "The function shown below, `getFractionalBitsOfRoot`, synthesizes Heron's method for finding square roots with binary representation to calculate the first 32 bits of the fractional part of square roots of prime numbers.\n",
    "\n",
    "* First, it initializes an empty list to store results for each prime number processed.\n",
    "* Then, it iterates through each prime number in the input list.\n",
    "* Next, it sets a positive value as an initial guess (`x = currentPrime / 2`) and defines a convergence threshold (`epsilon = 1e-15`).\n",
    "* The function then implements Heron's method for square root calculation in a while loop:\n",
    "  * It applies Heron's method (`0.5 * (x + currentPrime / x)`) to get a better approximation.\n",
    "  * It checks for convergence by comparing the difference between approximations using [`abs()`.](https://chatgpt.com/share/68175959-9b90-800f-a24a-fb7ad9ed775e)\n",
    "  * It updates `x` with the new approximation for the next iteration.\n",
    "* For each prime, once convergence is reached, it extracts only the fractional part by [subtracting the integer portion.](https://www.educative.io/answers/how-to-extract-the-fractional-part-of-a-float-number-in-python)\n",
    "* The fractional part is then converted to its binary representation by:\n",
    "  * [Shifting the binary point](https://github.com/ianmcloughlin/computational_theory/blob/main/materials/cube_roots.ipynb) right 32 bits to the right, in front of the decimal point\n",
    "  * Converting the shifted value to an integer\n",
    "* Finally, it adds all binary representations into the results list and returns it\n",
    "\n",
    "### Example I/O:\n",
    "**Input:**\n",
    "```\n",
    "[2, 3, 5, 7, 11]\n",
    "```\n",
    "\n",
    "**Output:**\n",
    "```\n",
    "01101010000010011110011001100111\n",
    "10111011011001111010111010000101\n",
    "00111100011011101111001101110010\n",
    "10100101010011111111010100111010\n",
    "```\n",
    "\n"
   ]
  },
  {
   "cell_type": "code",
   "execution_count": 39,
   "metadata": {},
   "outputs": [],
   "source": [
    "def getFractionalBitsOfRoot(primeList, bitPrecision=32):\n",
    "    resultList = []    # Initialize empty list to store results\n",
    "    \n",
    "    for currentPrime in primeList: # Iterate through each prime number\n",
    "        x = currentPrime / 2  # Initial guess (can be any positive value)\n",
    "        epsilon = 1e-15 # Convergence threshold\n",
    "        \n",
    "        while True: # Iterate until convergence\n",
    "            xNew = 0.5 * (x + currentPrime / x) # Heron's method for square root\n",
    "            \n",
    "            if abs(x - xNew) < epsilon: # Check for convergence\n",
    "                break\n",
    "            x = xNew # Update x for next iteration\n",
    "        fractionalPart = x - int(x)  # Extract only the fractional part by subtracting the integer portion\n",
    "        shiftedValue = fractionalPart * (2 ** bitPrecision) # Shift the binary point 32 bits to the right \n",
    "\n",
    "        binaryAsInt = int(shiftedValue) # Change to integer to get the binary representation as an integer      \n",
    "        resultList.append(binaryAsInt) # Add the calculated integer to results collection   \n",
    "    return resultList"
   ]
  },
  {
   "cell_type": "markdown",
   "metadata": {},
   "source": [
    "## Test 1: Basic Usage\n",
    "This test demonstrates the functionality of the `getFractionalBitsOfRoot` function for calculating the first 32 bits of the fractional parts of the square roots of prime numbers.\n",
    "\n",
    "* Firstly, it calls `sieveOfEratosthenes` to generate a list of the first 100 prime numbers using the Sieve of Eratosthenes algorithm.\n",
    "* Then, it implements the `getFractionalBitsOfRoot` function to process each prime number and calculate the first 32 bits of the fractional part of their square roots.\n",
    "* Finally, it outputs each prime number alongside its corresponding 32-bit binary representation of the square root's fractional part."
   ]
  },
  {
   "cell_type": "code",
   "execution_count": 105,
   "metadata": {},
   "outputs": [
    {
     "name": "stdout",
     "output_type": "stream",
     "text": [
      "     2 -- 01101010000010011110011001100111\n",
      "     3 -- 10111011011001111010111010000101\n",
      "     5 -- 00111100011011101111001101110010\n",
      "     7 -- 10100101010011111111010100111010\n",
      "    11 -- 01010001000011100101001001111111\n",
      "    13 -- 10011011000001010110100010001100\n",
      "    17 -- 00011111100000111101100110101011\n",
      "    19 -- 01011011111000001100110100011001\n",
      "    23 -- 11001011101110111001110101011101\n",
      "    29 -- 01100010100110100010100100101010\n",
      "    31 -- 10010001010110010000000101011010\n",
      "    37 -- 00010101001011111110110011011000\n",
      "    41 -- 01100111001100110010011001100111\n",
      "    43 -- 10001110101101000100101010000111\n",
      "    47 -- 11011011000011000010111000001101\n",
      "    53 -- 01000111101101010100100000011101\n",
      "    59 -- 10101110010111111001000101010110\n",
      "    61 -- 11001111011011001000010111010011\n",
      "    67 -- 00101111011100110100011101111101\n",
      "    71 -- 01101101000110000010011011001010\n",
      "    73 -- 10001011010000111101010001010111\n",
      "    79 -- 11100011011000001011010110010110\n",
      "    83 -- 00011100010001010110000000000010\n",
      "    89 -- 01101111000110010110001100110001\n",
      "    97 -- 11011001010011101011111010110001\n",
      "   101 -- 00001100110001001010011000010001\n",
      "   103 -- 00100110000111011100000111110010\n",
      "   107 -- 01011000000101011010011110111110\n",
      "   109 -- 01110000101101111110110101100111\n",
      "   113 -- 10100001010100010011110001101001\n",
      "   127 -- 01000100111110010011011000110101\n",
      "   131 -- 01110010000011011100110111111101\n",
      "   137 -- 10110100011001110011011010011110\n",
      "   139 -- 11001010001100100000101101110101\n",
      "   149 -- 00110100111000001101010000101110\n",
      "   151 -- 01001001110001111101100110111101\n",
      "   157 -- 10000111101010111011100111110010\n",
      "   163 -- 11000100011000111010001011111100\n",
      "   167 -- 11101100001111111100001111110011\n",
      "   173 -- 00100111001001110111111101101101\n",
      "   179 -- 01100001000010111110101111110010\n",
      "   181 -- 01110100001000001011010010011110\n",
      "   191 -- 11010001111111011000101000110011\n",
      "   193 -- 11100100011101110011010110010100\n",
      "   197 -- 00001001001000011001011111110110\n",
      "   199 -- 00011011010100110000110010010101\n",
      "   211 -- 10000110100111010110001101000010\n",
      "   223 -- 11101110111001010010111001001111\n",
      "   227 -- 00010001000001110110011010001001\n",
      "   229 -- 00100001111110111010001101111011\n",
      "   233 -- 01000011101010111001111110110110\n",
      "   239 -- 01110101101010011111100100011101\n",
      "   241 -- 10000110001100000101000000011001\n",
      "   251 -- 11010111110011011000000101110011\n",
      "   257 -- 00000111111111100000000011111111\n",
      "   263 -- 00110111100111110101000100111111\n",
      "   269 -- 01100110101101100101000110101000\n",
      "   271 -- 01110110010010101011100001000010\n",
      "   277 -- 10100100101100000110101111100001\n",
      "   281 -- 11000011010101111000110000010101\n",
      "   283 -- 11010010100101100010101001010011\n",
      "   293 -- 00011110000000111001111101000000\n",
      "   307 -- 10000101011110110111101111101110\n",
      "   311 -- 10100010100110111111001011011110\n",
      "   313 -- 10110001000110100011001011101000\n",
      "   317 -- 11001101111100110100111010000000\n",
      "   331 -- 00110001100000110000010000100110\n",
      "   337 -- 01011011100010010000100100101011\n",
      "   347 -- 10100000110000000110101000010011\n",
      "   349 -- 10101110011110011000010000101111\n",
      "   353 -- 11001001110011011010011010001001\n",
      "   359 -- 11110010100000011111001000111001\n",
      "   367 -- 00101000010000010010010110010010\n",
      "   373 -- 01010000001011100110010011011011\n",
      "   379 -- 01110111110010011100001000010001\n",
      "   383 -- 10010010000001001100110110011101\n",
      "   389 -- 10111001000110111111011001100011\n",
      "   397 -- 11101100110000111000110010011101\n",
      "   401 -- 00000110011001010110000010010101\n",
      "   409 -- 00111001010001111001001110000001\n",
      "   419 -- 01111000001100000111011010010111\n",
      "   421 -- 10000100101011100100101101111100\n",
      "   431 -- 11000010101100101011011101010101\n",
      "   433 -- 11001111000000111101001000001110\n",
      "   439 -- 11110011110010111011000100010111\n",
      "   443 -- 00001100001011010011101101001011\n",
      "   449 -- 00110000100010101111000101100001\n",
      "   457 -- 01100000101001111010100110011000\n",
      "   461 -- 01111000100011011001100000010010\n",
      "   463 -- 10000100011101101001101101000010\n",
      "   467 -- 10011100001101001111000001100010\n",
      "   479 -- 11100010110101010110010011000100\n",
      "   487 -- 00010001011011010111010111111101\n",
      "   491 -- 00101000100101001100000100000111\n",
      "   499 -- 01010110100110110101100011000110\n",
      "   503 -- 01101101011110110011100100111001\n",
      "   509 -- 10001111100111111000110110111011\n",
      "   521 -- 11010011010011110000001111001101\n",
      "   523 -- 11011110100000110111001011101111\n",
      "   541 -- 01000010011010000111101000111001\n"
     ]
    }
   ],
   "source": [
    "primes = sieveOfEratosthenes(100) # Get first 100 primes using Sieve of Eratosthenes\n",
    "\n",
    "# Calculate first 32 bits of the square root of each prime\n",
    "squareRootBits = getFractionalBitsOfRoot(primes, bitPrecision=32)\n",
    "\n",
    "# Print the results\n",
    "for prime, bits in zip(primes, squareRootBits):\n",
    "    print(f\"{prime:6} -- {bits:032b}\")"
   ]
  },
  {
   "cell_type": "markdown",
   "metadata": {},
   "source": [
    "## Test 2: Binary Representation Accuracy\n",
    "This test verifies the **accuracy** of the calculated binary representation for **2**, by checking against the known binary representation of √2's fractional part.\n",
    "\n",
    "* Firstly, it creates a list containing only the prime number 2 as a test case.\n",
    "* Then, it calls `getFractionalBitsOfRoot()` to calculate the first 32 bits of the square root's fractional part.\n",
    "* It extracts the integer representation of the binary value from the results.\n",
    "* The test converts this integer to a binary string, padding with leading zeros to ensure it's 32 bits long.\n",
    "* Finally, it compares the calculated binary representation against the known correct representation of √2's fractional part and reports whether the test passed or failed.\n"
   ]
  },
  {
   "cell_type": "code",
   "execution_count": 41,
   "metadata": {},
   "outputs": [
    {
     "name": "stdout",
     "output_type": "stream",
     "text": [
      "Binary representation of √2 fractional part: 01101010000010011110011001100111\n",
      "Expected representation: 01101010000010011110011001100111\n",
      "Accuracy test: Passed\n"
     ]
    }
   ],
   "source": [
    "primes = [2]  # Test with 2 as the only prime number\n",
    "results = getFractionalBitsOfRoot(primes, bitPrecision=32)  # Calculate first 32 bits of the square root of 2\n",
    "binaryAsInt = results[0]  # Get the integer representation of the binary value\n",
    "\n",
    "binaryString = bin(binaryAsInt)[2:].zfill(32)  # Convert to binary string and pad with leading zeros\n",
    "\n",
    "# Known correct first 32 bits of √2 fractional part\n",
    "expectedBinary = \"01101010000010011110011001100111\"\n",
    "\n",
    "print(f\"Binary representation of √2 fractional part: {binaryString}\")\n",
    "print(f\"Expected representation: {expectedBinary}\")\n",
    "print(f\"Accuracy test: {'Passed' if binaryString == expectedBinary else 'Failed'}\")"
   ]
  },
  {
   "cell_type": "markdown",
   "metadata": {},
   "source": [
    "# Task 6: Proof of Work\n",
    "\n",
    "**Proof of Work (PoW)** is a consensus mechanism originally introduced in the [Bitcoin whitepaper by Nakamoto](https://bitcoin.org/bitcoin.pdf) as a system to implement verification across peer networks [6]. PoW creates a transaction record that becomes difficult for attackers to modify when honest participants control most processing power [6]. It timestamps transactions through a continuous hash-based chain, forming an immutable record [6].\n",
    "\n",
    "The fundamental principle involves finding values that, when hashed with SHA-256, produce hashes beginning with a specific number of zeros [6]. Bitcoin implements this using SHA-256 hashing to find specific patterns [6]. The system works by incrementing a counter value within each block until it finds a value that produces a hash with the required leading zeros [6].\n",
    "\n",
    "Computational requirements grow exponentially for each zero bit required [6]. The counter value incrementation represents a trial-and-error approach that is inherently random due to cryptographic hash function properties [6].\n",
    "The PoW system uses computing power as a form of voting in the network [6]. The valid version of the blockchain is simply the longest chain, as it represents the greatest computational investment [6]. Miners show they accept valid blocks by using their computers to build on top of them, and they reject fake blocks by refusing to build on them [6].\n",
    "\n",
    "The function shown below, `findWordsWithMaxLeadingZeros()`, implements an algorithm to find words that produce hash values with the maximum number of leading zeros, which aligns with the fundamental principle of Proof of Work (PoW) used in Bitcoin and other blockchain systems.\n",
    "\n",
    "* First, it initializes variables to track the maximum number of leading zeros found and a list to store words with this property.\n",
    "* Then, it opens and reads a text file (`words.txt`) containing words, processing only alphabetic lines using the [list comprehension](https://python-course.eu/advanced-python/list-comprehension.php?#:~:text=List%20comprehension%20is%20an%20elegant,filter()%20and%20reduce().): `[line.strip().lower() for line in file if line.strip().isalpha()]` which simultaneously strips whitespace, converts to lowercase, and filters for alphabetic content.\n",
    "* For each word, it utilizes [`hashlib.sha256()`](https://github.com/ianmcloughlin/computational_theory/blob/main/materials/hash_functions.ipynb) with [`.encode()`](https://chatgpt.com/share/6817712f-a818-800f-862b-014d9c8a783e) and [`.digest()`](https://github.com/ianmcloughlin/computational_theory/blob/main/materials/hash_functions.ipynb) to calculate a SHA256 hash.\n",
    "* The function then analyzes each byte in the hash digest, counting leading zeros in two ways:\n",
    "  * Full-byte zeros using equality comparison and incrementing by 8\n",
    "  * Bit-by-bit counting using a [list comprehension](https://sqlpad.io/tutorial/python-enumerate/#:~:text=When%20you%20combine%20enumerate%20with,from%20another%20list%20or%20iterable) with `next()`: `leadingZeros += next((i for i, bit in enumerate(byteBin) if bit == '1'), 8)` which locates the position of the first '1' bit in the binary representation.\n",
    "* It then checks if a word produces a hash with more leading zeros than previously found, updating the maximum and resetting the list by using `[(word,` [`digest.hex(),`](https://www.w3schools.com/python/ref_func_hex.asp) `leadingZeros)]` to create a tuple containing the word, its hash, and zero count in a single entry when updating the best words list.\n",
    "* If a word matches the current maximum, it's added to the list.\n",
    "* Finally, it returns `bestWords`, providing all words that produce hashes with the maximum number of leading zeros, along with their hash values and counts.\n",
    "\n",
    "**Example I/O:**\n",
    "\n",
    "**Input:**\n",
    "```\n",
    "words.txt (a file containing):\n",
    "bitcoin\n",
    "mining\n",
    "blockchain\n",
    "crypto\n",
    "hash\n",
    "ledger\n",
    "decentralized\n",
    "```\n",
    "\n",
    "**Output:**\n",
    "```\n",
    "[('blockchain', '000a72c2c8f5926554177670f3799d4ee31a0bc79d1927e04d37146288881e47', 12), \n",
    " ('decentralized', '00052ef6f0fac693337cb9fe20731ccd5722e8c3e2c308ee5c657515f5550e6d', 12)]\n",
    "```"
   ]
  },
  {
   "cell_type": "code",
   "execution_count": 42,
   "metadata": {},
   "outputs": [],
   "source": [
    "def findWordsWithMaxLeadingZeros(path=\"words.txt\"):\n",
    "    maxZeros = 0  # Initialize maximum number of leading zeros found\n",
    "    bestWords = []  # Initialize empty list to store words with maximum leading zeros\n",
    "    \n",
    "    with open(path, \"r\") as file:  # Open the words file\n",
    "        for word in [line.strip().lower() for line in file if line.strip().isalpha()]:  # Process each alphabetic word\n",
    "            digest = hashlib.sha256(word.encode()).digest()  # Calculate SHA256 hash\n",
    "            leadingZeros = 0  # Initialize counter for leading zeros\n",
    "\n",
    "            for byte in digest:  # Iterate through each byte in digest\n",
    "                if byte == 0:  # Check if byte is completely zero\n",
    "                    leadingZeros += 8  # Add 8 bits (full byte) to leading zeros count\n",
    "                    continue\n",
    "\n",
    "                byteBin = format(byte, '08b')  # Convert byte to binary string\n",
    "                leadingZeros += next((i for i, bit in enumerate(byteBin) if bit == '1'), 8) # Find position of first '1' bit\n",
    "                break  # Exit loop after processing first non-zero byte\n",
    "            \n",
    "            if leadingZeros > maxZeros: # If there is a word with more leading zeros than current max\n",
    "                maxZeros, bestWords = leadingZeros, [(word, digest.hex(), leadingZeros)]  # Update max and reset best words list\n",
    "            elif leadingZeros == maxZeros:  # If there is a word with equal leading zeros\n",
    "                bestWords.append((word, digest.hex(), leadingZeros))  # Add to the list of best words\n",
    "    \n",
    "    return bestWords  # Return list of words with maximum leading zeros"
   ]
  },
  {
   "cell_type": "markdown",
   "metadata": {},
   "source": [
    "## Test 1: Basic Usage\n",
    "This test demonstrates the functionality of the `findWordsWithMaxLeadingZeros` function for identifying words with the highest number of leading zeros in their SHA256 hash digest.\n",
    "\n",
    "* Firstly, it calls `findWordsWithMaxLeadingZeros` to process a text file containing words and find those with the highest number of leading zeros.\n",
    "* Then, it iterates through each result to display:\n",
    "  * The word found.\n",
    "  * The hexadecimal representation of its SHA256 hash.\n",
    "  * The count of leading zeros in the hash.\n",
    "\n",
    "\n",
    "The resulting word is 'goaltenders'. Can be found in the [Oxford English Dictionary.](https://www.oed.com/search/dictionary/?scope=Entries&q=goaltenders)"
   ]
  },
  {
   "cell_type": "code",
   "execution_count": 43,
   "metadata": {},
   "outputs": [
    {
     "name": "stdout",
     "output_type": "stream",
     "text": [
      "Word(s) with maximum leading zeros:\n",
      "- goaltenders: 00002e68c9d3d1fc5d3178bee91040efbeb4ac9ea7722c834fa5d71b2e3845cd, leading zeros: 18\n"
     ]
    }
   ],
   "source": [
    "result = findWordsWithMaxLeadingZeros(\"words.txt\")  # Get words with maximum leading zeros\n",
    "\n",
    "print(f\"Word(s) with maximum leading zeros:\")\n",
    "for word, digest, zeros in result:  # Iterate through each result\n",
    "    print(f\"- {word}: {digest}, leading zeros: {zeros}\")  # Print word, hash, and zero count"
   ]
  },
  {
   "cell_type": "markdown",
   "metadata": {},
   "source": [
    "## Test 2: Verification of \"Goaltenders\" Cryptographic Properties\n",
    "This test displays the rare cryptographic properties of the word \"goaltenders\" by testing it directly with the `findWordsWithMaxLeadingZeros` function.\n",
    "\n",
    "* Firstly, it uses [`tempfile()`](https://www.geeksforgeeks.org/create-temporary-files-and-directories-using-python-tempfile/) to create a temporary file containing only the word \"goaltenders\" to isolate and test this specific word.\n",
    "* Then, it calls `findWordsWithMaxLeadingZeros` on this single-word file to analyze its SHA256 hash properties, counting its leading zeros.\n",
    "\n",
    "* Finally, it displays the result, showing that \"goaltenders\" has 18 leading zeros in its SHA256 hash and the probability of this occurrence is 1 in 262,144. This figure is derived from the chance of randomly getting 18 consecutive zero bits: (1/2)^18 = 1/262,144\n",
    "  * This demonstrates why finding words with many leading zeros is computationally difficult and relates to the core principle of Proof of Work systems.\n",
    " \n",
    "\n",
    "* The test cleans up by removing the temporary file after processing."
   ]
  },
  {
   "cell_type": "code",
   "execution_count": 44,
   "metadata": {},
   "outputs": [
    {
     "name": "stdout",
     "output_type": "stream",
     "text": [
      "'goaltenders' has 18 leading zeros (1 in 262,144 probability)\n"
     ]
    }
   ],
   "source": [
    "# Create temporary file with target word to test\n",
    "with tempfile.NamedTemporaryFile(mode='w', delete=False) as f:\n",
    "    f.write(\"goaltenders\\n\")  # Write gaoltenders to file\n",
    "    path = f.name  # Store file path for later use\n",
    "\n",
    "result = findWordsWithMaxLeadingZeros(path) # Get words with maximum leading zeros from the temporary file\n",
    "foundWord = result[0][0] if result else None  # Extract the word from result\n",
    "zeros = result[0][2] if result else 0  # Extract the leading zero count from result\n",
    "\n",
    "# Display the result\n",
    "print(f\"'{foundWord}' has {zeros} leading zeros (1 in {2**zeros:,} probability)\")\n",
    "\n",
    "# Clean up\n",
    "os.unlink(path)"
   ]
  },
  {
   "cell_type": "markdown",
   "metadata": {},
   "source": [
    "## Test 3: Dictionary Analysis and Maximum Leading Zero Identification\n",
    "This test analyzes a sample dictionary to identify words with the maximum number of leading zeros in their SHA256 hash digest, further showcasing the irregularity of a word having 18 leading zeros.\n",
    "\n",
    "Firstly, it defines the `countLeadingZerosInDigest` function which calculates the total number of leading zeros in a hash digest:\n",
    "  * It initializes a counter for leading zero bits.\n",
    "  * For each byte in the digest, it checks if the byte is all zeros. If so, it adds 8 bits to the counter and continues to the next byte.\n",
    "  * When it encounters a non-zero byte, it converts it to binary using [`format()`](https://chatgpt.com/share/6817b029-4fc8-800f-947c-ceb917d3413c).\n",
    "  * It uses a [list comprehension](https://sqlpad.io/tutorial/python-enumerate/#:~:text=When%20you%20combine%20enumerate%20with,from%20another%20list%20or%20iterable) with `next((i for i, bit in enumerate(byteBin) if bit == '1'), 8)`, which locates the position of the first '1' bit in the binary representation.\n",
    "  * It adds this position to the total count and stops processing.\n",
    "  * The function then returns the total count of leading zeros.\n"
   ]
  },
  {
   "cell_type": "code",
   "execution_count": 45,
   "metadata": {},
   "outputs": [],
   "source": [
    "def countLeadingZerosInDigest(digest):\n",
    "    leadingZeros = 0 # Initialize zero bits counter\n",
    "    \n",
    "    # Process each byte in digest\n",
    "    for byte in digest:\n",
    "        # If byte is all zeros, add 8 bits and continue\n",
    "        if byte == 0:\n",
    "            leadingZeros += 8\n",
    "            continue\n",
    "        \n",
    "        byteBin = format(byte, '08b') # Convert byte to binary string    \n",
    "        \n",
    "        # Find first '1' bit position and add to count\n",
    "        leadingZeros += next((i for i, bit in enumerate(byteBin) if bit == '1'), 8)\n",
    "        \n",
    "        break # Stop counting after first non-zero byte\n",
    "\n",
    "    return leadingZeros"
   ]
  },
  {
   "cell_type": "markdown",
   "metadata": {},
   "source": [
    "* The test then creates a sample dictionary with English words, including \"goaltenders\".\n",
    "* It writes these words to a temporary file using [`tempfile()`](https://www.geeksforgeeks.org/create-temporary-files-and-directories-using-python-tempfile/), with each word on a separate line.\n"
   ]
  },
  {
   "cell_type": "code",
   "execution_count": 46,
   "metadata": {},
   "outputs": [],
   "source": [
    " # Create a sample dictionary with English words, including \"goaltenders\"\n",
    "dictWords = [\"apple\", \"banana\", \"computer\", \"goaltenders\", \"helicopter\", \n",
    "             \"algorithm\", \"dictionary\", \"encyclopedia\", \"fundamental\", \"generation\",\n",
    "             \"hypothesis\", \"illumination\", \"juxtaposition\", \"kaleidoscope\", \"labyrinth\",]\n",
    "\n",
    "# Create a temporary file with dictionary words\n",
    "with tempfile.NamedTemporaryFile(mode='w', delete=False) as f:\n",
    "    # Write each dictionary entry as a separate line\n",
    "    for word in dictWords:\n",
    "        f.write(f\"{word}\\n\")\n",
    "    path = f.name  # Store file path for later use"
   ]
  },
  {
   "cell_type": "markdown",
   "metadata": {},
   "source": [
    "* Finally, the test processes each word in the dictionary:\n",
    "  * It calculates the SHA256 hash for each word by utilizing [`hashlib.sha256()`](https://github.com/ianmcloughlin/computational_theory/blob/main/materials/hash_functions.ipynb) with [`.encode()`](https://chatgpt.com/share/6817712f-a818-800f-862b-014d9c8a783e) and [`.digest()`](https://github.com/ianmcloughlin/computational_theory/blob/main/materials/hash_functions.ipynb).\n",
    "  * It counts the leading zeros in each digest using the `countLeadingZerosInDigest` function.\n",
    "  * It displays the cryptographic properties (leading zero count) for each word.\n",
    "\n",
    "* The results show that \"goaltenders\" has 18 leading zeros, significantly more than any other word in the sample dictionary:\n",
    "  * apple: 2 leading zeros.\n",
    "  * dictionary: 3 leading zeros.\n",
    "  * hypothesis: 1 leading zero.\n",
    "  * Most other words have 0 leading zeros."
   ]
  },
  {
   "cell_type": "code",
   "execution_count": 47,
   "metadata": {},
   "outputs": [
    {
     "name": "stdout",
     "output_type": "stream",
     "text": [
      "Cryptographic properties of dictionary words:\n",
      "apple         |  2 leading zeros\n",
      "banana        |  0 leading zeros\n",
      "computer      |  0 leading zeros\n",
      "goaltenders   | 18 leading zeros\n",
      "helicopter    |  0 leading zeros\n",
      "algorithm     |  0 leading zeros\n",
      "dictionary    |  3 leading zeros\n",
      "encyclopedia  |  0 leading zeros\n",
      "fundamental   |  0 leading zeros\n",
      "generation    |  0 leading zeros\n",
      "hypothesis    |  1 leading zeros\n",
      "illumination  |  0 leading zeros\n",
      "juxtaposition  |  0 leading zeros\n",
      "kaleidoscope  |  0 leading zeros\n",
      "labyrinth     |  0 leading zeros\n"
     ]
    }
   ],
   "source": [
    "print(\"Cryptographic properties of dictionary words:\")\n",
    "for word in dictWords:\n",
    "    digest = hashlib.sha256(word.encode()).digest() # Calculate SHA256 hash for each dictionary entry\n",
    "    zeros = countLeadingZerosInDigest(digest) # Count leading zeros in the hash digest\n",
    "\n",
    "    print(f\"{word:12s}  | {zeros:2d} leading zeros\") # Display the cryptographic property for the word\n",
    "\n",
    "# Clean up\n",
    "os.unlink(path)"
   ]
  },
  {
   "cell_type": "markdown",
   "metadata": {},
   "source": [
    "# Task 7: Turing Machines\n",
    "A [**Turing machine**](https://people.math.ethz.ch/~halorenz/4students/Literatur/TuringFullText.pdf) is a mathematical model of computation consisting of a tape divided into squares that can hold symbols, with a scanning mechanism that reads one square at a time[7]. The machine operates through distinct states (called m-configurations) and can perform basic operations: writing or erasing symbols on the current square, and moving one square left or right [7]. These simple operations are determined entirely by the current state and scanned symbol [7]. When designed to print binary digits (0 and 1), it becomes capable of calculating numbers through limited means [7].\n",
    "\n",
    "\n",
    "Turing machines serve as the foundation for modern computer science by providing an understanding of computation at its most fundamental level. They provide a definition of which numbers are computable and were originally used by Turing to prove the impossibility of the Entscheidungsproblem - the problem asking whether there exists a general algorithm that can determine if any given mathematical statement is provable within a specific system [7]. Most importantly, Turing described a \"universal computing machine\" capable of simulating any other computing machine when given its description [7], essentially inventing the concept of computers. Turing's work established a fundamental understanding of the limits of mechanical calculation methods and what can be algorithmically computed.\n",
    "\n",
    "The `addOneTuringMachine` function demonstrates a practical application of Turing machines by implementing binary addition of 1, showing how simple operations can be performed using state transitions and symbol manipulations.\n",
    "\n",
    "* The function initializes by converting the input to a [list of characters](https://github.com/ianmcloughlin/computational_theory/blob/main/materials/turing_machines.ipynb) and setting the head position to the element furthest to the right.\n",
    "* It then enters a loop that reads symbols and applies transition rules based on the current state and symbol:\n",
    "    * If the head moves past the position furthest to the left, it inserts a `1` at the beginning using [`insert()`](https://dev.to/ra1nbow1/8-ways-to-add-an-element-to-the-beginning-of-a-list-and-string-in-python-925#:~:text=Method%201%3A%20insert&text=The%20insert()%20method%20takes,as%20the%20first%20parameter%201%20.).\n",
    "    * When in `\"add\"` state with a `0`, it writes `1` and terminates. When in `\"add\"` state with a `1`, it writes `0`, moves left, and changes to `\"carry\"` state.\n",
    "    * In `\"carry\"` state with a `0`, it writes `1` and terminates. If in `\"carry\"` state with a `1`, it continues carrying by writing `0` and moving left.\n",
    "* Finally, it converts the tape back to a string and returns it.\n",
    "\n",
    "**Example I/O:**\n",
    "**Input:**\n",
    "```\n",
    "\"1011\"\n",
    "```\n",
    "\n",
    "**Output:**\n",
    "```\n",
    "\"1100\"\n",
    "```\n"
   ]
  },
  {
   "cell_type": "code",
   "execution_count": 48,
   "metadata": {},
   "outputs": [],
   "source": [
    "def addOneTuringMachine(inputTape):\n",
    "    tape = list(inputTape)  # Convert input string to list of characters\n",
    "    headPosition = len(tape) - 1  # Set head position to element on the right (least significant bit)\n",
    "    state = \"add\"  # Initialize state machine to \"add\" state\n",
    "    \n",
    "    while True:\n",
    "        if headPosition < 0:  # Check if head has moved past the far left position\n",
    "            tape.insert(0, '1')  # Insert a '1' at the beginning of tape (new most significant bit)\n",
    "            break\n",
    "        \n",
    "        currentSymbol = tape[headPosition]  # Read the symbol at current head position\n",
    "        \n",
    "        # Transition rules based on current state and symbol\n",
    "        if (state == \"add\" and currentSymbol == '0') or (state == \"carry\" and currentSymbol == '0'):\n",
    "            tape[headPosition] = '1'  # Write '1' to the current position\n",
    "            break \n",
    "        elif (state == \"add\" and currentSymbol == '1') or (state == \"carry\" and currentSymbol == '1'):\n",
    "            tape[headPosition] = '0'  # Write '0' to the current position\n",
    "            headPosition -= 1  # Move head left\n",
    "            state = \"carry\"  # Change state to \"carry\" for the next iteration\n",
    "    \n",
    "    return ''.join(tape)  # Convert list back to string and return the result"
   ]
  },
  {
   "cell_type": "markdown",
   "metadata": {},
   "source": [
    "## Test 1: Basic usage\n",
    "This test demonstrates the functionality of the `addOneTuringMachine` function for adding 1 to a binary number on a tape. It tests various binary numbers to validate functionality across a range of inputs."
   ]
  },
  {
   "cell_type": "code",
   "execution_count": 49,
   "metadata": {},
   "outputs": [],
   "source": [
    "# Test multiple binary numbers with the Turing machine. Compare results with expected values.\n",
    "testCases = [\n",
    "    (\"100111\", \"101000\"),\n",
    "    (\"0\", \"1\"),\n",
    "    (\"1\", \"10\"),\n",
    "    (\"10\", \"11\"),\n",
    "    (\"11\", \"100\"),\n",
    "    (\"1111\", \"10000\"),\n",
    "    (\"101010\", \"101011\"),\n",
    "    (\"\", \"1\")\n",
    "]"
   ]
  },
  {
   "cell_type": "markdown",
   "metadata": {},
   "source": [
    "* Firstly, it calls `addOneTuringMachine` to process various binary inputs and add 1 to each value.\n",
    "* Then, it compares the Turing machine's output to the expected result by checking:\n",
    "  * The input binary string\n",
    "  * The expected output after adding 1\n",
    "  * The actual output from the Turing machine\n",
    "* The test passes for an input if the generated output matches the expected output.\n",
    "\n",
    "The test includes various edge cases such as:\n",
    "* Empty input\n",
    "* Single digits (0, 1)\n",
    "* Numbers requiring carry operations\n",
    "* Numbers requiring a new digit to be added"
   ]
  },
  {
   "cell_type": "code",
   "execution_count": 50,
   "metadata": {},
   "outputs": [
    {
     "name": "stdout",
     "output_type": "stream",
     "text": [
      "Input: 100111\n",
      "Expected: 101000\n",
      "Output: 101000\n",
      "Status: Passed\n",
      "------------------------------\n",
      "Input: 0\n",
      "Expected: 1\n",
      "Output: 1\n",
      "Status: Passed\n",
      "------------------------------\n",
      "Input: 1\n",
      "Expected: 10\n",
      "Output: 10\n",
      "Status: Passed\n",
      "------------------------------\n",
      "Input: 10\n",
      "Expected: 11\n",
      "Output: 11\n",
      "Status: Passed\n",
      "------------------------------\n",
      "Input: 11\n",
      "Expected: 100\n",
      "Output: 100\n",
      "Status: Passed\n",
      "------------------------------\n",
      "Input: 1111\n",
      "Expected: 10000\n",
      "Output: 10000\n",
      "Status: Passed\n",
      "------------------------------\n",
      "Input: 101010\n",
      "Expected: 101011\n",
      "Output: 101011\n",
      "Status: Passed\n",
      "------------------------------\n",
      "Input: empty\n",
      "Expected: 1\n",
      "Output: 1\n",
      "Status: Passed\n",
      "------------------------------\n",
      "All tests passed successfully!\n"
     ]
    }
   ],
   "source": [
    "allTestsPassed = True  # Initialize a flag to track if all tests pass\n",
    "\n",
    "# Loop through each test case with input and expected output\n",
    "for inputTape, expectedOutput in testCases:\n",
    "    result = addOneTuringMachine(inputTape)  # Run the Turing machine on this input\n",
    "    \n",
    "    testPassed = result == expectedOutput  # Check if the result matches expected output\n",
    "    allTestsPassed = allTestsPassed and testPassed  # Update the overall status\n",
    "    \n",
    "    status = \"Passed\" if testPassed else \"Failed\"\n",
    "    print(f\"Input: {inputTape or 'empty'}\\nExpected: {expectedOutput}\\nOutput: {result}\\nStatus: {status}\\n{'-' * 30}\") \n",
    "\n",
    "if allTestsPassed:\n",
    "    print(\"All tests passed successfully!\")  \n",
    "else:\n",
    "    print(\"Some tests failed. Check the results above\") "
   ]
  },
  {
   "cell_type": "markdown",
   "metadata": {},
   "source": [
    "## Test 2: Initial State Configuration\n",
    "This test evaluates how the `addOneTuringMachine` function handles different initial tape configurations by testing various starting binary numbers.\n",
    "\n",
    "* The test verifies that the Turing machine correctly initializes its internal state to `\"add\"` and properly positions the head at the symbol furthest to the right (least significant bit) before beginning operations.\n",
    "* It tests three distinct initial configurations:\n",
    "  * A multi-bit number (`\"10111\"`) - checks correct handling of multiple carries\n",
    "  * A number requiring mid-sequence carry (`\"10011\"`) - verifies state transitions between \"add\" and \"carry\" states\n",
    "  * A single-digit input (`\"0\"`) - confirms edge case handling when starting with the simplest possible tape\n",
    "\n"
   ]
  },
  {
   "cell_type": "code",
   "execution_count": 51,
   "metadata": {},
   "outputs": [
    {
     "name": "stdout",
     "output_type": "stream",
     "text": [
      "Initial state: 10111, Result: 11000\n",
      "Standard binary addition test: Passed\n",
      "\n",
      "Initial state: 10011, Result: 10100\n",
      "Mid-bit carry test: Passed\n",
      "\n",
      "Initial state: 0, Result: 1\n",
      "Single digit test: Passed\n",
      "\n"
     ]
    }
   ],
   "source": [
    "inputTape1 = \"10111\"  # Multi-bit number\n",
    "result1 = addOneTuringMachine(inputTape1)  # Add 1 to the binary number\n",
    "print(f\"Initial state: {inputTape1}, Result: {result1}\")\n",
    "print(f\"Standard binary addition test: {'Passed' if result1 == '11000' else 'Failed'}\\n\")\n",
    "\n",
    "inputTape2 = \"10011\"  # Requires carry in the middle of the number\n",
    "result2 = addOneTuringMachine(inputTape2)  # Process the second test case\n",
    "print(f\"Initial state: {inputTape2}, Result: {result2}\")  \n",
    "print(f\"Mid-bit carry test: {'Passed' if result2 == '10100' else 'Failed'}\\n\") \n",
    "\n",
    "inputTape3 = \"0\"  # Simple single digit number\n",
    "result3 = addOneTuringMachine(inputTape3)  # Handle the edge case of a single digit\n",
    "print(f\"Initial state: {inputTape3}, Result: {result3}\")\n",
    "print(f\"Single digit test: {'Passed' if result3 == '1' else 'Failed'}\\n\") "
   ]
  },
  {
   "cell_type": "markdown",
   "metadata": {},
   "source": [
    "## Test 3: Symbol Transition Logic\n",
    "This test evaluates how the `addOneTuringMachine` function handles symbol transitions and state changes during binary addition operations.\n",
    "\n",
    "* The test verifies that the Turing machine correctly implements transition rules based on the current state and read symbol:\n",
    "  * When in `\"add\"` state reading `\"0\"`, it writes `\"1\"` and terminates.\n",
    "  * When in `\"add\"` state reading `\"1\"`, it writes `\"0\"`, changes to `\"carry\"` state, and moves left.\n",
    "  * When in `\"carry\"` state reading `\"0\"`, it writes `\"1\"` and terminates.\n",
    "  * When in `\"carry\"` state reading `\"1\"`, it writes `\"0\"` and continues carrying left.\n",
    "* It tests three specific transition scenarios:\n",
    "  * Basic carry operation (\"11\") - tests the transition from `\"add\"` to `\"carry\"` state.\n",
    "  * Single digit overflow (\"111\") - verifies correct handling when carries extend to a new digit.\n",
    "  * Complex multi-bit carrying (\"10111\") - tests multiple state transitions across several symbols.\n"
   ]
  },
  {
   "cell_type": "code",
   "execution_count": 52,
   "metadata": {},
   "outputs": [
    {
     "name": "stdout",
     "output_type": "stream",
     "text": [
      "Initial state: 11, Result: 100\n",
      "Basic carry test: Passed\n",
      "\n",
      "Initial state: 111, Result: 1000\n",
      "Single digit overflow test: Passed\n",
      "\n",
      "Initial state: 10111, Result: 11000\n",
      "Complex binary addition test: Passed\n",
      "\n"
     ]
    }
   ],
   "source": [
    "inputTape4 = \"11\"  # Requires a basic carry\n",
    "result4 = addOneTuringMachine(inputTape4)  # Add 1 to the binary number\n",
    "print(f\"Initial state: {inputTape4}, Result: {result4}\") \n",
    "print(f\"Basic carry test: {'Passed' if result4 == '100' else 'Failed'}\\n\") \n",
    "\n",
    "inputTape5 = \"111\"  # Requires carry to a new digit\n",
    "result5 = addOneTuringMachine(inputTape5)  # Process second test case\n",
    "print(f\"Initial state: {inputTape5}, Result: {result5}\")\n",
    "print(f\"Single digit overflow test: {'Passed' if result5 == '1000' else 'Failed'}\\n\") \n",
    "\n",
    "inputTape6 = \"10111\"  # Complex case with multiple carries\n",
    "result6 = addOneTuringMachine(inputTape6)  # Handle the case requiring multiple carries\n",
    "print(f\"Initial state: {inputTape6}, Result: {result6}\") \n",
    "print(f\"Complex binary addition test: {'Passed' if result6 == '11000' else 'Failed'}\\n\") "
   ]
  },
  {
   "cell_type": "markdown",
   "metadata": {},
   "source": [
    "## Test 4: Tape Head Movement\n",
    "This test evaluates how the `addOneTuringMachine` function handles tape head movement and edge cases related to tape boundaries.\n",
    "\n",
    "* The test verifies that the Turing machine correctly manages tape head positioning and boundary conditions:\n",
    "  * When the head moves past the position furthest to the left, it inserts a new symbol at the beginning.\n",
    "  * It properly handles leading zeros and empty tapes by inserting new symbols as needed.\n",
    "  * The head movement correctly follows the transition rules based on the state and the symbol.\n",
    "* It tests three specific movement scenarios:\n",
    "  * Empty tape (\"\") - tests handling when no symbols are present.\n",
    "  * Leading zeros (\"001\") - verifies correct head positioning when leading digits are 0.\n",
    "  * Multiple carries requiring leftward movement (\"11111\") - tests extensive head movement across the tape."
   ]
  },
  {
   "cell_type": "code",
   "execution_count": 53,
   "metadata": {},
   "outputs": [
    {
     "name": "stdout",
     "output_type": "stream",
     "text": [
      "Initial state: , Result: 1\n",
      "Empty tape test: Passed\n",
      "\n",
      "Initial state: 001, Result: 010\n",
      "Leading zeros test: Passed\n",
      "\n",
      "Initial state: 11111, Result: 100000\n",
      "Multiple carries test: Passed\n",
      "\n"
     ]
    }
   ],
   "source": [
    "inputTape7 = \"\"  # Empty tape\n",
    "result7 = addOneTuringMachine(inputTape7)  # Add 1 to an empty tape\n",
    "print(f\"Initial state: {inputTape7}, Result: {result7}\")\n",
    "print(f\"Empty tape test: {'Passed' if result7 == '1' else 'Failed'}\\n\") \n",
    "\n",
    "inputTape8 = \"001\"  # Leading zeroes to verify correct head positioning\n",
    "result8 = addOneTuringMachine(inputTape8)  # Process the case with leading zeros\n",
    "print(f\"Initial state: {inputTape8}, Result: {result8}\")\n",
    "print(f\"Leading zeros test: {'Passed' if result8 == '010' else 'Failed'}\\n\") \n",
    "\n",
    "inputTape9 = \"11111\"  # Requires multiple carries\n",
    "result9 = addOneTuringMachine(inputTape9)  # Handle the case requiring multiple carries\n",
    "print(f\"Initial state: {inputTape9}, Result: {result9}\")\n",
    "print(f\"Multiple carries test: {'Passed' if result9 == '100000' else 'Failed'}\\n\")"
   ]
  },
  {
   "cell_type": "markdown",
   "metadata": {},
   "source": [
    "# Task 8: Computational Complexity\n",
    "\n",
    "**Bubble sort** is described by [Durrani and AbdulHayan (2022)](https://ieeexplore.ieee.org/document/9988424) as the oldest and simplest data sorting algorithm [8]. The basic process of bubble sort involves examining pairs of neighboring elements in a dataset and switching their positions when they're out of order [8]. This swapping causes larger values to gradually rise toward the end of the list while smaller values naturally move toward the beginning - similar to how bubbles float up in water and heavier objects sink down [8]. Bubble sort stands out for its ease of use and integration, but its computational efficiency deteriorates quadratically as dataset size increases, rendering it unsuitable for processing large amounts of data [8].\n",
    "\n",
    "**Step-by-step algorithm:**\n",
    "1. **Compare adjacent elements**: Start at the beginning of the array.\n",
    "2. **Swap if necessary**: If the first element is greater than the second, swap them.\n",
    "3. **Iterate through list**: Continue this process for each pair of adjacent elements.\n",
    "4. **Complete a pass**: One full iteration through the list constitutes a pass.\n",
    "5. **Repeat until sorted**: Continue making passes until no swaps are needed.\n",
    "\n",
    "Durrani and AbdulHayan examine bubble sort in comparison to alternative sorting techniques [8]. They note that while it is valuable as an educational tool for introducing fundamental computer science concepts, bubble sort's practical utility decreases significantly when processing larger information sets [8]. Their analysis contrasts bubble sort's efficiency against more advanced methods such as insertion and selection algorithms [8].\n",
    "\n",
    "From a computational complexity perspective, bubble sort exhibits its optimal performance of O(n) when processing sorted lists [8]. In the worst-case scenario, when data is arranged in reverse order, the algorithm's efficiency deteriorates greatly [8]. The average-case performance operates at O(n^2) time complexity, while maintaining a consistent O(1) space requirement regardless of input size [8].\n",
    "\n",
    "\n",
    "The `bubbleSort` function demonstrates a practical implementation of the bubble sort algorithm described by Durrani and AbdulHayan, showing how simple comparison-based sorting can be performed using nested loops and element swapping.\n",
    "\n",
    "* The function initializes by getting the length of the input array, setting a comparison counter to 0, and creating a copy of the original array.\n",
    "* It then enters a loop that [iterates through the array elements](https://www.geeksforgeeks.org/python-program-for-bubble-sort/):\n",
    "  * The outer loop passes through the entire array.\n",
    "  * A `swapped` flag is initialized to `False` at the beginning of each pass.\n",
    "  * The inner loop compares adjacent elements:\n",
    "    * If an element is greater than the adjacent element to its right (`arrayCopy[j] > arrayCopy[j+1]`), it swaps their positions.\n",
    "    * The `swapped` flag is set to `True` indicating a swap occurred.\n",
    "    * The comparison counter is incremented by 1 for each comparison.\n",
    "  * If no swaps occurred during a pass, the array is sorted and the loop breaks.\n",
    "* Finally, it returns the total number of comparisons performed.\n",
    "\n",
    "## Example I/O: Input:\n",
    "```\n",
    "[5, 3, 8, 4, 2]\n",
    "```\n",
    "\n",
    "## Output:\n",
    "```\n",
    "Sorted array: [2, 3, 4, 5, 8]\n",
    "Number of comparisons: 8\n",
    "```\n",
    "\n"
   ]
  },
  {
   "cell_type": "code",
   "execution_count": 54,
   "metadata": {},
   "outputs": [],
   "source": [
    "def bubbleSort(arr):\n",
    "    n = len(arr) # Get length of the input array\n",
    "    comparisons = 0 # Initialize comparison counter\n",
    "    arrayCopy = arr.copy() # Create a copy to preserve original array\n",
    "    \n",
    "    # Outer loop through array elements\n",
    "    for i in range(n):\n",
    "        swapped = False # Flag to track if any swaps occur in this pass\n",
    "\n",
    "        # Inner loop to compare adjacent elements\n",
    "        for j in range(0, n-i-1):\n",
    "            comparisons += 1 # Increment comparison counter\n",
    "            if arrayCopy[j] > arrayCopy[j+1]: # Compare adjacent elements\n",
    "                arrayCopy[j], arrayCopy[j+1] = arrayCopy[j+1], arrayCopy[j] # Swap if in wrong order\n",
    "                swapped = True # Set flag as swap occurred\n",
    "        \n",
    "        if not swapped: # If no swaps occurred, array is sorted\n",
    "            break \n",
    "    \n",
    "    return comparisons # Return total comparison count"
   ]
  },
  {
   "cell_type": "markdown",
   "metadata": {},
   "source": [
    "## Test 1: Basic Usage\n",
    "This test demonstrates the functionality of the `bubbleSort()` function for counting comparisons across all possible arrangements of a list.\n",
    "\n",
    "* Firstly, it creates a test list of integers and generates all possible permutations of that list using [`itertools.permutations()`](https://www.geeksforgeeks.org/python-itertools-permutations/).\n",
    "* Then, for each permutation, it:\n",
    "  * Converts the tuple permutation to a list.\n",
    "  * Applies the bubble sort algorithm to the list using `bubbleSort()` and counts the number of comparisons needed.\n",
    "  * Displays both the permutation and its comparison count."
   ]
  },
  {
   "cell_type": "code",
   "execution_count": 55,
   "metadata": {},
   "outputs": [
    {
     "name": "stdout",
     "output_type": "stream",
     "text": [
      "(1, 2, 3, 4, 5) -> 4\n",
      "(1, 2, 3, 5, 4) -> 7\n",
      "(1, 2, 4, 3, 5) -> 7\n",
      "(1, 2, 4, 5, 3) -> 9\n",
      "(1, 2, 5, 3, 4) -> 7\n",
      "(1, 2, 5, 4, 3) -> 9\n",
      "(1, 3, 2, 4, 5) -> 7\n",
      "(1, 3, 2, 5, 4) -> 7\n",
      "(1, 3, 4, 2, 5) -> 9\n",
      "(1, 3, 4, 5, 2) -> 10\n",
      "(1, 3, 5, 2, 4) -> 9\n",
      "(1, 3, 5, 4, 2) -> 10\n",
      "(1, 4, 2, 3, 5) -> 7\n",
      "(1, 4, 2, 5, 3) -> 9\n",
      "(1, 4, 3, 2, 5) -> 9\n",
      "(1, 4, 3, 5, 2) -> 10\n",
      "(1, 4, 5, 2, 3) -> 9\n",
      "(1, 4, 5, 3, 2) -> 10\n",
      "(1, 5, 2, 3, 4) -> 7\n",
      "(1, 5, 2, 4, 3) -> 9\n",
      "(1, 5, 3, 2, 4) -> 9\n",
      "(1, 5, 3, 4, 2) -> 10\n",
      "(1, 5, 4, 2, 3) -> 9\n",
      "(1, 5, 4, 3, 2) -> 10\n",
      "(2, 1, 3, 4, 5) -> 7\n",
      "(2, 1, 3, 5, 4) -> 7\n",
      "(2, 1, 4, 3, 5) -> 7\n",
      "(2, 1, 4, 5, 3) -> 9\n",
      "(2, 1, 5, 3, 4) -> 7\n",
      "(2, 1, 5, 4, 3) -> 9\n",
      "(2, 3, 1, 4, 5) -> 9\n",
      "(2, 3, 1, 5, 4) -> 9\n",
      "(2, 3, 4, 1, 5) -> 10\n",
      "(2, 3, 4, 5, 1) -> 10\n",
      "(2, 3, 5, 1, 4) -> 10\n",
      "(2, 3, 5, 4, 1) -> 10\n",
      "(2, 4, 1, 3, 5) -> 9\n",
      "(2, 4, 1, 5, 3) -> 9\n",
      "(2, 4, 3, 1, 5) -> 10\n",
      "(2, 4, 3, 5, 1) -> 10\n",
      "(2, 4, 5, 1, 3) -> 10\n",
      "(2, 4, 5, 3, 1) -> 10\n",
      "(2, 5, 1, 3, 4) -> 9\n",
      "(2, 5, 1, 4, 3) -> 9\n",
      "(2, 5, 3, 1, 4) -> 10\n",
      "(2, 5, 3, 4, 1) -> 10\n",
      "(2, 5, 4, 1, 3) -> 10\n",
      "(2, 5, 4, 3, 1) -> 10\n",
      "(3, 1, 2, 4, 5) -> 7\n",
      "(3, 1, 2, 5, 4) -> 7\n",
      "(3, 1, 4, 2, 5) -> 9\n",
      "(3, 1, 4, 5, 2) -> 10\n",
      "(3, 1, 5, 2, 4) -> 9\n",
      "(3, 1, 5, 4, 2) -> 10\n",
      "(3, 2, 1, 4, 5) -> 9\n",
      "(3, 2, 1, 5, 4) -> 9\n",
      "(3, 2, 4, 1, 5) -> 10\n",
      "(3, 2, 4, 5, 1) -> 10\n",
      "(3, 2, 5, 1, 4) -> 10\n",
      "(3, 2, 5, 4, 1) -> 10\n",
      "(3, 4, 1, 2, 5) -> 9\n",
      "(3, 4, 1, 5, 2) -> 10\n",
      "(3, 4, 2, 1, 5) -> 10\n",
      "(3, 4, 2, 5, 1) -> 10\n",
      "(3, 4, 5, 1, 2) -> 10\n",
      "(3, 4, 5, 2, 1) -> 10\n",
      "(3, 5, 1, 2, 4) -> 9\n",
      "(3, 5, 1, 4, 2) -> 10\n",
      "(3, 5, 2, 1, 4) -> 10\n",
      "(3, 5, 2, 4, 1) -> 10\n",
      "(3, 5, 4, 1, 2) -> 10\n",
      "(3, 5, 4, 2, 1) -> 10\n",
      "(4, 1, 2, 3, 5) -> 7\n",
      "(4, 1, 2, 5, 3) -> 9\n",
      "(4, 1, 3, 2, 5) -> 9\n",
      "(4, 1, 3, 5, 2) -> 10\n",
      "(4, 1, 5, 2, 3) -> 9\n",
      "(4, 1, 5, 3, 2) -> 10\n",
      "(4, 2, 1, 3, 5) -> 9\n",
      "(4, 2, 1, 5, 3) -> 9\n",
      "(4, 2, 3, 1, 5) -> 10\n",
      "(4, 2, 3, 5, 1) -> 10\n",
      "(4, 2, 5, 1, 3) -> 10\n",
      "(4, 2, 5, 3, 1) -> 10\n",
      "(4, 3, 1, 2, 5) -> 9\n",
      "(4, 3, 1, 5, 2) -> 10\n",
      "(4, 3, 2, 1, 5) -> 10\n",
      "(4, 3, 2, 5, 1) -> 10\n",
      "(4, 3, 5, 1, 2) -> 10\n",
      "(4, 3, 5, 2, 1) -> 10\n",
      "(4, 5, 1, 2, 3) -> 9\n",
      "(4, 5, 1, 3, 2) -> 10\n",
      "(4, 5, 2, 1, 3) -> 10\n",
      "(4, 5, 2, 3, 1) -> 10\n",
      "(4, 5, 3, 1, 2) -> 10\n",
      "(4, 5, 3, 2, 1) -> 10\n",
      "(5, 1, 2, 3, 4) -> 7\n",
      "(5, 1, 2, 4, 3) -> 9\n",
      "(5, 1, 3, 2, 4) -> 9\n",
      "(5, 1, 3, 4, 2) -> 10\n",
      "(5, 1, 4, 2, 3) -> 9\n",
      "(5, 1, 4, 3, 2) -> 10\n",
      "(5, 2, 1, 3, 4) -> 9\n",
      "(5, 2, 1, 4, 3) -> 9\n",
      "(5, 2, 3, 1, 4) -> 10\n",
      "(5, 2, 3, 4, 1) -> 10\n",
      "(5, 2, 4, 1, 3) -> 10\n",
      "(5, 2, 4, 3, 1) -> 10\n",
      "(5, 3, 1, 2, 4) -> 9\n",
      "(5, 3, 1, 4, 2) -> 10\n",
      "(5, 3, 2, 1, 4) -> 10\n",
      "(5, 3, 2, 4, 1) -> 10\n",
      "(5, 3, 4, 1, 2) -> 10\n",
      "(5, 3, 4, 2, 1) -> 10\n",
      "(5, 4, 1, 2, 3) -> 9\n",
      "(5, 4, 1, 3, 2) -> 10\n",
      "(5, 4, 2, 1, 3) -> 10\n",
      "(5, 4, 2, 3, 1) -> 10\n",
      "(5, 4, 3, 1, 2) -> 10\n",
      "(5, 4, 3, 2, 1) -> 10\n"
     ]
    }
   ],
   "source": [
    "L = [1, 2, 3, 4, 5] # Test list of integers\n",
    "\n",
    "# Generate all permutations\n",
    "for perm in itertools.permutations(L):\n",
    "    permList = list(perm) # Convert tuple to list\n",
    "    comparisons = bubbleSort(permList) # Sort and count comparisons\n",
    "    print(perm, \"->\", comparisons)"
   ]
  },
  {
   "cell_type": "markdown",
   "metadata": {},
   "source": [
    "## Test 2: Best Case Performance (O(n))\n",
    "This test evaluates bubble sort's performance in its best-case scenario: sorting an already-sorted array."
   ]
  },
  {
   "cell_type": "code",
   "execution_count": 66,
   "metadata": {},
   "outputs": [],
   "source": [
    "sizeList = [100, 250, 500, 750, 1000, 2000, 5000, 7500, 10000, 15000] # Define list of array sizes to test\n",
    "iterations = 5 # Number of iterations for time averaging\n",
    "\n",
    "# Create empty lists to collect data for graphing\n",
    "comparisonList = []\n",
    "avgTimeList = []"
   ]
  },
  {
   "cell_type": "markdown",
   "metadata": {},
   "source": [
    "* It tests multiple array sizes to demonstrate how bubble sort's computational efficiency changes with input size.\n",
    "* For each specified array size:\n",
    "  * A [pre-sorted array](https://chatgpt.com/share/6817c6b3-1594-800f-bbd1-8febd4d65d34) is created (best case for bubble sort).\n",
    "  * The algorithm is run multiple times, using [`time.perf_counter()`](https://chatgpt.com/share/6817c476-1e54-800f-ac0f-3bba6fbd1911) to get precise time measurements.\n",
    "  * Both the number of comparisons and execution time are recorded."
   ]
  },
  {
   "cell_type": "code",
   "execution_count": 67,
   "metadata": {},
   "outputs": [
    {
     "name": "stdout",
     "output_type": "stream",
     "text": [
      "Size | Comparisons | Execution Time (sec)\n",
      "----------------------------------------\n",
      "100 | 99 | 0.0000099400\n",
      "250 | 249 | 0.0000179200\n",
      "500 | 499 | 0.0000487000\n",
      "750 | 749 | 0.0000610800\n",
      "1000 | 999 | 0.0000802800\n",
      "2000 | 1999 | 0.0001441400\n",
      "5000 | 4999 | 0.0003566000\n",
      "7500 | 7499 | 0.0005991200\n",
      "10000 | 9999 | 0.0007601600\n",
      "15000 | 14999 | 0.0011531200\n"
     ]
    }
   ],
   "source": [
    "print(\"Size | Comparisons | Execution Time (sec)\") \n",
    "print(\"-\" * 40)\n",
    "# Loop through each array size\n",
    "for size in sizeList:\n",
    "    totalTime = 0 # Initialize total time for averaging\n",
    "    \n",
    "    # Create sorted array - best case for bubble sort\n",
    "    testArray = list(range(size))\n",
    "    \n",
    "    # Run multiple iterations and average the time\n",
    "    for i in range(iterations):\n",
    "        startTime = time.perf_counter() # Record start time before sorting\n",
    "        comparisons = bubbleSort(testArray) # Apply bubble sort and store comparison count\n",
    "        totalTime += time.perf_counter() - startTime # Calculate execution time by finding difference\n",
    "    \n",
    "    avgTime = totalTime / iterations # Calculate average time taken\n",
    "    print(f\"{size} | {comparisons} | {avgTime:.10f}\")\n",
    "\n",
    "    # Append values to lists for plotting\n",
    "    comparisonList.append(comparisons)\n",
    "    avgTimeList.append(avgTime)"
   ]
  },
  {
   "cell_type": "markdown",
   "metadata": {},
   "source": [
    "The results, plotted using [`matplotlib.plt`](https://github.com/ianmcloughlin/computational_theory/blob/main/materials/computational_complexity.ipynb), confirm bubble sort's O(n) best-case complexity, showing:\n",
    "* Almost instant execution times.\n",
    "* For an array of size n, exactly n-1 comparisons are made.\n",
    "* The execution time and number of comparisons increase linearly with input size."
   ]
  },
  {
   "cell_type": "code",
   "execution_count": null,
   "metadata": {},
   "outputs": [
    {
     "data": {
      "image/png": "[encoded data removed]",
      "text/plain": [
       "<Figure size 1000x600 with 2 Axes>"
      ]
     },
     "metadata": {},
     "output_type": "display_data"
    }
   ],
   "source": [
    "# Plot the data\n",
    "plt.figure(figsize=(10, 6))\n",
    "\n",
    "# First y-axis - Comparisons\n",
    "ax1 = plt.gca()\n",
    "line1, = ax1.plot(sizeList, comparisonList, 'b-', label='Comparisons')\n",
    "ax1.set_xlabel('Array Size (n)')\n",
    "ax1.set_ylabel('Number of Comparisons', color='blue')\n",
    "ax1.tick_params(axis='y', labelcolor='blue')\n",
    "\n",
    "# Second y-axis - Execution Time\n",
    "ax2 = ax1.twinx()\n",
    "line2, = ax2.plot(sizeList, avgTimeList, 'r-', label='Execution Time')\n",
    "ax2.set_ylabel('Execution Time (sec)', color='red')\n",
    "ax2.tick_params(axis='y', labelcolor='red')\n",
    "\n",
    "# Display title, legend and grid\n",
    "plt.title('Bubble Sort Best Case Performance (O(n))')\n",
    "plt.grid(True, linestyle='--', alpha=0.7)\n",
    "plt.legend(handles=[line1, line2], loc='upper left')\n",
    "plt.show()"
   ]
  },
  {
   "cell_type": "markdown",
   "metadata": {},
   "source": [
    "## Test 3: Worst Case Scenario\n",
    "This test evaluates bubble sort's performance in its worst-case scenario: sorting a reverse-sorted array."
   ]
  },
  {
   "cell_type": "code",
   "execution_count": 93,
   "metadata": {},
   "outputs": [],
   "source": [
    "sizeList = [100, 250, 500, 750, 1000, 2000, 5000, 7500, 10000, 15000] # Define list of array sizes to test\n",
    "\n",
    "# Create empty lists to collect data for graphing\n",
    "comparisonList = []\n",
    "avgTimeList = []"
   ]
  },
  {
   "cell_type": "markdown",
   "metadata": {},
   "source": [
    "* It tests multiple array sizes to demonstrate how bubble sort's computational efficiency degrades with input size.\n",
    "* For each specified array size:\n",
    "  * A [reverse-sorted array](https://chatgpt.com/share/6817c7a1-aeb0-800f-a21b-3855a907191d) is created (worst case for bubble sort).\n",
    "  * The algorithm is run to measure execution time.\n",
    "  * Both the number of comparisons and execution time are recorded."
   ]
  },
  {
   "cell_type": "code",
   "execution_count": 94,
   "metadata": {},
   "outputs": [
    {
     "name": "stdout",
     "output_type": "stream",
     "text": [
      "Size | Comparisons | Execution Time (sec)\n",
      "----------------------------------------\n",
      "100 | 4950 | 0.0010001659\n",
      "250 | 31125 | 0.0029985905\n",
      "500 | 124750 | 0.0169982910\n",
      "750 | 280875 | 0.0369989872\n",
      "1000 | 499500 | 0.0720019341\n",
      "2000 | 1999000 | 0.3029999733\n",
      "5000 | 12497500 | 1.8910784721\n",
      "7500 | 28121250 | 4.1082258224\n",
      "10000 | 49995000 | 7.7362241745\n",
      "15000 | 112492500 | 16.6564586163\n"
     ]
    }
   ],
   "source": [
    "print(\"Size | Comparisons | Execution Time (sec)\") \n",
    "print(\"-\" * 40)\n",
    "\n",
    "# Loop through each array size\n",
    "for size in sizeList:\n",
    "    # Create reverse sorted array - worst case for bubble sort\n",
    "    testArray = list(range(size, 0, -1))\n",
    "    \n",
    "    startTime = time.time() # Record start time before sorting\n",
    "    comparisons = bubbleSort(testArray) # Apply bubble sort and store comparison count\n",
    "    executionTime = time.time() - startTime # Calculate execution time by finding difference\n",
    "    \n",
    "    print(f\"{size} | {comparisons} | {executionTime:.10f}\")\n",
    "\n",
    "    # Append values to lists for plotting\n",
    "    comparisonList.append(comparisons)\n",
    "    avgTimeList.append(executionTime)"
   ]
  },
  {
   "cell_type": "markdown",
   "metadata": {},
   "source": [
    "The results confirm bubble sort's worst-case complexity, showing:\n",
    "* Approximately n^2/2 comparisons are made for each array.\n",
    "* The execution time and number of comparisons increases quadratically with input size.\n",
    "* Performance deteriorates significantly as input sizes grow larger."
   ]
  },
  {
   "cell_type": "code",
   "execution_count": null,
   "metadata": {},
   "outputs": [
    {
     "data": {
      "image/png": "[encoded data removed]",
      "text/plain": [
       "<Figure size 1000x600 with 2 Axes>"
      ]
     },
     "metadata": {},
     "output_type": "display_data"
    }
   ],
   "source": [
    "# Plot the data\n",
    "plt.figure(figsize=(10, 6))\n",
    "\n",
    "# First y-axis - Comparisons\n",
    "ax1 = plt.gca()\n",
    "line1, = ax1.plot(sizeList, comparisonList, 'b-', label='Comparisons')\n",
    "ax1.set_xlabel('Array Size (n)')\n",
    "ax1.set_ylabel('Number of Comparisons', color='blue')\n",
    "ax1.tick_params(axis='y', labelcolor='blue')\n",
    "\n",
    "# Format y-axis for better readability, since values are large.\n",
    "# (https://chatgpt.com/share/6817de5f-ffe8-800f-aa9d-9d441aae846c)\n",
    "ax1.yaxis.set_major_formatter(ticker.FuncFormatter(lambda x, pos: f'{int(x):,}'))\n",
    "\n",
    "# Second y-axis - Execution Time\n",
    "ax2 = ax1.twinx()\n",
    "line2, = ax2.plot(sizeList, avgTimeList, 'r-', label='Execution Time')\n",
    "ax2.set_ylabel('Execution Time (sec)', color='red')\n",
    "ax2.tick_params(axis='y', labelcolor='red')\n",
    "\n",
    "# Display title, legend and grid\n",
    "plt.title('Bubble Sort Worst Case Performance')\n",
    "plt.grid(True, linestyle='--', alpha=0.7)\n",
    "plt.legend(handles=[line1, line2], loc='upper left')\n",
    "plt.show()"
   ]
  },
  {
   "cell_type": "markdown",
   "metadata": {},
   "source": [
    "## Test 4: Average Case Performance (O(n^2))\n",
    "This test evaluates bubble sort's performance in an average-case scenario: sorting a randomly shuffled array."
   ]
  },
  {
   "cell_type": "code",
   "execution_count": 101,
   "metadata": {},
   "outputs": [],
   "source": [
    "sizeList = [100, 250, 500, 750, 1000, 2000, 5000, 7500, 10000, 15000] # Define list of array sizes to test\n",
    "\n",
    "# Create empty lists to collect data for graphing\n",
    "comparisonList = []\n",
    "avgTimeList = []"
   ]
  },
  {
   "cell_type": "markdown",
   "metadata": {},
   "source": [
    "* It tests multiple array sizes to demonstrate how bubble sort's computational efficiency performs with various inputs.\n",
    "* For each specified array size:\n",
    "  * An [array](https://chatgpt.com/share/6817c6b3-1594-800f-bbd1-8febd4d65d34) is generated and then randomly shuffled to create an average-case scenario.\n",
    "  * The algorithm is run to measure execution time.\n",
    "  * Both the number of comparisons and execution time are recorded."
   ]
  },
  {
   "cell_type": "code",
   "execution_count": 102,
   "metadata": {},
   "outputs": [
    {
     "name": "stdout",
     "output_type": "stream",
     "text": [
      "Size | Comparisons | Execution Time (sec)\n",
      "----------------------------------------\n",
      "100 | 4929 | 0.0000000000\n",
      "250 | 30935 | 0.0029997826\n",
      "500 | 124450 | 0.0129995346\n",
      "750 | 278730 | 0.0419991016\n",
      "1000 | 499004 | 0.0610005856\n",
      "2000 | 1998565 | 0.2341091633\n",
      "5000 | 12497035 | 1.5425117016\n",
      "7500 | 28114110 | 3.3817479610\n",
      "10000 | 49983219 | 6.1232776642\n",
      "15000 | 112462854 | 13.4870195389\n"
     ]
    }
   ],
   "source": [
    "print(\"Size | Comparisons | Execution Time (sec)\") \n",
    "print(\"-\" * 40)\n",
    "\n",
    "# Loop through each array size\n",
    "for size in sizeList:\n",
    "    \n",
    "    testArray = list(range(size)) # Generate test array \n",
    "    random.shuffle(testArray) # Randomize the array to create average case scenario\n",
    "    \n",
    "    startTime = time.time() # Record start time before sorting\n",
    "    comparisons = bubbleSort(testArray) # Apply bubble sort and store comparison count\n",
    "    executionTime = time.time() - startTime # Calculate execution time by finding difference\n",
    "    \n",
    "    print(f\"{size} | {comparisons} | {executionTime:.10f}\")\n",
    "\n",
    "    # Append values to lists for plotting\n",
    "    comparisonList.append(comparisons)\n",
    "    avgTimeList.append(executionTime)"
   ]
  },
  {
   "cell_type": "markdown",
   "metadata": {},
   "source": [
    "The results demonstrate bubble sort's O(n^2) average-case time complexity, showing:\n",
    "* For randomly shuffled arrays, the number of comparisons is typically around n^2/2.\n",
    "* The execution time and number of comparisons increases quadratically with input size.\n",
    "* Despite execution time still increasing quadratically, performance is better than the worst-case scenario."
   ]
  },
  {
   "cell_type": "code",
   "execution_count": null,
   "metadata": {},
   "outputs": [
    {
     "data": {
      "image/png": "[encoded data removed]",
      "text/plain": [
       "<Figure size 1000x600 with 2 Axes>"
      ]
     },
     "metadata": {},
     "output_type": "display_data"
    }
   ],
   "source": [
    "# Plot the data\n",
    "plt.figure(figsize=(10, 6))\n",
    "\n",
    "# First y-axis - Comparisons\n",
    "ax1 = plt.gca()\n",
    "line1, = ax1.plot(sizeList, comparisonList, 'b-', label='Comparisons')\n",
    "ax1.set_xlabel('Array Size (n)')\n",
    "ax1.set_ylabel('Number of Comparisons', color='blue')\n",
    "ax1.tick_params(axis='y', labelcolor='blue')\n",
    "\n",
    "# Format y-axis for better readability, since values are large.\n",
    "# (https://chatgpt.com/share/6817de5f-ffe8-800f-aa9d-9d441aae846c)\n",
    "ax1.yaxis.set_major_formatter(ticker.FuncFormatter(lambda x, pos: f'{int(x):,}'))\n",
    "\n",
    "# Second y-axis - Execution Time\n",
    "ax2 = ax1.twinx()\n",
    "line2, = ax2.plot(sizeList, avgTimeList, 'r-', label='Execution Time')\n",
    "ax2.set_ylabel('Execution Time (sec)', color='red')\n",
    "ax2.tick_params(axis='y', labelcolor='red')\n",
    "\n",
    "# Display title, legend and grid\n",
    "plt.title('Bubble Sort Average Performance (O(n^2))')\n",
    "plt.grid(True, linestyle='--', alpha=0.7)\n",
    "plt.legend(handles=[line1, line2], loc='upper left')\n",
    "plt.show()"
   ]
  },
  {
   "cell_type": "markdown",
   "metadata": {},
   "source": [
    "# Academic Paper Bibliography\n",
    "**[1]** -\n",
    "National Institute of Standards and Technology (US). Secure hash standard.\n",
    "    Technical Report NIST FIPS 180-4, National Institute of Standards and Tech-\n",
    "    nology (U.S.), Washington, D.C., 2015. URL: https://nvlpubs.nist.gov/nistpubs/FIPS/NIST.FIPS.180-4.pdf\n",
    "    nistpubs/FIPS/NIST.FIPS.180-4.pdf, doi:10.6028/NIST.FIPS.180-4.\n",
    "\n",
    "**[2]** -\n",
    "Brian W. Kernighan and Dennis M. Ritchie. The C programming language.\n",
    "Prentice-Hall software series. Prentice-Hall PTR, Upper Saddle River, NJ, 2.\n",
    "ed., 52. print edition, 2014. URL: https://www.cimat.mx/ciencia_para_jovenes/bachillerato/libros/%5BKernighan-Ritchie%5DThe_C_Programming_Language.pdf\n",
    "\n",
    "**[3]** -\n",
    "Carl Pomerance. The Search for Prime Numbers. SCIENTIFIC AMERICAN,\n",
    "247(6):12, 1982. URL: https://www.jstor.org/stable/24966751.\n",
    "\n",
    "**[4]** -\n",
    "D Abdullah, R Rahim, D Apdilah, S Efendi, T Tulus, and S Suwilo.\n",
    "Prime Numbers Comparison using Sieve of Eratosthenes and Sieve of Sun-\n",
    "daram Algorithm. Journal of Physics: Conference Series, 978:012123, March\n",
    "2018. URL: https://iopscience.iop.org/article/10.1088/1742-6596/978/1/012123, doi:10.1088/1742-6596/978/1/012123.\n",
    "\n",
    "**[5]** -\n",
    "Mst Ayush Pardeshi, Sanchita A Jadhav, and Mr Nischal Nair.\n",
    "“A Comparative study of calculating square roots using Heron’s\n",
    "formula and a novel method discovered. 5(1), 2023. URL:\n",
    "https://ijaem.net/issue_dcp/A%20Comparative%20study%20of%20calculating%20square%20roots%20using%20Heron%20s%20formula%20and%20a%20novel%20method%20discovered.pdf.\n",
    "\n",
    "**[6]** -\n",
    "Satoshi Nakamoto. Bitcoin: A Peer-to-Peer Electronic Cash System. URL:\n",
    "https://bitcoin.org/bitcoin.pdf.\n",
    "\n",
    "**[7]** -\n",
    "Alan Mathison Turing. On computable numbers, with an application to the Entscheidungsproblem.\n",
    "vol. 42(series 2):pp. 230–265, 1937. URL: https://people.math.ethz.ch/~halorenz/4students/Literatur/TuringFullText.pdf.\n",
    "\n",
    "**[8]** -\n",
    "Omar Khan Durrani and Sayed AbdulHayan. Performance Measurement of\n",
    "Popular Sorting Algorithms Implemented using Java and Python. In 2022 In-\n",
    "ternational Conference on Electrical, Computer, Communications and Mecha-\n",
    "tronics Engineering (ICECCME), pages 1–6, Maldives, Maldives, November\n",
    "2022. IEEE. URL: https://ieeexplore.ieee.org/document/9988424/,\n",
    "doi:10.1109/ICECCME55909.2022.9988424."
   ]
  }
 ],
 "metadata": {
  "kernelspec": {
   "display_name": "Python 3",
   "language": "python",
   "name": "python3"
  },
  "language_info": {
   "codemirror_mode": {
    "name": "ipython",
    "version": 3
   },
   "file_extension": ".py",
   "mimetype": "text/x-python",
   "name": "python",
   "nbconvert_exporter": "python",
   "pygments_lexer": "ipython3",
   "version": "3.12.0"
  },
  "orig_nbformat": 4
 },
 "nbformat": 4,
 "nbformat_minor": 2
}
