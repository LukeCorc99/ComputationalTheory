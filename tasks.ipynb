{
 "cells": [
  {
   "attachments": {},
   "cell_type": "markdown",
   "metadata": {},
   "source": [
    "# Computational Theory Tasks\n",
    "## By Luke Corcoran\n",
    "### G00410404"
   ]
  },
  {
   "cell_type": "code",
   "execution_count": 8,
   "metadata": {},
   "outputs": [],
   "source": [
    "# Define necessary imports"
   ]
  },
  {
   "attachments": {},
   "cell_type": "markdown",
   "metadata": {},
   "source": [
    "# Task 1: Binary Representations\n",
    "This task involves creating functions to manipulate binary representations of 32-bit unsigned integers.\n",
    "\n",
    "**Sources:**\n",
    "- Rotating bits of a number in Python: https://www.geeksforgeeks.org/python3-program-to-rotate-bits-of-a-number/\n",
    "\n",
    "## Function 1: rotl(x, n=1) (Left Rotation)\n",
    "The `rotl` function performs a left rotation on a 32-bit unsigned integer. Left rotation shifts bits to the left by `n` positions, wrapping around the bits that overflow beyond the 32-bit boundary.\n",
    "### Example I/O: \n",
    "**Input:**  \n",
    "```\n",
    "x = 0b110010101011\n",
    "n = 3\n",
    "```\n",
    "\n",
    "**Output:** \n",
    "``` \n",
    "0b010101100000\n",
    "```"
   ]
  },
  {
   "cell_type": "code",
   "execution_count": 9,
   "metadata": {},
   "outputs": [],
   "source": [
    "# Rotate bits of x to the left by n positions.\n",
    "def rotl(x, n=1):\n",
    "    bits = 32 # Number of bits in an integer\n",
    "    n = n % bits  # Ensure n is within the range of 0-31\n",
    "    return ((x << n) & 0xFFFFFFFF) | (x >> (bits - n)) # Rotate bits to the left by n positions"
   ]
  },
  {
   "cell_type": "markdown",
   "metadata": {},
   "source": [
    "### Example Usage:"
   ]
  },
  {
   "cell_type": "code",
   "execution_count": 10,
   "metadata": {},
   "outputs": [
    {
     "name": "stdout",
     "output_type": "stream",
     "text": [
      "Input: x = 0b110010101011, n = 3\n",
      "Output: 0b110010101011000\n"
     ]
    }
   ],
   "source": [
    "x = 0b110010101011  # Example binary number\n",
    "n = 3  # Number of positions to rotate\n",
    "result = rotl(x, n)  # Compute left rotation\n",
    "\n",
    "print(f\"Input: x = {bin(x)}, n = {n}\")  # Print input values\n",
    "print(f\"Output: {bin(result)}\")  # Print output of rotl function"
   ]
  },
  {
   "cell_type": "markdown",
   "metadata": {},
   "source": [
    "## Function 2: rotr(x, n=1) (Right Rotation)\n",
    "The `rotr` function performs a right rotation on a 32-bit unsigned integer. Right rotation shifts bits to the right by `n` positions, wrapping around the bits that overflow beyond the 32-bit boundary.\n",
    "### Example I/O: \n",
    "**Input:**  \n",
    "```\n",
    "x = 0b110010101011\n",
    "n = 3\n",
    "```\n",
    "\n",
    "**Output:** \n",
    "``` \n",
    "0b011110010101\n",
    "```"
   ]
  },
  {
   "cell_type": "code",
   "execution_count": 11,
   "metadata": {},
   "outputs": [],
   "source": [
    "# Rotate bits of x to the right by n positions.\n",
    "def rotr(x, n=1):\n",
    "    bits = 32  # Number of bits in an integer\n",
    "    n = n % bits  # Ensure n is within the range of 0-31\n",
    "    return ((x >> n) | (x << (bits - n))) & 0xFFFFFFFF  # Rotate bits to the right by n positions"
   ]
  },
  {
   "cell_type": "markdown",
   "metadata": {},
   "source": [
    "### Example Usage:"
   ]
  },
  {
   "cell_type": "code",
   "execution_count": 12,
   "metadata": {},
   "outputs": [
    {
     "name": "stdout",
     "output_type": "stream",
     "text": [
      "Input: x = 0b110010101011, n = 3\n",
      "Output: 0b1100000000000000000000110010101\n"
     ]
    }
   ],
   "source": [
    "x = 0b110010101011  # Example binary number\n",
    "n = 3  # Number of positions to rotate\n",
    "result = rotr(x, n)  # Compute right rotation\n",
    "\n",
    "print(f\"Input: x = {bin(x)}, n = {n}\")  # Print input values\n",
    "print(f\"Output: {bin(result)}\")  # Print output of rotr function"
   ]
  },
  {
   "cell_type": "markdown",
   "metadata": {},
   "source": [
    "## Function 3: ch(x, y, z) (Bitwise Choice)\n",
    "The `ch` function selects bits from `y` where `x` has bits set to 1 and from `z` where `x` has bits set to 0.\n",
    "### Example I/O: \n",
    "**Input:**  \n",
    "```\n",
    "x = 0b110010101011 \n",
    "y = 0b101010101010\n",
    "z = 0b010101010101\n",
    "```\n",
    "\n",
    "**Output:**\n",
    "``` \n",
    "0b101000101011\n",
    "```"
   ]
  },
  {
   "cell_type": "code",
   "execution_count": 13,
   "metadata": {},
   "outputs": [],
   "source": [
    "# Choose bits from y where x has bits set to 1, and bits from z where x has bits set to 0.\n",
    "def ch(x, y, z):\n",
    "    return (x & y) ^ (~x & z)  # Select bits from y where x is 1, otherwise from z"
   ]
  },
  {
   "cell_type": "markdown",
   "metadata": {},
   "source": [
    "### Example Usage:"
   ]
  },
  {
   "cell_type": "code",
   "execution_count": 14,
   "metadata": {},
   "outputs": [
    {
     "name": "stdout",
     "output_type": "stream",
     "text": [
      "Input: x = 0b110010101011, y = 0b101010101010, z = 0b10101010101\n",
      "Output: 0b100111111110\n"
     ]
    }
   ],
   "source": [
    "# Define binary values for x, y, and z\n",
    "x = 0b110010101011\n",
    "y = 0b101010101010 \n",
    "z = 0b010101010101  \n",
    "result = ch(x, y, z)  # Compute ch function\n",
    "\n",
    "print(f\"Input: x = {bin(x)}, y = {bin(y)}, z = {bin(z)}\")  # Print input values\n",
    "print(f\"Output: {bin(result)}\")  # Print output of ch function"
   ]
  },
  {
   "cell_type": "markdown",
   "metadata": {},
   "source": [
    "## Function 4: maj(x, y, z) (Bitwise Majority)\n",
    "\n",
    "The `maj` function performs a majority vote on the bits of `x`, `y`, and `z`.\n",
    "The output has a `1` in bit position `i` where at least two of `x`, `y`, and `z` have `1`s in position `i`.\n",
    "All other output bit positions are `0`.\n",
    "\n",
    "#### Example I/O:\n",
    "\n",
    "**Input:**\n",
    "```\n",
    "x = 0b110010101011\n",
    "y = 0b101010101010\n",
    "z = 0b010101010101\n",
    "```\n",
    "\n",
    "**Output:**\n",
    "```\n",
    "0b110010101011\n",
    "```"
   ]
  },
  {
   "cell_type": "code",
   "execution_count": 15,
   "metadata": {},
   "outputs": [],
   "source": [
    "# Compute the majority vote for each bit position in x, y, and z\n",
    "def maj(x, y, z):\n",
    "    return (x & y) | (y & z) | (x & z)  # Majority function: At least two bits must be 1"
   ]
  },
  {
   "cell_type": "markdown",
   "metadata": {},
   "source": [
    "### Example Usage:"
   ]
  },
  {
   "cell_type": "code",
   "execution_count": 16,
   "metadata": {},
   "outputs": [
    {
     "name": "stdout",
     "output_type": "stream",
     "text": [
      "Input: x = 0b110010101011, y = 0b101010101010, z = 0b10101010101\n",
      "Output: 0b110010101011\n"
     ]
    }
   ],
   "source": [
    "# Define binary values for x, y, and z\n",
    "x = 0b110010101011\n",
    "y = 0b101010101010\n",
    "z = 0b010101010101\n",
    "\n",
    "result = maj(x, y, z)  # Compute majority function\n",
    "\n",
    "print(f\"Input: x = {bin(x)}, y = {bin(y)}, z = {bin(z)}\")  # Print input values\n",
    "print(f\"Output: {bin(result)}\")  # Print output of maj function"
   ]
  },
  {
   "cell_type": "markdown",
   "metadata": {},
   "source": [
    "# Task 2: Hash Functions"
   ]
  },
  {
   "cell_type": "code",
   "execution_count": null,
   "metadata": {},
   "outputs": [],
   "source": [
    "def hash(s: str) -> int:\n",
    "    hashval = 0\n",
    "    for char in s:\n",
    "        hashval = ord(char) + 31 * hashval\n",
    "    return hashval % 101"
   ]
  },
  {
   "cell_type": "markdown",
   "metadata": {},
   "source": [
    "# Task 3: SHA256"
   ]
  },
  {
   "cell_type": "code",
   "execution_count": null,
   "metadata": {},
   "outputs": [],
   "source": [
    "import sys\n",
    "\n",
    "def sha256_padding(file_path):\n",
    "    with open(file_path, \"rb\") as f:\n",
    "        data = f.read()\n",
    "\n",
    "    length = len(data) * 8  # Original message length in bits\n",
    "    data += b'\\x80'  # Append 1 bit (10000000 in binary)\n",
    "\n",
    "    while (len(data) * 8) % 512 != 448:\n",
    "        data += b'\\x00'  # Append 0 bits until message length is 448 mod 512\n",
    "\n",
    "    data += length.to_bytes(8, \"big\")  # Append original length as 64-bit big-endian\n",
    "\n",
    "    # Extract and print the padding in hex format\n",
    "    padding = data[len(data) - 64 // 8:]  # Extract last 64 bytes\n",
    "    print(\" \".join(f\"{byte:02x}\" for byte in padding))\n",
    "\n",
    "if __name__ == \"__main__\":\n",
    "    sha256_padding(sys.argv[1])"
   ]
  },
  {
   "cell_type": "markdown",
   "metadata": {},
   "source": [
    "## Task 4: Prime Numbers"
   ]
  },
  {
   "cell_type": "markdown",
   "metadata": {},
   "source": [
    "### 1. Trial Division"
   ]
  },
  {
   "cell_type": "code",
   "execution_count": 1,
   "metadata": {},
   "outputs": [],
   "source": [
    "def trial_division_primes(n):\n",
    "    primes = []\n",
    "    num = 2\n",
    "    while len(primes) < n:\n",
    "        is_prime = True\n",
    "        i = 2\n",
    "        while i * i <= num: \n",
    "            if num % i == 0:\n",
    "                is_prime = False\n",
    "                break\n",
    "            i += 1\n",
    "        if is_prime:\n",
    "            primes.append(num)\n",
    "        num += 1\n",
    "    return primes"
   ]
  },
  {
   "cell_type": "markdown",
   "metadata": {},
   "source": [
    "### 2.  Sieve of Eratosthenes"
   ]
  },
  {
   "cell_type": "code",
   "execution_count": 2,
   "metadata": {},
   "outputs": [],
   "source": [
    "def sieve_of_eratosthenes(n):\n",
    "    limit = 550 \n",
    "    sieve = [True] * (limit + 1)\n",
    "    sieve[0] = sieve[1] = False\n",
    "    start = 2\n",
    "    while start * start <= limit:\n",
    "        if sieve[start]:\n",
    "            multiple = start * start\n",
    "            while multiple <= limit:\n",
    "                sieve[multiple] = False\n",
    "                multiple += start\n",
    "        start += 1\n",
    "    primes = [num for num, prime in enumerate(sieve) if prime]\n",
    "    return primes[:n]"
   ]
  },
  {
   "cell_type": "code",
   "execution_count": 3,
   "metadata": {},
   "outputs": [
    {
     "name": "stdout",
     "output_type": "stream",
     "text": [
      "First 100 primes using Trial Division: [2, 3, 5, 7, 11, 13, 17, 19, 23, 29, 31, 37, 41, 43, 47, 53, 59, 61, 67, 71, 73, 79, 83, 89, 97, 101, 103, 107, 109, 113, 127, 131, 137, 139, 149, 151, 157, 163, 167, 173, 179, 181, 191, 193, 197, 199, 211, 223, 227, 229, 233, 239, 241, 251, 257, 263, 269, 271, 277, 281, 283, 293, 307, 311, 313, 317, 331, 337, 347, 349, 353, 359, 367, 373, 379, 383, 389, 397, 401, 409, 419, 421, 431, 433, 439, 443, 449, 457, 461, 463, 467, 479, 487, 491, 499, 503, 509, 521, 523, 541]\n",
      "First 100 primes using Sieve of Eratosthenes: [2, 3, 5, 7, 11, 13, 17, 19, 23, 29, 31, 37, 41, 43, 47, 53, 59, 61, 67, 71, 73, 79, 83, 89, 97, 101, 103, 107, 109, 113, 127, 131, 137, 139, 149, 151, 157, 163, 167, 173, 179, 181, 191, 193, 197, 199, 211, 223, 227, 229, 233, 239, 241, 251, 257, 263, 269, 271, 277, 281, 283, 293, 307, 311, 313, 317, 331, 337, 347, 349, 353, 359, 367, 373, 379, 383, 389, 397, 401, 409, 419, 421, 431, 433, 439, 443, 449, 457, 461, 463, 467, 479, 487, 491, 499, 503, 509, 521, 523, 541]\n"
     ]
    }
   ],
   "source": [
    "# Find the first 100 primes using both methods\n",
    "primes_trial = trial_division_primes(100)\n",
    "primes_sieve = sieve_of_eratosthenes(100)\n",
    "\n",
    "print(\"First 100 primes using Trial Division:\", primes_trial)\n",
    "print(\"First 100 primes using Sieve of Eratosthenes:\", primes_sieve)"
   ]
  },
  {
   "cell_type": "markdown",
   "metadata": {},
   "source": [
    "## Task 5: Roots"
   ]
  },
  {
   "cell_type": "code",
   "execution_count": 1,
   "metadata": {},
   "outputs": [
    {
     "name": "stdout",
     "output_type": "stream",
     "text": [
      "Prime 1: 01101010000010011110011001100111\n",
      "Prime 2: 10111011011001111010111010000101\n",
      "Prime 3: 00111100011011101111001101110010\n",
      "Prime 4: 10100101010011111111010100111010\n",
      "Prime 5: 01010001000011100101001001111111\n",
      "Prime 6: 10011011000001010110100010001100\n",
      "Prime 7: 00011111100000111101100110101011\n",
      "Prime 8: 01011011111000001100110100011001\n",
      "Prime 9: 11001011101110111001110101011101\n",
      "Prime 10: 01100010100110100010100100101010\n",
      "Prime 11: 10010001010110010000000101011010\n",
      "Prime 12: 00010101001011111110110011011000\n",
      "Prime 13: 01100111001100110010011001100111\n",
      "Prime 14: 10001110101101000100101010000111\n",
      "Prime 15: 11011011000011000010111000001101\n",
      "Prime 16: 01000111101101010100100000011101\n",
      "Prime 17: 10101110010111111001000101010110\n",
      "Prime 18: 11001111011011001000010111010011\n",
      "Prime 19: 00101111011100110100011101111101\n",
      "Prime 20: 01101101000110000010011011001010\n",
      "Prime 21: 10001011010000111101010001010111\n",
      "Prime 22: 11100011011000001011010110010110\n",
      "Prime 23: 00011100010001010110000000000010\n",
      "Prime 24: 01101111000110010110001100110001\n",
      "Prime 25: 11011001010011101011111010110001\n",
      "Prime 26: 00001100110001001010011000010001\n",
      "Prime 27: 00100110000111011100000111110010\n",
      "Prime 28: 01011000000101011010011110111110\n",
      "Prime 29: 01110000101101111110110101100111\n",
      "Prime 30: 10100001010100010011110001101001\n",
      "Prime 31: 01000100111110010011011000110101\n",
      "Prime 32: 01110010000011011100110111111101\n",
      "Prime 33: 10110100011001110011011010011110\n",
      "Prime 34: 11001010001100100000101101110101\n",
      "Prime 35: 00110100111000001101010000101110\n",
      "Prime 36: 01001001110001111101100110111101\n",
      "Prime 37: 10000111101010111011100111110010\n",
      "Prime 38: 11000100011000111010001011111100\n",
      "Prime 39: 11101100001111111100001111110011\n",
      "Prime 40: 00100111001001110111111101101101\n",
      "Prime 41: 01100001000010111110101111110010\n",
      "Prime 42: 01110100001000001011010010011110\n",
      "Prime 43: 11010001111111011000101000110011\n",
      "Prime 44: 11100100011101110011010110010100\n",
      "Prime 45: 00001001001000011001011111110110\n",
      "Prime 46: 00011011010100110000110010010101\n",
      "Prime 47: 10000110100111010110001101000010\n",
      "Prime 48: 11101110111001010010111001001111\n",
      "Prime 49: 00010001000001110110011010001001\n",
      "Prime 50: 00100001111110111010001101111011\n",
      "Prime 51: 01000011101010111001111110110110\n",
      "Prime 52: 01110101101010011111100100011101\n",
      "Prime 53: 10000110001100000101000000011001\n",
      "Prime 54: 11010111110011011000000101110011\n",
      "Prime 55: 00000111111111100000000011111111\n",
      "Prime 56: 00110111100111110101000100111111\n",
      "Prime 57: 01100110101101100101000110101000\n",
      "Prime 58: 01110110010010101011100001000010\n",
      "Prime 59: 10100100101100000110101111100001\n",
      "Prime 60: 11000011010101111000110000010101\n",
      "Prime 61: 11010010100101100010101001010011\n",
      "Prime 62: 00011110000000111001111101000000\n",
      "Prime 63: 10000101011110110111101111101110\n",
      "Prime 64: 10100010100110111111001011011110\n",
      "Prime 65: 10110001000110100011001011101000\n",
      "Prime 66: 11001101111100110100111010000000\n",
      "Prime 67: 00110001100000110000010000100110\n",
      "Prime 68: 01011011100010010000100100101011\n",
      "Prime 69: 10100000110000000110101000010011\n",
      "Prime 70: 10101110011110011000010000101111\n",
      "Prime 71: 11001001110011011010011010001001\n",
      "Prime 72: 11110010100000011111001000111001\n",
      "Prime 73: 00101000010000010010010110010010\n",
      "Prime 74: 01010000001011100110010011011011\n",
      "Prime 75: 01110111110010011100001000010001\n",
      "Prime 76: 10010010000001001100110110011101\n",
      "Prime 77: 10111001000110111111011001100011\n",
      "Prime 78: 11101100110000111000110010011101\n",
      "Prime 79: 00000110011001010110000010010101\n",
      "Prime 80: 00111001010001111001001110000001\n",
      "Prime 81: 01111000001100000111011010010111\n",
      "Prime 82: 10000100101011100100101101111100\n",
      "Prime 83: 11000010101100101011011101010101\n",
      "Prime 84: 11001111000000111101001000001110\n",
      "Prime 85: 11110011110010111011000100010111\n",
      "Prime 86: 00001100001011010011101101001011\n",
      "Prime 87: 00110000100010101111000101100001\n",
      "Prime 88: 01100000101001111010100110011000\n",
      "Prime 89: 01111000100011011001100000010010\n",
      "Prime 90: 10000100011101101001101101000010\n",
      "Prime 91: 10011100001101001111000001100010\n",
      "Prime 92: 11100010110101010110010011000100\n",
      "Prime 93: 00010001011011010111010111111101\n",
      "Prime 94: 00101000100101001100000100000111\n",
      "Prime 95: 01010110100110110101100011000110\n",
      "Prime 96: 01101101011110110011100100111001\n",
      "Prime 97: 10001111100111111000110110111011\n",
      "Prime 98: 11010011010011110000001111001101\n",
      "Prime 99: 11011110100000110111001011101111\n",
      "Prime 100: 01000010011010000111101000111001\n"
     ]
    }
   ],
   "source": [
    "def is_prime(n):\n",
    "    if n <= 1:\n",
    "        return False\n",
    "    if n == 2:\n",
    "        return True\n",
    "    if n % 2 == 0:\n",
    "        return False\n",
    "    i = 3\n",
    "    while i * i <= n:\n",
    "        if n % i == 0:\n",
    "            return False\n",
    "        i += 2\n",
    "    return True\n",
    "\n",
    "def get_first_n_primes(n):\n",
    "    primes = []\n",
    "    num = 2\n",
    "    while len(primes) < n:\n",
    "        if is_prime(num):\n",
    "            primes.append(num)\n",
    "        num += 1\n",
    "    return primes\n",
    "\n",
    "def sqrt_newton(x, tolerance=1e-15):\n",
    "    if x == 0:\n",
    "        return 0\n",
    "    guess = x / 2.0\n",
    "    while True:\n",
    "        next_guess = (guess + x / guess) / 2\n",
    "        if abs(next_guess - guess) < tolerance:\n",
    "            return next_guess\n",
    "        guess = next_guess\n",
    "\n",
    "def fractional_bits_of_sqrt(x, bits=32):\n",
    "    root = sqrt_newton(x)\n",
    "    frac = root - int(root)\n",
    "    result = ''\n",
    "    for _ in range(bits):\n",
    "        frac *= 2\n",
    "        bit = int(frac)\n",
    "        result += str(bit)\n",
    "        frac -= bit\n",
    "    return result\n",
    "\n",
    "def calculate_root_fractions(n_primes=100, bits=32):\n",
    "    primes = get_first_n_primes(n_primes)\n",
    "    return [fractional_bits_of_sqrt(p, bits) for p in primes]\n",
    "\n",
    "if __name__ == \"__main__\":\n",
    "    results = calculate_root_fractions()\n",
    "    for i, bits in enumerate(results, 1):\n",
    "        print(f\"Prime {i}: {bits}\")"
   ]
  },
  {
   "cell_type": "markdown",
   "metadata": {},
   "source": [
    "## Task 6: Proof of Work"
   ]
  },
  {
   "cell_type": "code",
   "execution_count": null,
   "metadata": {},
   "outputs": [
    {
     "name": "stdout",
     "output_type": "stream",
     "text": [
      "Words with the most leading zero bits in SHA-256:\n",
      "grady -> 00015674232002d9293d38e1da786f88f5eb55cdaca0a9186a8de3817663ab6c (15 leading zero bits)\n",
      "mountable -> 00019347bddcfe0cd6b54f6751d9928518ad1acff8c8489f14fb834da3795f64 (15 leading zero bits)\n"
     ]
    }
   ],
   "source": [
    "import hashlib\n",
    "\n",
    "def load_words(path=\"words.txt\"):\n",
    "    with open(path, \"r\") as file:\n",
    "        return [line.strip().lower() for line in file if line.strip().isalpha()]\n",
    "\n",
    "def sha256(word):\n",
    "    return hashlib.sha256(word.encode()).hexdigest()\n",
    "\n",
    "def count_leading_zero_bits(hex_digest):\n",
    "    binary = bin(int(hex_digest, 16))[2:].zfill(256)\n",
    "    return len(binary) - len(binary.lstrip('0'))\n",
    "\n",
    "def find_words_with_max_leading_zeros(words):\n",
    "    max_zeros = -1\n",
    "    best_words = []\n",
    "\n",
    "    for word in words:\n",
    "        digest = sha256(word)\n",
    "        zeros = count_leading_zero_bits(digest)\n",
    "\n",
    "        if zeros > max_zeros:\n",
    "            max_zeros = zeros\n",
    "            best_words = [(word, digest, zeros)]\n",
    "        elif zeros == max_zeros:\n",
    "            best_words.append((word, digest, zeros))\n",
    "    \n",
    "    return best_words\n",
    "\n",
    "words = load_words()\n",
    "best = find_words_with_max_leading_zeros(words)\n",
    "\n",
    "print(\"Words with the most leading zero bits in SHA-256:\")\n",
    "for word, digest, zeros in best:\n",
    "    print(f\"{word} -> {digest} ({zeros} leading zero bits)\")\n"
   ]
  }
 ],
 "metadata": {
  "kernelspec": {
   "display_name": "Python 3",
   "language": "python",
   "name": "python3"
  },
  "language_info": {
   "codemirror_mode": {
    "name": "ipython",
    "version": 3
   },
   "file_extension": ".py",
   "mimetype": "text/x-python",
   "name": "python",
   "nbconvert_exporter": "python",
   "pygments_lexer": "ipython3",
   "version": "3.12.0"
  },
  "orig_nbformat": 4
 },
 "nbformat": 4,
 "nbformat_minor": 2
}
