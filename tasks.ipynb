{
 "cells": [
  {
   "attachments": {},
   "cell_type": "markdown",
   "metadata": {},
   "source": [
    "# Computational Theory Tasks\n",
    "## By Luke Corcoran\n",
    "### G00410404"
   ]
  },
  {
   "cell_type": "code",
   "execution_count": 201,
   "metadata": {},
   "outputs": [],
   "source": [
    "# Define necessary imports"
   ]
  },
  {
   "attachments": {},
   "cell_type": "markdown",
   "metadata": {},
   "source": [
    "# Task 1: Binary Representations\n",
    "This task involves creating functions to manipulate binary representations of 32-bit unsigned integers.\n",
    "\n",
    "**Sources:**\n",
    "- Rotating bits of a number in Python: https://www.geeksforgeeks.org/python3-program-to-rotate-bits-of-a-number/\n",
    "\n",
    "## Function 1: rotl(x, n=1) (Left Rotation)\n",
    "The `rotl` function performs a left rotation on a 32-bit unsigned integer. Left rotation shifts bits to the left by `n` positions, wrapping around the bits that overflow beyond the 32-bit boundary.\n",
    "### Example I/O: \n",
    "**Input:**  \n",
    "```\n",
    "x = 0b110010101011\n",
    "n = 3\n",
    "```\n",
    "\n",
    "**Output:** \n",
    "``` \n",
    "0b010101100000\n",
    "```"
   ]
  },
  {
   "cell_type": "code",
   "execution_count": 202,
   "metadata": {},
   "outputs": [],
   "source": [
    "# Rotate bits of x to the left by n positions.\n",
    "def rotl(x, n=1):\n",
    "    bits = 32 # Number of bits in an integer\n",
    "    n = n % bits  # Ensure n is within the range of 0-31\n",
    "    return ((x << n) & 0xFFFFFFFF) | (x >> (bits - n)) # Rotate bits to the left by n positions"
   ]
  },
  {
   "cell_type": "markdown",
   "metadata": {},
   "source": [
    "### Example Usage:"
   ]
  },
  {
   "cell_type": "code",
   "execution_count": 203,
   "metadata": {},
   "outputs": [
    {
     "name": "stdout",
     "output_type": "stream",
     "text": [
      "Input: x = 0b110010101011, n = 3\n",
      "Output: 0b110010101011000\n"
     ]
    }
   ],
   "source": [
    "x = 0b110010101011  # Example binary number\n",
    "n = 3  # Number of positions to rotate\n",
    "result = rotl(x, n)  # Compute left rotation\n",
    "\n",
    "print(f\"Input: x = {bin(x)}, n = {n}\")  # Print input values\n",
    "print(f\"Output: {bin(result)}\")  # Print output of rotl function"
   ]
  },
  {
   "cell_type": "markdown",
   "metadata": {},
   "source": [
    "## Test 1"
   ]
  },
  {
   "cell_type": "code",
   "execution_count": 204,
   "metadata": {},
   "outputs": [
    {
     "name": "stdout",
     "output_type": "stream",
     "text": [
      "Test rotl basic - Input: x = 0b110010101011, n = 3\n",
      "Expected: 0b110010101011000\n",
      "Result:   0b110010101011000\n",
      "Test passed: True\n"
     ]
    }
   ],
   "source": [
    "def testRotlBasic():\n",
    "    x = 0b110010101011  # 3243 in decimal\n",
    "    n = 3\n",
    "    expected = 0b110010101011000 & 0xFFFFFFFF  # Left rotation by 3 positions\n",
    "    result = rotl(x, n)\n",
    "    \n",
    "    print(f\"Test rotl basic - Input: x = {bin(x)}, n = {n}\")\n",
    "    print(f\"Expected: {bin(expected)}\")\n",
    "    print(f\"Result:   {bin(result)}\")\n",
    "    print(f\"Test passed: {result == expected}\")\n",
    "    assert result == expected, f\"Expected {bin(expected)}, got {bin(result)}\"\n",
    "    \n",
    "testRotlBasic()"
   ]
  },
  {
   "cell_type": "markdown",
   "metadata": {},
   "source": [
    "## Test 2"
   ]
  },
  {
   "cell_type": "code",
   "execution_count": 205,
   "metadata": {},
   "outputs": [
    {
     "name": "stdout",
     "output_type": "stream",
     "text": [
      "Test rotl full rotation - Input: x = 0b11001010101110000111\n",
      "Original:       0b11001010101110000111\n",
      "Rotated by 32:  0b11001010101110000111\n",
      "Rotated by 0:   0b11001010101110000111\n",
      "Test passed: True\n"
     ]
    }
   ],
   "source": [
    "def testRotlFullRotation():\n",
    "    \"\"\"Test rotation by a full 32 bits (should return the original value)\"\"\"\n",
    "    x = 0b11001010101110000111  # Some arbitrary value\n",
    "    result1 = rotl(x, 32)\n",
    "    result2 = rotl(x, 0)\n",
    "    \n",
    "    print(f\"Test rotl full rotation - Input: x = {bin(x)}\")\n",
    "    print(f\"Original:       {bin(x)}\")\n",
    "    print(f\"Rotated by 32:  {bin(result1)}\")\n",
    "    print(f\"Rotated by 0:   {bin(result2)}\")\n",
    "    print(f\"Test passed: {result1 == x and result2 == x}\")\n",
    "    assert result1 == x, f\"32-bit rotation should return original value\"\n",
    "    assert result2 == x, f\"0-bit rotation should return original value\"\n",
    "testRotlFullRotation()"
   ]
  },
  {
   "cell_type": "markdown",
   "metadata": {},
   "source": [
    "## Function 2: rotr(x, n=1) (Right Rotation)\n",
    "The `rotr` function performs a right rotation on a 32-bit unsigned integer. Right rotation shifts bits to the right by `n` positions, wrapping around the bits that overflow beyond the 32-bit boundary.\n",
    "### Example I/O: \n",
    "**Input:**  \n",
    "```\n",
    "x = 0b110010101011\n",
    "n = 3\n",
    "```\n",
    "\n",
    "**Output:** \n",
    "``` \n",
    "0b011110010101\n",
    "```"
   ]
  },
  {
   "cell_type": "code",
   "execution_count": 206,
   "metadata": {},
   "outputs": [],
   "source": [
    "# Rotate bits of x to the right by n positions.\n",
    "def rotr(x, n=1):\n",
    "    bits = 32  # Number of bits in an integer\n",
    "    n = n % bits  # Ensure n is within the range of 0-31\n",
    "    return ((x >> n) | (x << (bits - n))) & 0xFFFFFFFF  # Rotate bits to the right by n positions"
   ]
  },
  {
   "cell_type": "markdown",
   "metadata": {},
   "source": [
    "### Example Usage:"
   ]
  },
  {
   "cell_type": "code",
   "execution_count": 207,
   "metadata": {},
   "outputs": [
    {
     "name": "stdout",
     "output_type": "stream",
     "text": [
      "Input: x = 0b110010101011, n = 3\n",
      "Output: 0b1100000000000000000000110010101\n"
     ]
    }
   ],
   "source": [
    "x = 0b110010101011  # Example binary number\n",
    "n = 3  # Number of positions to rotate\n",
    "result = rotr(x, n)  # Compute right rotation\n",
    "\n",
    "print(f\"Input: x = {bin(x)}, n = {n}\")  # Print input values\n",
    "print(f\"Output: {bin(result)}\")  # Print output of rotr function"
   ]
  },
  {
   "cell_type": "markdown",
   "metadata": {},
   "source": [
    "# Test 1"
   ]
  },
  {
   "cell_type": "code",
   "execution_count": 208,
   "metadata": {},
   "outputs": [
    {
     "name": "stdout",
     "output_type": "stream",
     "text": [
      "Test rotr basic - Input: x = 0b110010101011, n = 3\n",
      "Expected: 0b1100000000000000000000110010101\n",
      "Result:   0b1100000000000000000000110010101\n",
      "Test passed: True\n"
     ]
    }
   ],
   "source": [
    "def testRotrBasic():\n",
    "    x = 0b110010101011  # 3243 in decimal\n",
    "    n = 3\n",
    "    # In a full 32-bit context, right rotation by 3 should put the 3 rightmost bits at the left\n",
    "    expected = ((x >> 3) | (x << (32 - 3))) & 0xFFFFFFFF\n",
    "    result = rotr(x, n)\n",
    "    \n",
    "    print(f\"Test rotr basic - Input: x = {bin(x)}, n = {n}\")\n",
    "    print(f\"Expected: {bin(expected)}\")\n",
    "    print(f\"Result:   {bin(result)}\")\n",
    "    print(f\"Test passed: {result == expected}\")\n",
    "    assert result == expected, f\"Expected {bin(expected)}, got {bin(result)}\"\n",
    "\n",
    "testRotrBasic()"
   ]
  },
  {
   "cell_type": "markdown",
   "metadata": {},
   "source": [
    "## Test 2"
   ]
  },
  {
   "cell_type": "code",
   "execution_count": 209,
   "metadata": {},
   "outputs": [
    {
     "name": "stdout",
     "output_type": "stream",
     "text": [
      "Test rotr full rotation - Input: x = 0b11001010101110000111\n",
      "Original:       0b11001010101110000111\n",
      "Rotated by 32:  0b11001010101110000111\n",
      "Rotated by 0:   0b11001010101110000111\n",
      "Test passed: True\n"
     ]
    }
   ],
   "source": [
    "def testRotrFullRotation():\n",
    "    \"\"\"Test rotation by a full 32 bits (should return the original value)\"\"\"\n",
    "    x = 0b11001010101110000111  # Some arbitrary value\n",
    "    result1 = rotr(x, 32)\n",
    "    result2 = rotr(x, 0)\n",
    "    \n",
    "    print(f\"Test rotr full rotation - Input: x = {bin(x)}\")\n",
    "    print(f\"Original:       {bin(x)}\")\n",
    "    print(f\"Rotated by 32:  {bin(result1)}\")\n",
    "    print(f\"Rotated by 0:   {bin(result2)}\")\n",
    "    print(f\"Test passed: {result1 == x and result2 == x}\")\n",
    "    assert result1 == x, f\"32-bit rotation should return original value\"\n",
    "    assert result2 == x, f\"0-bit rotation should return original value\"\n",
    "\n",
    "testRotrFullRotation()"
   ]
  },
  {
   "cell_type": "markdown",
   "metadata": {},
   "source": [
    "## Function 3: ch(x, y, z) (Bitwise Choice)\n",
    "The `ch` function selects bits from `y` where `x` has bits set to 1 and from `z` where `x` has bits set to 0.\n",
    "### Example I/O: \n",
    "**Input:**  \n",
    "```\n",
    "x = 0b110010101011 \n",
    "y = 0b101010101010\n",
    "z = 0b010101010101\n",
    "```\n",
    "\n",
    "**Output:**\n",
    "``` \n",
    "0b101000101011\n",
    "```"
   ]
  },
  {
   "cell_type": "code",
   "execution_count": 210,
   "metadata": {},
   "outputs": [],
   "source": [
    "# Choose bits from y where x has bits set to 1, and bits from z where x has bits set to 0.\n",
    "def ch(x, y, z):\n",
    "    return (x & y) ^ (~x & z)  # Select bits from y where x is 1, otherwise from z"
   ]
  },
  {
   "cell_type": "markdown",
   "metadata": {},
   "source": [
    "### Example Usage:"
   ]
  },
  {
   "cell_type": "code",
   "execution_count": 211,
   "metadata": {},
   "outputs": [
    {
     "name": "stdout",
     "output_type": "stream",
     "text": [
      "Input: x = 0b110010101011, y = 0b101010101010, z = 0b10101010101\n",
      "Output: 0b100111111110\n"
     ]
    }
   ],
   "source": [
    "# Define binary values for x, y, and z\n",
    "x = 0b110010101011\n",
    "y = 0b101010101010 \n",
    "z = 0b010101010101  \n",
    "result = ch(x, y, z)  # Compute ch function\n",
    "\n",
    "print(f\"Input: x = {bin(x)}, y = {bin(y)}, z = {bin(z)}\")  # Print input values\n",
    "print(f\"Output: {bin(result)}\")  # Print output of ch function"
   ]
  },
  {
   "cell_type": "markdown",
   "metadata": {},
   "source": [
    "## Test 1"
   ]
  },
  {
   "cell_type": "code",
   "execution_count": 212,
   "metadata": {},
   "outputs": [
    {
     "name": "stdout",
     "output_type": "stream",
     "text": [
      "Test ch basic - Inputs:\n",
      "x = 0b110010101011\n",
      "y = 0b101010101010\n",
      "z = 0b10101010101\n",
      "Expected: 0b100111111110\n",
      "Result:   0b100111111110\n",
      "Test passed: True\n"
     ]
    }
   ],
   "source": [
    "def testChBasic():\n",
    "    \"\"\"Test basic choice function behavior\"\"\"\n",
    "    x = 0b110010101011\n",
    "    y = 0b101010101010\n",
    "    z = 0b010101010101\n",
    "    # ch selects bits from y where x=1, and from z where x=0\n",
    "    expected = (x & y) ^ (~x & z)\n",
    "    result = ch(x, y, z)\n",
    "    \n",
    "    print(f\"Test ch basic - Inputs:\")\n",
    "    print(f\"x = {bin(x)}\")\n",
    "    print(f\"y = {bin(y)}\")\n",
    "    print(f\"z = {bin(z)}\")\n",
    "    print(f\"Expected: {bin(expected)}\")\n",
    "    print(f\"Result:   {bin(result)}\")\n",
    "    print(f\"Test passed: {result == expected}\")\n",
    "    assert result == expected, f\"Expected {bin(expected)}, got {bin(result)}\"\n",
    "\n",
    "testChBasic()"
   ]
  },
  {
   "cell_type": "markdown",
   "metadata": {},
   "source": [
    "## Test 2"
   ]
  },
  {
   "cell_type": "code",
   "execution_count": 213,
   "metadata": {},
   "outputs": [
    {
     "name": "stdout",
     "output_type": "stream",
     "text": [
      "Test ch extreme cases:\n",
      "y = 0b101010101010\n",
      "z = 0b10101010101\n",
      "When x is all 1s - Expected: 0b101010101010\n",
      "When x is all 1s - Result:   0b101010101010\n",
      "When x is all 0s - Expected: 0b10101010101\n",
      "When x is all 0s - Result:   0b10101010101\n",
      "Test passed: True\n"
     ]
    }
   ],
   "source": [
    "def testChExtremeCases():\n",
    "    \"\"\"Test choice function with extreme values (all 0s or all 1s)\"\"\"\n",
    "    # When x is all 1s, output should be exactly y\n",
    "    xAllOnes = 0xFFFFFFFF\n",
    "    y = 0b101010101010\n",
    "    z = 0b010101010101\n",
    "    result1 = ch(xAllOnes, y, z)\n",
    "    \n",
    "    # When x is all 0s, output should be exactly z\n",
    "    xAllZeros = 0\n",
    "    result2 = ch(xAllZeros, y, z)\n",
    "    \n",
    "    print(f\"Test ch extreme cases:\")\n",
    "    print(f\"y = {bin(y)}\")\n",
    "    print(f\"z = {bin(z)}\")\n",
    "    print(f\"When x is all 1s - Expected: {bin(y)}\")\n",
    "    print(f\"When x is all 1s - Result:   {bin(result1)}\")\n",
    "    print(f\"When x is all 0s - Expected: {bin(z)}\")\n",
    "    print(f\"When x is all 0s - Result:   {bin(result2)}\")\n",
    "    print(f\"Test passed: {result1 == y and result2 == z}\")\n",
    "    assert result1 == y, f\"When x is all 1s, ch(x,y,z) should equal y\"\n",
    "    assert result2 == z, f\"When x is all 0s, ch(x,y,z) should equal z\"\n",
    "\n",
    "testChExtremeCases()"
   ]
  },
  {
   "cell_type": "markdown",
   "metadata": {},
   "source": [
    "## Function 4: maj(x, y, z) (Bitwise Majority)\n",
    "\n",
    "The `maj` function performs a majority vote on the bits of `x`, `y`, and `z`.\n",
    "The output has a `1` in bit position `i` where at least two of `x`, `y`, and `z` have `1`s in position `i`.\n",
    "All other output bit positions are `0`.\n",
    "\n",
    "#### Example I/O:\n",
    "\n",
    "**Input:**\n",
    "```\n",
    "x = 0b110010101011\n",
    "y = 0b101010101010\n",
    "z = 0b010101010101\n",
    "```\n",
    "\n",
    "**Output:**\n",
    "```\n",
    "0b110010101011\n",
    "```"
   ]
  },
  {
   "cell_type": "code",
   "execution_count": 214,
   "metadata": {},
   "outputs": [],
   "source": [
    "# Compute the majority vote for each bit position in x, y, and z\n",
    "def maj(x, y, z):\n",
    "    return (x & y) | (y & z) | (x & z)  # Majority function: At least two bits must be 1"
   ]
  },
  {
   "cell_type": "markdown",
   "metadata": {},
   "source": [
    "### Example Usage:"
   ]
  },
  {
   "cell_type": "code",
   "execution_count": 215,
   "metadata": {},
   "outputs": [
    {
     "name": "stdout",
     "output_type": "stream",
     "text": [
      "Input: x = 0b110010101011, y = 0b101010101010, z = 0b10101010101\n",
      "Output: 0b110010101011\n"
     ]
    }
   ],
   "source": [
    "# Define binary values for x, y, and z\n",
    "x = 0b110010101011\n",
    "y = 0b101010101010\n",
    "z = 0b010101010101\n",
    "\n",
    "result = maj(x, y, z)  # Compute majority function\n",
    "\n",
    "print(f\"Input: x = {bin(x)}, y = {bin(y)}, z = {bin(z)}\")  # Print input values\n",
    "print(f\"Output: {bin(result)}\")  # Print output of maj function"
   ]
  },
  {
   "cell_type": "markdown",
   "metadata": {},
   "source": [
    "## Test 1"
   ]
  },
  {
   "cell_type": "code",
   "execution_count": 216,
   "metadata": {},
   "outputs": [
    {
     "name": "stdout",
     "output_type": "stream",
     "text": [
      "Test maj basic - Inputs:\n",
      "x = 0b110010101011\n",
      "y = 0b101010101010\n",
      "z = 0b10101010101\n",
      "Expected: 0b110010101011\n",
      "Result:   0b110010101011\n",
      "Test passed: True\n"
     ]
    }
   ],
   "source": [
    "def testMajBasic():\n",
    "    x = 0b110010101011\n",
    "    y = 0b101010101010\n",
    "    z = 0b010101010101\n",
    "    # maj returns 1 if at least two inputs have 1, otherwise 0\n",
    "    expected = (x & y) | (y & z) | (x & z)\n",
    "    result = maj(x, y, z)\n",
    "    \n",
    "    print(f\"Test maj basic - Inputs:\")\n",
    "    print(f\"x = {bin(x)}\")\n",
    "    print(f\"y = {bin(y)}\")\n",
    "    print(f\"z = {bin(z)}\")\n",
    "    print(f\"Expected: {bin(expected)}\")\n",
    "    print(f\"Result:   {bin(result)}\")\n",
    "    print(f\"Test passed: {result == expected}\")\n",
    "    assert result == expected, f\"Expected {bin(expected)}, got {bin(result)}\"\n",
    "\n",
    "testMajBasic()"
   ]
  },
  {
   "cell_type": "markdown",
   "metadata": {},
   "source": [
    "## Test 2"
   ]
  },
  {
   "cell_type": "code",
   "execution_count": 217,
   "metadata": {},
   "outputs": [
    {
     "name": "stdout",
     "output_type": "stream",
     "text": [
      "Test maj extreme cases:\n",
      "z = 0b10101010101\n",
      "When x and y are all 1s - Expected: 0b11111111111111111111111111111111\n",
      "When x and y are all 1s - Result:   0b11111111111111111111111111111111\n",
      "When x and y are all 0s - Expected: 0b0\n",
      "When x and y are all 0s - Result:   0b0\n",
      "Test passed: True\n"
     ]
    }
   ],
   "source": [
    "def testMajExtremeCases():\n",
    "    # When any two inputs are all 1s, output should be all 1s\n",
    "    xAllOnes = 0xFFFFFFFF\n",
    "    yAllOnes = 0xFFFFFFFF\n",
    "    z = 0b010101010101\n",
    "    result1 = maj(xAllOnes, yAllOnes, z)\n",
    "    \n",
    "    # When any two inputs are all 0s, output should be all 0s\n",
    "    xAllZeros = 0\n",
    "    yAllZeros = 0\n",
    "    result2 = maj(xAllZeros, yAllZeros, z)\n",
    "    \n",
    "    print(f\"Test maj extreme cases:\")\n",
    "    print(f\"z = {bin(z)}\")\n",
    "    print(f\"When x and y are all 1s - Expected: {bin(0xFFFFFFFF)}\")\n",
    "    print(f\"When x and y are all 1s - Result:   {bin(result1)}\")\n",
    "    print(f\"When x and y are all 0s - Expected: {bin(0)}\")\n",
    "    print(f\"When x and y are all 0s - Result:   {bin(result2)}\")\n",
    "    print(f\"Test passed: {result1 == 0xFFFFFFFF and result2 == 0}\")\n",
    "    assert result1 == 0xFFFFFFFF, f\"When two inputs are all 1s, maj should be all 1s\"\n",
    "    assert result2 == 0, f\"When two inputs are all 0s, maj should be all 0s\"\n",
    "\n",
    "testMajExtremeCases()"
   ]
  },
  {
   "cell_type": "markdown",
   "metadata": {},
   "source": [
    "# Task 2: Hash Functions\n",
    "\n",
    "** suggest why the values 31 and 101 are used.**"
   ]
  },
  {
   "cell_type": "code",
   "execution_count": 218,
   "metadata": {},
   "outputs": [
    {
     "data": {
      "text/plain": [
       "13"
      ]
     },
     "execution_count": 218,
     "metadata": {},
     "output_type": "execute_result"
    }
   ],
   "source": [
    "def hash(s: str) -> int:\n",
    "    hashval = 0\n",
    "    for char in s:\n",
    "        hashval = ord(char) + 31 * hashval\n",
    "    return hashval % 101\n",
    "\n",
    "hash(\"hello world\")  # Example usage of hash function"
   ]
  },
  {
   "cell_type": "markdown",
   "metadata": {},
   "source": [
    "## Test 1"
   ]
  },
  {
   "cell_type": "code",
   "execution_count": 219,
   "metadata": {},
   "outputs": [
    {
     "name": "stdout",
     "output_type": "stream",
     "text": [
      "Test hash basic - Input: 'hello'\n",
      "Expected hash value: 17\n",
      "Calculated hash value: 17\n",
      "Test passed: True\n"
     ]
    }
   ],
   "source": [
    "def testHashBasic():\n",
    "    inputStr = \"hello\"\n",
    "    result = hash(inputStr)\n",
    "    \n",
    "    # Calculate expected result manually for verification\n",
    "    expected = 0\n",
    "    for char in inputStr:\n",
    "        expected = ord(char) + 31 * expected\n",
    "    expected = expected % 101\n",
    "    \n",
    "    print(f\"Test hash basic - Input: '{inputStr}'\")\n",
    "    print(f\"Expected hash value: {expected}\")\n",
    "    print(f\"Calculated hash value: {result}\")\n",
    "    print(f\"Test passed: {result == expected}\")\n",
    "    assert result == expected, f\"Expected {expected}, got {result}\"\n",
    "\n",
    "testHashBasic()"
   ]
  },
  {
   "cell_type": "markdown",
   "metadata": {},
   "source": [
    "## Test 2"
   ]
  },
  {
   "cell_type": "code",
   "execution_count": 220,
   "metadata": {},
   "outputs": [
    {
     "name": "stdout",
     "output_type": "stream",
     "text": [
      "Test hash with different multipliers - Input: hashfunction\n",
      "Multiplier 1: Hash value = 78\n",
      "Multiplier 2: Hash value = 43\n",
      "Multiplier 10: Hash value = 33\n",
      "Multiplier 31: Hash value = 56\n",
      "Multiplier 32: Hash value = 28\n",
      "Multiplier 33: Hash value = 17\n",
      "Multiplier 64: Hash value = 59\n",
      "Unique hash values: 7 out of 7\n",
      "31 vs 32 produce different hashes: True\n"
     ]
    }
   ],
   "source": [
    "def testDifferentMultipliers():\n",
    "    testStr = \"hashfunction\"\n",
    "    \n",
    "    # Function to calculate hash with different multiplier\n",
    "    def hashWithMultiplier(s, multiplier):\n",
    "        hashval = 0\n",
    "        for char in s:\n",
    "            hashval = ord(char) + multiplier * hashval\n",
    "        return hashval % 101\n",
    "    \n",
    "    # Test a set of multipliers, including 31 and some non-prime values\n",
    "    multipliers = [1, 2, 10, 31, 32, 33, 64]\n",
    "    results = {}\n",
    "    \n",
    "    for m in multipliers:\n",
    "        results[m] = hashWithMultiplier(testStr, m)\n",
    "    \n",
    "    print(\"Test hash with different multipliers - Input:\", testStr)\n",
    "    for m, result in results.items():\n",
    "        print(f\"Multiplier {m}: Hash value = {result}\")\n",
    "    \n",
    "    # Check if all hash values are different (indicating good distribution)\n",
    "    uniqueValues = len(set(results.values()))\n",
    "    totalValues = len(results)\n",
    "    print(f\"Unique hash values: {uniqueValues} out of {totalValues}\")\n",
    "    \n",
    "    # Check specifically if 31 produces a different hash than nearby values\n",
    "    print(f\"31 vs 32 produce different hashes: {results[31] != results[32]}\")\n",
    "\n",
    "testDifferentMultipliers()"
   ]
  },
  {
   "cell_type": "markdown",
   "metadata": {},
   "source": [
    "## Test 3"
   ]
  },
  {
   "cell_type": "code",
   "execution_count": 221,
   "metadata": {},
   "outputs": [
    {
     "name": "stdout",
     "output_type": "stream",
     "text": [
      "Testing different modulus values:\n",
      "Modulus 10: 4 unique hashes out of 5 strings\n",
      "   Used 4 out of 10 possible buckets\n",
      "Modulus 100: 5 unique hashes out of 5 strings\n",
      "   Used 5 out of 100 possible buckets\n",
      "Modulus 101: 5 unique hashes out of 5 strings\n",
      "   Used 5 out of 101 possible buckets\n",
      "Modulus 102: 5 unique hashes out of 5 strings\n",
      "Modulus 200: 5 unique hashes out of 5 strings\n"
     ]
    }
   ],
   "source": [
    "def testDifferentModuli():\n",
    "    testStrings = [\"algorithm\", \"computer\", \"science\", \"python\", \"hash\"]\n",
    "    \n",
    "    # Function to calculate hash with different modulus\n",
    "    def hashWithModulus(s, modulus):\n",
    "        hashval = 0\n",
    "        for char in s:\n",
    "            hashval = ord(char) + 31 * hashval\n",
    "        return hashval % modulus\n",
    "    \n",
    "    # Test a set of moduli, including 101 and some non-prime values\n",
    "    moduli = [10, 100, 101, 102, 200]\n",
    "    \n",
    "    # For each modulus, check how many unique hash values we get for our test strings\n",
    "    print(\"Testing different modulus values:\")\n",
    "    for mod in moduli:\n",
    "        hashValues = [hashWithModulus(s, mod) for s in testStrings]\n",
    "        uniqueValues = len(set(hashValues))\n",
    "        \n",
    "        print(f\"Modulus {mod}: {uniqueValues} unique hashes out of {len(testStrings)} strings\")\n",
    "        \n",
    "        # Additional check: how many buckets are actually used\n",
    "        if mod <= 101:  # Only check for smaller moduli to keep output manageable\n",
    "            usedBuckets = set(hashValues)\n",
    "            print(f\"   Used {len(usedBuckets)} out of {mod} possible buckets\")\n",
    "\n",
    "testDifferentModuli()"
   ]
  },
  {
   "cell_type": "markdown",
   "metadata": {},
   "source": [
    "# Task 3: SHA256"
   ]
  },
  {
   "cell_type": "code",
   "execution_count": 222,
   "metadata": {},
   "outputs": [],
   "source": [
    "def sha256Padding(filePath):\n",
    "    # Read the file as binary\n",
    "    try:\n",
    "        with open(filePath, 'rb') as file:\n",
    "            data = file.read()\n",
    "    except Exception as e:\n",
    "        print(f\"Error reading file: {e}\")\n",
    "        return\n",
    "        \n",
    "    # Calculate original length in bits\n",
    "    originalLength = len(data) * 8\n",
    "    \n",
    "    # Step 1: Append the bit '1' (0x80) to the message\n",
    "    paddedData = bytearray(data)\n",
    "    paddedData.append(0x80)\n",
    "    \n",
    "    # Step 2: Append 0 bits until message length is 448 mod 512\n",
    "    while (len(paddedData) * 8) % 512 != 448:\n",
    "        paddedData.append(0x00)\n",
    "    \n",
    "    # Step 3: Append length as a 64-bit big-endian integer\n",
    "    lengthBytes = originalLength.to_bytes(8, \"big\")\n",
    "    paddedData.extend(lengthBytes)\n",
    "    \n",
    "    # Extract the padding (everything after the original data)\n",
    "    padding = paddedData[len(data):]\n",
    "    \n",
    "    # Print the padding in hex format with spaces between bytes\n",
    "    paddingHex = \" \".join(f\"{byte:02x}\" for byte in padding)\n",
    "    print(paddingHex)"
   ]
  },
  {
   "cell_type": "markdown",
   "metadata": {},
   "source": [
    "## Make method to create a temporary file"
   ]
  },
  {
   "cell_type": "code",
   "execution_count": 223,
   "metadata": {},
   "outputs": [],
   "source": [
    "import tempfile\n",
    "\n",
    "def createTestFile(content):\n",
    "    \"\"\"Create a temporary file with the given content and return its path\"\"\"\n",
    "    with tempfile.NamedTemporaryFile(delete=False) as temp:\n",
    "        if isinstance(content, str):\n",
    "            temp.write(content.encode('utf-8'))\n",
    "        else:\n",
    "            temp.write(content)\n",
    "        return temp.name"
   ]
  },
  {
   "cell_type": "markdown",
   "metadata": {},
   "source": [
    "## Test 1"
   ]
  },
  {
   "cell_type": "code",
   "execution_count": 224,
   "metadata": {},
   "outputs": [
    {
     "name": "stdout",
     "output_type": "stream",
     "text": [
      "Testing with content: 'abc' (3 bytes = 24 bits)\n",
      "Expected result from specification:\n",
      "80 00 00 00 00 00 00 00 00 00 00 00 00 00 00 00 00 00 00 00\n",
      "00 00 00 00 00 00 00 00 00 00 00 00 00 00 00 00 00 00 00 00\n",
      "00 00 00 00 00 00 00 00 00 00 00 00 00 00 00 18\n",
      "\n",
      "Your function output:\n",
      "80 00 00 00 00 00 00 00 00 00 00 00 00 00 00 00 00 00 00 00 00 00 00 00 00 00 00 00 00 00 00 00 00 00 00 00 00 00 00 00 00 00 00 00 00 00 00 00 00 00 00 00 00 00 00 00 00 00 00 00 18\n"
     ]
    }
   ],
   "source": [
    "import os\n",
    "\n",
    "def testAbcExample():\n",
    "    content = \"abc\"\n",
    "    \n",
    "    # Create a temporary file with content \"abc\"\n",
    "    filePath = createTestFile(content)\n",
    "    \n",
    "    print(f\"Testing with content: '{content}' (3 bytes = 24 bits)\")\n",
    "    print(f\"Expected result from specification:\")\n",
    "    print(\"80 00 00 00 00 00 00 00 00 00 00 00 00 00 00 00 00 00 00 00\")\n",
    "    print(\"00 00 00 00 00 00 00 00 00 00 00 00 00 00 00 00 00 00 00 00\")\n",
    "    print(\"00 00 00 00 00 00 00 00 00 00 00 00 00 00 00 18\")\n",
    "    print(\"\\nYour function output:\")\n",
    "    \n",
    "    # Call your sha256Padding function\n",
    "    sha256Padding(filePath)\n",
    "    \n",
    "    # Clean up temporary file\n",
    "    os.unlink(filePath)\n",
    "\n",
    "testAbcExample()"
   ]
  },
  {
   "cell_type": "markdown",
   "metadata": {},
   "source": [
    "## Test 2"
   ]
  },
  {
   "cell_type": "code",
   "execution_count": 225,
   "metadata": {},
   "outputs": [
    {
     "name": "stdout",
     "output_type": "stream",
     "text": [
      "Testing with an empty message (0 bytes = 0 bits)\n",
      "Expected pattern: 0x80 byte + zero padding + 8-byte length field with value 0\n",
      "\n",
      "Your function output:\n",
      "80 00 00 00 00 00 00 00 00 00 00 00 00 00 00 00 00 00 00 00 00 00 00 00 00 00 00 00 00 00 00 00 00 00 00 00 00 00 00 00 00 00 00 00 00 00 00 00 00 00 00 00 00 00 00 00 00 00 00 00 00 00 00 00\n",
      "\n",
      "Analysis:\n",
      "- For an empty message, the padding should start with 0x80\n",
      "- The length field (last 8 bytes) should be all zeros\n",
      "- Total padded length should be exactly 64 bytes (512 bits)\n"
     ]
    }
   ],
   "source": [
    "# Test 2: Empty message (0 bytes) - edge case\n",
    "def testEmptyMessage():\n",
    "    content = \"\"\n",
    "    \n",
    "    # Create a temporary file with empty content\n",
    "    filePath = createTestFile(content)\n",
    "    \n",
    "    print(f\"Testing with an empty message (0 bytes = 0 bits)\")\n",
    "    print(\"Expected pattern: 0x80 byte + zero padding + 8-byte length field with value 0\")\n",
    "    print(\"\\nYour function output:\")\n",
    "    \n",
    "    # Call your sha256Padding function\n",
    "    sha256Padding(filePath)\n",
    "    \n",
    "    print(\"\\nAnalysis:\")\n",
    "    print(\"- For an empty message, the padding should start with 0x80\")\n",
    "    print(\"- The length field (last 8 bytes) should be all zeros\")\n",
    "    print(\"- Total padded length should be exactly 64 bytes (512 bits)\")\n",
    "    \n",
    "    # Clean up temporary file\n",
    "    os.unlink(filePath)\n",
    "\n",
    "testEmptyMessage()"
   ]
  },
  {
   "cell_type": "markdown",
   "metadata": {},
   "source": [
    "## Test 3"
   ]
  },
  {
   "cell_type": "code",
   "execution_count": 226,
   "metadata": {},
   "outputs": [
    {
     "name": "stdout",
     "output_type": "stream",
     "text": [
      "Testing with content: 55 'a' characters (55 bytes = 440 bits)\n",
      "Expected pattern: 0x80 byte + 8-byte length field with value 440 (0x1B8)\n",
      "\n",
      "Your function output:\n",
      "80 00 00 00 00 00 00 01 b8\n",
      "\n",
      "Analysis:\n",
      "- This is a special case: 55 bytes + 1 byte (0x80) + 8 bytes (length) = 64 bytes\n",
      "- This is the maximum message size that fits in a single block with padding\n",
      "- The length field should represent 440 bits (0x01B8)\n",
      "- This message requires minimal padding (just 9 bytes)\n"
     ]
    }
   ],
   "source": [
    "def test55Bytes():\n",
    "    content = \"a\" * 55\n",
    "    \n",
    "    # Create a temporary file with 55 'a' characters\n",
    "    filePath = createTestFile(content)\n",
    "    \n",
    "    print(f\"Testing with content: 55 'a' characters (55 bytes = 440 bits)\")\n",
    "    print(\"Expected pattern: 0x80 byte + 8-byte length field with value 440 (0x1B8)\")\n",
    "    print(\"\\nYour function output:\")\n",
    "    \n",
    "    # Call your sha256Padding function\n",
    "    sha256Padding(filePath)\n",
    "    \n",
    "    print(\"\\nAnalysis:\")\n",
    "    print(\"- This is a special case: 55 bytes + 1 byte (0x80) + 8 bytes (length) = 64 bytes\")\n",
    "    print(\"- This is the maximum message size that fits in a single block with padding\")\n",
    "    print(\"- The length field should represent 440 bits (0x01B8)\")\n",
    "    print(\"- This message requires minimal padding (just 9 bytes)\")\n",
    "    \n",
    "    # Clean up temporary file\n",
    "    os.unlink(filePath)\n",
    "\n",
    "test55Bytes()"
   ]
  },
  {
   "cell_type": "markdown",
   "metadata": {},
   "source": [
    "## Test 4"
   ]
  },
  {
   "cell_type": "code",
   "execution_count": 227,
   "metadata": {},
   "outputs": [
    {
     "name": "stdout",
     "output_type": "stream",
     "text": [
      "Testing with content: 56 'a' characters (56 bytes = 448 bits)\n",
      "Expected pattern: 0x80 byte + many zero bytes + 8-byte length field with value 448 (0x1C0)\n",
      "\n",
      "Your function output:\n",
      "80 00 00 00 00 00 00 00 00 00 00 00 00 00 00 00 00 00 00 00 00 00 00 00 00 00 00 00 00 00 00 00 00 00 00 00 00 00 00 00 00 00 00 00 00 00 00 00 00 00 00 00 00 00 00 00 00 00 00 00 00 00 00 00 00 00 00 00 00 00 01 c0\n",
      "\n",
      "Analysis:\n",
      "- This is the threshold case: 56 bytes doesn't fit in a single block with padding\n",
      "- 56 bytes + 1 byte (0x80) + 8 bytes (length) = 65 bytes, which exceeds 64 bytes\n",
      "- The padding should include 0x80 followed by many zeros\n",
      "- The length field should represent 448 bits (0x01C0)\n",
      "- The padded message will require 2 full 512-bit blocks\n"
     ]
    }
   ],
   "source": [
    "# Test 4: Message of 56 bytes (requires additional block for padding)\n",
    "def test56Bytes():\n",
    "    content = \"a\" * 56\n",
    "    \n",
    "    # Create a temporary file with 56 'a' characters\n",
    "    filePath = createTestFile(content)\n",
    "    \n",
    "    print(f\"Testing with content: 56 'a' characters (56 bytes = 448 bits)\")\n",
    "    print(\"Expected pattern: 0x80 byte + many zero bytes + 8-byte length field with value 448 (0x1C0)\")\n",
    "    print(\"\\nYour function output:\")\n",
    "    \n",
    "    # Call your sha256Padding function\n",
    "    sha256Padding(filePath)\n",
    "    \n",
    "    print(\"\\nAnalysis:\")\n",
    "    print(\"- This is the threshold case: 56 bytes doesn't fit in a single block with padding\")\n",
    "    print(\"- 56 bytes + 1 byte (0x80) + 8 bytes (length) = 65 bytes, which exceeds 64 bytes\")\n",
    "    print(\"- The padding should include 0x80 followed by many zeros\")\n",
    "    print(\"- The length field should represent 448 bits (0x01C0)\")\n",
    "    print(\"- The padded message will require 2 full 512-bit blocks\")\n",
    "    \n",
    "    # Clean up temporary file\n",
    "    os.unlink(filePath)\n",
    "\n",
    "test56Bytes()"
   ]
  },
  {
   "cell_type": "markdown",
   "metadata": {},
   "source": [
    "## Test 5"
   ]
  },
  {
   "cell_type": "code",
   "execution_count": 228,
   "metadata": {},
   "outputs": [
    {
     "name": "stdout",
     "output_type": "stream",
     "text": [
      "Testing with content: 64 'a' characters (64 bytes = 512 bits)\n",
      "Expected pattern: 0x80 byte + many zero bytes + 8-byte length field with value 512 (0x200)\n",
      "\n",
      "Your function output:\n",
      "80 00 00 00 00 00 00 00 00 00 00 00 00 00 00 00 00 00 00 00 00 00 00 00 00 00 00 00 00 00 00 00 00 00 00 00 00 00 00 00 00 00 00 00 00 00 00 00 00 00 00 00 00 00 00 00 00 00 00 00 00 00 02 00\n",
      "\n",
      "Analysis:\n",
      "- The original message is exactly one block (64 bytes)\n",
      "- When a message is exactly a multiple of the block size, an entire additional block is needed\n",
      "- The padding should include 0x80 followed by zeros to fill the block\n",
      "- The length field should represent 512 bits (0x0200)\n",
      "- The padded message will require 2 full 512-bit blocks\n"
     ]
    }
   ],
   "source": [
    "def test64Bytes():\n",
    "    content = \"a\" * 64\n",
    "    \n",
    "    # Create a temporary file with 64 'a' characters\n",
    "    filePath = createTestFile(content)\n",
    "    \n",
    "    print(f\"Testing with content: 64 'a' characters (64 bytes = 512 bits)\")\n",
    "    print(\"Expected pattern: 0x80 byte + many zero bytes + 8-byte length field with value 512 (0x200)\")\n",
    "    print(\"\\nYour function output:\")\n",
    "    \n",
    "    # Call your sha256Padding function\n",
    "    sha256Padding(filePath)\n",
    "    \n",
    "    print(\"\\nAnalysis:\")\n",
    "    print(\"- The original message is exactly one block (64 bytes)\")\n",
    "    print(\"- When a message is exactly a multiple of the block size, an entire additional block is needed\")\n",
    "    print(\"- The padding should include 0x80 followed by zeros to fill the block\")\n",
    "    print(\"- The length field should represent 512 bits (0x0200)\")\n",
    "    print(\"- The padded message will require 2 full 512-bit blocks\")\n",
    "    \n",
    "    # Clean up temporary file\n",
    "    os.unlink(filePath)\n",
    "\n",
    "test64Bytes()"
   ]
  },
  {
   "cell_type": "markdown",
   "metadata": {},
   "source": [
    "## Task 4: Prime Numbers"
   ]
  },
  {
   "cell_type": "markdown",
   "metadata": {},
   "source": [
    "### 1. Trial Division"
   ]
  },
  {
   "cell_type": "code",
   "execution_count": 229,
   "metadata": {},
   "outputs": [],
   "source": [
    "def trialDivisionPrimes(n):\n",
    "    primes = []\n",
    "    num = 2\n",
    "    while len(primes) < n:\n",
    "        isPrime = True\n",
    "        i = 2\n",
    "        while i * i <= num: \n",
    "            if num % i == 0:\n",
    "                isPrime = False\n",
    "                break\n",
    "            i += 1\n",
    "        if isPrime:\n",
    "            primes.append(num)\n",
    "        num += 1\n",
    "    return primes"
   ]
  },
  {
   "cell_type": "markdown",
   "metadata": {},
   "source": [
    "## Test 1"
   ]
  },
  {
   "cell_type": "code",
   "execution_count": 230,
   "metadata": {},
   "outputs": [
    {
     "name": "stdout",
     "output_type": "stream",
     "text": [
      "First 10 primes using Trial Division:\n",
      "[2, 3, 5, 7, 11, 13, 17, 19, 23, 29]\n",
      "The 10th prime number is: 29\n"
     ]
    }
   ],
   "source": [
    "def testTrialDivisionBasic(n=10):\n",
    "    primes = trialDivisionPrimes(n)\n",
    "    print(f\"First {n} primes using Trial Division:\")\n",
    "    print(primes)\n",
    "    if n >= 10:\n",
    "        print(f\"The 10th prime number is: {primes[9]}\")\n",
    "\n",
    "testTrialDivisionBasic(10)"
   ]
  },
  {
   "cell_type": "markdown",
   "metadata": {},
   "source": [
    "## Test 2"
   ]
  },
  {
   "cell_type": "code",
   "execution_count": 231,
   "metadata": {},
   "outputs": [
    {
     "name": "stdout",
     "output_type": "stream",
     "text": [
      "Testing if 17 is prime using Trial Division:\n",
      "Checking divisors up to sqrt(17) = 4\n",
      "17 is prime! No divisors found among [2, 3, 4].\n",
      "Testing if 15 is prime using Trial Division:\n",
      "Checking divisors up to sqrt(15) = 3\n",
      "  3 divides 15 evenly (15 = 3 × 5)\n",
      "15 is not prime because it's divisible by 3.\n"
     ]
    }
   ],
   "source": [
    "def testTrialDivisionProcess(num=17):\n",
    "    isPrime = True\n",
    "    i = 2\n",
    "    divisorsChecked = []\n",
    "    \n",
    "    print(f\"Testing if {num} is prime using Trial Division:\")\n",
    "    print(f\"Checking divisors up to sqrt({num}) = {int(num**0.5)}\")\n",
    "    \n",
    "    while i * i <= num:\n",
    "        divisorsChecked.append(i)\n",
    "        if num % i == 0:\n",
    "            isPrime = False\n",
    "            print(f\"  {i} divides {num} evenly ({num} = {i} × {num//i})\")\n",
    "            break\n",
    "        i += 1\n",
    "    \n",
    "    if isPrime:\n",
    "        print(f\"{num} is prime! No divisors found among {divisorsChecked}.\")\n",
    "    else:\n",
    "        print(f\"{num} is not prime because it's divisible by {i}.\")\n",
    "    \n",
    "testTrialDivisionProcess(17)  # Test with a prime\n",
    "testTrialDivisionProcess(15)  # Test with a non-prime"
   ]
  },
  {
   "cell_type": "markdown",
   "metadata": {},
   "source": [
    "## Test 3"
   ]
  },
  {
   "cell_type": "code",
   "execution_count": 232,
   "metadata": {},
   "outputs": [
    {
     "name": "stdout",
     "output_type": "stream",
     "text": [
      "Trial Division Key Characteristic: Divisor Checking\n",
      "-------------------------------------------------\n",
      "Number | Prime? | Divisors Checked | Max Possible\n",
      "-------------------------------------------------\n",
      "    10 | False  |                1 |            2\n",
      "    17 | True   |                3 |            3\n",
      "   100 | False  |                1 |            9\n",
      "   101 | True   |                9 |            9\n",
      "  1000 | False  |                1 |           30\n",
      "  1009 | True   |               30 |           30\n"
     ]
    }
   ],
   "source": [
    "def testTrialDivisionDivisorCount():\n",
    "    testNumbers = [10, 17, 100, 101, 1000, 1009]\n",
    "    \n",
    "    results = []\n",
    "    for num in testNumbers:\n",
    "        divisorsChecked = 0\n",
    "        isPrime = True\n",
    "        \n",
    "        # Trial division process\n",
    "        i = 2\n",
    "        while i * i <= num:\n",
    "            divisorsChecked += 1\n",
    "            if num % i == 0:\n",
    "                isPrime = False\n",
    "                break\n",
    "            i += 1\n",
    "        \n",
    "        results.append({\n",
    "            'number': num,\n",
    "            'isPrime': isPrime,\n",
    "            'divisorsChecked': divisorsChecked,\n",
    "            'maxPossibleDivisors': int(num**0.5) - 1\n",
    "        })\n",
    "    \n",
    "    # Display results\n",
    "    print(\"Trial Division Key Characteristic: Divisor Checking\")\n",
    "    print(\"-------------------------------------------------\")\n",
    "    print(\"Number | Prime? | Divisors Checked | Max Possible\")\n",
    "    print(\"-------------------------------------------------\")\n",
    "    \n",
    "    for r in results:\n",
    "        print(f\"{r['number']:6d} | {str(r['isPrime']):6s} | {r['divisorsChecked']:16d} | {r['maxPossibleDivisors']:12d}\")\n",
    "\n",
    "testTrialDivisionDivisorCount()"
   ]
  },
  {
   "cell_type": "markdown",
   "metadata": {},
   "source": [
    "## Test 4"
   ]
  },
  {
   "cell_type": "code",
   "execution_count": 233,
   "metadata": {},
   "outputs": [
    {
     "name": "stdout",
     "output_type": "stream",
     "text": [
      "Trial Division and Prime Gaps\n",
      "-------------------------------------------------\n",
      "\n",
      "Finding 20 primes from 1 to 67:\n",
      "Numbers checked: 67\n",
      "Prime density: 29.85%\n",
      "Largest gap between primes: 5\n",
      "Average checks per number: 3.35\n",
      "\n",
      "Finding 20 primes from 1000 to 1123:\n",
      "Numbers checked: 124\n",
      "Prime density: 16.13%\n",
      "Largest gap between primes: 17\n",
      "Average checks per number: 6.20\n",
      "\n",
      "Finding 20 primes from 10000 to 10169:\n",
      "Numbers checked: 170\n",
      "Prime density: 11.76%\n",
      "Largest gap between primes: 27\n",
      "Average checks per number: 8.50\n"
     ]
    }
   ],
   "source": [
    "def testTrialDivisionGapImpact():\n",
    "    seqLengths = [20, 20, 20]\n",
    "    startingPoints = [1, 1000, 10000]\n",
    "    \n",
    "    print(\"Trial Division and Prime Gaps\")\n",
    "    print(\"-------------------------------------------------\")\n",
    "    \n",
    "    for length, start in zip(seqLengths, startingPoints):\n",
    "        primesFound = 0\n",
    "        numbersChecked = 0\n",
    "        maxGap = 0\n",
    "        currentGap = 0\n",
    "        num = start\n",
    "        \n",
    "        # Find primes in range\n",
    "        while primesFound < length:\n",
    "            isPrime = True\n",
    "            i = 2\n",
    "            divisorChecks = 0\n",
    "            \n",
    "            while i * i <= num:\n",
    "                divisorChecks += 1\n",
    "                if num % i == 0:\n",
    "                    isPrime = False\n",
    "                    break\n",
    "                i += 1\n",
    "            \n",
    "            if isPrime:\n",
    "                if primesFound > 0:\n",
    "                    maxGap = max(maxGap, currentGap)\n",
    "                currentGap = 0\n",
    "                primesFound += 1\n",
    "            else:\n",
    "                currentGap += 1\n",
    "            \n",
    "            numbersChecked += 1\n",
    "            num += 1\n",
    "        \n",
    "        end = num - 1\n",
    "        \n",
    "        print(f\"\\nFinding {length} primes from {start} to {end}:\")\n",
    "        print(f\"Numbers checked: {numbersChecked}\")\n",
    "        print(f\"Prime density: {length/numbersChecked:.2%}\")\n",
    "        print(f\"Largest gap between primes: {maxGap}\")\n",
    "        print(f\"Average checks per number: {numbersChecked/length:.2f}\")\n",
    "\n",
    "testTrialDivisionGapImpact()"
   ]
  },
  {
   "cell_type": "markdown",
   "metadata": {},
   "source": [
    "### 2.  Sieve of Eratosthenes"
   ]
  },
  {
   "cell_type": "code",
   "execution_count": 234,
   "metadata": {},
   "outputs": [],
   "source": [
    "def sieveOfEratosthenes(n):\n",
    "    limit = 550 \n",
    "    sieve = [True] * (limit + 1)\n",
    "    sieve[0] = sieve[1] = False\n",
    "    start = 2\n",
    "    while start * start <= limit:\n",
    "        if sieve[start]:\n",
    "            multiple = start * start\n",
    "            while multiple <= limit:\n",
    "                sieve[multiple] = False\n",
    "                multiple += start\n",
    "        start += 1\n",
    "    primes = [num for num, prime in enumerate(sieve) if prime]\n",
    "    return primes[:n]"
   ]
  },
  {
   "cell_type": "markdown",
   "metadata": {},
   "source": [
    "## Test 1"
   ]
  },
  {
   "cell_type": "code",
   "execution_count": 235,
   "metadata": {},
   "outputs": [
    {
     "name": "stdout",
     "output_type": "stream",
     "text": [
      "Prime 2: crossed out 24 multiples: [4, 6, 8, 10, 12, 14, 16, 18, 20, 22, 24, 26, 28, 30, 32, 34, 36, 38, 40, 42, 44, 46, 48, 50]\n",
      "Prime 3: crossed out 7 multiples: [9, 15, 21, 27, 33, 39, 45]\n",
      "Prime 5: crossed out 2 multiples: [25, 35]\n",
      "Prime 7: crossed out 1 multiples: [49]\n",
      "\n",
      "All primes up to 50: [2, 3, 5, 7, 11, 13, 17, 19, 23, 29, 31, 37, 41, 43, 47]\n",
      "\n",
      "Sieve Efficiency:\n",
      "Total numbers processed: 49\n",
      "Numbers marked as composite: 34\n",
      "Total crossing-out operations: 34\n"
     ]
    }
   ],
   "source": [
    "def testSieveCrossouts():\n",
    "    limit = 50\n",
    "    sieve = [True] * (limit + 1)\n",
    "    sieve[0] = sieve[1] = False\n",
    "    \n",
    "    # Track which numbers were crossed out by which prime\n",
    "    crossoutSource = {}\n",
    "    \n",
    "    # For visualization, track the state after each prime's processing\n",
    "    states = []\n",
    "    states.append(sieve.copy())\n",
    "    \n",
    "    # Process the sieve\n",
    "    for p in range(2, int(limit**0.5) + 1):\n",
    "        if sieve[p]:\n",
    "            crossedOut = []\n",
    "            \n",
    "            # Mark all multiples of p as composite\n",
    "            for multiple in range(p*p, limit+1, p):\n",
    "                if sieve[multiple]:  # Only count if not already crossed out\n",
    "                    crossedOut.append(multiple)\n",
    "                    crossoutSource[multiple] = p\n",
    "                sieve[multiple] = False\n",
    "            \n",
    "            states.append(sieve.copy())\n",
    "            print(f\"Prime {p}: crossed out {len(crossedOut)} multiples: {crossedOut}\")\n",
    "    \n",
    "    # Display final results\n",
    "    remainingPrimes = [i for i, isPrime in enumerate(sieve) if isPrime]\n",
    "    print(f\"\\nAll primes up to {limit}: {remainingPrimes}\")\n",
    "    \n",
    "    # Calculate efficiency\n",
    "    totalCrossouts = len(crossoutSource)\n",
    "    uniqueCrossouts = len(set(crossoutSource.keys()))\n",
    "    totalNumbers = limit - 2 + 1  # Count from 2 to limit\n",
    "    \n",
    "    print(f\"\\nSieve Efficiency:\")\n",
    "    print(f\"Total numbers processed: {totalNumbers}\")\n",
    "    print(f\"Numbers marked as composite: {uniqueCrossouts}\")\n",
    "    print(f\"Total crossing-out operations: {totalCrossouts}\")\n",
    "\n",
    "testSieveCrossouts()"
   ]
  },
  {
   "cell_type": "markdown",
   "metadata": {},
   "source": [
    "## Test 2"
   ]
  },
  {
   "cell_type": "code",
   "execution_count": 236,
   "metadata": {},
   "outputs": [
    {
     "name": "stdout",
     "output_type": "stream",
     "text": [
      "Sieve of Eratosthenes Memory Usage\n",
      "-------------------------------------------------\n",
      "Limit | Array Size | Primes Found | Memory per Prime\n",
      "-------------------------------------------------\n",
      "   100 |        101 |           25 |             4.04\n",
      "  1000 |       1001 |          168 |             5.96\n",
      " 10000 |      10001 |         1229 |             8.14\n"
     ]
    }
   ],
   "source": [
    "def testSieveMemoryUsage():\n",
    "    testLimits = [100, 1000, 10000]\n",
    "    results = []\n",
    "    \n",
    "    for limit in testLimits:\n",
    "        # Create sieve\n",
    "        sieve = [True] * (limit + 1)\n",
    "        sieve[0] = sieve[1] = False\n",
    "        \n",
    "        for p in range(2, int(limit**0.5) + 1):\n",
    "            if sieve[p]:\n",
    "                for multiple in range(p*p, limit+1, p):\n",
    "                    sieve[multiple] = False\n",
    "        \n",
    "        # Count primes found\n",
    "        primes = [num for num, isPrime in enumerate(sieve) if isPrime]\n",
    "        \n",
    "        results.append({\n",
    "            'limit': limit,\n",
    "            'memorySize': limit + 1,\n",
    "            'primesFound': len(primes),\n",
    "            'memoryPerPrime': (limit + 1) / len(primes)\n",
    "        })\n",
    "    \n",
    "    # Display results\n",
    "    print(\"Sieve of Eratosthenes Memory Usage\")\n",
    "    print(\"-------------------------------------------------\")\n",
    "    print(\"Limit | Array Size | Primes Found | Memory per Prime\")\n",
    "    print(\"-------------------------------------------------\")\n",
    "    \n",
    "    for r in results:\n",
    "        print(f\"{r['limit']:6d} | {r['memorySize']:10d} | {r['primesFound']:12d} | {r['memoryPerPrime']:16.2f}\")\n",
    "    \n",
    "\n",
    "testSieveMemoryUsage()"
   ]
  },
  {
   "cell_type": "markdown",
   "metadata": {},
   "source": [
    "## Test 3"
   ]
  },
  {
   "cell_type": "code",
   "execution_count": 237,
   "metadata": {},
   "outputs": [
    {
     "name": "stdout",
     "output_type": "stream",
     "text": [
      "Finding All Primes in Different Ranges\n",
      "-------------------------------------------------\n",
      "\n",
      "Range 2 to 100:\n",
      "Range size: 99\n",
      "Primes found: 25\n",
      "Prime density: 25.25%\n",
      "Marking operations: 104\n",
      "First few primes: [2, 3, 5, 7, 11]...\n",
      "\n",
      "Range 100 to 200:\n",
      "Range size: 101\n",
      "Primes found: 21\n",
      "Prime density: 20.79%\n",
      "Marking operations: 214\n",
      "First few primes: [101, 103, 107, 109, 113]...\n",
      "\n",
      "Range 1000 to 1100:\n",
      "Range size: 101\n",
      "Primes found: 16\n",
      "Prime density: 15.84%\n",
      "Marking operations: 314\n",
      "First few primes: [1009, 1013, 1019, 1021, 1031]...\n"
     ]
    }
   ],
   "source": [
    "def testSieveVsRange():\n",
    "    # Test ranges\n",
    "    ranges = [(2, 100), (100, 200), (1000, 1100)]\n",
    "    \n",
    "    print(\"Finding All Primes in Different Ranges\")\n",
    "    print(\"-------------------------------------------------\")\n",
    "    \n",
    "    for start, end in ranges:\n",
    "        # Create sieve\n",
    "        sieve = [True] * (end + 1)\n",
    "        sieve[0] = sieve[1] = False\n",
    "        \n",
    "        # Count operations\n",
    "        markingOps = 0\n",
    "        \n",
    "        for p in range(2, int(end**0.5) + 1):\n",
    "            if sieve[p]:\n",
    "                for multiple in range(max(p*p, start + (p - start % p) % p), end+1, p):\n",
    "                    sieve[multiple] = False\n",
    "                    markingOps += 1\n",
    "        \n",
    "        # Count primes found\n",
    "        primes = [num for num in range(max(2, start), end+1) if sieve[num]]\n",
    "        \n",
    "        print(f\"\\nRange {start} to {end}:\")\n",
    "        print(f\"Range size: {end - start + 1}\")\n",
    "        print(f\"Primes found: {len(primes)}\")\n",
    "        print(f\"Prime density: {len(primes)/(end-start+1):.2%}\")\n",
    "        print(f\"Marking operations: {markingOps}\")\n",
    "        print(f\"First few primes: {primes[:5]}...\")\n",
    "\n",
    "testSieveVsRange()"
   ]
  },
  {
   "cell_type": "markdown",
   "metadata": {},
   "source": [
    "## Task 5: Roots"
   ]
  },
  {
   "cell_type": "code",
   "execution_count": 238,
   "metadata": {},
   "outputs": [],
   "source": [
    "def isPrime(n):\n",
    "    if n <= 1:\n",
    "        return False\n",
    "    if n == 2:\n",
    "        return True\n",
    "    if n % 2 == 0:\n",
    "        return False\n",
    "    i = 3\n",
    "    while i * i <= n:\n",
    "        if n % i == 0:\n",
    "            return False\n",
    "        i += 2\n",
    "    return True\n",
    "\n",
    "def getFirstNPrimes(n):\n",
    "    primes = []\n",
    "    num = 2\n",
    "    while len(primes) < n:\n",
    "        if isPrime(num):\n",
    "            primes.append(num)\n",
    "        num += 1\n",
    "    return primes\n",
    "\n",
    "def sqrtNewton(x, tolerance=1e-15):\n",
    "    if x == 0:\n",
    "        return 0\n",
    "    guess = x / 2.0\n",
    "    while True:\n",
    "        nextGuess = (guess + x / guess) / 2\n",
    "        if abs(nextGuess - guess) < tolerance:\n",
    "            return nextGuess\n",
    "        guess = nextGuess\n",
    "\n",
    "def fractionalBitsOfSqrt(x, bits=32):\n",
    "    root = sqrtNewton(x)\n",
    "    frac = root - int(root)\n",
    "    result = ''\n",
    "    for _ in range(bits):\n",
    "        frac *= 2\n",
    "        bit = int(frac)\n",
    "        result += str(bit)\n",
    "        frac -= bit\n",
    "    return result\n",
    "\n",
    "def calculateRootFractions(nPrimes=100, bits=32):\n",
    "    primes = getFirstNPrimes(nPrimes)\n",
    "    return [fractionalBitsOfSqrt(p, bits) for p in primes]"
   ]
  },
  {
   "cell_type": "markdown",
   "metadata": {},
   "source": [
    "## Test 1"
   ]
  },
  {
   "cell_type": "code",
   "execution_count": 239,
   "metadata": {},
   "outputs": [
    {
     "name": "stdout",
     "output_type": "stream",
     "text": [
      "√2: Newton=1.41421356, Math=1.41421356, Diff=2.22e-16\n",
      "√3: Newton=1.73205081, Math=1.73205081, Diff=0.00e+00\n",
      "√5: Newton=2.23606798, Math=2.23606798, Diff=0.00e+00\n",
      "√7: Newton=2.64575131, Math=2.64575131, Diff=0.00e+00\n",
      "√11: Newton=3.31662479, Math=3.31662479, Diff=0.00e+00\n",
      "\n",
      "Binary representation of √7 (first 32 bits):\n",
      "Binary: 10100101010011111111010100111010\n",
      "Actual fractional part: 0.6457513110645907\n",
      "From binary: 0.6457513109780848\n",
      "Difference: 8.65059135435331e-11\n"
     ]
    },
    {
     "name": "stdout",
     "output_type": "stream",
     "text": [
      "\n"
     ]
    },
    {
     "data": {
      "image/png": "[encoded data removed]",
      "text/plain": [
       "<Figure size 800x500 with 1 Axes>"
      ]
     },
     "metadata": {},
     "output_type": "display_data"
    }
   ],
   "source": [
    "import matplotlib.pyplot as plt\n",
    "import math\n",
    "\n",
    "def testBasicFunctionality(plot=True):\n",
    "    # Test accuracy of Newton method\n",
    "    testNumbers = [2, 3, 5, 7, 11]\n",
    "    for num in testNumbers:\n",
    "        newtonResult = sqrtNewton(num)\n",
    "        mathResult = math.sqrt(num)\n",
    "        diff = abs(newtonResult - mathResult)\n",
    "        print(f\"√{num}: Newton={newtonResult:.8f}, Math={mathResult:.8f}, Diff={diff:.2e}\")\n",
    "    \n",
    "    # Verify binary representation\n",
    "    prime = 7\n",
    "    bits = 32\n",
    "    fracBits = fractionalBitsOfSqrt(prime, bits)\n",
    "    decimalValue = sum(int(fracBits[i]) * (2 ** -(i + 1)) for i in range(len(fracBits)))\n",
    "    actualFrac = math.sqrt(prime) - int(math.sqrt(prime))\n",
    "    \n",
    "    print(f\"\\nBinary representation of √{prime} (first 32 bits):\")\n",
    "    print(f\"Binary: {fracBits}\")\n",
    "    print(f\"Actual fractional part: {actualFrac}\")\n",
    "    print(f\"From binary: {decimalValue}\")\n",
    "    print(f\"Difference: {abs(actualFrac - decimalValue)}\")\n",
    "    \n",
    "    if plot:\n",
    "        # Simple plot showing convergence\n",
    "        primes = getFirstNPrimes(5)\n",
    "        plt.figure(figsize=(8, 5))\n",
    "        for p in primes:\n",
    "            bitLevels = [8, 16, 24, 32, 40, 48]\n",
    "            errors = []\n",
    "            for b in bitLevels:\n",
    "                binary = fractionalBitsOfSqrt(p, b)\n",
    "                decimal = sum(int(binary[i]) * (2 ** -(i + 1)) for i in range(len(binary)))\n",
    "                actual = math.sqrt(p) - int(math.sqrt(p))\n",
    "                errors.append(abs(actual - decimal))\n",
    "            plt.semilogy(bitLevels, errors, 'o-', label=f\"√{p}\")\n",
    "        \n",
    "        plt.xlabel(\"Number of bits\")\n",
    "        plt.ylabel(\"Error\")\n",
    "        plt.title(\"Approximation Error vs Bit Precision\")\n",
    "        plt.grid(True)\n",
    "        plt.legend()\n",
    "        plt.tight_layout()\n",
    "        plt.savefig(\"test1_error.png\")\n",
    "    \n",
    "    print()\n",
    "\n",
    "testBasicFunctionality()"
   ]
  },
  {
   "cell_type": "markdown",
   "metadata": {},
   "source": [
    "## Test 2"
   ]
  },
  {
   "cell_type": "code",
   "execution_count": 240,
   "metadata": {},
   "outputs": [
    {
     "name": "stdout",
     "output_type": "stream",
     "text": [
      "Analyzing 32-bit fractions for 100 primes\n",
      "Ratio of 1's: 0.5000 (expected: 0.5)\n",
      "\n",
      "Ratio of 1's by position (first 10):\n",
      "  Bit 1: 0.4800\n",
      "  Bit 2: 0.5200\n",
      "  Bit 3: 0.4800\n",
      "  Bit 4: 0.4400\n",
      "  Bit 5: 0.4300\n",
      "  Bit 6: 0.5000\n",
      "  Bit 7: 0.5100\n",
      "  Bit 8: 0.5000\n",
      "  Bit 9: 0.4400\n",
      "  Bit 10: 0.4500\n",
      "\n",
      "Uniformity across bit positions:\n",
      "  Chi-square: 18.8000, p-value: 0.958162\n",
      "  Distribution is uniform\n",
      "\n"
     ]
    },
    {
     "data": {
      "image/png": "[encoded data removed]",
      "text/plain": [
       "<Figure size 1000x500 with 1 Axes>"
      ]
     },
     "metadata": {},
     "output_type": "display_data"
    }
   ],
   "source": [
    "from scipy import stats\n",
    "import numpy as np\n",
    "\n",
    "def testBitDistribution(plot=True):  \n",
    "    numPrimes = 100\n",
    "    bits = 32\n",
    "    \n",
    "    # Get data\n",
    "    primes = getFirstNPrimes(numPrimes)\n",
    "    fractions = calculateRootFractions(numPrimes, bits)\n",
    "    bitArray = np.array([[int(bit) for bit in fraction] for fraction in fractions])\n",
    "    \n",
    "    # Overall distribution\n",
    "    onesCount = np.sum(bitArray)\n",
    "    totalBits = numPrimes * bits\n",
    "    onesRatio = onesCount / totalBits\n",
    "    \n",
    "    print(f\"Analyzing {bits}-bit fractions for {numPrimes} primes\")\n",
    "    print(f\"Ratio of 1's: {onesRatio:.4f} (expected: 0.5)\")\n",
    "    \n",
    "    # Position-based distribution\n",
    "    onesByPosition = np.sum(bitArray, axis=0) / numPrimes\n",
    "    \n",
    "    # Sample of position-specific distribution\n",
    "    print(\"\\nRatio of 1's by position (first 10):\")\n",
    "    for i in range(10):\n",
    "        print(f\"  Bit {i+1}: {onesByPosition[i]:.4f}\")\n",
    "    \n",
    "    # Statistical test for uniformity\n",
    "    chi2, p = stats.chisquare(np.sum(bitArray, axis=0), \n",
    "                              [numPrimes/2] * bits)\n",
    "    \n",
    "    print(f\"\\nUniformity across bit positions:\")\n",
    "    print(f\"  Chi-square: {chi2:.4f}, p-value: {p:.6f}\")\n",
    "    print(f\"  Distribution is {'uniform' if p > 0.05 else 'not uniform'}\")\n",
    "    \n",
    "    if plot:\n",
    "        # Visualize bit distribution by position\n",
    "        plt.figure(figsize=(10, 5))\n",
    "        plt.bar(range(1, bits+1), onesByPosition, alpha=0.7)\n",
    "        plt.axhline(y=0.5, color='r', linestyle='--', label='Expected')\n",
    "        plt.xlabel('Bit Position')\n",
    "        plt.ylabel('Frequency of 1s')\n",
    "        plt.title('Distribution of 1s by Bit Position')\n",
    "        plt.grid(alpha=0.3)\n",
    "        plt.legend()\n",
    "        plt.tight_layout()\n",
    "        plt.savefig(\"test3_distribution.png\")\n",
    "    \n",
    "    print()\n",
    "\n",
    "testBitDistribution()"
   ]
  },
  {
   "cell_type": "markdown",
   "metadata": {},
   "source": [
    "## Test 3"
   ]
  },
  {
   "cell_type": "code",
   "execution_count": 241,
   "metadata": {},
   "outputs": [
    {
     "name": "stdout",
     "output_type": "stream",
     "text": [
      "Analyzing 3200 bits from 50 primes\n",
      "Frequency test:\n",
      "  Ones: 1248 (0.3900)\n",
      "  Zeros: 1952 (0.6100)\n",
      "  Chi-square: 154.8800, p-value: 0.000000\n",
      "  Sequence is not random\n",
      "\n",
      "Runs test:\n",
      "  Runs: 1237, Expected: 1523.56\n",
      "  Z-score: -10.6486, p-value: 0.000000\n",
      "  Sequence is not random\n",
      "\n",
      "Pattern frequency (2-bit):\n",
      "  00: 1333 (1.67x expected)\n",
      "  01: 618 (0.77x expected)\n",
      "  10: 618 (0.77x expected)\n",
      "  11: 630 (0.79x expected)\n",
      "\n"
     ]
    },
    {
     "data": {
      "image/png": "[encoded data removed]",
      "text/plain": [
       "<Figure size 800x500 with 1 Axes>"
      ]
     },
     "metadata": {},
     "output_type": "display_data"
    }
   ],
   "source": [
    "def testRandomnessProperties(plot=True):   \n",
    "    numPrimes = 50\n",
    "    bits = 64\n",
    "    \n",
    "    # Get data\n",
    "    fractions = calculateRootFractions(numPrimes, bits)\n",
    "    allBits = ''.join(fractions)\n",
    "    \n",
    "    # Single bit frequency test\n",
    "    ones = allBits.count('1')\n",
    "    zeros = allBits.count('0')\n",
    "    expected = len(allBits) / 2\n",
    "    \n",
    "    print(f\"Analyzing {len(allBits)} bits from {numPrimes} primes\")\n",
    "    print(f\"Frequency test:\")\n",
    "    print(f\"  Ones: {ones} ({ones/len(allBits):.4f})\")\n",
    "    print(f\"  Zeros: {zeros} ({zeros/len(allBits):.4f})\")\n",
    "    \n",
    "    # Chi-square test\n",
    "    chi2 = ((ones - expected)**2 + (zeros - expected)**2) / expected\n",
    "    pValue = 1 - stats.chi2.cdf(chi2, 1)\n",
    "    \n",
    "    print(f\"  Chi-square: {chi2:.4f}, p-value: {pValue:.6f}\")\n",
    "    print(f\"  Sequence is {'random' if pValue > 0.05 else 'not random'}\")\n",
    "    \n",
    "    # Runs test\n",
    "    runs = 1\n",
    "    for i in range(1, len(allBits)):\n",
    "        if allBits[i] != allBits[i-1]:\n",
    "            runs += 1\n",
    "    \n",
    "    expectedRuns = 1 + (2 * ones * zeros) / len(allBits)\n",
    "    stdDev = math.sqrt((2 * ones * zeros * (2 * ones * zeros - len(allBits))) / \n",
    "                       (len(allBits)**2 * (len(allBits) - 1)))\n",
    "    \n",
    "    zScore = (runs - expectedRuns) / stdDev if stdDev > 0 else 0\n",
    "    pValueRuns = 2 * (1 - stats.norm.cdf(abs(zScore)))\n",
    "    \n",
    "    print(f\"\\nRuns test:\")\n",
    "    print(f\"  Runs: {runs}, Expected: {expectedRuns:.2f}\")\n",
    "    print(f\"  Z-score: {zScore:.4f}, p-value: {pValueRuns:.6f}\")\n",
    "    print(f\"  Sequence is {'random' if pValueRuns > 0.05 else 'not random'}\")\n",
    "    \n",
    "    # Patterns test (simplified)\n",
    "    print(\"\\nPattern frequency (2-bit):\")\n",
    "    patterns = {}\n",
    "    for i in range(len(allBits) - 1):\n",
    "        pattern = allBits[i:i+2]\n",
    "        patterns[pattern] = patterns.get(pattern, 0) + 1\n",
    "    \n",
    "    expectedCount = len(allBits) / 4  # Expected count for each 2-bit pattern\n",
    "    \n",
    "    for pattern, count in sorted(patterns.items()):\n",
    "        print(f\"  {pattern}: {count} ({count/expectedCount:.2f}x expected)\")\n",
    "    \n",
    "    if plot:\n",
    "        # Autocorrelation plot\n",
    "        shifts = range(1, 21)\n",
    "        correlations = []\n",
    "        \n",
    "        for shift in shifts:\n",
    "            shifted = allBits[shift:] + allBits[:shift]\n",
    "            matchRatio = sum(a == b for a, b in zip(allBits, shifted)) / len(allBits)\n",
    "            correlations.append(matchRatio)\n",
    "        \n",
    "        plt.figure(figsize=(8, 5))\n",
    "        plt.plot(shifts, correlations, 'o-')\n",
    "        plt.axhline(y=0.5, color='r', linestyle='--', label='Expected')\n",
    "        plt.xlabel('Shift')\n",
    "        plt.ylabel('Correlation')\n",
    "        plt.title('Autocorrelation at Different Shifts')\n",
    "        plt.grid(True, alpha=0.3)\n",
    "        plt.legend()\n",
    "        plt.tight_layout()\n",
    "        plt.savefig(\"test4_autocorrelation.png\")\n",
    "    \n",
    "    print()\n",
    "\n",
    "testRandomnessProperties()"
   ]
  },
  {
   "cell_type": "markdown",
   "metadata": {},
   "source": [
    "## Test 4"
   ]
  },
  {
   "cell_type": "code",
   "execution_count": 242,
   "metadata": {},
   "outputs": [
    {
     "name": "stdout",
     "output_type": "stream",
     "text": [
      "Analyzing 128-bit sequences for periodicity\n",
      "√2: No exact periodicity found\n",
      "  Best autocorrelations: [(1, 0.828125), (4, 0.828125), (5, 0.8125)]\n",
      "√3: No exact periodicity found\n",
      "  Best autocorrelations: [(2, 0.796875), (4, 0.796875), (3, 0.78125)]\n",
      "√5: No exact periodicity found\n",
      "  Best autocorrelations: [(1, 0.8125), (2, 0.8125), (7, 0.8125)]\n",
      "√7: No exact periodicity found\n",
      "  Best autocorrelations: [(2, 0.84375), (5, 0.796875), (7, 0.796875)]\n",
      "√11: No exact periodicity found\n",
      "  Best autocorrelations: [(5, 0.828125), (2, 0.8125), (3, 0.8125)]\n",
      "√13: No exact periodicity found\n",
      "  Best autocorrelations: [(2, 0.796875), (3, 0.796875), (4, 0.796875)]\n",
      "\n"
     ]
    },
    {
     "data": {
      "image/png": "[encoded data removed]",
      "text/plain": [
       "<Figure size 1000x600 with 1 Axes>"
      ]
     },
     "metadata": {},
     "output_type": "display_data"
    }
   ],
   "source": [
    "def testPeriodicity(plot=True):\n",
    "    bits = 128\n",
    "    primes = [2, 3, 5, 7, 11, 13]\n",
    "    \n",
    "    print(f\"Analyzing {bits}-bit sequences for periodicity\")\n",
    "    \n",
    "    # Store results for plotting\n",
    "    autocorrData = []\n",
    "    \n",
    "    for prime in primes:\n",
    "        fraction = fractionalBitsOfSqrt(prime, bits)\n",
    "        \n",
    "        # Check for exact periodic patterns (simple version)\n",
    "        hasPeriod = False\n",
    "        \n",
    "        for period in range(2, min(32, bits//4)):\n",
    "            matches = True\n",
    "            for i in range(period, bits - period, period):\n",
    "                if fraction[0:period] != fraction[i:i+period]:\n",
    "                    matches = False\n",
    "                    break\n",
    "            \n",
    "            if matches:\n",
    "                hasPeriod = True\n",
    "                print(f\"√{prime}: Found periodic pattern of length {period}\")\n",
    "                print(f\"  Pattern: {fraction[0:period]}\")\n",
    "                break\n",
    "        \n",
    "        if not hasPeriod:\n",
    "            # Check autocorrelation for approximate periodicity\n",
    "            shifts = range(1, min(33, bits//4))\n",
    "            bestShifts = []\n",
    "            \n",
    "            for shift in shifts:\n",
    "                correlation = sum(fraction[i] == fraction[(i+shift) % bits] \n",
    "                                  for i in range(bits)) / bits\n",
    "                \n",
    "                bestShifts.append((shift, correlation))\n",
    "                autocorrData.append((prime, shift, correlation))\n",
    "            \n",
    "            # Report top 3 correlations\n",
    "            topShifts = sorted(bestShifts, key=lambda x: x[1], reverse=True)[:3]\n",
    "            \n",
    "            print(f\"√{prime}: No exact periodicity found\")\n",
    "            print(f\"  Best autocorrelations: {topShifts}\")\n",
    "    \n",
    "    if plot and autocorrData:\n",
    "        # Plot autocorrelation for the first few primes\n",
    "        plt.figure(figsize=(10, 6))\n",
    "        for p in primes[:4]:  # First 4 primes for clarity\n",
    "            primeData = [(s, c) for pr, s, c in autocorrData if pr == p]\n",
    "            if primeData:\n",
    "                shifts, corrs = zip(*primeData)\n",
    "                plt.plot(shifts, corrs, 'o-', label=f\"√{p}\")\n",
    "        \n",
    "        plt.axhline(y=0.5, color='r', linestyle='--', label='Random')\n",
    "        plt.xlabel('Shift')\n",
    "        plt.ylabel('Correlation')\n",
    "        plt.title('Autocorrelation by Shift')\n",
    "        plt.grid(alpha=0.3)\n",
    "        plt.legend()\n",
    "        plt.tight_layout()\n",
    "        plt.savefig(\"test6_periodicity.png\")\n",
    "    \n",
    "    print()\n",
    "\n",
    "testPeriodicity()"
   ]
  },
  {
   "cell_type": "markdown",
   "metadata": {},
   "source": [
    "## Test 5"
   ]
  },
  {
   "cell_type": "code",
   "execution_count": 248,
   "metadata": {},
   "outputs": [
    {
     "name": "stdout",
     "output_type": "stream",
     "text": [
      "Testing normality for 10 primes, 64 bits each\n",
      "\n",
      "Pattern length: 1\n",
      "  √2:\n",
      "    Chi-square: 0.5625, p-value: 0.453255\n",
      "    Normal\n",
      "  √3:\n",
      "    Chi-square: 1.5625, p-value: 0.211300\n",
      "    Normal\n",
      "  √5:\n",
      "    Chi-square: 0.2500, p-value: 0.617075\n",
      "    Normal\n",
      "  √7:\n",
      "    Chi-square: 0.2500, p-value: 0.617075\n",
      "    Normal\n",
      "  √11:\n",
      "    Chi-square: 1.5625, p-value: 0.211300\n",
      "    Normal\n",
      "\n",
      "Pattern length: 2\n",
      "  √2:\n",
      "    Chi-square: 6.5238, p-value: 0.088728\n",
      "    Normal\n",
      "  √3:\n",
      "    Chi-square: 3.2222, p-value: 0.358615\n",
      "    Normal\n",
      "  √5:\n",
      "    Chi-square: 3.8571, p-value: 0.277309\n",
      "    Normal\n",
      "  √7:\n",
      "    Chi-square: 0.9365, p-value: 0.816610\n",
      "    Normal\n",
      "  √11:\n",
      "    Chi-square: 4.4921, p-value: 0.212999\n",
      "    Normal\n",
      "\n",
      "Pattern length: 3\n",
      "  √2:\n",
      "    Chi-square: 13.3548, p-value: 0.063921\n",
      "    Normal\n",
      "  √3:\n",
      "    Chi-square: 10.7742, p-value: 0.148776\n",
      "    Normal\n",
      "  √5:\n",
      "    Chi-square: 11.2903, p-value: 0.126447\n",
      "    Normal\n",
      "  √7:\n",
      "    Chi-square: 10.7742, p-value: 0.148776\n",
      "    Normal\n",
      "  √11:\n",
      "    Chi-square: 11.8065, p-value: 0.107106\n",
      "    Normal\n",
      "\n",
      "Pattern length: 4\n",
      "  √2:\n",
      "    Chi-square: 38.9344, p-value: 0.000655\n",
      "    Not normal\n",
      "  √3:\n",
      "    Chi-square: 23.7213, p-value: 0.069980\n",
      "    Normal\n",
      "  √5:\n",
      "    Chi-square: 30.5410, p-value: 0.010114\n",
      "    Not normal\n",
      "  √7:\n",
      "    Chi-square: 29.8760, p-value: 0.012376\n",
      "    Not normal\n",
      "  √11:\n",
      "    Chi-square: 28.4426, p-value: 0.018957\n",
      "    Not normal\n",
      "\n",
      "Overall normality (combined sequence):\n",
      "  1-bit patterns:\n",
      "    Chi-square: 15.6250, p-value: 0.000077\n",
      "    Normality ratio: 15.6250\n",
      "    Not normal\n",
      "  2-bit patterns:\n",
      "    Chi-square: 52.8372, p-value: 0.000000\n",
      "    Normality ratio: 17.6124\n",
      "    Not normal\n",
      "  3-bit patterns:\n",
      "    Chi-square: 134.4389, p-value: 0.000000\n",
      "    Normality ratio: 19.2056\n",
      "    Not normal\n",
      "  4-bit patterns:\n",
      "    Chi-square: 301.2229, p-value: 0.000000\n",
      "    Normality ratio: 20.0815\n",
      "    Not normal\n",
      "\n"
     ]
    },
    {
     "data": {
      "image/png": "[encoded data removed]",
      "text/plain": [
       "<Figure size 1000x600 with 1 Axes>"
      ]
     },
     "metadata": {},
     "output_type": "display_data"
    }
   ],
   "source": [
    "import pandas as pd\n",
    "\n",
    "def testNormality(plot=True):\n",
    "    numPrimes = 10\n",
    "    bits = 64\n",
    "    \n",
    "    primes = getFirstNPrimes(numPrimes)\n",
    "    fractions = [fractionalBitsOfSqrt(p, bits) for p in primes]\n",
    "    \n",
    "    print(f\"Testing normality for {numPrimes} primes, {bits} bits each\")\n",
    "    \n",
    "    # In a normal number, all n-bit sequences appear with equal frequency\n",
    "    results = []\n",
    "    \n",
    "    # Test with different pattern lengths\n",
    "    for patternLen in [1, 2, 3, 4]:\n",
    "        print(f\"\\nPattern length: {patternLen}\")\n",
    "        \n",
    "        for i, (prime, fraction) in enumerate(zip(primes[:5], fractions[:5])):\n",
    "            possiblePatterns = 2**patternLen\n",
    "            expectedCount = (bits - patternLen + 1) / possiblePatterns\n",
    "            \n",
    "            # Count actual occurrences\n",
    "            patternCounts = {}\n",
    "            for j in range(bits - patternLen + 1):\n",
    "                pattern = fraction[j:j+patternLen]\n",
    "                patternCounts[pattern] = patternCounts.get(pattern, 0) + 1\n",
    "            \n",
    "            # Calculate chi-square statistic\n",
    "            chi2 = sum((count - expectedCount)**2 / expectedCount \n",
    "                      for count in patternCounts.values())\n",
    "            \n",
    "            dof = possiblePatterns - 1\n",
    "            pValue = 1 - stats.chi2.cdf(chi2, dof)\n",
    "            \n",
    "            print(f\"  √{prime}:\")\n",
    "            print(f\"    Chi-square: {chi2:.4f}, p-value: {pValue:.6f}\")\n",
    "            print(f\"    {'Normal' if pValue > 0.05 else 'Not normal'}\")\n",
    "            \n",
    "            results.append((prime, patternLen, chi2/dof, pValue))\n",
    "    \n",
    "    # Check combined sequence\n",
    "    allBits = ''.join(fractions)\n",
    "    print(\"\\nOverall normality (combined sequence):\")\n",
    "    \n",
    "    for patternLen in [1, 2, 3, 4]:\n",
    "        possiblePatterns = 2**patternLen\n",
    "        expectedCount = (len(allBits) - patternLen + 1) / possiblePatterns\n",
    "        \n",
    "        # Count patterns\n",
    "        patternCounts = {}\n",
    "        for j in range(len(allBits) - patternLen + 1):\n",
    "            pattern = allBits[j:j+patternLen]\n",
    "            patternCounts[pattern] = patternCounts.get(pattern, 0) + 1\n",
    "        \n",
    "        # Chi-square test\n",
    "        chi2 = sum((count - expectedCount)**2 / expectedCount \n",
    "                  for count in patternCounts.values())\n",
    "        \n",
    "        dof = possiblePatterns - 1\n",
    "        pValue = 1 - stats.chi2.cdf(chi2, dof)\n",
    "        \n",
    "        print(f\"  {patternLen}-bit patterns:\")\n",
    "        print(f\"    Chi-square: {chi2:.4f}, p-value: {pValue:.6f}\")\n",
    "        print(f\"    Normality ratio: {chi2/dof:.4f}\")\n",
    "        print(f\"    {'Normal' if pValue > 0.05 else 'Not normal'}\")\n",
    "    \n",
    "    if plot and results:\n",
    "        # Plot p-values for different pattern lengths\n",
    "        df = pd.DataFrame(results, columns=['Prime', 'PatternLength', 'ChiSquareRatio', 'pValue'])\n",
    "        \n",
    "        plt.figure(figsize=(10, 6))\n",
    "        for prime in primes[:5]:\n",
    "            primeData = df[df['Prime'] == prime]\n",
    "            if not primeData.empty:\n",
    "                plt.plot(primeData['PatternLength'], primeData['pValue'], \n",
    "                         'o-', label=f\"√{prime}\")\n",
    "                \n",
    "        plt.axhline(y=0.05, color='r', linestyle='--', label='Significance level')\n",
    "        plt.xlabel('Pattern Length')\n",
    "        plt.ylabel('p-value')\n",
    "        plt.yscale('log')\n",
    "        plt.title('Normality Test p-values')\n",
    "        plt.grid(True, alpha=0.3)\n",
    "        plt.legend()\n",
    "        plt.tight_layout()\n",
    "        plt.savefig(\"test7_normality.png\")\n",
    "    \n",
    "    print()\n",
    "\n",
    "testNormality()"
   ]
  },
  {
   "cell_type": "markdown",
   "metadata": {},
   "source": [
    "## Task 6: Proof of Work\n",
    "\n",
    "maybe redo this,, other lads got better results in discord"
   ]
  },
  {
   "cell_type": "code",
   "execution_count": null,
   "metadata": {},
   "outputs": [
    {
     "name": "stdout",
     "output_type": "stream",
     "text": [
      "Words with maximum leading zeros (15):\n",
      "- grady: 00015674232002d9293d38e1da786f88f5eb55cdaca0a9186a8de3817663ab6c, leadingZeros: 15\n",
      "- mountable: 00019347bddcfe0cd6b54f6751d9928518ad1acff8c8489f14fb834da3795f64, leadingZeros: 15\n"
     ]
    }
   ],
   "source": [
    "import hashlib\n",
    "\n",
    "def loadWords(path=\"words.txt\"):\n",
    "    with open(path, \"r\") as file:\n",
    "        return [line.strip().lower() for line in file if line.strip().isalpha()]\n",
    "\n",
    "def calculateSha256(word):\n",
    "    return hashlib.sha256(word.encode()).digest()\n",
    "\n",
    "def countLeadingZeroBits(digestBytes):\n",
    "    leadingZeros = 0\n",
    "    \n",
    "    for byte in digestBytes:\n",
    "        if byte == 0:\n",
    "            leadingZeros += 8\n",
    "        else:\n",
    "            byteBin = format(byte, '08b')\n",
    "            for bit in byteBin:\n",
    "                if bit == '0':\n",
    "                    leadingZeros += 1\n",
    "                else:\n",
    "                    return leadingZeros\n",
    "    \n",
    "    return leadingZeros\n",
    "\n",
    "def findWordsWithMaxLeadingZeros(words):\n",
    "    maxZeros = 0\n",
    "    bestWords = []\n",
    "    \n",
    "    for word in words:\n",
    "        digest = calculateSha256(word)\n",
    "        zeros = countLeadingZeroBits(digest)\n",
    "        \n",
    "        if zeros > maxZeros:\n",
    "            maxZeros = zeros\n",
    "            bestWords = [(word, digest.hex(), zeros)]\n",
    "        elif zeros == maxZeros:\n",
    "            bestWords.append((word, digest.hex(), zeros))\n",
    "            \n",
    "    return bestWords\n",
    "\n",
    "words = loadWords()\n",
    "bestWords = findWordsWithMaxLeadingZeros(words)\n",
    "\n",
    "print(f\"Words with maximum leading zeros ({bestWords[0][2]}):\")\n",
    "for word, digest, zeros in sorted(bestWords, key=lambda x: x[0]):\n",
    "    print(f\"- {word}: {digest}, leadingZeros: {zeros}\")"
   ]
  },
  {
   "cell_type": "markdown",
   "metadata": {},
   "source": [
    "## Task 7: Turing Machines"
   ]
  },
  {
   "cell_type": "code",
   "execution_count": 244,
   "metadata": {},
   "outputs": [],
   "source": [
    "def addOneTuringMachine(inputTape):\n",
    "    tape = list(inputTape)\n",
    "    headPosition = len(tape) - 1\n",
    "    state = 'add'\n",
    "    \n",
    "    while True:\n",
    "        currentSymbol = tape[headPosition]\n",
    "        \n",
    "        if state == 'add':\n",
    "            if currentSymbol == '0':\n",
    "                tape[headPosition] = '1'\n",
    "                break\n",
    "            elif currentSymbol == '1':\n",
    "                tape[headPosition] = '0'\n",
    "                state = 'carry'\n",
    "                headPosition -= 1\n",
    "            \n",
    "        elif state == 'carry':\n",
    "            if headPosition < 0:\n",
    "                tape.insert(0, '1')\n",
    "                break\n",
    "            elif currentSymbol == '0':\n",
    "                tape[headPosition] = '1'\n",
    "                break\n",
    "            elif currentSymbol == '1':\n",
    "                tape[headPosition] = '0'\n",
    "                headPosition -= 1\n",
    "    \n",
    "    return ''.join(tape)"
   ]
  },
  {
   "cell_type": "markdown",
   "metadata": {},
   "source": [
    "## Task 8: Computational Complexity"
   ]
  },
  {
   "cell_type": "code",
   "execution_count": 245,
   "metadata": {},
   "outputs": [],
   "source": [
    "def bubbleSort(arr):\n",
    "    # Create a copy of the array to avoid modifying the original\n",
    "    arrCopy = arr.copy()\n",
    "    n = len(arrCopy)\n",
    "    comparisons = 0\n",
    "    \n",
    "    # Traverse through all array elements\n",
    "    for i in range(n):\n",
    "        # Flag to optimize if no swaps occur in a pass\n",
    "        swapped = False\n",
    "        # Last i elements are already in place\n",
    "        for j in range(0, n-i-1):\n",
    "            # Compare adjacent elements\n",
    "            comparisons += 1\n",
    "            if arrCopy[j] > arrCopy[j+1]:\n",
    "                # Swap if the element found is greater than the next element\n",
    "                arrCopy[j], arrCopy[j+1] = arrCopy[j+1], arrCopy[j]\n",
    "                swapped = True\n",
    "        \n",
    "        # If no swapping occurred in this pass, array is sorted\n",
    "        if not swapped:\n",
    "            break\n",
    "                \n",
    "    return arrCopy, comparisons"
   ]
  }
 ],
 "metadata": {
  "kernelspec": {
   "display_name": "Python 3",
   "language": "python",
   "name": "python3"
  },
  "language_info": {
   "codemirror_mode": {
    "name": "ipython",
    "version": 3
   },
   "file_extension": ".py",
   "mimetype": "text/x-python",
   "name": "python",
   "nbconvert_exporter": "python",
   "pygments_lexer": "ipython3",
   "version": "3.12.0"
  },
  "orig_nbformat": 4
 },
 "nbformat": 4,
 "nbformat_minor": 2
}
