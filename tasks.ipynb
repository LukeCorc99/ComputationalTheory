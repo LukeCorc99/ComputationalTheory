{
 "cells": [
  {
   "attachments": {},
   "cell_type": "markdown",
   "metadata": {},
   "source": [
    "# Computational Theory Tasks\n",
    "## By Luke Corcoran\n",
    "### G00410404"
   ]
  },
  {
   "cell_type": "code",
   "execution_count": 143,
   "metadata": {},
   "outputs": [],
   "source": [
    "# Define necessary imports\n",
    "import numpy as np\n",
    "import tempfile\n",
    "import os\n",
    "import io\n",
    "import sys\n",
    "import time\n",
    "import math"
   ]
  },
  {
   "attachments": {},
   "cell_type": "markdown",
   "metadata": {},
   "source": [
    "# Task 1: Binary Representations\n",
    "This task involves creating functions to manipulate binary representations of 32-bit unsigned integers.\n",
    "\n",
    "**Sources:**\n",
    "- Rotating bits of a number in Python: https://www.geeksforgeeks.org/python3-program-to-rotate-bits-of-a-number/\n",
    "\n",
    "## Function 1: rotl(x, n=1) (Left Rotation)\n",
    "The `rotl` function performs a left rotation on a 32-bit unsigned integer. Left rotation shifts bits to the left by `n` positions, wrapping around the bits that overflow beyond the 32-bit boundary.\n",
    "### Example I/O: \n",
    "**Input:**  \n",
    "```\n",
    "x = 0b11001010101100000000000000000000\n",
    "n = 3\n",
    "```\n",
    "\n",
    "**Output:** \n",
    "``` \n",
    "0b010101011000000000000000000110\n",
    "```"
   ]
  },
  {
   "cell_type": "code",
   "execution_count": 144,
   "metadata": {},
   "outputs": [],
   "source": [
    "# Rotate bits of x to the left by n positions.\n",
    "def rotl(x, n=1):\n",
    "    bits = 32 # Number of bits in an integer\n",
    "    n = n % bits  # Ensure n is within the range of 0-31\n",
    "    return ((x << n) & 0xFFFFFFFF) | (x >> (bits - n)) # Rotate bits to the left by n positions"
   ]
  },
  {
   "cell_type": "markdown",
   "metadata": {},
   "source": [
    "## Test 1"
   ]
  },
  {
   "cell_type": "code",
   "execution_count": 145,
   "metadata": {},
   "outputs": [
    {
     "name": "stdout",
     "output_type": "stream",
     "text": [
      "Input: x = 0b11001010101100000000000000000000, n = 3\n",
      "Expected: 0b1010101100000000000000000000110\n",
      "Result:   0b1010101100000000000000000000110\n",
      "Test passed: True\n"
     ]
    }
   ],
   "source": [
    "x = 0b11001010101100000000000000000000 # Input 32-bit integer\n",
    "n = 3  # Number of positions to rotate left\n",
    "expected = 0b001010101100000000000000000000110  # Expected result after rotating left by 3 bits\n",
    "result = rotl(x, n)  # Call rot1 function with 32-bit unsigned integer\n",
    "\n",
    "# Display the results\n",
    "print(f\"Input: x = {bin(x)}, n = {n}\")\n",
    "print(f\"Expected: {bin(expected)}\")\n",
    "print(f\"Result:   {bin(result)}\") \n",
    "print(f\"Test passed: {result == expected}\")  # Show if test was successful"
   ]
  },
  {
   "cell_type": "markdown",
   "metadata": {},
   "source": [
    "## Test 2"
   ]
  },
  {
   "cell_type": "code",
   "execution_count": 146,
   "metadata": {},
   "outputs": [
    {
     "name": "stdout",
     "output_type": "stream",
     "text": [
      "Original:     0b10101010101010101010101010101010\n",
      "Rotated by 32: 0b10101010101010101010101010101010\n",
      "Rotated by 0:  0b10101010101010101010101010101010\n",
      "Test passed: True\n"
     ]
    }
   ],
   "source": [
    "x = 0b10101010101010101010101010101010 # 32-bit integer\n",
    "result1 = rotl(x, 32)  # Rotate by exactly 32 bits (full rotation)\n",
    "result2 = rotl(x, 0)   # Rotate by 0 bits (no rotation)\n",
    "\n",
    "print(f\"Original:     {bin(x)}\") \n",
    "print(f\"Rotated by 32: {bin(result1)}\")  # Display result after 32-bit rotation\n",
    "print(f\"Rotated by 0:  {bin(result2)}\")  # Display result after 0-bit rotation\n",
    "print(f\"Test passed: {result1 == x and result2 == x}\") "
   ]
  },
  {
   "cell_type": "markdown",
   "metadata": {},
   "source": [
    "## Function 2: rotr(x, n=1) (Right Rotation)\n",
    "The `rotr` function performs a right rotation on a 32-bit unsigned integer. Right rotation shifts bits to the right by `n` positions, wrapping around the bits that overflow beyond the 32-bit boundary.\n",
    "### Example I/O: \n",
    "**Input:**  \n",
    "```\n",
    "x = 0b00000000000000000000110010101011\n",
    "n = 3\n",
    "```\n",
    "\n",
    "**Output:** \n",
    "``` \n",
    "0b01100000000000000000000110010101\n",
    "\n",
    "```"
   ]
  },
  {
   "cell_type": "code",
   "execution_count": 147,
   "metadata": {},
   "outputs": [],
   "source": [
    "# Rotate bits of x to the right by n positions.\n",
    "def rotr(x, n=1):\n",
    "    bits = 32  # Number of bits in an integer\n",
    "    n = n % bits  # Ensure n is within the range of 0-31\n",
    "    return ((x >> n) | (x << (bits - n))) & 0xFFFFFFFF  # Rotate bits to the right by n positions"
   ]
  },
  {
   "cell_type": "markdown",
   "metadata": {},
   "source": [
    "# Test 1"
   ]
  },
  {
   "cell_type": "code",
   "execution_count": 148,
   "metadata": {},
   "outputs": [
    {
     "name": "stdout",
     "output_type": "stream",
     "text": [
      "Input: x = 0b110010101011, n = 3\n",
      "Expected: 0b1100000000000000000000110010101\n",
      "Result:   0b1100000000000000000000110010101\n",
      "Test passed: True\n"
     ]
    }
   ],
   "source": [
    "x = 0b00000000000000000000110010101011  # 32-bit integer\n",
    "n = 3  # Number of positions to rotate right\n",
    "\n",
    "# Right rotation by 3 should put the 3 rightmost bits at the left\n",
    "expected = 0b01100000000000000000000110010101  # 3 rightmost bits moved to left, others shifted right\n",
    "result = rotr(x, n)  # Call rotr function with 32-bit unsigned integer\n",
    "\n",
    "# Display the results\n",
    "print(f\"Input: x = {bin(x)}, n = {n}\")\n",
    "print(f\"Expected: {bin(expected)}\")\n",
    "print(f\"Result:   {bin(result)}\")\n",
    "print(f\"Test passed: {result == expected}\")  # Test passed if result matches expected"
   ]
  },
  {
   "cell_type": "markdown",
   "metadata": {},
   "source": [
    "## Test 2"
   ]
  },
  {
   "cell_type": "code",
   "execution_count": 149,
   "metadata": {},
   "outputs": [
    {
     "name": "stdout",
     "output_type": "stream",
     "text": [
      "Original:     0b10101010101010101010101010101010\n",
      "Rotated by 32: 0b10101010101010101010101010101010\n",
      "Rotated by 0:  0b10101010101010101010101010101010\n",
      "Test passed: True\n"
     ]
    }
   ],
   "source": [
    "x = 0b10101010101010101010101010101010  # 32-bit integer\n",
    "result1 = rotr(x, 32)  # Rotate by full 32 bits (should be identical to input)\n",
    "result2 = rotr(x, 0)   # Rotate by 0 bits (should be identical to input)\n",
    "\n",
    "print(f\"Original:     {bin(x)}\")\n",
    "print(f\"Rotated by 32: {bin(result1)}\") # Display result after 32-bit rotation\n",
    "print(f\"Rotated by 0:  {bin(result2)}\") # Display result after 0-bit rotation\n",
    "print(f\"Test passed: {result1 == x and result2 == x}\") # Test passed if both results match input"
   ]
  },
  {
   "cell_type": "markdown",
   "metadata": {},
   "source": [
    "## Function 3: ch(x, y, z) (Bitwise Choice)\n",
    "The `ch` function selects bits from `y` where `x` has bits set to 1 and from `z` where `x` has bits set to 0.\n",
    "### Example I/O: \n",
    "**Input:**  \n",
    "```\n",
    "x = 0b11001010101\n",
    "y = 0b10101010101 \n",
    "z = 0b01010101010\n",
    "```\n",
    "\n",
    "**Output:**\n",
    "``` \n",
    "0b10011111111\n",
    "```"
   ]
  },
  {
   "cell_type": "code",
   "execution_count": 150,
   "metadata": {},
   "outputs": [],
   "source": [
    "# Choose bits from y where x has bits set to 1, and bits from z where x has bits set to 0.\n",
    "def ch(x, y, z):\n",
    "    return (x & y) ^ (~x & z)  # Select bits from y where x is 1, otherwise from z"
   ]
  },
  {
   "cell_type": "markdown",
   "metadata": {},
   "source": [
    "## Test 1"
   ]
  },
  {
   "cell_type": "code",
   "execution_count": 151,
   "metadata": {},
   "outputs": [
    {
     "name": "stdout",
     "output_type": "stream",
     "text": [
      "Input: x = 0b11001010101, y = 0b10101010101, z = 0b1010101010\n",
      "Expected: 0b10011111111\n",
      "Result:   0b10011111111\n",
      "Test passed: True\n"
     ]
    }
   ],
   "source": [
    "x = 0b11001010101  # Input value\n",
    "y = 0b10101010101  # Value to select from when x bit is 1\n",
    "z = 0b01010101010  # Value to select from when x bit is 0\n",
    "\n",
    "expected =  0b10011111111 # Expected output for ch function\n",
    "result = ch(x, y, z)  # Compute ch function\n",
    "\n",
    "# Display input values and expected result\n",
    "print(f\"Input: x = {bin(x)}, y = {bin(y)}, z = {bin(z)}\")\n",
    "print(f\"Expected: {bin(expected)}\")  \n",
    "print(f\"Result:   {bin(result)}\") \n",
    "print(f\"Test passed: {result == expected}\")  # Passes if result matches expected"
   ]
  },
  {
   "cell_type": "markdown",
   "metadata": {},
   "source": [
    "## Test 2"
   ]
  },
  {
   "cell_type": "code",
   "execution_count": 152,
   "metadata": {},
   "outputs": [
    {
     "name": "stdout",
     "output_type": "stream",
     "text": [
      "y = 0b10101010101, z = 0b10101010100\n",
      "When x is all 1s - Expected: 0b10101010101, -- Result: 0b10101010101\n",
      "When x is all 0s - Expected: 0b10101010100,  -- Result: 0b10101010100\n",
      "Test passed: True\n"
     ]
    }
   ],
   "source": [
    "xAllOnes = 0b11111111111111111111111111111111 # When x is all 1s, output should be exactly y\n",
    "y = 0b10101010101  # Value to select from when x bit is 1\n",
    "z = 0b10101010100   # Value to select from when x bit is 0\n",
    "result1 = ch(xAllOnes, y, z)\n",
    "\n",
    "xAllZeros = 0 # When x is all 0s, output should be exactly z\n",
    "result2 = ch(xAllZeros, y, z)\n",
    "\n",
    "# Display results for all 1s and all 0s cases\n",
    "print(f\"y = {bin(y)}, z = {bin(z)}\")\n",
    "print(f\"When x is all 1s - Expected: {bin(y)}, -- Result: {bin(result1)}\")\n",
    "print(f\"When x is all 0s - Expected: {bin(z)},  -- Result: {bin(result2)}\")\n",
    "print(f\"Test passed: {result1 == y and result2 == z}\") # Test passed if results match expected values"
   ]
  },
  {
   "cell_type": "markdown",
   "metadata": {},
   "source": [
    "## Function 4: maj(x, y, z) (Bitwise Majority)\n",
    "\n",
    "The `maj` function performs a majority vote on the bits of `x`, `y`, and `z`.\n",
    "The output has a `1` in bit position `i` where at least two of `x`, `y`, and `z` have `1`s in position `i`.\n",
    "All other output bit positions are `0`.\n",
    "\n",
    "#### Example I/O:\n",
    "\n",
    "**Input:**\n",
    "```\n",
    "x = 0b110010101011\n",
    "y = 0b101010101010\n",
    "z = 0b010101010101\n",
    "```\n",
    "\n",
    "**Output:**\n",
    "```\n",
    "0b110010101011\n",
    "```"
   ]
  },
  {
   "cell_type": "code",
   "execution_count": 153,
   "metadata": {},
   "outputs": [],
   "source": [
    "# Compute the majority vote for each bit position in x, y, and z\n",
    "def maj(x, y, z):\n",
    "    return (x & y) | (y & z) | (x & z)  # Majority function: At least two bits must be 1"
   ]
  },
  {
   "cell_type": "markdown",
   "metadata": {},
   "source": [
    "## Test 1"
   ]
  },
  {
   "cell_type": "code",
   "execution_count": 154,
   "metadata": {},
   "outputs": [
    {
     "name": "stdout",
     "output_type": "stream",
     "text": [
      "Input: x = 0b110010101011, y = 0b101010101010, z = 0b10101010101\n",
      "Expected: 0b110010101011\n",
      "Result:   0b110010101011\n",
      "Test passed: True\n"
     ]
    }
   ],
   "source": [
    "# Test input values\n",
    "x = 0b110010101011\n",
    "y = 0b101010101010\n",
    "z = 0b010101010101 \n",
    "\n",
    "# maj returns 1 if at least two inputs have 1, otherwise 0. In this case, majority of 1s is 0b110010101011\n",
    "expected = 0b110010101011 \n",
    "result = maj(x, y, z)\n",
    "\n",
    "# Display input values and expected vs actual results\n",
    "print(f\"Input: x = {bin(x)}, y = {bin(y)}, z = {bin(z)}\")\n",
    "print(f\"Expected: {bin(expected)}\")\n",
    "print(f\"Result:   {bin(result)}\")\n",
    "print(f\"Test passed: {result == expected}\") # Test passed if result matches expected"
   ]
  },
  {
   "cell_type": "markdown",
   "metadata": {},
   "source": [
    "## Test 2\n",
    "Extreme cases"
   ]
  },
  {
   "cell_type": "code",
   "execution_count": 155,
   "metadata": {},
   "outputs": [
    {
     "name": "stdout",
     "output_type": "stream",
     "text": [
      "z = 0b10101010101\n",
      "When x and y are all 1s:\n",
      "Expected: 0b11111111111111111111111111111111 -- Result: 0b11111111111111111111111111111111\n",
      "When x and y are all 0s:\n",
      "Expected: 0b0 -- Result: 0b0\n",
      "Test passed: True\n"
     ]
    }
   ],
   "source": [
    "# Test input values. When any two inputs are all 1s, output should be all 1s\n",
    "xAllOnes = 0b11111111111111111111111111111111\n",
    "yAllOnes = 0b11111111111111111111111111111111\n",
    "z = 0b010101010101\n",
    "\n",
    "result1 = maj(xAllOnes, yAllOnes, z)\n",
    "\n",
    "# When any two inputs are all 0s, output should be all 0s\n",
    "xAllZeros = 0\n",
    "yAllZeros = 0\n",
    "result2 = maj(xAllZeros, yAllZeros, z) \n",
    "\n",
    "# Display results for all 1s and all 0s cases\n",
    "print(f\"z = {bin(z)}\")\n",
    "print(\"When x and y are all 1s:\")\n",
    "print(f\"Expected: {bin(0b11111111111111111111111111111111)} -- Result: {bin(result1)}\")\n",
    "print(\"When x and y are all 0s:\")\n",
    "print(f\"Expected: {bin(0)} -- Result: {bin(result2)}\")\n",
    "print(f\"Test passed: {result1 == 0b11111111111111111111111111111111 and result2 == 0}\") "
   ]
  },
  {
   "cell_type": "markdown",
   "metadata": {},
   "source": [
    "# Task 2: Hash Functions\n",
    "\n",
    "** suggest why the values 31 and 101 are used.**"
   ]
  },
  {
   "cell_type": "code",
   "execution_count": 156,
   "metadata": {},
   "outputs": [],
   "source": [
    "def hash(s: str, multiplier: int = 31, modulo: int = 101) -> int:\n",
    "    hashval = 0  # Initialize hash value to 0\n",
    "    \n",
    "    for char in s:\n",
    "        # Add character value and multiply by prime multiplier\n",
    "        hashval = ord(char) + multiplier * hashval\n",
    "    \n",
    "    # Keep hash in range 0-100\n",
    "    return hashval % modulo"
   ]
  },
  {
   "cell_type": "markdown",
   "metadata": {},
   "source": [
    "## Test 1: Testing Basic Functionality"
   ]
  },
  {
   "cell_type": "code",
   "execution_count": 157,
   "metadata": {},
   "outputs": [
    {
     "name": "stdout",
     "output_type": "stream",
     "text": [
      "String: 'hello'\n",
      "Expected hash value: 17\n",
      "Calculated hash value: 17\n",
      "Test passed: True\n"
     ]
    }
   ],
   "source": [
    "testString = \"hello\"  # Test string\n",
    "result = hash(testString)  # Calculate the hash value of the string\n",
    "\n",
    "expected = 17  # Expected hash value for \"hello\" using the hash function\n",
    "\n",
    "# Output test results for verification\n",
    "print(f\"String: '{testString}'\")\n",
    "print(f\"Expected hash value: {expected}\")\n",
    "print(f\"Calculated hash value: {result}\")\n",
    "print(f\"Test passed: {result == expected}\")  # Test passed if result matches expected value"
   ]
  },
  {
   "cell_type": "markdown",
   "metadata": {},
   "source": [
    "## Test 2: Showcasing why 31 is chosen\n",
    "The value 31 was chosen because prime numbers create unique distribution patterns that optimize hash table operations. Prime numbers like 31 ensure that each character position contributes distinctly to the final hash value, even for similar strings, resulting in better overall distribution quality. This mathematical property helps hash functions avoid distribution anomalies that can occur with composite numbers, making operations more efficient and predictable."
   ]
  },
  {
   "cell_type": "code",
   "execution_count": 158,
   "metadata": {},
   "outputs": [],
   "source": [
    "# Test strings with similar patterns\n",
    "similarStrings = [\n",
    "        \"abc\", \"acb\", \"bac\", \"bca\", \"cab\", \"cba\", \n",
    "        \"aaa\", \"bbb\", \"abc1\", \"abc2\"              \n",
    "    ]\n",
    "\n",
    "# Compare prime vs non-prime multipliers\n",
    "primeMultipliers = [3, 7, 11, 13, 17, 19, 23, 29, 31, 37, 41, 43, 47, 53, 101]\n",
    "nonPrimeMultipliers = [1, 4, 6, 8, 9, 10, 12, 15, 16, 20, 24, 25, 32, 36, 100]\n",
    "\n",
    "# Initialize counters for prime and non-prime multipliers\n",
    "results = {\"Prime\": 0, \"Non-Prime\": 0}"
   ]
  },
  {
   "cell_type": "code",
   "execution_count": 159,
   "metadata": {},
   "outputs": [],
   "source": [
    "# Test hash distribution for prime multipliers\n",
    "for multiplier in primeMultipliers:\n",
    "    hashValues = [hash(s, multiplier) for s in similarStrings] # Create hash values using the hash function\n",
    "    uniqueRatio = len(set(hashValues)) / len(similarStrings) # Calculate distribution quality (unique values / total)\n",
    "    results[\"Prime\"] += uniqueRatio\n",
    "\n",
    "# Test hash distribution for non-prime multipliers\n",
    "for multiplier in nonPrimeMultipliers:\n",
    "    hashValues = [hash(s, multiplier) for s in similarStrings] # Create hash values\n",
    "    uniqueRatio = len(set(hashValues)) / len(similarStrings) # Calculate distribution quality\n",
    "    results[\"Non-Prime\"] += uniqueRatio "
   ]
  },
  {
   "cell_type": "code",
   "execution_count": 160,
   "metadata": {},
   "outputs": [
    {
     "name": "stdout",
     "output_type": "stream",
     "text": [
      "Average distribution quality:\n",
      "  Prime multipliers: 0.95\n",
      "  Non-Prime multipliers: 0.91\n",
      "\n",
      "CONCLUSION: Prime multipliers produce better hash distribution quality\n"
     ]
    }
   ],
   "source": [
    "# Calculate average distribution quality\n",
    "results[\"Prime\"] /= len(primeMultipliers)\n",
    "results[\"Non-Prime\"] /= len(nonPrimeMultipliers)\n",
    "\n",
    "# Print results\n",
    "print(f\"Average distribution quality:\")\n",
    "print(f\"  Prime multipliers: {results['Prime']:.2f}\")\n",
    "print(f\"  Non-Prime multipliers: {results['Non-Prime']:.2f}\")\n",
    "print(f\"\\nCONCLUSION: {'Prime' if results['Prime'] > results['Non-Prime'] else 'Non-Prime'} \" +\n",
    "        \"multipliers produce better hash distribution quality\")"
   ]
  },
  {
   "cell_type": "markdown",
   "metadata": {},
   "source": [
    "## Test 3: Showcasing why 101 is chosen\n",
    "The test demonstrates why prime numbers like 101 are essential for efficient hash table implementation. When using a non-prime table size of 100, values that share common factors with 100 (such as multiples of 10 and 25) can only hash to a limited subset of buckets, resulting in significant clustering and poor distribution (only 12% of buckets used). In contrast, a prime table size of 101 shows nearly 50% better bucket utilization (17.8%) because prime numbers have no common factors with other numbers except 1. This mathematical property ensures values can potentially distribute across all buckets rather than being constrained to predictable patterns, significantly reducing collisions and improving overall hash table performance. This fundamental principle explains why almost all production-quality hash tables use prime numbers for sizing."
   ]
  },
  {
   "cell_type": "code",
   "execution_count": 161,
   "metadata": {},
   "outputs": [],
   "source": [
    "values10 = [10, 20, 30, 40, 50, 60, 70, 80, 90, 100] # Test values, multiples of 10\n",
    "values25 = [25, 50, 75, 100, 125, 150, 175, 200, 225, 250] # Test values, multiples of 25\n",
    "testValues = values10 + values25 # Combine test values \n",
    "tableLengths = {\"Non-prime (100)\": 100, \"Prime (101)\": 101} # Test prime vs non-prime table sizes"
   ]
  },
  {
   "cell_type": "code",
   "execution_count": 162,
   "metadata": {},
   "outputs": [
    {
     "name": "stdout",
     "output_type": "stream",
     "text": [
      "\n",
      "Non-prime (100):\n",
      "  Buckets used: 12 out of 100 (12.0%)\n",
      "\n",
      "Prime (101):\n",
      "  Buckets used: 18 out of 101 (17.8%)\n"
     ]
    }
   ],
   "source": [
    "# Loop through each table length and test the distribution of values\n",
    "for name, tableLength in tableLengths.items():\n",
    "    buckets = {} # Track populated buckets\n",
    "\n",
    "    # Hash each value and store in corresponding bucket\n",
    "    for val in testValues:\n",
    "        index = val % tableLength # Calculate bucket index using modulo operation\n",
    "        \n",
    "        if index not in buckets: # Initialize bucket if not present\n",
    "            buckets[index] = []\n",
    "            \n",
    "        buckets[index].append(val) # Store value in its bucket\n",
    "    \n",
    "    usedBuckets = len(buckets)  # Count distinct buckets used\n",
    "    print(f\"\\n{name}:\")\n",
    "    print(f\"  Buckets used: {usedBuckets} out of {tableLength} ({usedBuckets/tableLength*100:.1f}%)\")"
   ]
  },
  {
   "cell_type": "markdown",
   "metadata": {},
   "source": [
    "# Task 3: SHA256 Padding\n",
    "Padding is one of three preprocessing steps in the SHA-256 algorithm, alongside parsing and setting initial hash values, with its fundamental purpose being to ensure the message's total length is a multiple of 512 bits for processing in 512-bit blocks. The padding process appends a specific sequence: first a single '1' bit, followed by k zero bits (where k is the smallest non-negative integer solution to λ + 1 + k ≡ 448 mod 512), and finally a 64-bit block representing the original message length (λ) in binary using big-endian convention, which can represent integers from 0 to 2⁶⁴-1. After padding is applied, the message length becomes a multiple of 512 bits, with the standard noting that padding can be inserted either before hash computation begins or during computation prior to processing blocks containing the padding - a flexibility introduced in FIPS 180-4 compared to the previous FIPS 180-3 version. This padding method applies identically to SHA-1, SHA-224, and SHA-256, with the constraint that the original message length must be less than 2⁶⁴ bits."
   ]
  },
  {
   "cell_type": "code",
   "execution_count": 163,
   "metadata": {},
   "outputs": [],
   "source": [
    "def sha256Padding(filePath):\n",
    "    # Read file and initialize padding\n",
    "    with open(filePath, 'rb') as file:\n",
    "        data = file.read()\n",
    "    \n",
    "    # Create padded data with 1-bit appended (0x80)\n",
    "    paddedData = bytearray(data) + bytearray([0x80])\n",
    "    \n",
    "    # Add zeros until the length % 512 is equal to 448\n",
    "    while (len(paddedData) * 8) % 512 != 448:\n",
    "        paddedData.append(0x00)\n",
    "    \n",
    "    # Add original length as 64-bit big-endian value\n",
    "    paddedData.extend((len(data) * 8).to_bytes(8, \"big\"))\n",
    "    \n",
    "    # Print padding portion in hex format\n",
    "    print(\" \".join(f\"{b:02x}\" for b in paddedData[len(data):]))"
   ]
  },
  {
   "cell_type": "markdown",
   "metadata": {},
   "source": [
    "### Funtion to Create a Temporary Test File"
   ]
  },
  {
   "cell_type": "code",
   "execution_count": 164,
   "metadata": {},
   "outputs": [],
   "source": [
    "def createTestFile(content):\n",
    "    tempdir = tempfile.mkdtemp()  # Create a new temporary directory\n",
    "    path = os.path.join(tempdir, \"test.bin\")  # Generate full path for test file\n",
    "    with open(path, \"wb\") as f: f.write(content)  # Write binary content to file\n",
    "    return path, tempdir  # Return both file path and directory"
   ]
  },
  {
   "cell_type": "markdown",
   "metadata": {},
   "source": [
    "### Function to Run SHA256Padding on a File"
   ]
  },
  {
   "cell_type": "code",
   "execution_count": 165,
   "metadata": {},
   "outputs": [],
   "source": [
    "def runTest(path):\n",
    "    stdout = sys.stdout  # Store standard output stream\n",
    "    capturedOutput = io.StringIO()  # Create string buffer for capturing output\n",
    "    sys.stdout = capturedOutput  # Redirect stream to the buffer\n",
    "    sha256Padding(path)  # Apply padding function to the test file\n",
    "    sys.stdout = stdout  # Restore original stdout\n",
    "    return capturedOutput.getvalue().strip()  # Return captured output, trimmed"
   ]
  },
  {
   "cell_type": "markdown",
   "metadata": {},
   "source": [
    "## Test 1: Example Usage"
   ]
  },
  {
   "cell_type": "code",
   "execution_count": 166,
   "metadata": {},
   "outputs": [
    {
     "name": "stdout",
     "output_type": "stream",
     "text": [
      "Expected: 80 00 00 00 00 00 00 00 00 00 00 00 00 00 00 00 00 00 00 00 00 00 00 00 00 00 00 00 00 00 00 00 00 00 00 00 00 00 00 00 00 00 00 00 00 00 00 00 00 00 00 00 00 00 00 00 00 00 00 00 18\n",
      "Actual: 80 00 00 00 00 00 00 00 00 00 00 00 00 00 00 00 00 00 00 00 00 00 00 00 00 00 00 00 00 00 00 00 00 00 00 00 00 00 00 00 00 00 00 00 00 00 00 00 00 00 00 00 00 00 00 00 00 00 00 00 18\n",
      "Test passed: True\n"
     ]
    }
   ],
   "source": [
    "# Create test file with \"abc\" content and apply padding.\n",
    "path, tempdir = createTestFile(b\"abc\") # \"abc\" is 24 bits long (3 characters * 8 bits per char)\n",
    "output = runTest(path)\n",
    "\n",
    "# Compare expected vs actual padding result\n",
    "expected = \"80 \" + \"00 \" * 52 + \"00 00 00 00 00 00 00 18\"  # 0x80=appended 1-bit, zeros for padding, 0x18=24 in hex\n",
    "print(f\"Expected: {expected}\")\n",
    "print(f\"Actual: {output}\")\n",
    "print(f\"Test passed: {output == expected}\")  # Test passed if output matches expected value\n",
    "\n",
    "# Cleanup\n",
    "os.remove(path)\n",
    "os.rmdir(tempdir)"
   ]
  },
  {
   "cell_type": "markdown",
   "metadata": {},
   "source": [
    "## Test 2: Single One Bit"
   ]
  },
  {
   "cell_type": "code",
   "execution_count": 167,
   "metadata": {},
   "outputs": [
    {
     "name": "stdout",
     "output_type": "stream",
     "text": [
      "First byte is 80, should be 80: PASS\n"
     ]
    }
   ],
   "source": [
    "# Create a test file with a single byte (0xFF) and apply padding\n",
    "path, tempdir = createTestFile(b\"\\xFF\")  # Single byte with all bits set\n",
    "output = runTest(path)\n",
    "\n",
    "# Extract and verify the first byte of padding is 0x80 (appended 1-bit)\n",
    "firstByte = output.split()[0]  # Get first byte from the space-separated output\n",
    "print(f\"First byte is {firstByte}, should be 80: {'PASS' if firstByte == '80' else 'FAIL'}\")  # Verify correct padding\n",
    "\n",
    "# Cleanup\n",
    "os.remove(path)\n",
    "os.rmdir(tempdir)"
   ]
  },
  {
   "cell_type": "markdown",
   "metadata": {},
   "source": [
    "## Test 3: Multiple Of 512 Bits"
   ]
  },
  {
   "cell_type": "code",
   "execution_count": 168,
   "metadata": {},
   "outputs": [
    {
     "name": "stdout",
     "output_type": "stream",
     "text": [
      "Size 0: total bytes 64, multiple of 64: PASS\n",
      "Size 3: total bytes 64, multiple of 64: PASS\n",
      "Size 55: total bytes 64, multiple of 64: PASS\n",
      "Size 64: total bytes 128, multiple of 64: PASS\n",
      "Size 65: total bytes 128, multiple of 64: PASS\n",
      "Size 128: total bytes 192, multiple of 64: PASS\n",
      "Size 512: total bytes 576, multiple of 64: PASS\n",
      "Size 1024: total bytes 1088, multiple of 64: PASS\n"
     ]
    }
   ],
   "source": [
    "# Test padding for various input sizes\n",
    "for size in [0, 3, 55, 64, 65, 128, 512, 1024]:\n",
    "    path, tempdir = createTestFile(b\"A\" * size)  # Create test files of different sizes\n",
    "    output = runTest(path) # Apply padding function to the test file\n",
    "\n",
    "    paddingBytes = len(output.split())  # Count bytes added during padding\n",
    "    totalBytes = size + paddingBytes  # Calculate final message length after padding\n",
    "    \n",
    "    # Verify the padded message length is a multiple of 64 bytes (512 bits)\n",
    "    print(f\"Size {size}: total bytes {totalBytes}, multiple of 64: {'PASS' if totalBytes % 64 == 0 else 'FAIL'}\")\n",
    "    \n",
    "    # Cleanup\n",
    "    os.remove(path)\n",
    "    os.rmdir(tempdir)"
   ]
  },
  {
   "cell_type": "markdown",
   "metadata": {},
   "source": [
    "## Test 4: K Zero Bits"
   ]
  },
  {
   "cell_type": "code",
   "execution_count": 169,
   "metadata": {},
   "outputs": [
    {
     "name": "stdout",
     "output_type": "stream",
     "text": [
      "Size 0: expected zeros 55, actual zeros 55: PASS\n",
      "Size 3: expected zeros 52, actual zeros 52: PASS\n",
      "Size 55: expected zeros 0, actual zeros 0: PASS\n",
      "Size 64: expected zeros 55, actual zeros 55: PASS\n",
      "Size 65: expected zeros 54, actual zeros 54: PASS\n",
      "Size 128: expected zeros 55, actual zeros 55: PASS\n",
      "Size 512: expected zeros 55, actual zeros 55: PASS\n",
      "Size 1024: expected zeros 55, actual zeros 55: PASS\n"
     ]
    }
   ],
   "source": [
    "# Verify the correct number of zero bytes are added during padding for different input sizes\n",
    "for size in [0, 3, 55, 64, 65, 128, 512, 1024]:\n",
    "    path, tempdir = createTestFile(b\"A\" * size)  # Create test files of different sizes\n",
    "    lambdaBits = size * 8  # Convert file size to bits\n",
    "\n",
    "    k = (448 - (lambdaBits + 1)) % 512  # Calculate required zero bits (k) for padding\n",
    "    expectedZeros = k // 8  # Convert bits to bytes\n",
    "    \n",
    "    output = runTest(path)  # Apply padding function\n",
    "    paddingHex = output.split()  # Get all padding bytes as a list\n",
    "    actualZeros = sum(1 for b in paddingHex[1:-8] if b == \"00\")  # Count zero bytes (excluding 0x80 and length field)\n",
    "    \n",
    "    # Verify the actual number of zero bytes matches the expected calculation\n",
    "    print(f\"Size {size}: expected zeros {expectedZeros}, actual zeros {actualZeros}: {'PASS' if actualZeros == expectedZeros else 'FAIL'}\")\n",
    "    \n",
    "    # Cleanup\n",
    "    os.remove(path)\n",
    "    os.rmdir(tempdir)"
   ]
  },
  {
   "cell_type": "markdown",
   "metadata": {},
   "source": [
    "## Test 5: 64 Bit Length"
   ]
  },
  {
   "cell_type": "code",
   "execution_count": 170,
   "metadata": {},
   "outputs": [
    {
     "name": "stdout",
     "output_type": "stream",
     "text": [
      "Expected length hex: 00 00 00 00 00 00 26 90\n",
      "Actual length hex: 00 00 00 00 00 00 26 90\n",
      "Length representation: PASS\n"
     ]
    }
   ],
   "source": [
    "size = 1234  # 1234 bytes = 9872 bits\n",
    "path, tempdir = createTestFile(b\"A\" * size)  # Create test file with 1234 'A' characters\n",
    "\n",
    "expectedBits = size * 8  # Convert bytes to bits\n",
    "expectedBytes = expectedBits.to_bytes(8, \"big\")  # Convert to 8-byte big-endian representation\n",
    "expectedHex = \" \".join(f\"{b:02x}\" for b in expectedBytes)  # Format as space-separated hex values\n",
    "\n",
    "output = runTest(path)  # Apply padding function\n",
    "actualHex = \" \".join(output.split()[-8:])  # Extract the last 8 bytes (64-bit length field)\n",
    "\n",
    "# Verify the 64-bit length field matches the expected value\n",
    "print(f\"Expected length hex: {expectedHex}\")\n",
    "print(f\"Actual length hex: {actualHex}\")\n",
    "print(f\"Length representation: {'PASS' if actualHex == expectedHex else 'FAIL'}\")\n",
    "\n",
    "# Cleanup\n",
    "os.remove(path)\n",
    "os.rmdir(tempdir)"
   ]
  },
  {
   "cell_type": "markdown",
   "metadata": {},
   "source": [
    "# Task 4: Prime Number Algorithms"
   ]
  },
  {
   "cell_type": "markdown",
   "metadata": {},
   "source": [
    "## 1. Trial Division\n",
    "Trial division is described as the most straightforward method for determining whether a given number n (where n > 1) is prime or composite. The method involves testing the number n for divisibility by integers in sequence, starting with 2, then 3, 4, and so on. The procedure doesn't need to continue indefinitely; it can be stopped as soon as the trial divisor exceeds the square root of n. This shortcut significantly speeds up the test. The reasoning is that factors always come in pairs; if a number has a factor larger than its square root, it must simultaneously have one that is smaller. Other simple shortcuts include deleting all even trial divisors after 2. If n is composite, the trial division procedure will terminate by finding a divisor that divides n evenly (leaves no remainder). The divisor found and the corresponding quotient are factors of the number. Multiplying these factors produces n, and this output serves as a certificate of compositeness for n. If n is prime, trial division will proceed up to √(n) without finding any divisors. However, this method does not provide a certificate of primality if the number is found to be prime."
   ]
  },
  {
   "cell_type": "code",
   "execution_count": 171,
   "metadata": {},
   "outputs": [],
   "source": [
    "def trialDivisionPrimes(n):\n",
    "    primes = []  # List to store prime numbers\n",
    "    num = 2      # Start with the first prime\n",
    "    \n",
    "    while len(primes) < n:\n",
    "        isPrime = True  # Assume prime until proven otherwise\n",
    "        i = 2\n",
    "        # Check divisibility up to square root of num (optimization)\n",
    "        while i * i <= num:\n",
    "            if num % i == 0: isPrime = False; break  # Not prime if divisible\n",
    "            i += 1\n",
    "        if isPrime: primes.append(num)  # Add to list if prime\n",
    "        num += 1  # Check next number\n",
    "    return primes"
   ]
  },
  {
   "cell_type": "markdown",
   "metadata": {},
   "source": [
    "### Test 1: Basic Usage"
   ]
  },
  {
   "cell_type": "code",
   "execution_count": 172,
   "metadata": {},
   "outputs": [
    {
     "name": "stdout",
     "output_type": "stream",
     "text": [
      "First 100 primes using Trial Division:\n",
      "[2, 3, 5, 7, 11, 13, 17, 19, 23, 29, 31, 37, 41, 43, 47, 53, 59, 61, 67, 71, 73, 79, 83, 89, 97, 101, 103, 107, 109, 113, 127, 131, 137, 139, 149, 151, 157, 163, 167, 173, 179, 181, 191, 193, 197, 199, 211, 223, 227, 229, 233, 239, 241, 251, 257, 263, 269, 271, 277, 281, 283, 293, 307, 311, 313, 317, 331, 337, 347, 349, 353, 359, 367, 373, 379, 383, 389, 397, 401, 409, 419, 421, 431, 433, 439, 443, 449, 457, 461, 463, 467, 479, 487, 491, 499, 503, 509, 521, 523, 541]\n",
      "All numbers are prime: TRUE\n"
     ]
    }
   ],
   "source": [
    "primes = trialDivisionPrimes(100) # Get first 100 primes using trial division\n",
    "print(f\"First 100 primes using Trial Division:\")\n",
    "print(primes)\n",
    "\n",
    "# Validate if all numbers in the list are prime\n",
    "validation = True\n",
    "for num in primes:\n",
    "    # Check if each number is prime\n",
    "    if num < 2:\n",
    "        validation = False # Not prime if less than 2\n",
    "        break\n",
    "    for i in range(2, int(num**0.5) + 1): # Check divisibility up to square root of num\n",
    "        if num % i == 0:\n",
    "            validation = False # Not prime if divisible\n",
    "            break\n",
    "    if not validation: # Exit loop if not prime\n",
    "        break\n",
    "\n",
    "print(f\"All numbers are prime: {'TRUE' if validation else 'FALSE'}\")"
   ]
  },
  {
   "cell_type": "markdown",
   "metadata": {},
   "source": [
    "### Test 2: Test Exclusion of Composite Numbers"
   ]
  },
  {
   "cell_type": "code",
   "execution_count": 173,
   "metadata": {},
   "outputs": [
    {
     "name": "stdout",
     "output_type": "stream",
     "text": [
      "Passed - No composite numbers found in prime list\n"
     ]
    }
   ],
   "source": [
    "primesList = trialDivisionPrimes(100)  # Get first 100 primes\n",
    "compositeNumbers = [4, 6, 8, 9, 10, 12, 14, 15, 16, 18, 20] # Non-prime numbers\n",
    "\n",
    "# Check all composite numbers are excluded from primes list\n",
    "for num in compositeNumbers:\n",
    "   if num in primesList:\n",
    "       print(f\"Failed - Composite number {num} found in prime list\")\n",
    "       break\n",
    "else:\n",
    "   # Loop completed without finding any composites\n",
    "   print(\"Passed - No composite numbers found in prime list\")"
   ]
  },
  {
   "cell_type": "markdown",
   "metadata": {},
   "source": [
    "### Test 3: Square Root Optimization\n",
    "This test demonstrates the square root optimization in the trial division algorithm for finding prime numbers. It selects six prime numbers of increasing size (2, 3, 7, 19, 47, 101) and measures how many divisibility checks are performed for each one. The test visually confirms that the number of checks required grows proportionally to the square root of the number being tested, not linearly with the number itself. This efficiency is shown by comparing the actual checks performed (which follow the square root curve) against the theoretical maximum checks without optimization (n-1). For example, checking if 101 is prime requires only 9 checks (roughly equal to its square root of 10.05) instead of 100 checks, demonstrating a dramatic performance improvement that becomes increasingly significant as numbers get larger."
   ]
  },
  {
   "cell_type": "code",
   "execution_count": 174,
   "metadata": {},
   "outputs": [],
   "source": [
    "# Count divisibility checks up to square root\n",
    "def countChecks(num):\n",
    "   checks = 0  # Initialize check counter\n",
    "   i = 2  # Start checking from 2\n",
    "   \n",
    "   while i * i <= num:  # Only check up to square root\n",
    "       checks += 1  # Count each check\n",
    "       i += 1  # Move to next number\n",
    "   return checks, int(num**0.5)  # Return count and max possible checks"
   ]
  },
  {
   "cell_type": "code",
   "execution_count": 175,
   "metadata": {},
   "outputs": [
    {
     "name": "stdout",
     "output_type": "stream",
     "text": [
      "Number: 2 | Square root: 1.4142 | Checks: 0 | Max theoretical checks: 1\n",
      "Optimization verified: Yes\n",
      "--------------------\n",
      "Number: 3 | Square root: 1.7321 | Checks: 0 | Max theoretical checks: 2\n",
      "Optimization verified: Yes\n",
      "--------------------\n",
      "Number: 7 | Square root: 2.6458 | Checks: 1 | Max theoretical checks: 6\n",
      "Optimization verified: Yes\n",
      "--------------------\n",
      "Number: 19 | Square root: 4.3589 | Checks: 3 | Max theoretical checks: 18\n",
      "Optimization verified: Yes\n",
      "--------------------\n",
      "Number: 47 | Square root: 6.8557 | Checks: 5 | Max theoretical checks: 46\n",
      "Optimization verified: Yes\n",
      "--------------------\n",
      "Number: 101 | Square root: 10.0499 | Checks: 9 | Max theoretical checks: 100\n",
      "Optimization verified: Yes\n",
      "--------------------\n"
     ]
    }
   ],
   "source": [
    "largePrimesList = trialDivisionPrimes(150)  # Get primes up to 150\n",
    "testCases = [2, 3, 7, 19, 47, 101]  # Test various prime sizes\n",
    "\n",
    "sqrts = []  # Store square roots\n",
    "nums = []  # Store numbers\n",
    "checksMade = []  # Store checks performed\n",
    "\n",
    "# Test each number\n",
    "for num in testCases:\n",
    "   checks, maxChecks = countChecks(num)  # Count checks for this number\n",
    "   sqrts.append(np.sqrt(num))  # Record square root\n",
    "   nums.append(num)  # Record number\n",
    "   checksMade.append(checks)  # Record checks performed\n",
    "   \n",
    "   print(f\"Number: {num} | Square root: {np.sqrt(num):.4f} | Checks: {checks} | Max theoretical checks: {num-1}\")\n",
    "   print(f\"Optimization verified: {'Yes' if checks <= maxChecks else 'No'}\")\n",
    "   print(\"-\" * 20)"
   ]
  },
  {
   "cell_type": "markdown",
   "metadata": {},
   "source": [
    "### Test 4: Check for Deletion of Even Trial Divisors after 2"
   ]
  },
  {
   "cell_type": "code",
   "execution_count": 176,
   "metadata": {},
   "outputs": [
    {
     "name": "stdout",
     "output_type": "stream",
     "text": [
      "Prime: 7 | √7 = 2.65\n",
      "Divisors checked: [2]\n",
      "Even divisor optimization: pass\n",
      "--------------------\n",
      "Prime: 13 | √13 = 3.61\n",
      "Divisors checked: [2, 3]\n",
      "Even divisor optimization: pass\n",
      "--------------------\n",
      "Prime: 23 | √23 = 4.80\n",
      "Divisors checked: [2, 3]\n",
      "Even divisor optimization: pass\n",
      "--------------------\n",
      "Prime: 43 | √43 = 6.56\n",
      "Divisors checked: [2, 3, 5]\n",
      "Even divisor optimization: pass\n",
      "--------------------\n",
      "Prime: 71 | √71 = 8.43\n",
      "Divisors checked: [2, 3, 5, 7]\n",
      "Even divisor optimization: pass\n",
      "--------------------\n"
     ]
    }
   ],
   "source": [
    "primes = [7, 13, 23, 43, 71] # List of prime numbers to test\n",
    "\n",
    "# Iterate through each prime number and check divisibility\n",
    "for prime in primes:\n",
    "    checks = [] # Track which divisors are checked\n",
    "    i = 2 # Start checking from 2\n",
    "    while i * i <= prime:\n",
    "        checks.append(i)\n",
    "        i += 1 if i == 2 else 2  # Skip even numbers after 2\n",
    "    \n",
    "    # Verify only divisor 2 is even\n",
    "    evenChecks = [x for x in checks if x % 2 == 0]\n",
    "    \n",
    "    print(f\"Prime: {prime} | √{prime} = {np.sqrt(prime):.2f}\")\n",
    "    print(f\"Divisors checked: {checks}\")\n",
    "    print(f\"Even divisor optimization: {'pass' if evenChecks == [2] else 'fail'}\")\n",
    "    print(\"-\" * 20)"
   ]
  },
  {
   "cell_type": "markdown",
   "metadata": {},
   "source": [
    "## 2.  Sieve of Eratosthenes\n",
    "The Sieve of Eratosthenes, discovered by ancient Greek scientist Eratosthenes, is considered the simplest algorithm for generating prime numbers between 1 and a given number n by systematically eliminating non-prime numbers from a collection. The process follows specific steps: starting with numbers from 2 to n (list A), marking 2 as prime and moving it to list B, deleting all multiples of 2 from list A, then repeatedly finding the next unmarked number (which is prime), moving it to list B, and removing all its multiples from list A until no numbers remain. This method efficiently identifies primes (as demonstrated with numbers 1-100, yielding 2, 3, 5, 7, 11, etc.), and has applications in cryptographic algorithms. Performance comparisons show that while the Sieve of Sundaram is better for small prime numbers, the Sieve of Eratosthenes proves more efficient for generating large prime numbers, as evidenced by experiments conducted using a Java application with code optimization and buffer memory usage, with results displayed in a comparative table and graph.\n",
    "\n",
    "Add note on prime number theorem"
   ]
  },
  {
   "cell_type": "code",
   "execution_count": 177,
   "metadata": {},
   "outputs": [],
   "source": [
    "def sieveOfEratosthenes(n):\n",
    "    if n <= 0:\n",
    "        return [] # Return empty list for invalid inputs\n",
    "\n",
    "    limit = int(n * math.log(n) * 2) if n > 1 else 10 # Upper bound estimation for primes. Based on prime number theorem.\n",
    "    \n",
    "    # Create sieve array\n",
    "    sieve = [True] * (limit + 1) # Initialize all numbers as prime\n",
    "    sieve[0] = sieve[1] = False # 0 and 1 aren't prime\n",
    "    \n",
    "    # Mark non-primes in the sieve\n",
    "    for start in range(2, int(limit**0.5) + 1):\n",
    "        if sieve[start]: # If current number is prime..\n",
    "            # Mark all its multiples as non-prime\n",
    "            for multiple in range(start*start, limit + 1, start):\n",
    "                sieve[multiple] = False\n",
    "    \n",
    "    # Collect primes\n",
    "    primes = [num for num, is_prime in enumerate(sieve) if is_prime]\n",
    "    \n",
    "    return primes[:n] # Return exactly n primes"
   ]
  },
  {
   "cell_type": "markdown",
   "metadata": {},
   "source": [
    "### Test 1: Basic Usage"
   ]
  },
  {
   "cell_type": "code",
   "execution_count": 178,
   "metadata": {},
   "outputs": [
    {
     "name": "stdout",
     "output_type": "stream",
     "text": [
      "First 100 primes using Sieve of Eratosthenes:\n",
      "[2, 3, 5, 7, 11, 13, 17, 19, 23, 29, 31, 37, 41, 43, 47, 53, 59, 61, 67, 71, 73, 79, 83, 89, 97, 101, 103, 107, 109, 113, 127, 131, 137, 139, 149, 151, 157, 163, 167, 173, 179, 181, 191, 193, 197, 199, 211, 223, 227, 229, 233, 239, 241, 251, 257, 263, 269, 271, 277, 281, 283, 293, 307, 311, 313, 317, 331, 337, 347, 349, 353, 359, 367, 373, 379, 383, 389, 397, 401, 409, 419, 421, 431, 433, 439, 443, 449, 457, 461, 463, 467, 479, 487, 491, 499, 503, 509, 521, 523, 541]\n",
      "All numbers are prime: TRUE\n"
     ]
    }
   ],
   "source": [
    "primes = sieveOfEratosthenes(100) # Get first 100 primes using Sieve of Eratosthenes\n",
    "print(f\"First 100 primes using Sieve of Eratosthenes:\")\n",
    "print(primes)\n",
    "\n",
    "# Validate if all numbers in the list are prime\n",
    "validation = True\n",
    "for num in primes:\n",
    "    # Check if each number is prime\n",
    "    if num < 2:\n",
    "        validation = False # Not prime if less than 2\n",
    "        break\n",
    "    for i in range(2, int(num**0.5) + 1): # Check divisibility up to square root of num\n",
    "        if num % i == 0:\n",
    "            validation = False # Not prime if divisible\n",
    "            break\n",
    "    if not validation: # Exit loop if not prime\n",
    "        break\n",
    "\n",
    "print(f\"All numbers are prime: {'TRUE' if validation else 'FALSE'}\")"
   ]
  },
  {
   "cell_type": "markdown",
   "metadata": {},
   "source": [
    "### Test 2: Test Exclusion of Composite Numbers"
   ]
  },
  {
   "cell_type": "code",
   "execution_count": 179,
   "metadata": {},
   "outputs": [
    {
     "name": "stdout",
     "output_type": "stream",
     "text": [
      "Passed - No composite numbers found in prime list\n"
     ]
    }
   ],
   "source": [
    "primesList = sieveOfEratosthenes(100)  # Get first 100 primes\n",
    "compositeNumbers = [4, 6, 8, 9, 10, 12, 14, 15, 16, 18, 20] # Non-prime numbers\n",
    "\n",
    "# Check all composite numbers are excluded from primes list\n",
    "for num in compositeNumbers:\n",
    "   if num in primesList:\n",
    "       print(f\"Failed - Composite number {num} found in prime list\")\n",
    "       break\n",
    "else:\n",
    "   # Loop completed without finding any composites\n",
    "   print(\"Passed - No composite numbers found in prime list\")"
   ]
  },
  {
   "cell_type": "markdown",
   "metadata": {},
   "source": [
    "## Test 3: Comparison with Sieve of Sundaram"
   ]
  },
  {
   "cell_type": "code",
   "execution_count": 180,
   "metadata": {},
   "outputs": [],
   "source": [
    "def sieveOfSundaram(n):\n",
    "    if n <= 0: return []   # Handle invalid input\n",
    "    if n == 1: return [2]   # Special case for first prime\n",
    "    \n",
    "    limit = int(n * math.log(n) * 2) if n > 1 else 10  # Upper bound estimation for primes. Based on prime number theorem.\n",
    "    marked = [False] * (limit + 1)   # Create array to mark non-primes\n",
    "    \n",
    "    # Mark non-primes using Sundaram's formula\n",
    "    for i in range(1, limit + 1):\n",
    "        j = i # Start j from i\n",
    "        while i + j + 2 * i * j <= limit: # Check condition for marking\n",
    "            marked[i + j + 2 * i * j] = True # Mark numbers of form i+j+2ij as non-prime\n",
    "            j += 1 # Increment j to check next multiple\n",
    "    \n",
    "    primes = [2] # Initialize prime list with 2 (the only even prime)\n",
    "\n",
    "    for i in range(1, limit + 1): # Check odd numbers\n",
    "        if not marked[i]: # If not marked as non-prime..\n",
    "            primes.append(2*i + 1) # Add corresponding odd number to primes\n",
    "            if len(primes) >= n: break # Stop once we have enough primes\n",
    "        \n",
    "    return primes[:n] # Return exactly n primes"
   ]
  },
  {
   "cell_type": "markdown",
   "metadata": {},
   "source": [
    "Test for large prime numbers generation efficiency"
   ]
  },
  {
   "cell_type": "code",
   "execution_count": 181,
   "metadata": {},
   "outputs": [
    {
     "name": "stdout",
     "output_type": "stream",
     "text": [
      "Eratosthenes: 10000 primes in 0.02600264549255371094 seconds\n",
      "Sundaram: 10000 primes in 0.14399695396423339844 seconds\n"
     ]
    }
   ],
   "source": [
    "startTime = time.time() # Record start time for Eratosthenes test\n",
    "largePrimesEratosthenes = sieveOfEratosthenes(10000) # Get first 10000 primes using Eratosthenes' method\n",
    "eratosLargeTime = time.time() - startTime # Calculate time taken for Eratosthenes test\n",
    "\n",
    "startTime = time.time() # Record start time for Sundaram test\n",
    "largePrimesSundaram = sieveOfSundaram(10000) # Get first 10000 primes using Sundaram's method\n",
    "sundaramLargeTime = time.time() - startTime # Calculate time taken for Sundaram test\n",
    "\n",
    "print(f\"Eratosthenes: {len(largePrimesEratosthenes)} primes in {eratosLargeTime:.20f} seconds\")\n",
    "print(f\"Sundaram: {len(largePrimesSundaram)} primes in {sundaramLargeTime:.20f} seconds\")"
   ]
  },
  {
   "cell_type": "markdown",
   "metadata": {},
   "source": [
    "## Task 5: Roots\n",
    "The GeeksforGeeks article titled *\"Find root of a number using Newton’s method\"* explains how to compute the square root of a number using Newton’s Method, also known as the Newton-Raphson method. This iterative technique starts with an initial guess and refines it to approximate the square root of a given number. The method employs the formula:\n",
    "\n",
    "`root = 0.5 * (X + N / X)`\n",
    "\n",
    "where:\n",
    "- `X` is the current approximation  \n",
    "- `N` is the number whose square root is being calculated\n",
    "\n",
    "The method repeatedly updates `X` using the formula above until the difference between successive approximations is smaller than a chosen tolerance level `L`.\n",
    "\n",
    "This approach is efficient and converges quickly, making it ideal for calculating square roots without using built-in functions. The article provides implementations in C++, Java, Python, and C#.\n",
    "\n",
    "... then write about how this was employed, and then a fraction was found\n",
    "\n",
    "\n",
    "- https://www.geeksforgeeks.org/find-root-of-a-number-using-newtons-method/"
   ]
  },
  {
   "cell_type": "code",
   "execution_count": null,
   "metadata": {},
   "outputs": [],
   "source": [
    "def getFractionalBitsOfRoot(primeList, power=1/2, bitPrecision=32):\n",
    "    resultList = []    # Initialize empty list to store results\n",
    "    \n",
    "    # Iterate through each prime number\n",
    "    for currentPrime in primeList:\n",
    "        x = currentPrime / 2  # Initial guess (can be any positive value)\n",
    "        epsilon = 1e-15 # Convergence threshold\n",
    "        \n",
    "        # Newton's method for root finding. Iterate until convergence.\n",
    "        while True:\n",
    "            if power == 1/2:  # Square root - simplified formula\n",
    "                xNew = (x + currentPrime / x) / 2 # Newton's method for square root\n",
    "            else: \n",
    "                n = 1 / power # General case for nth root\n",
    "                xNew = x - (x**n - currentPrime) / (n * x**(n-1)) # Newton's method for nth root\n",
    "            \n",
    "            if abs(x - xNew) < epsilon: # Check for convergence\n",
    "                break\n",
    "            x = xNew # Update x for next iteration\n",
    "\n",
    "        fractionalPart = x - int(x)  # Extract only the fractional part by subtracting the integer portion\n",
    "        shiftedValue = fractionalPart * (2 ** bitPrecision) # Shift the binary point right by multiplying with 2^bitPrecision  \n",
    "\n",
    "        binaryAsInt = int(shiftedValue) # Change to integer to get the binary representation as an integer      \n",
    "        resultList.append(binaryAsInt) # Add the calculated integer to results collection  \n",
    "          \n",
    "    return resultList"
   ]
  },
  {
   "cell_type": "markdown",
   "metadata": {},
   "source": [
    "## Test 1: Basic Usage"
   ]
  },
  {
   "cell_type": "code",
   "execution_count": 183,
   "metadata": {},
   "outputs": [
    {
     "name": "stdout",
     "output_type": "stream",
     "text": [
      "     2 -- 01101010000010011110011001100111\n",
      "     3 -- 10111011011001111010111010000101\n",
      "     5 -- 00111100011011101111001101110010\n",
      "     7 -- 10100101010011111111010100111010\n",
      "    11 -- 01010001000011100101001001111111\n",
      "    13 -- 10011011000001010110100010001100\n",
      "    17 -- 00011111100000111101100110101011\n",
      "    19 -- 01011011111000001100110100011001\n",
      "    23 -- 11001011101110111001110101011101\n",
      "    29 -- 01100010100110100010100100101010\n",
      "    31 -- 10010001010110010000000101011010\n",
      "    37 -- 00010101001011111110110011011000\n",
      "    41 -- 01100111001100110010011001100111\n",
      "    43 -- 10001110101101000100101010000111\n",
      "    47 -- 11011011000011000010111000001101\n",
      "    53 -- 01000111101101010100100000011101\n",
      "    59 -- 10101110010111111001000101010110\n",
      "    61 -- 11001111011011001000010111010011\n",
      "    67 -- 00101111011100110100011101111101\n",
      "    71 -- 01101101000110000010011011001010\n",
      "    73 -- 10001011010000111101010001010111\n",
      "    79 -- 11100011011000001011010110010110\n",
      "    83 -- 00011100010001010110000000000010\n",
      "    89 -- 01101111000110010110001100110001\n",
      "    97 -- 11011001010011101011111010110001\n",
      "   101 -- 00001100110001001010011000010001\n",
      "   103 -- 00100110000111011100000111110010\n",
      "   107 -- 01011000000101011010011110111110\n",
      "   109 -- 01110000101101111110110101100111\n",
      "   113 -- 10100001010100010011110001101001\n",
      "   127 -- 01000100111110010011011000110101\n",
      "   131 -- 01110010000011011100110111111101\n",
      "   137 -- 10110100011001110011011010011110\n",
      "   139 -- 11001010001100100000101101110101\n",
      "   149 -- 00110100111000001101010000101110\n",
      "   151 -- 01001001110001111101100110111101\n",
      "   157 -- 10000111101010111011100111110010\n",
      "   163 -- 11000100011000111010001011111100\n",
      "   167 -- 11101100001111111100001111110011\n",
      "   173 -- 00100111001001110111111101101101\n",
      "   179 -- 01100001000010111110101111110010\n",
      "   181 -- 01110100001000001011010010011110\n",
      "   191 -- 11010001111111011000101000110011\n",
      "   193 -- 11100100011101110011010110010100\n",
      "   197 -- 00001001001000011001011111110110\n",
      "   199 -- 00011011010100110000110010010101\n",
      "   211 -- 10000110100111010110001101000010\n",
      "   223 -- 11101110111001010010111001001111\n",
      "   227 -- 00010001000001110110011010001001\n",
      "   229 -- 00100001111110111010001101111011\n",
      "   233 -- 01000011101010111001111110110110\n",
      "   239 -- 01110101101010011111100100011101\n",
      "   241 -- 10000110001100000101000000011001\n",
      "   251 -- 11010111110011011000000101110011\n",
      "   257 -- 00000111111111100000000011111111\n",
      "   263 -- 00110111100111110101000100111111\n",
      "   269 -- 01100110101101100101000110101000\n",
      "   271 -- 01110110010010101011100001000010\n",
      "   277 -- 10100100101100000110101111100001\n",
      "   281 -- 11000011010101111000110000010101\n",
      "   283 -- 11010010100101100010101001010011\n",
      "   293 -- 00011110000000111001111101000000\n",
      "   307 -- 10000101011110110111101111101110\n",
      "   311 -- 10100010100110111111001011011110\n",
      "   313 -- 10110001000110100011001011101000\n",
      "   317 -- 11001101111100110100111010000000\n",
      "   331 -- 00110001100000110000010000100110\n",
      "   337 -- 01011011100010010000100100101011\n",
      "   347 -- 10100000110000000110101000010011\n",
      "   349 -- 10101110011110011000010000101111\n",
      "   353 -- 11001001110011011010011010001001\n",
      "   359 -- 11110010100000011111001000111001\n",
      "   367 -- 00101000010000010010010110010010\n",
      "   373 -- 01010000001011100110010011011011\n",
      "   379 -- 01110111110010011100001000010001\n",
      "   383 -- 10010010000001001100110110011101\n",
      "   389 -- 10111001000110111111011001100011\n",
      "   397 -- 11101100110000111000110010011101\n",
      "   401 -- 00000110011001010110000010010101\n",
      "   409 -- 00111001010001111001001110000001\n",
      "   419 -- 01111000001100000111011010010111\n",
      "   421 -- 10000100101011100100101101111100\n",
      "   431 -- 11000010101100101011011101010101\n",
      "   433 -- 11001111000000111101001000001110\n",
      "   439 -- 11110011110010111011000100010111\n",
      "   443 -- 00001100001011010011101101001011\n",
      "   449 -- 00110000100010101111000101100001\n",
      "   457 -- 01100000101001111010100110011000\n",
      "   461 -- 01111000100011011001100000010010\n",
      "   463 -- 10000100011101101001101101000010\n",
      "   467 -- 10011100001101001111000001100010\n",
      "   479 -- 11100010110101010110010011000100\n",
      "   487 -- 00010001011011010111010111111101\n",
      "   491 -- 00101000100101001100000100000111\n",
      "   499 -- 01010110100110110101100011000110\n",
      "   503 -- 01101101011110110011100100111001\n",
      "   509 -- 10001111100111111000110110111011\n",
      "   521 -- 11010011010011110000001111001101\n",
      "   523 -- 11011110100000110111001011101111\n",
      "   541 -- 01000010011010000111101000111001\n"
     ]
    }
   ],
   "source": [
    "primes = sieveOfEratosthenes(100) # Get first 100 primes using Sieve of Eratosthenes\n",
    "\n",
    "# Calculate first 32 bits of the square root of each prime\n",
    "squareRootBits = getFractionalBitsOfRoot(primes, power=1/2, bitPrecision=32)\n",
    "\n",
    "# Print the results\n",
    "for prime, bits in zip(primes, squareRootBits):\n",
    "    print(f\"{prime:6} -- {bits:032b}\")"
   ]
  },
  {
   "cell_type": "markdown",
   "metadata": {},
   "source": [
    "## Test 2: Binary Representation Accuracy\n",
    "Verifies the accuracy of the calculated binary representation by checking against the known binary representation of √2's fractional part"
   ]
  },
  {
   "cell_type": "code",
   "execution_count": 184,
   "metadata": {},
   "outputs": [
    {
     "name": "stdout",
     "output_type": "stream",
     "text": [
      "Binary representation of √2 fractional part: 01101010000010011110011001100111\n",
      "Expected representation: 01101010000010011110011001100111\n",
      "Accuracy test: PASS\n"
     ]
    }
   ],
   "source": [
    "primes = [2]  # Test with 2 as the only prime number\n",
    "results = getFractionalBitsOfRoot(primes, power=1/2, bitPrecision=32)  # Calculate first 32 bits of the square root of 2\n",
    "binaryAsInt = results[0]  # Get the integer representation of the binary value\n",
    "\n",
    "binaryString = bin(binaryAsInt)[2:].zfill(32)  # Convert to binary string and pad with leading zeros\n",
    "\n",
    "# Known correct first 32 bits of √2 fractional part\n",
    "expectedBinary = \"01101010000010011110011001100111\"\n",
    "\n",
    "print(f\"Binary representation of √2 fractional part: {binaryString}\")\n",
    "print(f\"Expected representation: {expectedBinary}\")\n",
    "print(f\"Accuracy test: {'PASS' if binaryString == expectedBinary else 'FAIL'}\")"
   ]
  },
  {
   "cell_type": "markdown",
   "metadata": {},
   "source": [
    "## Test 3: Newton Method Convergence\n",
    "Tests that Newton's method converges efficiently for square root calculation."
   ]
  },
  {
   "cell_type": "code",
   "execution_count": 185,
   "metadata": {},
   "outputs": [
    {
     "name": "stdout",
     "output_type": "stream",
     "text": [
      "√2:\n",
      "  - Convergence successful: Yes\n",
      "√3:\n",
      "  - Convergence successful: Yes\n",
      "√5:\n",
      "  - Convergence successful: Yes\n",
      "√7:\n",
      "  - Convergence successful: Yes\n",
      "√11:\n",
      "  - Convergence successful: Yes\n",
      "√13:\n",
      "  - Convergence successful: Yes\n",
      "√17:\n",
      "  - Convergence successful: Yes\n",
      "√19:\n",
      "  - Convergence successful: Yes\n",
      "\n",
      "Overall convergence test: Passed\n"
     ]
    }
   ],
   "source": [
    "testNumbers = [2, 3, 5, 7, 11, 13, 17, 19] # Test numbers for convergence\n",
    "allPassed = True # Initialize flag for overall success\n",
    "\n",
    "# Iterate through each test number and check convergence\n",
    "for num in testNumbers:\n",
    "    primes = [num] # Create a single-element list with the prime number for function input\n",
    "    results = getFractionalBitsOfRoot(primes, power=1/2, bitPrecision=32) # Calculate fractional bits\n",
    "\n",
    "    success = bool(results) # Check if calculation converged successfully\n",
    "    \n",
    "    print(f\"√{num}:\")\n",
    "    print(f\"  - Convergence successful: {'Yes' if success else 'No'}\")\n",
    "    \n",
    "    allPassed = allPassed and success # Update overall success flag\n",
    "\n",
    "print(f\"\\nOverall convergence test: {'Passed' if allPassed else 'Failed'}\")"
   ]
  },
  {
   "cell_type": "markdown",
   "metadata": {},
   "source": [
    "## Test 4\n",
    "Tests the function's ability to calculate roots with different powers, specifically testing cube roots."
   ]
  },
  {
   "cell_type": "code",
   "execution_count": 186,
   "metadata": {},
   "outputs": [
    {
     "name": "stdout",
     "output_type": "stream",
     "text": [
      "8^0.3333333333333333 = 2.0:\n",
      "  - Calculation successful: PASS\n",
      "  - Integer part correct: PASS\n",
      "16^0.25 = 2.0:\n",
      "  - Calculation successful: PASS\n",
      "  - Integer part correct: PASS\n",
      "32^0.2 = 2.0:\n",
      "  - Calculation successful: PASS\n",
      "  - Integer part correct: PASS\n",
      "100^0.5 = 10.0:\n",
      "  - Calculation successful: PASS\n",
      "  - Integer part correct: PASS\n",
      "Overall general root test: PASS\n"
     ]
    }
   ],
   "source": [
    "testCases = [\n",
    "    {\"num\": 8, \"power\": 1/3, \"expectedRoot\": 2.0},       \n",
    "    {\"num\": 16, \"power\": 1/4, \"expectedRoot\": 2.0},     \n",
    "    {\"num\": 32, \"power\": 1/5, \"expectedRoot\": 2.0},      \n",
    "    {\"num\": 100, \"power\": 1/2, \"expectedRoot\": 10.0}     \n",
    "]\n",
    "allPassed = True\n",
    "\n",
    "for case in testCases:\n",
    "    num = case[\"num\"]\n",
    "    power = case[\"power\"]\n",
    "    expectedRoot = case[\"expectedRoot\"]\n",
    "    \n",
    "    primes = [num]  # Using non-primes for testing various roots\n",
    "    results = getFractionalBitsOfRoot(primes, power=power, bitPrecision=32)\n",
    "    \n",
    "    # Verify calculation succeeded\n",
    "    success = bool(results)\n",
    "    \n",
    "    # Calculate the integer part based on bitwise representation\n",
    "    calculatedRoot = math.pow(num, power)\n",
    "    intPartMatches = abs(int(calculatedRoot) - expectedRoot) < 0.0001\n",
    "    \n",
    "    print(f\"{num}^{power} = {calculatedRoot}:\")\n",
    "    print(f\"  - Calculation successful: {'PASS' if success else 'FAIL'}\")\n",
    "    print(f\"  - Integer part correct: {'PASS' if intPartMatches else 'FAIL'}\")\n",
    "    \n",
    "    allPassed = allPassed and success and intPartMatches\n",
    "\n",
    "print(f\"Overall general root test: {'PASS' if allPassed else 'FAIL'}\")"
   ]
  },
  {
   "cell_type": "markdown",
   "metadata": {},
   "source": [
    "## Task 6: Proof of Work\n",
    "**include proof that word is in english dictionary**"
   ]
  },
  {
   "cell_type": "code",
   "execution_count": 187,
   "metadata": {},
   "outputs": [
    {
     "name": "stdout",
     "output_type": "stream",
     "text": [
      "Words with maximum leading zeros (18):\n",
      "- goaltenders: 00002e68c9d3d1fc5d3178bee91040efbeb4ac9ea7722c834fa5d71b2e3845cd, leadingZeros: 18\n"
     ]
    }
   ],
   "source": [
    "import hashlib\n",
    "\n",
    "def loadWords(path=\"words.txt\"):\n",
    "    with open(path, \"r\") as file:\n",
    "        return [line.strip().lower() for line in file if line.strip().isalpha()]\n",
    "\n",
    "def calculateSha256(word):\n",
    "    return hashlib.sha256(word.encode()).digest()\n",
    "\n",
    "def countLeadingZeroBits(digestBytes):\n",
    "    leadingZeros = 0\n",
    "    \n",
    "    for byte in digestBytes:\n",
    "        if byte == 0:\n",
    "            leadingZeros += 8\n",
    "        else:\n",
    "            # For non-zero bytes, count bit by bit\n",
    "            byteBin = format(byte, '08b')\n",
    "            for bit in byteBin:\n",
    "                if bit == '0':\n",
    "                    leadingZeros += 1\n",
    "                else:\n",
    "                    return leadingZeros\n",
    "    \n",
    "    return leadingZeros\n",
    "\n",
    "def findWordsWithMaxLeadingZeros(words):\n",
    "    maxZeros = 0\n",
    "    bestWords = []\n",
    "    \n",
    "    for word in words:\n",
    "        digest = calculateSha256(word)\n",
    "        zeros = countLeadingZeroBits(digest)\n",
    "        \n",
    "        if zeros > maxZeros:\n",
    "            maxZeros = zeros\n",
    "            bestWords = [(word, digest.hex(), zeros)]\n",
    "        elif zeros == maxZeros:\n",
    "            bestWords.append((word, digest.hex(), zeros))\n",
    "            \n",
    "    return bestWords\n",
    "\n",
    "words = loadWords()\n",
    "bestWords = findWordsWithMaxLeadingZeros(words)\n",
    "\n",
    "print(f\"Words with maximum leading zeros ({bestWords[0][2]}):\")\n",
    "for word, digest, zeros in sorted(bestWords, key=lambda x: x[0]):\n",
    "    print(f\"- {word}: {digest}, leadingZeros: {zeros}\")"
   ]
  },
  {
   "cell_type": "markdown",
   "metadata": {},
   "source": [
    "## Test 1"
   ]
  },
  {
   "cell_type": "code",
   "execution_count": 188,
   "metadata": {},
   "outputs": [
    {
     "name": "stdout",
     "output_type": "stream",
     "text": [
      "Probability of 1 leading zero: 1 in 16 attempts\n",
      "Probability of 2 leading zeros: 1 in 256 attempts\n",
      "Probability of 3 leading zeros: 1 in 4096 attempts\n",
      "Factor between 1 and 2 zeros: 16.0000 (expected: 16)\n",
      "Factor between 2 and 3 zeros: 16.0000 (expected: 16)\n",
      "Attempts ratio 1 to 2 zeros: 16.0000 (expected: 16)\n",
      "Attempts ratio 2 to 3 zeros: 16.0000 (expected: 16)\n"
     ]
    }
   ],
   "source": [
    "def testDifficultyScaling():\n",
    "    def probabilityOfNZeros(n):\n",
    "        return 1 / (16 ** n)\n",
    "        \n",
    "    # Calculate probabilities for different numbers of leading zeros\n",
    "    prob1Zero = probabilityOfNZeros(1)\n",
    "    prob2Zeros = probabilityOfNZeros(2)\n",
    "    prob3Zeros = probabilityOfNZeros(3)\n",
    "    \n",
    "    # Expected average attempts needed increases exponentially\n",
    "    avgAttempts1Zero = 1 / prob1Zero\n",
    "    avgAttempts2Zeros = 1 / prob2Zeros\n",
    "    avgAttempts3Zeros = 1 / prob3Zeros\n",
    "    \n",
    "    # Verify that each additional zero decreases probability by factor of 16\n",
    "    factor1to2 = prob1Zero / prob2Zeros\n",
    "    factor2to3 = prob2Zeros / prob3Zeros\n",
    "    \n",
    "    # Verify that average attempts increase by factor of 16\n",
    "    attemptsRatio1to2 = avgAttempts2Zeros / avgAttempts1Zero\n",
    "    attemptsRatio2to3 = avgAttempts3Zeros / avgAttempts2Zeros\n",
    "    \n",
    "    print(f\"Probability of 1 leading zero: 1 in {int(1/prob1Zero)} attempts\")\n",
    "    print(f\"Probability of 2 leading zeros: 1 in {int(1/prob2Zeros)} attempts\")\n",
    "    print(f\"Probability of 3 leading zeros: 1 in {int(1/prob3Zeros)} attempts\")\n",
    "    \n",
    "    print(f\"Factor between 1 and 2 zeros: {factor1to2:.4f} (expected: 16)\")\n",
    "    print(f\"Factor between 2 and 3 zeros: {factor2to3:.4f} (expected: 16)\")\n",
    "    \n",
    "    print(f\"Attempts ratio 1 to 2 zeros: {attemptsRatio1to2:.4f} (expected: 16)\")\n",
    "    print(f\"Attempts ratio 2 to 3 zeros: {attemptsRatio2to3:.4f} (expected: 16)\")\n",
    "    \n",
    "testDifficultyScaling()"
   ]
  },
  {
   "cell_type": "markdown",
   "metadata": {},
   "source": [
    "## Test 2"
   ]
  },
  {
   "cell_type": "code",
   "execution_count": 189,
   "metadata": {},
   "outputs": [
    {
     "name": "stdout",
     "output_type": "stream",
     "text": [
      "Digest: 0000ffff, Hex zeros: 4, Bit zeros: 16\n",
      "Binary: 00000000000000001111...\n",
      "Expected: 16 bits, 4 hex zeros\n",
      "Match: ✓\n",
      "Digest: 00f0ffff, Hex zeros: 2, Bit zeros: 8\n",
      "Binary: 00000000111100001111...\n",
      "Expected: 12 bits, 2 hex zeros\n",
      "Match: ✗\n",
      "Digest: 0f00ffff, Hex zeros: 1, Bit zeros: 4\n",
      "Binary: 00001111000000001111...\n",
      "Expected: 8 bits, 1 hex zeros\n",
      "Match: ✗\n",
      "Digest: f000ffff, Hex zeros: 0, Bit zeros: 0\n",
      "Binary: 11110000000000001111...\n",
      "Expected: 4 bits, 0 hex zeros\n",
      "Match: ✗\n",
      "Digest: ffffffff, Hex zeros: 0, Bit zeros: 0\n",
      "Binary: 11111111111111111111...\n",
      "Expected: 0 bits, 0 hex zeros\n",
      "Match: ✓\n",
      "Relationship verified: 1 hex zero = 4 bit zeros: ✓\n"
     ]
    }
   ],
   "source": [
    "import re\n",
    "\n",
    "def testBitLevelAnalysis():\n",
    "    def countLeadingZeroBits(digestHex):\n",
    "        binary = bin(int(digestHex, 16))[2:].zfill(len(digestHex) * 4)\n",
    "        match = re.match(r'^(0+)', binary)\n",
    "        return len(match.group(1)) if match else 0\n",
    "    \n",
    "    def countLeadingZeroHex(digestHex):\n",
    "        match = re.match(r'^(0+)', digestHex)\n",
    "        return len(match.group(1)) if match else 0\n",
    "    \n",
    "    # Test cases with different hex patterns\n",
    "    testCases = [\n",
    "        \"0000ffff\",  # 16 leading zero bits (4 hex zeros)\n",
    "        \"00f0ffff\",  # 12 leading zero bits (2 hex zeros + 4 bits)\n",
    "        \"0f00ffff\",  # 8 leading zero bits (1 hex zero + 4 bits)\n",
    "        \"f000ffff\",  # 4 leading zero bits (0 hex zeros + 4 bits)\n",
    "        \"ffffffff\"   # 0 leading zero bits\n",
    "    ]\n",
    "    \n",
    "    # Expected leading zero bits for each test case\n",
    "    expectedBits = [16, 12, 8, 4, 0]\n",
    "    expectedHex = [4, 2, 1, 0, 0]\n",
    "    \n",
    "    results = []\n",
    "    \n",
    "    # Verify bit counting\n",
    "    for i, digest in enumerate(testCases):\n",
    "        bits = countLeadingZeroBits(digest)\n",
    "        hexZeros = countLeadingZeroHex(digest)\n",
    "        \n",
    "        bitMatch = bits == expectedBits[i]\n",
    "        hexMatch = hexZeros == expectedHex[i]\n",
    "        results.append(bitMatch and hexMatch)\n",
    "        \n",
    "        # Print relationship between hex and binary zeros\n",
    "        print(f\"Digest: {digest}, Hex zeros: {hexZeros}, Bit zeros: {bits}\")\n",
    "        print(f\"Binary: {bin(int(digest, 16))[2:].zfill(len(digest) * 4)[:20]}...\")\n",
    "        print(f\"Expected: {expectedBits[i]} bits, {expectedHex[i]} hex zeros\")\n",
    "        print(f\"Match: {'✓' if bitMatch and hexMatch else '✗'}\")\n",
    "    \n",
    "    # Demonstrate the relationship between hex and binary zeros\n",
    "    hexToBitRelationship = expectedBits[0] == expectedHex[0] * 4\n",
    "    print(f\"Relationship verified: 1 hex zero = 4 bit zeros: {'✓' if hexToBitRelationship else '✗'}\")\n",
    "    \n",
    "testBitLevelAnalysis()"
   ]
  },
  {
   "cell_type": "markdown",
   "metadata": {},
   "source": [
    "## Test 3"
   ]
  },
  {
   "cell_type": "code",
   "execution_count": 190,
   "metadata": {},
   "outputs": [
    {
     "name": "stdout",
     "output_type": "stream",
     "text": [
      "Distribution of leading digits in 1000 hashes:\n",
      "  0: 68 (6.80%)\n",
      "  1: 62 (6.20%)\n",
      "  2: 48 (4.80%)\n",
      "  3: 71 (7.10%)\n",
      "  4: 45 (4.50%)\n",
      "  5: 66 (6.60%)\n",
      "  6: 64 (6.40%)\n",
      "  7: 66 (6.60%)\n",
      "  8: 52 (5.20%)\n",
      "  9: 59 (5.90%)\n",
      "  a: 62 (6.20%)\n",
      "  b: 80 (8.00%)\n",
      "  c: 61 (6.10%)\n",
      "  d: 61 (6.10%)\n",
      "  e: 59 (5.90%)\n",
      "  f: 76 (7.60%)\n",
      "\n",
      "Distribution of leading zeros in 1000 hashes:\n",
      "  0 zeros: 932 (93.20%)\n",
      "  1 zeros: 65 (6.50%)\n",
      "  2 zeros: 2 (0.20%)\n",
      "  3 zeros: 1 (0.10%)\n",
      "  4 zeros: 0 (0.00%)\n",
      "\n",
      "Chi-square value: 20.38 (threshold: 25)\n",
      "Distribution is uniform\n"
     ]
    },
    {
     "data": {
      "text/plain": [
       "True"
      ]
     },
     "execution_count": 190,
     "metadata": {},
     "output_type": "execute_result"
    }
   ],
   "source": [
    "import random\n",
    "\n",
    "def testHashDistributionProperties():\n",
    "    def calculateSha256(data):\n",
    "        return hashlib.sha256(data.encode()).hexdigest()\n",
    "    \n",
    "    # Generate a sample of hashes from random inputs\n",
    "    sampleSize = 1000\n",
    "    hashes = []\n",
    "    \n",
    "    for i in range(sampleSize):\n",
    "        randomString = f\"test{i}{random.random()}\"\n",
    "        digest = calculateSha256(randomString)\n",
    "        hashes.append(digest)\n",
    "    \n",
    "    # Count leading digits to check distribution\n",
    "    leadingDigitCounts = {}\n",
    "    for digit in \"0123456789abcdef\":\n",
    "        leadingDigitCounts[digit] = 0\n",
    "        \n",
    "    for h in hashes:\n",
    "        leadingDigit = h[0]\n",
    "        leadingDigitCounts[leadingDigit] += 1\n",
    "    \n",
    "    # Expected count per digit for uniform distribution\n",
    "    expectedCount = sampleSize / 16\n",
    "    \n",
    "    # Calculate chi-square statistic to measure uniformity\n",
    "    chiSquare = sum((count - expectedCount)**2 / expectedCount \n",
    "                  for count in leadingDigitCounts.values())\n",
    "    \n",
    "    # For 15 degrees of freedom (16 categories - 1), critical value at 0.05 is about 25\n",
    "    isUniform = chiSquare < 25\n",
    "    \n",
    "    # Count how many hashes have 1, 2, 3... leading zeros\n",
    "    leadingZerosCounts = {}\n",
    "    for i in range(5):  # Check up to 4 leading zeros\n",
    "        leadingZerosCounts[i] = 0\n",
    "        \n",
    "    for h in hashes:\n",
    "        zeros = 0\n",
    "        for char in h:\n",
    "            if char == '0':\n",
    "                zeros += 1\n",
    "            else:\n",
    "                break\n",
    "        if zeros > 4:\n",
    "            zeros = 4  # Cap at 4 for counting purposes\n",
    "        leadingZerosCounts[zeros] += 1\n",
    "    \n",
    "    # Print distribution for analysis\n",
    "    print(f\"Distribution of leading digits in {sampleSize} hashes:\")\n",
    "    for digit, count in leadingDigitCounts.items():\n",
    "        print(f\"  {digit}: {count} ({count/sampleSize*100:.2f}%)\")\n",
    "        \n",
    "    print(f\"\\nDistribution of leading zeros in {sampleSize} hashes:\")\n",
    "    for zeros, count in leadingZerosCounts.items():\n",
    "        print(f\"  {zeros} zeros: {count} ({count/sampleSize*100:.2f}%)\")\n",
    "        \n",
    "    print(f\"\\nChi-square value: {chiSquare:.2f} (threshold: 25)\")\n",
    "    print(f\"Distribution is {'uniform' if isUniform else 'not uniform'}\")\n",
    "    \n",
    "    return isUniform\n",
    "\n",
    "testHashDistributionProperties()"
   ]
  },
  {
   "cell_type": "markdown",
   "metadata": {},
   "source": [
    "## Task 7: Turing Machines"
   ]
  },
  {
   "cell_type": "code",
   "execution_count": 191,
   "metadata": {},
   "outputs": [],
   "source": [
    "def addOneTuringMachine(inputTape):\n",
    "    tape = list(inputTape)\n",
    "    headPosition = len(tape) - 1\n",
    "    state = 'add'\n",
    "    \n",
    "    while True:\n",
    "        # Check if we've gone past the beginning of the tape\n",
    "        if headPosition < 0:\n",
    "            tape.insert(0, '1')\n",
    "            break\n",
    "            \n",
    "        currentSymbol = tape[headPosition]\n",
    "        \n",
    "        if state == 'add':\n",
    "            if currentSymbol == '0':\n",
    "                tape[headPosition] = '1'\n",
    "                break\n",
    "            elif currentSymbol == '1':\n",
    "                tape[headPosition] = '0'\n",
    "                headPosition -= 1\n",
    "                state = 'carry'  # We need to carry the 1\n",
    "            \n",
    "        elif state == 'carry':\n",
    "            if currentSymbol == '0':\n",
    "                tape[headPosition] = '1'\n",
    "                break\n",
    "            elif currentSymbol == '1':\n",
    "                tape[headPosition] = '0'\n",
    "                headPosition -= 1\n",
    "                # State remains 'carry'\n",
    "                \n",
    "    return ''.join(tape)"
   ]
  },
  {
   "cell_type": "markdown",
   "metadata": {},
   "source": [
    "## Test 1"
   ]
  },
  {
   "cell_type": "code",
   "execution_count": 192,
   "metadata": {},
   "outputs": [
    {
     "name": "stdout",
     "output_type": "stream",
     "text": [
      "Test 1: 0 + 1 = 1 | Got: 1 | PASS\n",
      "Test 2: 1 + 1 = 10 | Got: 10 | PASS\n",
      "Test 3: 10 + 1 = 11 | Got: 11 | PASS\n",
      "Test 4: 11 + 1 = 100 | Got: 100 | PASS\n",
      "Test 5: 110111 + 1 = 111000 | Got: 111000 | PASS\n",
      "Test 6: 1111 + 1 = 10000 | Got: 10000 | PASS\n",
      "Test 7: 101010 + 1 = 101011 | Got: 101011 | PASS\n",
      "Test 8: 1111111111 + 1 = 10000000000 | Got: 10000000000 | PASS\n",
      "Test 9: 000 + 1 = 001 | Got: 001 | PASS\n",
      "Test 10: 00101 + 1 = 00110 | Got: 00110 | PASS\n",
      "\n",
      "Test Summary: 10 passed, 0 failed, 10 total\n",
      "All tests passed! The Turing Machine is working correctly.\n"
     ]
    }
   ],
   "source": [
    "def testTuringMachine():\n",
    "    testCases = [\n",
    "        # Basic cases\n",
    "        (\"0\", \"1\"),         # 0 + 1 = 1\n",
    "        (\"1\", \"10\"),        # 1 + 1 = 10 (binary 2)\n",
    "        (\"10\", \"11\"),       # 10 + 1 = 11 (binary 3)\n",
    "        (\"11\", \"100\"),      # 11 + 1 = 100 (binary 4)\n",
    "        \n",
    "        # The example from the task\n",
    "        (\"110111\", \"111000\"),  # 110111 (binary 55) + 1 = 111000 (binary 56)\n",
    "        \n",
    "        # Edge cases\n",
    "        (\"1111\", \"10000\"),   # 1111 (binary 15) + 1 = 10000 (binary 16)\n",
    "        (\"101010\", \"101011\"), # 101010 (binary 42) + 1 = 101011 (binary 43)\n",
    "        \n",
    "        # Large numbers\n",
    "        (\"1111111111\", \"10000000000\"),  # 1023 + 1 = 1024\n",
    "        \n",
    "        # All zeros\n",
    "        (\"000\", \"001\"),\n",
    "        \n",
    "        # Leading zeros\n",
    "        (\"00101\", \"00110\"),  # Should preserve leading zeros\n",
    "    ]\n",
    "    \n",
    "    passed = 0\n",
    "    failed = 0\n",
    "    \n",
    "    for i, (inputTape, expectedOutput) in enumerate(testCases):\n",
    "        actualOutput = addOneTuringMachine(inputTape)\n",
    "        \n",
    "        if actualOutput == expectedOutput:\n",
    "            result = \"PASS\"\n",
    "            passed += 1\n",
    "        else:\n",
    "            result = \"FAIL\"\n",
    "            failed += 1\n",
    "            \n",
    "        print(f\"Test {i+1}: {inputTape} + 1 = {expectedOutput} | Got: {actualOutput} | {result}\")\n",
    "    \n",
    "    print(f\"\\nTest Summary: {passed} passed, {failed} failed, {passed + failed} total\")\n",
    "    \n",
    "    if failed == 0:\n",
    "        print(\"All tests passed! The Turing Machine is working correctly.\")\n",
    "    else:\n",
    "        print(\"Some tests failed. Please check the implementation.\")\n",
    "\n",
    "testTuringMachine()"
   ]
  },
  {
   "cell_type": "markdown",
   "metadata": {},
   "source": [
    "## Task 8: Computational Complexity"
   ]
  },
  {
   "cell_type": "code",
   "execution_count": 193,
   "metadata": {},
   "outputs": [],
   "source": [
    "def bubbleSort(arr):\n",
    "    # Create a copy of the array to avoid modifying the original\n",
    "    arrCopy = arr.copy()\n",
    "    n = len(arrCopy)\n",
    "    comparisons = 0\n",
    "    \n",
    "    # Traverse through all array elements\n",
    "    for i in range(n):\n",
    "        # Flag to optimize if no swaps occur in a pass\n",
    "        swapped = False\n",
    "        # Last i elements are already in place\n",
    "        for j in range(0, n-i-1):\n",
    "            # Compare adjacent elements\n",
    "            \n",
    "            comparisons += 1\n",
    "            if arrCopy[j] > arrCopy[j+1]:\n",
    "                # Swap if the element found is greater than the next element\n",
    "                arrCopy[j], arrCopy[j+1] = arrCopy[j+1], arrCopy[j]\n",
    "                swapped = True\n",
    "        \n",
    "        # If no swapping occurred in this pass, array is sorted\n",
    "        if not swapped:\n",
    "            break\n",
    "                \n",
    "    return arrCopy, comparisons"
   ]
  }
 ],
 "metadata": {
  "kernelspec": {
   "display_name": "Python 3",
   "language": "python",
   "name": "python3"
  },
  "language_info": {
   "codemirror_mode": {
    "name": "ipython",
    "version": 3
   },
   "file_extension": ".py",
   "mimetype": "text/x-python",
   "name": "python",
   "nbconvert_exporter": "python",
   "pygments_lexer": "ipython3",
   "version": "3.12.0"
  },
  "orig_nbformat": 4
 },
 "nbformat": 4,
 "nbformat_minor": 2
}
