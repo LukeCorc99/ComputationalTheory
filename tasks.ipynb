{
 "cells": [
  {
   "attachments": {},
   "cell_type": "markdown",
   "metadata": {},
   "source": [
    "# Computational Theory Tasks\n",
    "## By Luke Corcoran\n",
    "### G00410404"
   ]
  },
  {
   "cell_type": "code",
   "execution_count": 229,
   "metadata": {},
   "outputs": [],
   "source": [
    "# Define necessary imports\n",
    "import numpy as np\n",
    "import tempfile\n",
    "import os\n",
    "import io\n",
    "import sys\n",
    "import time\n",
    "import math\n",
    "import hashlib\n",
    "import itertools\n",
    "import random"
   ]
  },
  {
   "attachments": {},
   "cell_type": "markdown",
   "metadata": {},
   "source": [
    "# Task 1: Binary Representations\n",
    "Manipulating binary representations is done as part of the **Secure Hash Standard (SHS)** algorithms [1]. The [National Institute of Standards and Technology (2015)](https://nvlpubs.nist.gov/nistpubs/FIPS/NIST.FIPS.180-4.pdf) note that the primary reason for these manipulations is to generate 'digests' of messages, which are condensed representations of electronic data [1].\n",
    "\n",
    "\n",
    "The primary function of generating message digests is to verify if messages have remained unaltered since the time the digests were originally created [1]. The algorithms specified in the Standard allow for the identification of the message’s integrity [1]. This occurs because any modification to the message will almost certainly produce a different digest [1].\n",
    "\n",
    "\n",
    "The **manipulation of binary representations** is the fundamental mechanism by which these hash algorithms operate. The hash computation process involves iteratively generating a series of hash values using a message schedule, functions, constants, and word operations [1]. These word operations are specifically defined binary manipulations that operate on fixed-size groups of bits called \"words\".\n",
    "\n",
    "\n",
    "The specific operations used to manipulate the binary representations of words include:\n",
    "\n",
    "- **Bitwise logical word operations:** AND, OR, XOR, and complement.\n",
    "- **Addition modulo 2^w:** Where 'w' is the word size (32 or 64 bits, depending on the specific SHA algorithm). This operation is defined by adding the integer values represented by the words and taking the remainder modulo 2^w.\n",
    "- **Left-shift operation (<<):** Obtained by discarding leftmost bits and padding with zeros on the right.\n",
    "- **Right-shift operation (>> or SHR n (x)):** Obtained by discarding rightmost bits and padding with zeros on the left.\n",
    "- **Rotate operations (ROTR/ROTL):** For circular shifts.\n",
    "\n",
    "\n",
    "These binary manipulations are defined within the functions used by the algorithms, such as the Ch, Maj, Sigma0, and sigma0 functions for SHA-224 and SHA-256, which combine bitwise logic, shifts, and rotations [1].\n",
    "Beyond message integrity, the characteristic where any modification to the message produces a different digest can also facilitate digital signature creation and validation, message authentication code verification, and random number generation [1].\n",
    "\n",
    "The following functions introduce binary operations used in Secure Hash Standard algorithms for message digest creation, providing implementations of the bit manipulation operations that form the foundation of cryptographic hash functions.\n",
    "\n",
    "\n",
    "## Function 1: rotl(x, n=1) (Left Rotation)\n",
    "The ROTL (Rotate Left) operation is fundamental in the SHA-1 algorithm and represents a circular left shift [1]. It performs a shift of x by n positions to the left. The `rotl` function defined below performs a left rotation on a 32-bit unsigned integer. Left rotation shifts bits to the left by `n` positions, wrapping around the bits that overflow beyond the 32-bit boundary. This implementation uses [bitwise shift operators (`<<` and `>>`)](https://www.geeksforgeeks.org/python3-program-to-rotate-bits-of-a-number/) to perform the rotation, combining the left shift with a right shift of the remaining bits.\n",
    "\n",
    "\n",
    "### Example I/O: \n",
    "**Input:**  \n",
    "```\n",
    "x = 0b11001010101100000000000000000000\n",
    "n = 3\n",
    "```\n",
    "\n",
    "**Output:** \n",
    "``` \n",
    "0b010101011000000000000000000110\n",
    "```"
   ]
  },
  {
   "cell_type": "code",
   "execution_count": 230,
   "metadata": {},
   "outputs": [],
   "source": [
    "# Rotate bits of x to the left by n positions.\n",
    "def rotl(x, n=1):\n",
    "    bits = 32 # Number of bits in an integer\n",
    "    n = n % bits  # Ensure n is within the range of 0-31\n",
    "    return ((x << n) & 0xFFFFFFFF) | (x >> (bits - n)) # Rotate bits to the left by n positions"
   ]
  },
  {
   "cell_type": "markdown",
   "metadata": {},
   "source": [
    "## Test 1: Basic Usage\n",
    "This test verifies the basic functionality of the `rotl()` function by rotating a 32-bit unsigned integer by 3 positions to the left. A set expected result is compared with the actual output from the function. The test confirms that bits shifted beyond the left boundary correctly wrap around to the right side.\n"
   ]
  },
  {
   "cell_type": "code",
   "execution_count": 231,
   "metadata": {},
   "outputs": [
    {
     "name": "stdout",
     "output_type": "stream",
     "text": [
      "Input: x = 0b11001010101100000000000000000000, n = 3\n",
      "Expected: 0b1010101100000000000000000000110\n",
      "Result:   0b1010101100000000000000000000110\n",
      "Test passed: True\n"
     ]
    }
   ],
   "source": [
    "x = 0b11001010101100000000000000000000 # Input 32-bit integer\n",
    "n = 3  # Number of positions to rotate left\n",
    "expected = 0b001010101100000000000000000000110  # Expected result after rotating left by 3 bits\n",
    "result = rotl(x, n)  # Call rot1 function with 32-bit unsigned integer\n",
    "\n",
    "# Display the results\n",
    "print(f\"Input: x = {bin(x)}, n = {n}\")\n",
    "print(f\"Expected: {bin(expected)}\")\n",
    "print(f\"Result:   {bin(result)}\") \n",
    "print(f\"Test passed: {result == expected}\")  # Show if test was successful"
   ]
  },
  {
   "cell_type": "markdown",
   "metadata": {},
   "source": [
    "## Test 2: Edge Cases\n",
    "This test examines two important edge cases for bit rotation: rotating by exactly 32 bits (a full rotation) and rotating by 0 bits (no rotation). In both scenarios, the output should match the original input value since rotating by the full bit-width returns to the original state, and rotating by zero bits makes no changes. This test ensures the function handles these boundary conditions correctly."
   ]
  },
  {
   "cell_type": "code",
   "execution_count": 232,
   "metadata": {},
   "outputs": [
    {
     "name": "stdout",
     "output_type": "stream",
     "text": [
      "Original:     0b10101010101010101010101010101010\n",
      "Rotated by 32: 0b10101010101010101010101010101010\n",
      "Rotated by 0:  0b10101010101010101010101010101010\n",
      "Test passed: True\n"
     ]
    }
   ],
   "source": [
    "x = 0b10101010101010101010101010101010 # 32-bit integer\n",
    "result1 = rotl(x, 32)  # Rotate by exactly 32 bits (full rotation)\n",
    "result2 = rotl(x, 0)   # Rotate by 0 bits (no rotation)\n",
    "\n",
    "print(f\"Original:     {bin(x)}\") \n",
    "print(f\"Rotated by 32: {bin(result1)}\")  # Display result after 32-bit rotation\n",
    "print(f\"Rotated by 0:  {bin(result2)}\")  # Display result after 0-bit rotation\n",
    "print(f\"Test passed: {result1 == x and result2 == x}\") "
   ]
  },
  {
   "cell_type": "markdown",
   "metadata": {},
   "source": [
    "## Function 2: rotr(x, n=1) (Right Rotation)\n",
    "The ROTR (Rotate Right) operation, similar to ROTL, is fundamental in many cryptographic algorithms and represents a circular right shift [1]. It performs a shift of x by n positions to the right. The `rotr` function defined below performs a right rotation on a 32-bit unsigned integer. Right rotation shifts bits to the right by `n` positions, wrapping around the bits that overflow beyond the 32-bit boundary. Just like in the `rotl` function, it uses [bitwise shift operators (>> and <<)](https://www.geeksforgeeks.org/python3-program-to-rotate-bits-of-a-number/) to perform the rotation, combining the right shift with a left shift of the remaining bits.\n",
    "### Example I/O: \n",
    "**Input:**  \n",
    "```\n",
    "x = 0b00000000000000000000110010101011\n",
    "n = 3\n",
    "```\n",
    "\n",
    "**Output:** \n",
    "``` \n",
    "0b01100000000000000000000110010101\n",
    "\n",
    "```"
   ]
  },
  {
   "cell_type": "code",
   "execution_count": 233,
   "metadata": {},
   "outputs": [],
   "source": [
    "# Rotate bits of x to the right by n positions.\n",
    "def rotr(x, n=1):\n",
    "    bits = 32  # Number of bits in an integer\n",
    "    n = n % bits  # Ensure n is within the range of 0-31\n",
    "    return ((x >> n) | (x << (bits - n))) & 0xFFFFFFFF  # Rotate bits to the right by n positions"
   ]
  },
  {
   "cell_type": "markdown",
   "metadata": {},
   "source": [
    "## Test 1: Basic Usage\n",
    "Just like the basic usage test for the `rotl()` function, this test verifies the basic functionality of the `rotr()` function by rotating a 32-bit unsigned integer by 3 positions, but this time to the right. A set expected result is compared with the actual output from the function. The test confirms that bits shifted beyond the right boundary correctly wrap around to the left side."
   ]
  },
  {
   "cell_type": "code",
   "execution_count": 234,
   "metadata": {},
   "outputs": [
    {
     "name": "stdout",
     "output_type": "stream",
     "text": [
      "Input: x = 0b110010101011, n = 3\n",
      "Expected: 0b1100000000000000000000110010101\n",
      "Result:   0b1100000000000000000000110010101\n",
      "Test passed: True\n"
     ]
    }
   ],
   "source": [
    "x = 0b00000000000000000000110010101011  # 32-bit integer\n",
    "n = 3  # Number of positions to rotate right\n",
    "\n",
    "# Right rotation by 3 should put the 3 rightmost bits at the left\n",
    "expected = 0b01100000000000000000000110010101  # 3 rightmost bits moved to left, others shifted right\n",
    "result = rotr(x, n)  # Call rotr function with 32-bit unsigned integer\n",
    "\n",
    "# Display the results\n",
    "print(f\"Input: x = {bin(x)}, n = {n}\")\n",
    "print(f\"Expected: {bin(expected)}\")\n",
    "print(f\"Result:   {bin(result)}\")\n",
    "print(f\"Test passed: {result == expected}\")  # Test passed if result matches expected"
   ]
  },
  {
   "cell_type": "markdown",
   "metadata": {},
   "source": [
    "## Test 2: Edge Cases\n",
    "Also similarly to the edge cases test for the `rotl()` function, this test examines a full rotation (rotating by 32 bits) and no rotation (rotating by 0 bits). In both scenarios, the output should match the original input value since rotating by the full bit-width returns to the original state, and rotating by zero bits makes no changes."
   ]
  },
  {
   "cell_type": "code",
   "execution_count": 235,
   "metadata": {},
   "outputs": [
    {
     "name": "stdout",
     "output_type": "stream",
     "text": [
      "Original:     0b10101010101010101010101010101010\n",
      "Rotated by 32: 0b10101010101010101010101010101010\n",
      "Rotated by 0:  0b10101010101010101010101010101010\n",
      "Test passed: True\n"
     ]
    }
   ],
   "source": [
    "x = 0b10101010101010101010101010101010  # 32-bit integer\n",
    "result1 = rotr(x, 32)  # Rotate by full 32 bits (should be identical to input)\n",
    "result2 = rotr(x, 0)   # Rotate by 0 bits (should be identical to input)\n",
    "\n",
    "print(f\"Original:     {bin(x)}\")\n",
    "print(f\"Rotated by 32: {bin(result1)}\") # Display result after 32-bit rotation\n",
    "print(f\"Rotated by 0:  {bin(result2)}\") # Display result after 0-bit rotation\n",
    "print(f\"Test passed: {result1 == x and result2 == x}\") # Test passed if both results match input"
   ]
  },
  {
   "cell_type": "markdown",
   "metadata": {},
   "source": [
    "## Function 3: ch(x, y, z) (Bitwise Choice)\n",
    "The CH (Choice) operation is commonly used in cryptographic hash functions like SHA-256 and acts as a bitwise conditional selection (XOR) [1]. It performs a bit-by-bit selection between two values based on a control value. The `ch` function defined below implements this conditional selection on unsigned integers. For each bit position, if the corresponding bit in `x` is 1, the output bit comes from `y`; if the bit in `x` is 0, the output bit comes from `z`. This implementation uses [bitwise operators (&, ^, and ~)](https://docs.python.org/3/library/stdtypes.html#bitwise-xor\n",
    ") to perform a [Bitwise XOR](https://github.com/ianmcloughlin/computational_theory/blob/main/materials/binary_representations.ipynb).\n",
    "### Example I/O:\n",
    "**Input:**\n",
    "```\n",
    "x = 0b10101010101010101010101010101010\n",
    "y = 0b11111111111111110000000000000000\n",
    "z = 0b00000000000000001111111111111111\n",
    "```\n",
    "**Output:**\n",
    "```\n",
    "0b11111111111111111111111111111111\n",
    "```"
   ]
  },
  {
   "cell_type": "code",
   "execution_count": 236,
   "metadata": {},
   "outputs": [],
   "source": [
    "# Choose bits from y where x has bits set to 1, and bits from z where x has bits set to 0.\n",
    "def ch(x, y, z):\n",
    "    return (x & y) ^ (~x & z)  # Select bits from y where x is 1, otherwise from z"
   ]
  },
  {
   "cell_type": "markdown",
   "metadata": {},
   "source": [
    "## Test 1: Basic Usage\n",
    "\n",
    "This test verifies the basic functionality of the `ch()` function by demonstrating its bitwise selection behavior. Input values are provided for `x`, `y`, and `z` where `x` serves as the input that determines whether bits are chosen from `y` (when corresponding bits in `x` are 1) or from `z` (when bits in `x` are 0). An expected result is compared with the function's actual output to confirm bitwise selection works as intended."
   ]
  },
  {
   "cell_type": "code",
   "execution_count": 237,
   "metadata": {},
   "outputs": [
    {
     "name": "stdout",
     "output_type": "stream",
     "text": [
      "Input: x = 0b11001010101, y = 0b10101010101, z = 0b1010101010\n",
      "Expected: 0b10011111111\n",
      "Result:   0b10011111111\n",
      "Test passed: True\n"
     ]
    }
   ],
   "source": [
    "x = 0b11001010101  # Input value\n",
    "y = 0b10101010101  # Value to select from when x bit is 1\n",
    "z = 0b01010101010  # Value to select from when x bit is 0\n",
    "\n",
    "expected =  0b10011111111 # Expected output for ch function\n",
    "result = ch(x, y, z)  # Compute ch function\n",
    "\n",
    "# Display input values and expected result\n",
    "print(f\"Input: x = {bin(x)}, y = {bin(y)}, z = {bin(z)}\")\n",
    "print(f\"Expected: {bin(expected)}\")  \n",
    "print(f\"Result:   {bin(result)}\") \n",
    "print(f\"Test passed: {result == expected}\")  # Passes if result matches expected"
   ]
  },
  {
   "cell_type": "markdown",
   "metadata": {},
   "source": [
    "## Test 2: Edge Cases\n",
    "\n",
    "This test examines two important edge cases for the bitwise choice function: when `x` contains all 1's and when `x` contains all 0's. In the first scenario, when `x` is all 1's, the output should be identical to `y` since every bit is selected from `y`. In the second scenario, when `x` is all 0's, the output should be identical to `z` since every bit is selected from `z`. These tests confirm the function behaves correctly at these boundaries."
   ]
  },
  {
   "cell_type": "code",
   "execution_count": 238,
   "metadata": {},
   "outputs": [
    {
     "name": "stdout",
     "output_type": "stream",
     "text": [
      "y = 0b10101010101, z = 0b10101010100\n",
      "When x is all 1s - Expected: 0b10101010101, -- Result: 0b10101010101\n",
      "When x is all 0s - Expected: 0b10101010100,  -- Result: 0b10101010100\n",
      "Test passed: True\n"
     ]
    }
   ],
   "source": [
    "xAllOnes = 0b11111111111111111111111111111111 # When x is all 1s, output should be exactly y\n",
    "y = 0b10101010101  # Value to select from when x bit is 1\n",
    "z = 0b10101010100   # Value to select from when x bit is 0\n",
    "result1 = ch(xAllOnes, y, z)\n",
    "\n",
    "xAllZeros = 0 # When x is all 0s, output should be exactly z\n",
    "result2 = ch(xAllZeros, y, z)\n",
    "\n",
    "# Display results for all 1s and all 0s cases\n",
    "print(f\"y = {bin(y)}, z = {bin(z)}\")\n",
    "print(f\"When x is all 1s - Expected: {bin(y)}, -- Result: {bin(result1)}\")\n",
    "print(f\"When x is all 0s - Expected: {bin(z)},  -- Result: {bin(result2)}\")\n",
    "print(f\"Test passed: {result1 == y and result2 == z}\") # Test passed if results match expected values"
   ]
  },
  {
   "cell_type": "markdown",
   "metadata": {},
   "source": [
    "## Function 4: maj(x, y, z) (Bitwise Majority)\n",
    "The MAJ (Majority) operation is commonly used in cryptographic hash functions like SHA-256 and represents a bitwise majority vote [1]. It performs a bit-by-bit majority decision across three input values. The `maj` function defined below implements this majority operation on unsigned integers. For each bit position, if two or more of the corresponding bits in `x`, `y`, and `z` are 1, then the output bit is 1; otherwise, it's 0. This implementation uses bitwise operators including [Bitwise AND ( & )](https://docs.python.org/3/library/stdtypes.html#bitwise-or) and [Bitwise OR ( | )](https://github.com/ianmcloughlin/computational_theory/blob/main/materials/binary_representations.ipynb) to compute the majority vote by checking all possible combinations where at least two inputs have 1-bits at a given position.\n",
    "\n",
    "### Example I/O:\n",
    "**Input:**\n",
    "```\n",
    "x = 0b110010101011\n",
    "y = 0b101010101010\n",
    "z = 0b010101010101\n",
    "```\n",
    "\n",
    "**Output:**\n",
    "```\n",
    "0b110010101011\n",
    "```"
   ]
  },
  {
   "cell_type": "code",
   "execution_count": 239,
   "metadata": {},
   "outputs": [],
   "source": [
    "# Compute the majority vote for each bit position in x, y, and z\n",
    "def maj(x, y, z):\n",
    "    return (x & y) | (y & z) | (x & z)  # Majority function: At least two bits must be 1"
   ]
  },
  {
   "cell_type": "markdown",
   "metadata": {},
   "source": [
    "## Test 1: Basic Usage\n",
    "\n",
    "This test verifies the basic functionality of the `maj()` function by demonstrating its bitwise majority voting behavior. Values for `x`, `y`, and `z` are provided, to confirm the function correctly implements the majority rule: for each bit position, if at least two of the three input bits are 1, the output bit is 1; otherwise it's 0. The expected result is calculated manually and compared with the function's actual output to confirm the function works as intended."
   ]
  },
  {
   "cell_type": "code",
   "execution_count": 240,
   "metadata": {},
   "outputs": [
    {
     "name": "stdout",
     "output_type": "stream",
     "text": [
      "Input: x = 0b110010101011, y = 0b101010101010, z = 0b10101010101\n",
      "Expected: 0b110010101011\n",
      "Result:   0b110010101011\n",
      "Test passed: True\n"
     ]
    }
   ],
   "source": [
    "# Test input values\n",
    "x = 0b110010101011\n",
    "y = 0b101010101010\n",
    "z = 0b010101010101 \n",
    "\n",
    "# maj returns 1 if at least two inputs have 1, otherwise 0. In this case, majority of 1s is 0b110010101011\n",
    "expected = 0b110010101011 \n",
    "result = maj(x, y, z)\n",
    "\n",
    "# Display input values and expected vs actual results\n",
    "print(f\"Input: x = {bin(x)}, y = {bin(y)}, z = {bin(z)}\")\n",
    "print(f\"Expected: {bin(expected)}\")\n",
    "print(f\"Result:   {bin(result)}\")\n",
    "print(f\"Test passed: {result == expected}\") # Test passed if result matches expected"
   ]
  },
  {
   "cell_type": "markdown",
   "metadata": {},
   "source": [
    "## Test 2: Edge Cases\n",
    "\n",
    "This test examines edge cases for the bitwise majority function, specifically when two inputs contain all 1's or all 0's. When any two inputs are all 1's, the output should be all 1's regardless of the third input, since the majority (two out of three) will always be 1 at every position. Conversely, when any two inputs are all 0's, the output should be all 0's regardless of the third input. These tests confirm the function behaves correctly at these boundaries."
   ]
  },
  {
   "cell_type": "code",
   "execution_count": 241,
   "metadata": {},
   "outputs": [
    {
     "name": "stdout",
     "output_type": "stream",
     "text": [
      "z = 0b10101010101\n",
      "When x and y are all 1s:\n",
      "Expected: 0b11111111111111111111111111111111 -- Result: 0b11111111111111111111111111111111\n",
      "When x and y are all 0s:\n",
      "Expected: 0b0 -- Result: 0b0\n",
      "Test passed: True\n"
     ]
    }
   ],
   "source": [
    "# Test input values. When any two inputs are all 1s, output should be all 1s\n",
    "xAllOnes = 0b11111111111111111111111111111111\n",
    "yAllOnes = 0b11111111111111111111111111111111\n",
    "z = 0b010101010101\n",
    "\n",
    "result1 = maj(xAllOnes, yAllOnes, z)\n",
    "\n",
    "# When any two inputs are all 0s, output should be all 0s\n",
    "xAllZeros = 0\n",
    "yAllZeros = 0\n",
    "result2 = maj(xAllZeros, yAllZeros, z) \n",
    "\n",
    "# Display results for all 1s and all 0s cases\n",
    "print(f\"z = {bin(z)}\")\n",
    "print(\"When x and y are all 1s:\")\n",
    "print(f\"Expected: {bin(0b11111111111111111111111111111111)} -- Result: {bin(result1)}\")\n",
    "print(\"When x and y are all 0s:\")\n",
    "print(f\"Expected: {bin(0)} -- Result: {bin(result2)}\")\n",
    "print(f\"Test passed: {result1 == 0b11111111111111111111111111111111 and result2 == 0}\") "
   ]
  },
  {
   "cell_type": "markdown",
   "metadata": {},
   "source": [
    "# Task 2: Hash Functions\n",
    "Manipulating hash values is done as part of hash table lookup algorithms [2]. [Kernighan and Ritchie (1988)](https://www.cimat.mx/ciencia_para_jovenes/bachillerato/libros/%5BKernighan-Ritchie%5DThe_C_Programming_Language.pdf) provide an implementation of an algorithm which provides a hash-search, converting a word into a positive integer (hash value) [2].\n",
    "The primary function of this algorithm is to allow for searching within hash tables by using the generated integer as an index [2]. The algorithm serves as the basis for Java's [hashCode()](https://www.geeksforgeeks.org/java-string-hashcode-method-with-examples/), which is used to return a String's hash value. \n",
    "\n",
    "The `hash` function defined below is a Python version of Kernighan and Ritchie's algorithm, which works by iteratively processing each character in the input string and combining it with previously processed characters in a way that distributes values evenly across the hash table. \n",
    "- [The algorithm uses 31 as a multiplier](https://www.geeksforgeeks.org/why-does-javas-hashcode-in-string-use-31-as-a-multiplier/) due to its nature as a prime number, which creates different distributions of keys in the array. When using a prime multiplier, the same key (e.g. \"DEV\") would generate different hash values (e.g. D31 + E31 + V*31) compared to using a non-prime multiplier (e.g. 30), resulting in better distribution of values across the hash table. \n",
    "- [101 is used as the modulo value](https://www.designgurus.io/answers/detail/why-should-hash-functions-use-a-prime-number-modulus) for the hash function because it constrains the output to a fixed range (0-100) that can be directly used as an index in a hash table of size 101. As a prime, 101 has no common factors with other numbers except 1, allowing hash values to spread evenly across all buckets (array slots where elements with the same hash value are stored) rather than clustering in predictable patterns. This helps to reduce collisions and improve overall performance.\n",
    "\n",
    "\n",
    "The `hash` function initializes a hash value at 0 and loops through each character of the input string. Using [ord()](https://docs.python.org/3/library/functions.html#ord), each character is converted to an integer, multiplied by 31, and combined with the current hash value. The result is reduced to a fixed range using the modulo operator (101).\n",
    "\n",
    "### Example I/O:\n",
    "**Input:**\n",
    "```\n",
    "\"hello\"\n",
    "```\n",
    "\n",
    "**Output:**\n",
    "```\n",
    "17\n",
    "```\n"
   ]
  },
  {
   "cell_type": "code",
   "execution_count": 242,
   "metadata": {},
   "outputs": [],
   "source": [
    "def hash(s: str, multiplier: int = 31, modulo: int = 101) -> int:\n",
    "    hashval = 0  # Initialize hash value to 0\n",
    "    \n",
    "    for char in s:\n",
    "        # Add character value and multiply by prime multiplier\n",
    "        hashval = ord(char) + multiplier * hashval\n",
    "    \n",
    "    # Keep hash in range 0-100\n",
    "    return hashval % modulo"
   ]
  },
  {
   "cell_type": "markdown",
   "metadata": {},
   "source": [
    "## Test 1: Testing Basic Functionality\n",
    "This test verifies the basic functionality of the hash() function by testing it with a simple input string \"hello\". The test calculates the hash value using the `hash` function and compares it with the expected value of 17. This confirms the function is correctly implementing Kernighan and Ritchie's hash algorithm with the specified multiplier (31) and modulo (101) parameters. The test passes when the calculated hash matches the expected result."
   ]
  },
  {
   "cell_type": "code",
   "execution_count": 243,
   "metadata": {},
   "outputs": [
    {
     "name": "stdout",
     "output_type": "stream",
     "text": [
      "String: 'hello'\n",
      "Expected hash value: 17\n",
      "Calculated hash value: 17\n",
      "Test passed: True\n"
     ]
    }
   ],
   "source": [
    "testString = \"hello\"  # Test string\n",
    "result = hash(testString)  # Calculate the hash value of the string\n",
    "\n",
    "expected = 17  # Expected hash value for \"hello\" using the hash function\n",
    "\n",
    "# Output test results for verification\n",
    "print(f\"String: '{testString}'\")\n",
    "print(f\"Expected hash value: {expected}\")\n",
    "print(f\"Calculated hash value: {result}\")\n",
    "print(f\"Test passed: {result == expected}\")  # Test passed if result matches expected value"
   ]
  },
  {
   "cell_type": "markdown",
   "metadata": {},
   "source": [
    "## Test 2: Showcasing why 31 is chosen\n",
    "This test demonstrates why prime numbers like 31 are preferred as multipliers in hash functions. By comparing the hash distribution quality between prime and non-prime multipliers, we can observe how prime multipliers create more unique hash values for similar input strings. The multiplier 31 is specifically chosen because it's a prime number that provides good distribution characteristics while remaining computationally efficient."
   ]
  },
  {
   "cell_type": "code",
   "execution_count": 244,
   "metadata": {},
   "outputs": [],
   "source": [
    "# Test strings with similar patterns\n",
    "similarStrings = [\n",
    "        \"abc\", \"acb\", \"bac\", \"bca\", \"cab\", \"cba\", \n",
    "        \"aaa\", \"bbb\", \"abc1\", \"abc2\"              \n",
    "    ]\n",
    "\n",
    "# Compare prime vs non-prime multipliers\n",
    "primeMultipliers = [3, 7, 11, 13, 17, 19, 23, 29, 31, 37, 41, 43, 47, 53, 101]\n",
    "nonPrimeMultipliers = [1, 4, 6, 8, 9, 10, 12, 15, 16, 20, 24, 25, 32, 36, 100]\n",
    "\n",
    "# Initialize counters for prime and non-prime multipliers\n",
    "results = {\"Prime\": 0, \"Non-Prime\": 0}"
   ]
  },
  {
   "cell_type": "markdown",
   "metadata": {},
   "source": [
    "The code below measures hash distribution quality by calculating the ratio of unique hash values to total inputs. A higher ratio indicates better distribution. For each multiplier (both prime and non-prime), the test generates hash values for all strings in the `similarStrings` collection. The `uniqueRatio` variable represents how well the hash function distributes these similar inputs across the hash space. Prime multipliers like 31 should theoretically produce higher uniqueness ratios compared to non-prime multipliers.\n",
    "\n",
    "The process begins with two loops - one iterating through prime multipliers and another through non-prime multipliers. In each iteration, the `hash` function is applied to every string in the `similarStrings` collection using the current multiplier. For each multiplier, a `uniqueRatio` is calculated by dividing the number of hash values by the total number of strings, while using a [`set()`](https://www.geeksforgeeks.org/python-ways-to-remove-duplicates-from-list/) conversion to eliminate duplicates. This ratio represents the distribution quality - higher values indicate better distribution. The calculated `uniqueRatio` for each multiplier is stored in the corresponding \"Prime\" or \"Non-Prime\" category in the results dictionary, which will later be used to calculate the average distribution quality for each multiplier type."
   ]
  },
  {
   "cell_type": "code",
   "execution_count": 245,
   "metadata": {},
   "outputs": [],
   "source": [
    "# Test hash distribution for prime multipliers\n",
    "for multiplier in primeMultipliers:\n",
    "    hashValues = [hash(s, multiplier) for s in similarStrings] # Create hash values using the hash function\n",
    "    uniqueRatio = len(set(hashValues)) / len(similarStrings) # Calculate distribution quality (unique values / total)\n",
    "    results[\"Prime\"] += uniqueRatio\n",
    "\n",
    "# Test hash distribution for non-prime multipliers\n",
    "for multiplier in nonPrimeMultipliers:\n",
    "    hashValues = [hash(s, multiplier) for s in similarStrings] # Create hash values\n",
    "    uniqueRatio = len(set(hashValues)) / len(similarStrings) # Calculate distribution quality\n",
    "    results[\"Non-Prime\"] += uniqueRatio "
   ]
  },
  {
   "cell_type": "markdown",
   "metadata": {},
   "source": [
    "The final section calculates the average distribution quality for both prime and non-prime multipliers. By averaging the ratios across the multipliers in each category, we can measure which type of multiplier provides better overall performance. It is shown that prime multipliers (including 31) produce better hash distribution quality than non-prime multipliers, thus justifying the use of 31 in the `hash` function."
   ]
  },
  {
   "cell_type": "code",
   "execution_count": 246,
   "metadata": {},
   "outputs": [
    {
     "name": "stdout",
     "output_type": "stream",
     "text": [
      "Average distribution quality:\n",
      "  Prime multipliers: 0.95\n",
      "  Non-Prime multipliers: 0.91\n",
      "\n",
      "CONCLUSION: Prime multipliers produce better hash distribution quality\n"
     ]
    }
   ],
   "source": [
    "# Calculate average distribution quality\n",
    "results[\"Prime\"] /= len(primeMultipliers)\n",
    "results[\"Non-Prime\"] /= len(nonPrimeMultipliers)\n",
    "\n",
    "# Print results\n",
    "print(f\"Average distribution quality:\")\n",
    "print(f\"  Prime multipliers: {results['Prime']:.2f}\")\n",
    "print(f\"  Non-Prime multipliers: {results['Non-Prime']:.2f}\")\n",
    "print(f\"\\nCONCLUSION: {'Prime' if results['Prime'] > results['Non-Prime'] else 'Non-Prime'} \" +\n",
    "        \"multipliers produce better hash distribution quality\")"
   ]
  },
  {
   "cell_type": "markdown",
   "metadata": {},
   "source": [
    "## Test 3: Showcasing why 101 is chosen\n",
    "This test demonstrates why 101 is chosen as the modulo value in the hash function implementation. As mentioned earlier, using a prime number like 101 as the modulo value helps constrain the output to a fixed range (0-100) while ensuring hash values spread evenly across all possible buckets. Since 101 is prime, it has no common factors with other numbers except 1, which helps reduce collisions in hash tables. This test compares the bucket distribution between a non-prime table size (100) and a prime table size (101) to demonstrate the advantage of using prime numbers for hash table sizes."
   ]
  },
  {
   "cell_type": "code",
   "execution_count": 247,
   "metadata": {},
   "outputs": [],
   "source": [
    "values10 = [10, 20, 30, 40, 50, 60, 70, 80, 90, 100] # Test values, multiples of 10\n",
    "values25 = [25, 50, 75, 100, 125, 150, 175, 200, 225, 250] # Test values, multiples of 25\n",
    "testValues = values10 + values25 # Combine test values \n",
    "tableLengths = {\"Non-prime (100)\": 100, \"Prime (101)\": 101} # Test prime vs non-prime table sizes"
   ]
  },
  {
   "cell_type": "markdown",
   "metadata": {},
   "source": [
    "The code below analyzes how test values distribute across buckets when using different table lengths. It takes various test values (multiples of ten and twenty-five) and applies the modulo operation with both a non-prime (100) and a prime (101) table size. \n",
    "\n",
    "For each table length, the code first creates an empty dictionary (`buckets`) to track populated buckets. Then for each test value, it calculates a bucket index using the modulo operation, initializes the bucket as an empty list if needed, and appends the current value to its corresponding bucket. Finally, it counts and calculates what percentage of buckets were used. The results clearly demonstrate the advantage of using a prime modulo - with 101, almost 18% of buckets are used, while with a 100, only 12% of buckets are used. This confirms that prime numbers help distribute values more evenly across available buckets, reducing clustering and collisions in hash tables."
   ]
  },
  {
   "cell_type": "code",
   "execution_count": 248,
   "metadata": {},
   "outputs": [
    {
     "name": "stdout",
     "output_type": "stream",
     "text": [
      "\n",
      "Non-prime (100):\n",
      "  Buckets used: 12 out of 100 (12.0%)\n",
      "\n",
      "Prime (101):\n",
      "  Buckets used: 18 out of 101 (17.8%)\n"
     ]
    }
   ],
   "source": [
    "# Loop through each table length and test the distribution of values\n",
    "for name, tableLength in tableLengths.items():\n",
    "    buckets = {} # Track populated buckets\n",
    "\n",
    "    # Hash each value and store in corresponding bucket\n",
    "    for val in testValues:\n",
    "        index = val % tableLength # Calculate bucket index using modulo operation\n",
    "        \n",
    "        if index not in buckets: # Initialize bucket if not present\n",
    "            buckets[index] = []\n",
    "            \n",
    "        buckets[index].append(val) # Store value in its bucket\n",
    "    \n",
    "    usedBuckets = len(buckets)  # Count distinct buckets used\n",
    "    print(f\"\\n{name}:\")\n",
    "    print(f\"  Buckets used: {usedBuckets} out of {tableLength} ({usedBuckets/tableLength*100:.1f}%)\")"
   ]
  },
  {
   "cell_type": "markdown",
   "metadata": {},
   "source": [
    "# Task 3: SHA256 Padding\n",
    "Padding is one of three preprocessing steps in the SHA-256 algorithm, alongside parsing and setting initial hash values, with its fundamental purpose being to ensure the message's total length is a multiple of 512 bits for processing in 512-bit blocks. The padding process appends a specific sequence: first a single '1' bit, followed by k zero bits (where k is the smallest non-negative integer solution to λ + 1 + k ≡ 448 mod 512), and finally a 64-bit block representing the original message length (λ) in binary using big-endian convention, which can represent integers from 0 to 2⁶⁴-1. After padding is applied, the message length becomes a multiple of 512 bits, with the standard noting that padding can be inserted either before hash computation begins or during computation prior to processing blocks containing the padding - a flexibility introduced in FIPS 180-4 compared to the previous FIPS 180-3 version. This padding method applies identically to SHA-1, SHA-224, and SHA-256, with the constraint that the original message length must be less than 2⁶⁴ bits."
   ]
  },
  {
   "cell_type": "code",
   "execution_count": 249,
   "metadata": {},
   "outputs": [],
   "source": [
    "def sha256Padding(filePath):\n",
    "    # Read file and initialize padding\n",
    "    with open(filePath, 'rb') as file:\n",
    "        data = file.read()\n",
    "    \n",
    "    # Create padded data with 1-bit appended (0x80)\n",
    "    paddedData = bytearray(data) + bytearray([0x80])\n",
    "    \n",
    "    # Add zeros until the length % 512 is equal to 448\n",
    "    while (len(paddedData) * 8) % 512 != 448:\n",
    "        paddedData.append(0x00)\n",
    "    \n",
    "    # Add original length as 64-bit big-endian value\n",
    "    paddedData.extend((len(data) * 8).to_bytes(8, \"big\"))\n",
    "    \n",
    "    # Print padding portion in hex format\n",
    "    print(\" \".join(f\"{b:02x}\" for b in paddedData[len(data):]))"
   ]
  },
  {
   "cell_type": "markdown",
   "metadata": {},
   "source": [
    "### Funtion to Create a Temporary Test File"
   ]
  },
  {
   "cell_type": "code",
   "execution_count": 250,
   "metadata": {},
   "outputs": [],
   "source": [
    "def createTestFile(content):\n",
    "    tempdir = tempfile.mkdtemp()  # Create a new temporary directory\n",
    "    path = os.path.join(tempdir, \"test.bin\")  # Generate full path for test file\n",
    "    with open(path, \"wb\") as f: f.write(content)  # Write binary content to file\n",
    "    return path, tempdir  # Return both file path and directory"
   ]
  },
  {
   "cell_type": "markdown",
   "metadata": {},
   "source": [
    "### Function to Run SHA256Padding on a File"
   ]
  },
  {
   "cell_type": "code",
   "execution_count": 251,
   "metadata": {},
   "outputs": [],
   "source": [
    "def runTest(path):\n",
    "    stdout = sys.stdout  # Store standard output stream\n",
    "    capturedOutput = io.StringIO()  # Create string buffer for capturing output\n",
    "    sys.stdout = capturedOutput  # Redirect stream to the buffer\n",
    "    sha256Padding(path)  # Apply padding function to the test file\n",
    "    sys.stdout = stdout  # Restore original stdout\n",
    "    return capturedOutput.getvalue().strip()  # Return captured output, trimmed"
   ]
  },
  {
   "cell_type": "markdown",
   "metadata": {},
   "source": [
    "## Test 1: Example Usage"
   ]
  },
  {
   "cell_type": "code",
   "execution_count": 252,
   "metadata": {},
   "outputs": [
    {
     "name": "stdout",
     "output_type": "stream",
     "text": [
      "Expected: 80 00 00 00 00 00 00 00 00 00 00 00 00 00 00 00 00 00 00 00 00 00 00 00 00 00 00 00 00 00 00 00 00 00 00 00 00 00 00 00 00 00 00 00 00 00 00 00 00 00 00 00 00 00 00 00 00 00 00 00 18\n",
      "Actual: 80 00 00 00 00 00 00 00 00 00 00 00 00 00 00 00 00 00 00 00 00 00 00 00 00 00 00 00 00 00 00 00 00 00 00 00 00 00 00 00 00 00 00 00 00 00 00 00 00 00 00 00 00 00 00 00 00 00 00 00 18\n",
      "Test passed: True\n"
     ]
    }
   ],
   "source": [
    "# Create test file with \"abc\" content and apply padding.\n",
    "path, tempdir = createTestFile(b\"abc\") # \"abc\" is 24 bits long (3 characters * 8 bits per char)\n",
    "output = runTest(path)\n",
    "\n",
    "# Compare expected vs actual padding result\n",
    "expected = \"80 \" + \"00 \" * 52 + \"00 00 00 00 00 00 00 18\"  # 0x80=appended 1-bit, zeros for padding, 0x18=24 in hex\n",
    "print(f\"Expected: {expected}\")\n",
    "print(f\"Actual: {output}\")\n",
    "print(f\"Test passed: {output == expected}\")  # Test passed if output matches expected value\n",
    "\n",
    "# Cleanup\n",
    "os.remove(path)\n",
    "os.rmdir(tempdir)"
   ]
  },
  {
   "cell_type": "markdown",
   "metadata": {},
   "source": [
    "## Test 2: Single One Bit"
   ]
  },
  {
   "cell_type": "code",
   "execution_count": 253,
   "metadata": {},
   "outputs": [
    {
     "name": "stdout",
     "output_type": "stream",
     "text": [
      "First byte is 80, should be 80: Passed\n"
     ]
    }
   ],
   "source": [
    "# Create a test file with a single byte (0xFF) and apply padding\n",
    "path, tempdir = createTestFile(b\"\\xFF\")  # Single byte with all bits set\n",
    "output = runTest(path)\n",
    "\n",
    "# Extract and verify the first byte of padding is 0x80 (appended 1-bit)\n",
    "firstByte = output.split()[0]  # Get first byte from the space-separated output\n",
    "print(f\"First byte is {firstByte}, should be 80: {'Passed' if firstByte == '80' else 'Failed'}\")  # Verify correct padding\n",
    "\n",
    "# Cleanup\n",
    "os.remove(path)\n",
    "os.rmdir(tempdir)"
   ]
  },
  {
   "cell_type": "markdown",
   "metadata": {},
   "source": [
    "## Test 3: Multiple Of 512 Bits"
   ]
  },
  {
   "cell_type": "code",
   "execution_count": 254,
   "metadata": {},
   "outputs": [
    {
     "name": "stdout",
     "output_type": "stream",
     "text": [
      "Size 0: total bytes 64, multiple of 64: Passed\n",
      "Size 3: total bytes 64, multiple of 64: Passed\n",
      "Size 55: total bytes 64, multiple of 64: Passed\n",
      "Size 64: total bytes 128, multiple of 64: Passed\n",
      "Size 65: total bytes 128, multiple of 64: Passed\n",
      "Size 128: total bytes 192, multiple of 64: Passed\n",
      "Size 512: total bytes 576, multiple of 64: Passed\n",
      "Size 1024: total bytes 1088, multiple of 64: Passed\n"
     ]
    }
   ],
   "source": [
    "# Test padding for various input sizes\n",
    "for size in [0, 3, 55, 64, 65, 128, 512, 1024]:\n",
    "    path, tempdir = createTestFile(b\"A\" * size)  # Create test files of different sizes\n",
    "    output = runTest(path) # Apply padding function to the test file\n",
    "\n",
    "    paddingBytes = len(output.split())  # Count bytes added during padding\n",
    "    totalBytes = size + paddingBytes  # Calculate final message length after padding\n",
    "    \n",
    "    # Verify the padded message length is a multiple of 64 bytes (512 bits)\n",
    "    print(f\"Size {size}: total bytes {totalBytes}, multiple of 64: {'Passed' if totalBytes % 64 == 0 else 'Failed'}\")\n",
    "    \n",
    "    # Cleanup\n",
    "    os.remove(path)\n",
    "    os.rmdir(tempdir)"
   ]
  },
  {
   "cell_type": "markdown",
   "metadata": {},
   "source": [
    "## Test 4: K Zero Bits"
   ]
  },
  {
   "cell_type": "code",
   "execution_count": 255,
   "metadata": {},
   "outputs": [
    {
     "name": "stdout",
     "output_type": "stream",
     "text": [
      "Size 0: expected zeros 55, actual zeros 55: Passed\n",
      "Size 3: expected zeros 52, actual zeros 52: Passed\n",
      "Size 55: expected zeros 0, actual zeros 0: Passed\n",
      "Size 64: expected zeros 55, actual zeros 55: Passed\n",
      "Size 65: expected zeros 54, actual zeros 54: Passed\n",
      "Size 128: expected zeros 55, actual zeros 55: Passed\n",
      "Size 512: expected zeros 55, actual zeros 55: Passed\n",
      "Size 1024: expected zeros 55, actual zeros 55: Passed\n"
     ]
    }
   ],
   "source": [
    "# Verify the correct number of zero bytes are added during padding for different input sizes\n",
    "for size in [0, 3, 55, 64, 65, 128, 512, 1024]:\n",
    "    path, tempdir = createTestFile(b\"A\" * size)  # Create test files of different sizes\n",
    "    lambdaBits = size * 8  # Convert file size to bits\n",
    "\n",
    "    k = (448 - (lambdaBits + 1)) % 512  # Calculate required zero bits (k) for padding\n",
    "    expectedZeros = k // 8  # Convert bits to bytes\n",
    "    \n",
    "    output = runTest(path)  # Apply padding function\n",
    "    paddingHex = output.split()  # Get all padding bytes as a list\n",
    "    actualZeros = sum(1 for b in paddingHex[1:-8] if b == \"00\")  # Count zero bytes (excluding 0x80 and length field)\n",
    "    \n",
    "    # Verify the actual number of zero bytes matches the expected calculation\n",
    "    print(f\"Size {size}: expected zeros {expectedZeros}, actual zeros {actualZeros}: {'Passed' if actualZeros == expectedZeros else 'Failed'}\")\n",
    "    \n",
    "    # Cleanup\n",
    "    os.remove(path)\n",
    "    os.rmdir(tempdir)"
   ]
  },
  {
   "cell_type": "markdown",
   "metadata": {},
   "source": [
    "## Test 5: 64 Bit Length"
   ]
  },
  {
   "cell_type": "code",
   "execution_count": 256,
   "metadata": {},
   "outputs": [
    {
     "name": "stdout",
     "output_type": "stream",
     "text": [
      "Expected length hex: 00 00 00 00 00 00 26 90\n",
      "Actual length hex: 00 00 00 00 00 00 26 90\n",
      "Length representation: Passed\n"
     ]
    }
   ],
   "source": [
    "size = 1234  # 1234 bytes = 9872 bits\n",
    "path, tempdir = createTestFile(b\"A\" * size)  # Create test file with 1234 'A' characters\n",
    "\n",
    "expectedBits = size * 8  # Convert bytes to bits\n",
    "expectedBytes = expectedBits.to_bytes(8, \"big\")  # Convert to 8-byte big-endian representation\n",
    "expectedHex = \" \".join(f\"{b:02x}\" for b in expectedBytes)  # Format as space-separated hex values\n",
    "\n",
    "output = runTest(path)  # Apply padding function\n",
    "actualHex = \" \".join(output.split()[-8:])  # Extract the last 8 bytes (64-bit length field)\n",
    "\n",
    "# Verify the 64-bit length field matches the expected value\n",
    "print(f\"Expected length hex: {expectedHex}\")\n",
    "print(f\"Actual length hex: {actualHex}\")\n",
    "print(f\"Length representation: {'Passed' if actualHex == expectedHex else 'Failed'}\")\n",
    "\n",
    "# Cleanup\n",
    "os.remove(path)\n",
    "os.rmdir(tempdir)"
   ]
  },
  {
   "cell_type": "markdown",
   "metadata": {},
   "source": [
    "# Task 4: Prime Number Algorithms"
   ]
  },
  {
   "cell_type": "markdown",
   "metadata": {},
   "source": [
    "## 1. Trial Division\n",
    "Trial division is described as the most straightforward method for determining whether a given number n (where n > 1) is prime or composite. The method involves testing the number n for divisibility by integers in sequence, starting with 2, then 3, 4, and so on. The procedure doesn't need to continue indefinitely; it can be stopped as soon as the trial divisor exceeds the square root of n. This shortcut significantly speeds up the test. The reasoning is that factors always come in pairs; if a number has a factor larger than its square root, it must simultaneously have one that is smaller. Other simple shortcuts include deleting all even trial divisors after 2. If n is composite, the trial division procedure will terminate by finding a divisor that divides n evenly (leaves no remainder). The divisor found and the corresponding quotient are factors of the number. Multiplying these factors produces n, and this output serves as a certificate of compositeness for n. If n is prime, trial division will proceed up to √(n) without finding any divisors. However, this method does not provide a certificate of primality if the number is found to be prime."
   ]
  },
  {
   "cell_type": "code",
   "execution_count": 257,
   "metadata": {},
   "outputs": [],
   "source": [
    "def trialDivisionPrimes(n):\n",
    "    primes = []  # List to store prime numbers\n",
    "    num = 2      # Start with the first prime\n",
    "    \n",
    "    while len(primes) < n:\n",
    "        isPrime = True  # Assume prime until proven otherwise\n",
    "        i = 2\n",
    "        # Check divisibility up to square root of num (optimization)\n",
    "        while i * i <= num:\n",
    "            if num % i == 0: isPrime = False; break  # Not prime if divisible\n",
    "            i += 1\n",
    "        if isPrime: primes.append(num)  # Add to list if prime\n",
    "        num += 1  # Check next number\n",
    "    return primes"
   ]
  },
  {
   "cell_type": "markdown",
   "metadata": {},
   "source": [
    "### Test 1: Basic Usage"
   ]
  },
  {
   "cell_type": "code",
   "execution_count": 258,
   "metadata": {},
   "outputs": [
    {
     "name": "stdout",
     "output_type": "stream",
     "text": [
      "First 100 primes using Trial Division:\n",
      "[2, 3, 5, 7, 11, 13, 17, 19, 23, 29, 31, 37, 41, 43, 47, 53, 59, 61, 67, 71, 73, 79, 83, 89, 97, 101, 103, 107, 109, 113, 127, 131, 137, 139, 149, 151, 157, 163, 167, 173, 179, 181, 191, 193, 197, 199, 211, 223, 227, 229, 233, 239, 241, 251, 257, 263, 269, 271, 277, 281, 283, 293, 307, 311, 313, 317, 331, 337, 347, 349, 353, 359, 367, 373, 379, 383, 389, 397, 401, 409, 419, 421, 431, 433, 439, 443, 449, 457, 461, 463, 467, 479, 487, 491, 499, 503, 509, 521, 523, 541]\n",
      "All numbers are prime: TRUE\n"
     ]
    }
   ],
   "source": [
    "primes = trialDivisionPrimes(100) # Get first 100 primes using trial division\n",
    "print(f\"First 100 primes using Trial Division:\")\n",
    "print(primes)\n",
    "\n",
    "# Validate if all numbers in the list are prime\n",
    "validation = True\n",
    "for num in primes:\n",
    "    # Check if each number is prime\n",
    "    if num < 2:\n",
    "        validation = False # Not prime if less than 2\n",
    "        break\n",
    "    for i in range(2, int(num**0.5) + 1): # Check divisibility up to square root of num\n",
    "        if num % i == 0:\n",
    "            validation = False # Not prime if divisible\n",
    "            break\n",
    "    if not validation: # Exit loop if not prime\n",
    "        break\n",
    "\n",
    "print(f\"All numbers are prime: {'TRUE' if validation else 'FALSE'}\")"
   ]
  },
  {
   "cell_type": "markdown",
   "metadata": {},
   "source": [
    "### Test 2: Test Exclusion of Composite Numbers"
   ]
  },
  {
   "cell_type": "code",
   "execution_count": 259,
   "metadata": {},
   "outputs": [
    {
     "name": "stdout",
     "output_type": "stream",
     "text": [
      "Passed - No composite numbers found in prime list\n"
     ]
    }
   ],
   "source": [
    "primesList = trialDivisionPrimes(100)  # Get first 100 primes\n",
    "compositeNumbers = [4, 6, 8, 9, 10, 12, 14, 15, 16, 18, 20] # Non-prime numbers\n",
    "\n",
    "# Check all composite numbers are excluded from primes list\n",
    "for num in compositeNumbers:\n",
    "   if num in primesList:\n",
    "       print(f\"Failed - Composite number {num} found in prime list\")\n",
    "       break\n",
    "else:\n",
    "   # Loop completed without finding any composites\n",
    "   print(\"Passed - No composite numbers found in prime list\")"
   ]
  },
  {
   "cell_type": "markdown",
   "metadata": {},
   "source": [
    "### Test 3: Square Root Optimization\n",
    "This test demonstrates the square root optimization in the trial division algorithm for finding prime numbers. It selects six prime numbers of increasing size (2, 3, 7, 19, 47, 101) and measures how many divisibility checks are performed for each one. The test visually confirms that the number of checks required grows proportionally to the square root of the number being tested, not linearly with the number itself. This efficiency is shown by comparing the actual checks performed (which follow the square root curve) against the theoretical maximum checks without optimization (n-1). For example, checking if 101 is prime requires only 9 checks (roughly equal to its square root of 10.05) instead of 100 checks, demonstrating a dramatic performance improvement that becomes increasingly significant as numbers get larger."
   ]
  },
  {
   "cell_type": "code",
   "execution_count": 260,
   "metadata": {},
   "outputs": [],
   "source": [
    "# Count divisibility checks up to square root\n",
    "def countChecks(num):\n",
    "   checks = 0  # Initialize check counter\n",
    "   i = 2  # Start checking from 2\n",
    "   \n",
    "   while i * i <= num:  # Only check up to square root\n",
    "       checks += 1  # Count each check\n",
    "       i += 1  # Move to next number\n",
    "   return checks, int(num**0.5)  # Return count and max possible checks"
   ]
  },
  {
   "cell_type": "code",
   "execution_count": 261,
   "metadata": {},
   "outputs": [
    {
     "name": "stdout",
     "output_type": "stream",
     "text": [
      "Number: 2 | Square root: 1.4142 | Checks: 0 | Max theoretical checks: 1\n",
      "Optimization verified: Yes\n",
      "--------------------\n",
      "Number: 3 | Square root: 1.7321 | Checks: 0 | Max theoretical checks: 2\n",
      "Optimization verified: Yes\n",
      "--------------------\n",
      "Number: 7 | Square root: 2.6458 | Checks: 1 | Max theoretical checks: 6\n",
      "Optimization verified: Yes\n",
      "--------------------\n",
      "Number: 19 | Square root: 4.3589 | Checks: 3 | Max theoretical checks: 18\n",
      "Optimization verified: Yes\n",
      "--------------------\n",
      "Number: 47 | Square root: 6.8557 | Checks: 5 | Max theoretical checks: 46\n",
      "Optimization verified: Yes\n",
      "--------------------\n",
      "Number: 101 | Square root: 10.0499 | Checks: 9 | Max theoretical checks: 100\n",
      "Optimization verified: Yes\n",
      "--------------------\n"
     ]
    }
   ],
   "source": [
    "largePrimesList = trialDivisionPrimes(150)  # Get primes up to 150\n",
    "testCases = [2, 3, 7, 19, 47, 101]  # Test various prime sizes\n",
    "\n",
    "sqrts = []  # Store square roots\n",
    "nums = []  # Store numbers\n",
    "checksMade = []  # Store checks performed\n",
    "\n",
    "# Test each number\n",
    "for num in testCases:\n",
    "   checks, maxChecks = countChecks(num)  # Count checks for this number\n",
    "   sqrts.append(np.sqrt(num))  # Record square root\n",
    "   nums.append(num)  # Record number\n",
    "   checksMade.append(checks)  # Record checks performed\n",
    "   \n",
    "   print(f\"Number: {num} | Square root: {np.sqrt(num):.4f} | Checks: {checks} | Max theoretical checks: {num-1}\")\n",
    "   print(f\"Optimization verified: {'Yes' if checks <= maxChecks else 'No'}\")\n",
    "   print(\"-\" * 20)"
   ]
  },
  {
   "cell_type": "markdown",
   "metadata": {},
   "source": [
    "### Test 4: Check for Deletion of Even Trial Divisors after 2"
   ]
  },
  {
   "cell_type": "code",
   "execution_count": 262,
   "metadata": {},
   "outputs": [
    {
     "name": "stdout",
     "output_type": "stream",
     "text": [
      "Prime: 7 | √7 = 2.65\n",
      "Divisors checked: [2]\n",
      "Even divisor optimization: pass\n",
      "--------------------\n",
      "Prime: 13 | √13 = 3.61\n",
      "Divisors checked: [2, 3]\n",
      "Even divisor optimization: pass\n",
      "--------------------\n",
      "Prime: 23 | √23 = 4.80\n",
      "Divisors checked: [2, 3]\n",
      "Even divisor optimization: pass\n",
      "--------------------\n",
      "Prime: 43 | √43 = 6.56\n",
      "Divisors checked: [2, 3, 5]\n",
      "Even divisor optimization: pass\n",
      "--------------------\n",
      "Prime: 71 | √71 = 8.43\n",
      "Divisors checked: [2, 3, 5, 7]\n",
      "Even divisor optimization: pass\n",
      "--------------------\n"
     ]
    }
   ],
   "source": [
    "primes = [7, 13, 23, 43, 71] # List of prime numbers to test\n",
    "\n",
    "# Iterate through each prime number and check divisibility\n",
    "for prime in primes:\n",
    "    checks = [] # Track which divisors are checked\n",
    "    i = 2 # Start checking from 2\n",
    "    while i * i <= prime:\n",
    "        checks.append(i)\n",
    "        i += 1 if i == 2 else 2  # Skip even numbers after 2\n",
    "    \n",
    "    # Verify only divisor 2 is even\n",
    "    evenChecks = [x for x in checks if x % 2 == 0]\n",
    "    \n",
    "    print(f\"Prime: {prime} | √{prime} = {np.sqrt(prime):.2f}\")\n",
    "    print(f\"Divisors checked: {checks}\")\n",
    "    print(f\"Even divisor optimization: {'pass' if evenChecks == [2] else 'fail'}\")\n",
    "    print(\"-\" * 20)"
   ]
  },
  {
   "cell_type": "markdown",
   "metadata": {},
   "source": [
    "## 2.  Sieve of Eratosthenes\n",
    "The Sieve of Eratosthenes, discovered by ancient Greek scientist Eratosthenes, is considered the simplest algorithm for generating prime numbers between 1 and a given number n by systematically eliminating non-prime numbers from a collection. The process follows specific steps: starting with numbers from 2 to n (list A), marking 2 as prime and moving it to list B, deleting all multiples of 2 from list A, then repeatedly finding the next unmarked number (which is prime), moving it to list B, and removing all its multiples from list A until no numbers remain. This method efficiently identifies primes (as demonstrated with numbers 1-100, yielding 2, 3, 5, 7, 11, etc.), and has applications in cryptographic algorithms. Performance comparisons show that while the Sieve of Sundaram is better for small prime numbers, the Sieve of Eratosthenes proves more efficient for generating large prime numbers, as evidenced by experiments conducted using a Java application with code optimization and buffer memory usage, with results displayed in a comparative table and graph.\n",
    "\n",
    "Add note on prime number theorem"
   ]
  },
  {
   "cell_type": "code",
   "execution_count": 263,
   "metadata": {},
   "outputs": [],
   "source": [
    "def sieveOfEratosthenes(n):\n",
    "    if n <= 0:\n",
    "        return [] # Return empty list for invalid inputs\n",
    "\n",
    "    limit = int(n * math.log(n) * 2) if n > 1 else 10 # Upper bound estimation for primes. Based on prime number theorem.\n",
    "    \n",
    "    # Create sieve array\n",
    "    sieve = [True] * (limit + 1) # Initialize all numbers as prime\n",
    "    sieve[0] = sieve[1] = False # 0 and 1 aren't prime\n",
    "    \n",
    "    # Mark non-primes in the sieve\n",
    "    for start in range(2, int(limit**0.5) + 1):\n",
    "        if sieve[start]: # If current number is prime..\n",
    "            # Mark all its multiples as non-prime\n",
    "            for multiple in range(start*start, limit + 1, start):\n",
    "                sieve[multiple] = False\n",
    "    \n",
    "    # Collect primes\n",
    "    primes = [num for num, is_prime in enumerate(sieve) if is_prime]\n",
    "    \n",
    "    return primes[:n] # Return exactly n primes"
   ]
  },
  {
   "cell_type": "markdown",
   "metadata": {},
   "source": [
    "### Test 1: Basic Usage"
   ]
  },
  {
   "cell_type": "code",
   "execution_count": 264,
   "metadata": {},
   "outputs": [
    {
     "name": "stdout",
     "output_type": "stream",
     "text": [
      "First 100 primes using Sieve of Eratosthenes:\n",
      "[2, 3, 5, 7, 11, 13, 17, 19, 23, 29, 31, 37, 41, 43, 47, 53, 59, 61, 67, 71, 73, 79, 83, 89, 97, 101, 103, 107, 109, 113, 127, 131, 137, 139, 149, 151, 157, 163, 167, 173, 179, 181, 191, 193, 197, 199, 211, 223, 227, 229, 233, 239, 241, 251, 257, 263, 269, 271, 277, 281, 283, 293, 307, 311, 313, 317, 331, 337, 347, 349, 353, 359, 367, 373, 379, 383, 389, 397, 401, 409, 419, 421, 431, 433, 439, 443, 449, 457, 461, 463, 467, 479, 487, 491, 499, 503, 509, 521, 523, 541]\n",
      "All numbers are prime: TRUE\n"
     ]
    }
   ],
   "source": [
    "primes = sieveOfEratosthenes(100) # Get first 100 primes using Sieve of Eratosthenes\n",
    "print(f\"First 100 primes using Sieve of Eratosthenes:\")\n",
    "print(primes)\n",
    "\n",
    "# Validate if all numbers in the list are prime\n",
    "validation = True\n",
    "for num in primes:\n",
    "    # Check if each number is prime\n",
    "    if num < 2:\n",
    "        validation = False # Not prime if less than 2\n",
    "        break\n",
    "    for i in range(2, int(num**0.5) + 1): # Check divisibility up to square root of num\n",
    "        if num % i == 0:\n",
    "            validation = False # Not prime if divisible\n",
    "            break\n",
    "    if not validation: # Exit loop if not prime\n",
    "        break\n",
    "\n",
    "print(f\"All numbers are prime: {'TRUE' if validation else 'FALSE'}\")"
   ]
  },
  {
   "cell_type": "markdown",
   "metadata": {},
   "source": [
    "### Test 2: Test Exclusion of Composite Numbers"
   ]
  },
  {
   "cell_type": "code",
   "execution_count": 265,
   "metadata": {},
   "outputs": [
    {
     "name": "stdout",
     "output_type": "stream",
     "text": [
      "Passed - No composite numbers found in prime list\n"
     ]
    }
   ],
   "source": [
    "primesList = sieveOfEratosthenes(100)  # Get first 100 primes\n",
    "compositeNumbers = [4, 6, 8, 9, 10, 12, 14, 15, 16, 18, 20] # Non-prime numbers\n",
    "\n",
    "# Check all composite numbers are excluded from primes list\n",
    "for num in compositeNumbers:\n",
    "   if num in primesList:\n",
    "       print(f\"Failed - Composite number {num} found in prime list\")\n",
    "       break\n",
    "else:\n",
    "   # Loop completed without finding any composites\n",
    "   print(\"Passed - No composite numbers found in prime list\")"
   ]
  },
  {
   "cell_type": "markdown",
   "metadata": {},
   "source": [
    "### Test 3: Comparison with Sieve of Sundaram"
   ]
  },
  {
   "cell_type": "code",
   "execution_count": 266,
   "metadata": {},
   "outputs": [],
   "source": [
    "def sieveOfSundaram(n):\n",
    "    if n <= 0: return []   # Handle invalid input\n",
    "    if n == 1: return [2]   # Special case for first prime\n",
    "    \n",
    "    limit = int(n * math.log(n) * 2) if n > 1 else 10  # Upper bound estimation for primes. Based on prime number theorem.\n",
    "    marked = [False] * (limit + 1)   # Create array to mark non-primes\n",
    "    \n",
    "    # Mark non-primes using Sundaram's formula\n",
    "    for i in range(1, limit + 1):\n",
    "        j = i # Start j from i\n",
    "        while i + j + 2 * i * j <= limit: # Check condition for marking\n",
    "            marked[i + j + 2 * i * j] = True # Mark numbers of form i+j+2ij as non-prime\n",
    "            j += 1 # Increment j to check next multiple\n",
    "    \n",
    "    primes = [2] # Initialize prime list with 2 (the only even prime)\n",
    "\n",
    "    for i in range(1, limit + 1): # Check odd numbers\n",
    "        if not marked[i]: # If not marked as non-prime..\n",
    "            primes.append(2*i + 1) # Add corresponding odd number to primes\n",
    "            if len(primes) >= n: break # Stop once we have enough primes\n",
    "        \n",
    "    return primes[:n] # Return exactly n primes"
   ]
  },
  {
   "cell_type": "markdown",
   "metadata": {},
   "source": [
    "Test for large prime numbers generation efficiency"
   ]
  },
  {
   "cell_type": "code",
   "execution_count": 267,
   "metadata": {},
   "outputs": [
    {
     "name": "stdout",
     "output_type": "stream",
     "text": [
      "Eratosthenes: 10000 primes in 0.02799940109252929688 seconds\n",
      "Sundaram: 10000 primes in 0.13800334930419921875 seconds\n"
     ]
    }
   ],
   "source": [
    "startTime = time.time() # Record start time for Eratosthenes test\n",
    "largePrimesEratosthenes = sieveOfEratosthenes(10000) # Get first 10000 primes using Eratosthenes' method\n",
    "eratosLargeTime = time.time() - startTime # Calculate time taken for Eratosthenes test\n",
    "\n",
    "startTime = time.time() # Record start time for Sundaram test\n",
    "largePrimesSundaram = sieveOfSundaram(10000) # Get first 10000 primes using Sundaram's method\n",
    "sundaramLargeTime = time.time() - startTime # Calculate time taken for Sundaram test\n",
    "\n",
    "print(f\"Eratosthenes: {len(largePrimesEratosthenes)} primes in {eratosLargeTime:.20f} seconds\")\n",
    "print(f\"Sundaram: {len(largePrimesSundaram)} primes in {sundaramLargeTime:.20f} seconds\")"
   ]
  },
  {
   "cell_type": "markdown",
   "metadata": {},
   "source": [
    "# Task 5: Roots\n",
    "The GeeksforGeeks article titled *\"Find root of a number using Newton’s method\"* explains how to compute the square root of a number using Newton’s Method, also known as the Newton-Raphson method. This iterative technique starts with an initial guess and refines it to approximate the square root of a given number. The method employs the formula:\n",
    "\n",
    "`root = 0.5 * (X + N / X)`\n",
    "\n",
    "where:\n",
    "- `X` is the current approximation  \n",
    "- `N` is the number whose square root is being calculated\n",
    "\n",
    "The method repeatedly updates `X` using the formula above until the difference between successive approximations is smaller than a chosen tolerance level `L`.\n",
    "\n",
    "This approach is efficient and converges quickly, making it ideal for calculating square roots without using built-in functions. The article provides implementations in C++, Java, Python, and C#.\n",
    "\n",
    "... then write about how this was employed, and then a fraction was found\n",
    "\n",
    "\n",
    "- https://www.geeksforgeeks.org/find-root-of-a-number-using-newtons-method/"
   ]
  },
  {
   "cell_type": "code",
   "execution_count": 268,
   "metadata": {},
   "outputs": [],
   "source": [
    "def getFractionalBitsOfRoot(primeList, power=1/2, bitPrecision=32):\n",
    "    resultList = []    # Initialize empty list to store results\n",
    "    \n",
    "    for currentPrime in primeList: # Iterate through each prime number\n",
    "        x = currentPrime / 2  # Initial guess (can be any positive value)\n",
    "        epsilon = 1e-15 # Convergence threshold\n",
    "        \n",
    "        while True: # Iterate until convergence\n",
    "            if power == 1/2:  # Square root - simplified formula\n",
    "                xNew = (x + currentPrime / x) / 2 # Newton's method for square root\n",
    "            else: \n",
    "                n = 1 / power # General case for nth root\n",
    "                xNew = x - (x**n - currentPrime) / (n * x**(n-1)) # Newton's method for nth root\n",
    "            \n",
    "            if abs(x - xNew) < epsilon: # Check for convergence\n",
    "                break\n",
    "            x = xNew # Update x for next iteration\n",
    "        fractionalPart = x - int(x)  # Extract only the fractional part by subtracting the integer portion\n",
    "        shiftedValue = fractionalPart * (2 ** bitPrecision) # Shift the binary point right by multiplying with 2^bitPrecision  \n",
    "\n",
    "        binaryAsInt = int(shiftedValue) # Change to integer to get the binary representation as an integer      \n",
    "        resultList.append(binaryAsInt) # Add the calculated integer to results collection   \n",
    "    return resultList"
   ]
  },
  {
   "cell_type": "markdown",
   "metadata": {},
   "source": [
    "## Test 1: Basic Usage"
   ]
  },
  {
   "cell_type": "code",
   "execution_count": 269,
   "metadata": {},
   "outputs": [
    {
     "name": "stdout",
     "output_type": "stream",
     "text": [
      "     2 -- 01101010000010011110011001100111\n",
      "     3 -- 10111011011001111010111010000101\n",
      "     5 -- 00111100011011101111001101110010\n",
      "     7 -- 10100101010011111111010100111010\n",
      "    11 -- 01010001000011100101001001111111\n",
      "    13 -- 10011011000001010110100010001100\n",
      "    17 -- 00011111100000111101100110101011\n",
      "    19 -- 01011011111000001100110100011001\n",
      "    23 -- 11001011101110111001110101011101\n",
      "    29 -- 01100010100110100010100100101010\n",
      "    31 -- 10010001010110010000000101011010\n",
      "    37 -- 00010101001011111110110011011000\n",
      "    41 -- 01100111001100110010011001100111\n",
      "    43 -- 10001110101101000100101010000111\n",
      "    47 -- 11011011000011000010111000001101\n",
      "    53 -- 01000111101101010100100000011101\n",
      "    59 -- 10101110010111111001000101010110\n",
      "    61 -- 11001111011011001000010111010011\n",
      "    67 -- 00101111011100110100011101111101\n",
      "    71 -- 01101101000110000010011011001010\n",
      "    73 -- 10001011010000111101010001010111\n",
      "    79 -- 11100011011000001011010110010110\n",
      "    83 -- 00011100010001010110000000000010\n",
      "    89 -- 01101111000110010110001100110001\n",
      "    97 -- 11011001010011101011111010110001\n",
      "   101 -- 00001100110001001010011000010001\n",
      "   103 -- 00100110000111011100000111110010\n",
      "   107 -- 01011000000101011010011110111110\n",
      "   109 -- 01110000101101111110110101100111\n",
      "   113 -- 10100001010100010011110001101001\n",
      "   127 -- 01000100111110010011011000110101\n",
      "   131 -- 01110010000011011100110111111101\n",
      "   137 -- 10110100011001110011011010011110\n",
      "   139 -- 11001010001100100000101101110101\n",
      "   149 -- 00110100111000001101010000101110\n",
      "   151 -- 01001001110001111101100110111101\n",
      "   157 -- 10000111101010111011100111110010\n",
      "   163 -- 11000100011000111010001011111100\n",
      "   167 -- 11101100001111111100001111110011\n",
      "   173 -- 00100111001001110111111101101101\n",
      "   179 -- 01100001000010111110101111110010\n",
      "   181 -- 01110100001000001011010010011110\n",
      "   191 -- 11010001111111011000101000110011\n",
      "   193 -- 11100100011101110011010110010100\n",
      "   197 -- 00001001001000011001011111110110\n",
      "   199 -- 00011011010100110000110010010101\n",
      "   211 -- 10000110100111010110001101000010\n",
      "   223 -- 11101110111001010010111001001111\n",
      "   227 -- 00010001000001110110011010001001\n",
      "   229 -- 00100001111110111010001101111011\n",
      "   233 -- 01000011101010111001111110110110\n",
      "   239 -- 01110101101010011111100100011101\n",
      "   241 -- 10000110001100000101000000011001\n",
      "   251 -- 11010111110011011000000101110011\n",
      "   257 -- 00000111111111100000000011111111\n",
      "   263 -- 00110111100111110101000100111111\n",
      "   269 -- 01100110101101100101000110101000\n",
      "   271 -- 01110110010010101011100001000010\n",
      "   277 -- 10100100101100000110101111100001\n",
      "   281 -- 11000011010101111000110000010101\n",
      "   283 -- 11010010100101100010101001010011\n",
      "   293 -- 00011110000000111001111101000000\n",
      "   307 -- 10000101011110110111101111101110\n",
      "   311 -- 10100010100110111111001011011110\n",
      "   313 -- 10110001000110100011001011101000\n",
      "   317 -- 11001101111100110100111010000000\n",
      "   331 -- 00110001100000110000010000100110\n",
      "   337 -- 01011011100010010000100100101011\n",
      "   347 -- 10100000110000000110101000010011\n",
      "   349 -- 10101110011110011000010000101111\n",
      "   353 -- 11001001110011011010011010001001\n",
      "   359 -- 11110010100000011111001000111001\n",
      "   367 -- 00101000010000010010010110010010\n",
      "   373 -- 01010000001011100110010011011011\n",
      "   379 -- 01110111110010011100001000010001\n",
      "   383 -- 10010010000001001100110110011101\n",
      "   389 -- 10111001000110111111011001100011\n",
      "   397 -- 11101100110000111000110010011101\n",
      "   401 -- 00000110011001010110000010010101\n",
      "   409 -- 00111001010001111001001110000001\n",
      "   419 -- 01111000001100000111011010010111\n",
      "   421 -- 10000100101011100100101101111100\n",
      "   431 -- 11000010101100101011011101010101\n",
      "   433 -- 11001111000000111101001000001110\n",
      "   439 -- 11110011110010111011000100010111\n",
      "   443 -- 00001100001011010011101101001011\n",
      "   449 -- 00110000100010101111000101100001\n",
      "   457 -- 01100000101001111010100110011000\n",
      "   461 -- 01111000100011011001100000010010\n",
      "   463 -- 10000100011101101001101101000010\n",
      "   467 -- 10011100001101001111000001100010\n",
      "   479 -- 11100010110101010110010011000100\n",
      "   487 -- 00010001011011010111010111111101\n",
      "   491 -- 00101000100101001100000100000111\n",
      "   499 -- 01010110100110110101100011000110\n",
      "   503 -- 01101101011110110011100100111001\n",
      "   509 -- 10001111100111111000110110111011\n",
      "   521 -- 11010011010011110000001111001101\n",
      "   523 -- 11011110100000110111001011101111\n",
      "   541 -- 01000010011010000111101000111001\n"
     ]
    }
   ],
   "source": [
    "primes = sieveOfEratosthenes(100) # Get first 100 primes using Sieve of Eratosthenes\n",
    "\n",
    "# Calculate first 32 bits of the square root of each prime\n",
    "squareRootBits = getFractionalBitsOfRoot(primes, power=1/2, bitPrecision=32)\n",
    "\n",
    "# Print the results\n",
    "for prime, bits in zip(primes, squareRootBits):\n",
    "    print(f\"{prime:6} -- {bits:032b}\")"
   ]
  },
  {
   "cell_type": "markdown",
   "metadata": {},
   "source": [
    "## Test 2: Binary Representation Accuracy\n",
    "Verifies the accuracy of the calculated binary representation by checking against the known binary representation of √2's fractional part"
   ]
  },
  {
   "cell_type": "code",
   "execution_count": 270,
   "metadata": {},
   "outputs": [
    {
     "name": "stdout",
     "output_type": "stream",
     "text": [
      "Binary representation of √2 fractional part: 01101010000010011110011001100111\n",
      "Expected representation: 01101010000010011110011001100111\n",
      "Accuracy test: Passed\n"
     ]
    }
   ],
   "source": [
    "primes = [2]  # Test with 2 as the only prime number\n",
    "results = getFractionalBitsOfRoot(primes, power=1/2, bitPrecision=32)  # Calculate first 32 bits of the square root of 2\n",
    "binaryAsInt = results[0]  # Get the integer representation of the binary value\n",
    "\n",
    "binaryString = bin(binaryAsInt)[2:].zfill(32)  # Convert to binary string and pad with leading zeros\n",
    "\n",
    "# Known correct first 32 bits of √2 fractional part\n",
    "expectedBinary = \"01101010000010011110011001100111\"\n",
    "\n",
    "print(f\"Binary representation of √2 fractional part: {binaryString}\")\n",
    "print(f\"Expected representation: {expectedBinary}\")\n",
    "print(f\"Accuracy test: {'Passed' if binaryString == expectedBinary else 'Failed'}\")"
   ]
  },
  {
   "cell_type": "markdown",
   "metadata": {},
   "source": [
    "## Test 3: Newton Method Convergence\n",
    "Tests that Newton's method converges efficiently for square root calculation."
   ]
  },
  {
   "cell_type": "code",
   "execution_count": 271,
   "metadata": {},
   "outputs": [
    {
     "name": "stdout",
     "output_type": "stream",
     "text": [
      "√2:\n",
      "  - Convergence successful: Yes\n",
      "√3:\n",
      "  - Convergence successful: Yes\n",
      "√5:\n",
      "  - Convergence successful: Yes\n",
      "√7:\n",
      "  - Convergence successful: Yes\n",
      "√11:\n",
      "  - Convergence successful: Yes\n",
      "√13:\n",
      "  - Convergence successful: Yes\n",
      "√17:\n",
      "  - Convergence successful: Yes\n",
      "√19:\n",
      "  - Convergence successful: Yes\n",
      "\n",
      "Overall convergence test: Passed\n"
     ]
    }
   ],
   "source": [
    "testNumbers = [2, 3, 5, 7, 11, 13, 17, 19] # Test numbers for convergence\n",
    "allPassed = True # Initialize flag for overall success\n",
    "\n",
    "# Iterate through each test number and check convergence\n",
    "for num in testNumbers:\n",
    "    primes = [num] # Create a single-element list with the prime number for function input\n",
    "    results = getFractionalBitsOfRoot(primes, power=1/2, bitPrecision=32) # Calculate fractional bits\n",
    "    success = bool(results) # Check if calculation converged successfully\n",
    "    \n",
    "    print(f\"√{num}:\")\n",
    "    print(f\"  - Convergence successful: {'Yes' if success else 'No'}\")\n",
    "    \n",
    "    allPassed = allPassed and success # Update overall success flag\n",
    "\n",
    "print(f\"\\nOverall convergence test: {'Passed' if allPassed else 'Failed'}\")"
   ]
  },
  {
   "cell_type": "markdown",
   "metadata": {},
   "source": [
    "## Test 4: Newton's Method Versatility for nth Root Calculation\n",
    "This test demonstrates Newton's method's versatility beyond square roots. While Test 2 focused on square root accuracy and Test 3 on convergence speed, Test 4 shows how Newton's method can be generalized for calculating any nth root. By adapting the recurrence formula (using n = 1/power), Newton's method efficiently approximates cube roots, fourth roots, and fifth roots with the same iterative approach, proving its flexibility as a numerical technique for finding roots of various orders."
   ]
  },
  {
   "cell_type": "code",
   "execution_count": 272,
   "metadata": {},
   "outputs": [],
   "source": [
    "testCases = [ # Define test cases for different root powers\n",
    "    {\"num\": 8, \"power\": 1/3, \"expectedRoot\": 2.0}, {\"num\": 16, \"power\": 1/4, \"expectedRoot\": 2.0},     \n",
    "    {\"num\": 32, \"power\": 1/5, \"expectedRoot\": 2.0}, {\"num\": 100, \"power\": 1/2, \"expectedRoot\": 10.0}     \n",
    "]\n",
    "allPassed = True # Initialize flag for overall success"
   ]
  },
  {
   "cell_type": "code",
   "execution_count": 273,
   "metadata": {},
   "outputs": [
    {
     "name": "stdout",
     "output_type": "stream",
     "text": [
      "8^0.3333333333333333 = 2.0:\n",
      "  - Calculation successful: Passed\n",
      "  - Integer part correct: Passed\n",
      "16^0.25 = 2.0:\n",
      "  - Calculation successful: Passed\n",
      "  - Integer part correct: Passed\n",
      "32^0.2 = 2.0:\n",
      "  - Calculation successful: Passed\n",
      "  - Integer part correct: Passed\n",
      "100^0.5 = 10.0:\n",
      "  - Calculation successful: Passed\n",
      "  - Integer part correct: Passed\n",
      "\n",
      "Overall general root test: Passed\n"
     ]
    }
   ],
   "source": [
    "# Iterate through each test case\n",
    "for case in testCases:\n",
    "    num = case[\"num\"] # Get the number to test\n",
    "    power = case[\"power\"] # Get the root power to test\n",
    "    expectedRoot = case[\"expectedRoot\"] # Get the expected root value\n",
    "    \n",
    "    primes = [num] # Store the number in a list for function input \n",
    "    results = getFractionalBitsOfRoot(primes, power=power, bitPrecision=32) # Calculate bits of the root\n",
    "    success = bool(results) # Verify calculation succeeded\n",
    "    \n",
    "    calculatedRoot = math.pow(num, power) # Calculate the actual root value\n",
    "    intPartMatches = abs(int(calculatedRoot) - expectedRoot) < 0.0001 # Compare with expected value\n",
    "    \n",
    "    print(f\"{num}^{power} = {calculatedRoot}:\")\n",
    "    print(f\"  - Calculation successful: {'Passed' if success else 'Failed'}\")\n",
    "    print(f\"  - Integer part correct: {'Passed' if intPartMatches else 'Failed'}\")\n",
    "    \n",
    "    allPassed = allPassed and success and intPartMatches # Update overall pass/fail status\n",
    "    \n",
    "print(f\"\\nOverall general root test: {'Passed' if allPassed else 'Failed'}\")"
   ]
  },
  {
   "cell_type": "markdown",
   "metadata": {},
   "source": [
    "# Task 6: Proof of Work\n",
    "The Python implementation presents a novel intersection of cryptography and linguistics by examining how standard English words perform in a computational puzzle framework. Responding directly to the task of identifying words with maximum leading zero bits in their SHA256 hash digests, this algorithm systematically evaluates dictionary entries as cryptographic inputs. Through bit-level analysis of hash outputs, the code quantifies a property that would otherwise remain hidden in the seemingly random distribution of hash values. Escobar's research on Proof of Work systems explores similar cryptographic principles, though in the context of blockchain mining where difficulty is defined by the number of leading zeros in hashes produced from incremental nonce adjustments. While Escobar examines this process in cryptocurrency applications, the current implementation applies the concept to natural language, creating what could be termed a \"linguistic hash difficulty\" measurement. The discovery that \"goaltenders\" produces a hash with 18 leading zeros represents an interesting cryptographic property that emerges when applying hash functions to everyday words-demonstrating how computational methods can reveal unexpected patterns in the relationship between natural language and cryptographic transformations.\n",
    "\n",
    "This test implements the core algorithm to identify English words with the maximum number of leading zero bits in their SHA256 hash digests. The function systematically examines each word from a dictionary file, calculating its SHA256 hash and meticulously counting the leading zeros both at the byte level and the bit level within partially zero bytes. This precise counting method allows the algorithm to identify words with cryptographic properties that would remain hidden using less granular approaches. The test demonstrates how natural language can be evaluated through computational cryptography, creating a bridge between linguistics and hash-based proof of work systems.\n",
    "\n",
    "- https://chatgpt.com/share/681516da-9a70-800f-86a6-91a9c41dc536"
   ]
  },
  {
   "cell_type": "code",
   "execution_count": 274,
   "metadata": {},
   "outputs": [],
   "source": [
    "def findWordsWithMaxLeadingZeros(path=\"words.txt\"):\n",
    "    maxZeros = 0  # Initialize maximum number of leading zeros found\n",
    "    bestWords = []  # Initialize empty list to store words with maximum leading zeros\n",
    "    \n",
    "    with open(path, \"r\") as file:  # Open the words file\n",
    "        for word in [line.strip().lower() for line in file if line.strip().isalpha()]:  # Process each alphabetic word\n",
    "            digest = hashlib.sha256(word.encode()).digest()  # Calculate SHA256 hash\n",
    "            leadingZeros = 0  # Initialize counter for leading zeros\n",
    "\n",
    "            for byte in digest:  # Iterate through each byte in digest\n",
    "                if byte == 0:  # Check if byte is completely zero\n",
    "                    leadingZeros += 8  # Add 8 bits (full byte) to leading zeros count\n",
    "                    continue\n",
    "\n",
    "                byteBin = format(byte, '08b')  # Convert byte to binary string\n",
    "                leadingZeros += next((i for i, bit in enumerate(byteBin) if bit == '1'), 8)  # Find position of first '1' bit\n",
    "                break  # Exit loop after processing first non-zero byte\n",
    "            \n",
    "            if leadingZeros > maxZeros: # If there is a word with more leading zeros than current max\n",
    "                maxZeros, bestWords = leadingZeros, [(word, digest.hex(), leadingZeros)]  # Update max and reset best words list\n",
    "            elif leadingZeros == maxZeros:  # If there is a word with equal leading zeros\n",
    "                bestWords.append((word, digest.hex(), leadingZeros))  # Add to the list of best words\n",
    "    \n",
    "    return bestWords  # Return list of words with maximum leading zeros"
   ]
  },
  {
   "cell_type": "markdown",
   "metadata": {},
   "source": [
    "## Test 1: Basic Usage\n",
    "The resulting word is 'goaltenders'. Can be in the Oxford English Dictionary: https://www.oed.com/search/dictionary/?scope=Entries&q=goaltenders"
   ]
  },
  {
   "cell_type": "code",
   "execution_count": 275,
   "metadata": {},
   "outputs": [
    {
     "name": "stdout",
     "output_type": "stream",
     "text": [
      "Word(s) with maximum leading zeros:\n",
      "- goaltenders: 00002e68c9d3d1fc5d3178bee91040efbeb4ac9ea7722c834fa5d71b2e3845cd, leading zeros: 18\n"
     ]
    }
   ],
   "source": [
    "result = findWordsWithMaxLeadingZeros(\"words.txt\")  # Get words with maximum leading zeros\n",
    "\n",
    "print(f\"Word(s) with maximum leading zeros:\")\n",
    "for word, digest, zeros in result:  # Iterate through each result\n",
    "    print(f\"- {word}: {digest}, leading zeros: {zeros}\")  # Print word, hash, and zero count"
   ]
  },
  {
   "cell_type": "markdown",
   "metadata": {},
   "source": [
    "## Test 2: Verification of \"Goaltenders\" Cryptographic Properties\n",
    "This test provides empirical verification that the word \"goaltenders\" possesses exceptional cryptographic properties, containing 18 leading zeros in its SHA256 hash - a property with approximately 1 in 262,144 probability of occurring randomly. By creating a controlled test environment with a temporary file containing just this word, the test confirms the algorithm's accuracy in identifying and quantifying these properties. The test serves as validation that the cryptolinguistic phenomenon being studied is reproducible and measurable, establishing a baseline for what constitutes a significant cryptographic property in natural language words.\n",
    "\n",
    "The probability calculation shown in the test output (1 in 262,144) is based on fundamental properties of cryptographic hash functions:\n",
    "\n",
    "- SHA256 produces uniformly distributed outputs where each bit has a 50% chance of being 0 or 1\n",
    "- The probability of having one leading zero bit is therefore 1/2 (0.5)\n",
    "- For two consecutive leading zero bits, the probability becomes 1/2 × 1/2 = 1/4\n",
    "- Following this pattern, the probability of having 18 consecutive leading zero bits is (1/2)^18 = 1/262,144\n",
    "\n",
    "This means that if you were to hash random inputs with SHA256, you would expect to find one with 18 leading zeros only once in 262,144 attempts. The fact that an English dictionary word naturally exhibits this property reveals an intriguing intersection between natural language and cryptographic hash functions that is highly improbable by random chance alone."
   ]
  },
  {
   "cell_type": "code",
   "execution_count": 276,
   "metadata": {},
   "outputs": [
    {
     "name": "stdout",
     "output_type": "stream",
     "text": [
      "'goaltenders' has 18 leading zeros (1 in 262,144 probability)\n"
     ]
    }
   ],
   "source": [
    "# Create temporary file with target word to test\n",
    "with tempfile.NamedTemporaryFile(mode='w', delete=False) as f:\n",
    "    f.write(\"goaltenders\\n\")  # Write gaoltenders to file\n",
    "    path = f.name  # Store file path for later use\n",
    "\n",
    "result = findWordsWithMaxLeadingZeros(path) # Get words with maximum leading zeros from the temporary file\n",
    "foundWord = result[0][0] if result else None  # Extract the word from result\n",
    "zeros = result[0][2] if result else 0  # Extract the leading zero count from result\n",
    "\n",
    "# Display the result\n",
    "print(f\"'{foundWord}' has {zeros} leading zeros (1 in {2**zeros:,} probability)\")\n",
    "\n",
    "# Clean up\n",
    "os.unlink(path)"
   ]
  },
  {
   "cell_type": "markdown",
   "metadata": {},
   "source": [
    "## Test 3: Dictionary Analysis and Maximum Leading Zero Identification\n",
    "This test provides a comprehensive end-to-end validation of the entire cryptolinguistic system by introducing a refined bit-level analysis function and applying it to a diverse sample dictionary. Each word's cryptographic properties are individually calculated, displayed, and compared, allowing for detailed examination of how different words perform in this cryptographic framework. The test verifies that the system can process multiple dictionary entries, perform consistent cryptographic analysis across diverse inputs, and correctly identify which word exhibits the maximum number of leading zeros, confirming the robustness of the methodology for practical applications in linguistic hash difficulty measurement."
   ]
  },
  {
   "cell_type": "code",
   "execution_count": 277,
   "metadata": {},
   "outputs": [],
   "source": [
    "def countLeadingZerosInDigest(digest):\n",
    "    leadingZeros = 0 # Initialize zero bits counter\n",
    "    \n",
    "    # Process each byte in digest\n",
    "    for byte in digest:\n",
    "        # If byte is all zeros, add 8 bits and continue\n",
    "        if byte == 0:\n",
    "            leadingZeros += 8\n",
    "            continue\n",
    "        \n",
    "        byteBin = format(byte, '08b') # Convert byte to binary string    \n",
    "        leadingZeros += next((i for i, bit in enumerate(byteBin) if bit == '1'), 8) # Find first '1' bit position and add to count\n",
    "        \n",
    "        break # Stop counting after first non-zero byte\n",
    "\n",
    "    return leadingZeros"
   ]
  },
  {
   "cell_type": "code",
   "execution_count": 278,
   "metadata": {},
   "outputs": [],
   "source": [
    " # Create a sample dictionary with English words, including \"goaltenders\"\n",
    "dictWords = [\"apple\", \"banana\", \"computer\", \"goaltenders\", \"helicopter\", \n",
    "             \"algorithm\", \"dictionary\", \"encyclopedia\", \"fundamental\", \"generation\",\n",
    "             \"hypothesis\", \"illumination\", \"juxtaposition\", \"kaleidoscope\", \"labyrinth\",]\n",
    "\n",
    "# Create a temporary file with dictionary words\n",
    "with tempfile.NamedTemporaryFile(mode='w', delete=False) as f:\n",
    "    # Write each dictionary entry as a separate line\n",
    "    for word in dictWords:\n",
    "        f.write(f\"{word}\\n\")\n",
    "    path = f.name  # Store file path for later use"
   ]
  },
  {
   "cell_type": "code",
   "execution_count": 279,
   "metadata": {},
   "outputs": [
    {
     "name": "stdout",
     "output_type": "stream",
     "text": [
      "Cryptographic properties of dictionary words:\n",
      "apple         |  2 leading zeros\n",
      "banana        |  0 leading zeros\n",
      "computer      |  0 leading zeros\n",
      "goaltenders   | 18 leading zeros\n",
      "helicopter    |  0 leading zeros\n",
      "algorithm     |  0 leading zeros\n",
      "dictionary    |  3 leading zeros\n",
      "encyclopedia  |  0 leading zeros\n",
      "fundamental   |  0 leading zeros\n",
      "generation    |  0 leading zeros\n",
      "hypothesis    |  1 leading zeros\n",
      "illumination  |  0 leading zeros\n",
      "juxtaposition  |  0 leading zeros\n",
      "kaleidoscope  |  0 leading zeros\n",
      "labyrinth     |  0 leading zeros\n",
      "Word with maximum leading zeros: 'goaltenders'\n"
     ]
    }
   ],
   "source": [
    "result = findWordsWithMaxLeadingZeros(path) # Get words with maximum leading zeros from the temporary file\n",
    "\n",
    "print(\"Cryptographic properties of dictionary words:\")\n",
    "for word in dictWords:\n",
    "    digest = hashlib.sha256(word.encode()).digest() # Calculate SHA256 hash for each dictionary entry\n",
    "    zeros = countLeadingZerosInDigest(digest) # Count leading zeros in the hash digest\n",
    "\n",
    "    print(f\"{word:12s}  | {zeros:2d} leading zeros\") # Display the cryptographic property for the word\n",
    "\n",
    "# Extract and display the word with maximum leading zeros\n",
    "bestWord = result[0][0] if result else \"none\"\n",
    "print(f\"Word with maximum leading zeros: '{bestWord}'\")\n",
    "\n",
    "# Clean up\n",
    "os.unlink(path)"
   ]
  },
  {
   "cell_type": "markdown",
   "metadata": {},
   "source": [
    "# Task 7: Turing Machines\n",
    "At its essence, a Turing machine operates as an abstract automaton that executes computations through a series of discrete steps. It consists of a control unit with a finite number of internal states, a tape of unlimited length for input/output and memory, and a read/write head that accesses one tape cell at a time. For each computational step, the machine examines the current symbol under the head, consults its transition table to determine its next action based on both this symbol and its current state, then writes a new symbol, moves the head, and potentially changes its internal state. \n",
    "\n",
    "The implementation of addOneTuringMachine is grounded in Alan Turing's foundational 1937 paper, which describes the essential components needed for binary addition, establishing the theoretical framework that makes this operation possible. Our method utilizes what Turing defined as the core components: a finite set of \"m-configurations\" (states) represented by our add and carry states, the infinite \"tape\" divided into \"squares\" for storing our binary digits, and the ability to read and write \"symbols\" (0 and 1) on each position. The method follows Turing's principle that computational tasks can be broken down into simple operations-moving left or right, reading symbols, and changing states-which together implement the step-by-step process of binary addition. As noted in the paper, a Turing machine designed to add 1 to a binary number is possible because standard arithmetic operations fall within the scope of what Turing machines can compute, demonstrating how Turing's universal model can be applied to specific arithmetic operations.\n",
    "\n",
    "\n",
    "https://github.com/ianmcloughlin/computational_theory/blob/main/materials/turing_machines.ipynb"
   ]
  },
  {
   "cell_type": "code",
   "execution_count": 280,
   "metadata": {},
   "outputs": [],
   "source": [
    "def addOneTuringMachine(inputTape):\n",
    "    tape = list(inputTape)  # Convert input string to list of characters\n",
    "    headPosition = len(tape) - 1  # Set head position to element on the right (least significant bit)\n",
    "    state = \"add\"  # Initialize state machine to \"add\" state\n",
    "    \n",
    "    while True:\n",
    "        if headPosition < 0:  # Check if head has moved past the far left position\n",
    "            tape.insert(0, '1')  # Insert a '1' at the beginning of tape (new most significant bit)\n",
    "            break\n",
    "        \n",
    "        currentSymbol = tape[headPosition]  # Read the symbol at current head position\n",
    "        \n",
    "        # Transition rules based on current state and symbol\n",
    "        if (state == \"add\" and currentSymbol == '0') or (state == \"carry\" and currentSymbol == '0'):\n",
    "            tape[headPosition] = '1'  # Write '1' to the current position\n",
    "            break \n",
    "        elif (state == \"add\" and currentSymbol == '1') or (state == \"carry\" and currentSymbol == '1'):\n",
    "            tape[headPosition] = '0'  # Write '0' to the current position\n",
    "            headPosition -= 1  # Move head left\n",
    "            state = \"carry\"  # Change state to \"carry\" for the next iteration\n",
    "    \n",
    "    return ''.join(tape)  # Convert list back to string and return the result"
   ]
  },
  {
   "cell_type": "markdown",
   "metadata": {},
   "source": [
    "## Test 1: Basic usage"
   ]
  },
  {
   "cell_type": "code",
   "execution_count": 281,
   "metadata": {},
   "outputs": [],
   "source": [
    "# Test multiple binary numbers with the Turing machine. Compare results with expected values.\n",
    "testCases = [\n",
    "    (\"100111\", \"101000\"),\n",
    "    (\"0\", \"1\"),\n",
    "    (\"1\", \"10\"),\n",
    "    (\"10\", \"11\"),\n",
    "    (\"11\", \"100\"),\n",
    "    (\"1111\", \"10000\"),\n",
    "    (\"101010\", \"101011\"),\n",
    "    (\"\", \"1\")\n",
    "]"
   ]
  },
  {
   "cell_type": "code",
   "execution_count": 282,
   "metadata": {},
   "outputs": [
    {
     "name": "stdout",
     "output_type": "stream",
     "text": [
      "Input: 100111\n",
      "Expected: 101000\n",
      "Output: 101000\n",
      "Status: Passed\n",
      "------------------------------\n",
      "Input: 0\n",
      "Expected: 1\n",
      "Output: 1\n",
      "Status: Passed\n",
      "------------------------------\n",
      "Input: 1\n",
      "Expected: 10\n",
      "Output: 10\n",
      "Status: Passed\n",
      "------------------------------\n",
      "Input: 10\n",
      "Expected: 11\n",
      "Output: 11\n",
      "Status: Passed\n",
      "------------------------------\n",
      "Input: 11\n",
      "Expected: 100\n",
      "Output: 100\n",
      "Status: Passed\n",
      "------------------------------\n",
      "Input: 1111\n",
      "Expected: 10000\n",
      "Output: 10000\n",
      "Status: Passed\n",
      "------------------------------\n",
      "Input: 101010\n",
      "Expected: 101011\n",
      "Output: 101011\n",
      "Status: Passed\n",
      "------------------------------\n",
      "Input: empty\n",
      "Expected: 1\n",
      "Output: 1\n",
      "Status: Passed\n",
      "------------------------------\n",
      "All tests passed successfully!\n"
     ]
    }
   ],
   "source": [
    "allTestsPassed = True  # Initialize a flag to track if all tests pass\n",
    "\n",
    "# Loop through each test case with input and expected output\n",
    "for inputTape, expectedOutput in testCases:\n",
    "    result = addOneTuringMachine(inputTape)  # Run the Turing machine on this input\n",
    "    \n",
    "    testPassed = result == expectedOutput  # Check if the result matches expected output\n",
    "    allTestsPassed = allTestsPassed and testPassed  # Update the overall status\n",
    "    \n",
    "    status = \"Passed\" if testPassed else \"Failed\"\n",
    "    print(f\"Input: {inputTape or 'empty'}\\nExpected: {expectedOutput}\\nOutput: {result}\\nStatus: {status}\\n{'-' * 30}\") \n",
    "\n",
    "if allTestsPassed:\n",
    "    print(\"All tests passed successfully!\")  \n",
    "else:\n",
    "    print(\"Some tests failed. Check the results above\") "
   ]
  },
  {
   "cell_type": "markdown",
   "metadata": {},
   "source": [
    "## Test 2: Initial State Configuration\n",
    "This test verifies the Turing machine's initial state configuration by:\n",
    "\n",
    "- Testing different input tapes with various binary numbers (['1', '0', '1'], ['1', '0', '0', '1'], ['0'])\n",
    "- Checking that the machine correctly starts in the 'add' state as defined in the code\n",
    "- Confirming the machine properly processes these inputs to produce the correct binary addition results\n",
    "- Validating that the machine follows the step-by-step process described in the markdown\n",
    "\n",
    "For example, when given ['1', '0', '1'] (binary 5), it checks if the result is ['1', '1', '0'] (binary 6), confirming the machine correctly added 1 to the binary number."
   ]
  },
  {
   "cell_type": "code",
   "execution_count": 283,
   "metadata": {},
   "outputs": [
    {
     "name": "stdout",
     "output_type": "stream",
     "text": [
      "Initial state: 10111, Result: 11000\n",
      "Standard binary addition test: Passed\n",
      "\n",
      "Initial state: 10011, Result: 10100\n",
      "Mid-bit carry test: Passed\n",
      "\n",
      "Initial state: 0, Result: 1\n",
      "Single digit test: Passed\n",
      "\n"
     ]
    }
   ],
   "source": [
    "inputTape1 = \"10111\"  # Binary representation of 23\n",
    "result1 = addOneTuringMachine(inputTape1)  # Add 1 to the binary number\n",
    "print(f\"Initial state: {inputTape1}, Result: {result1}\")\n",
    "print(f\"Standard binary addition test: {'Passed' if result1 == '11000' else 'Failed'}\\n\")\n",
    "\n",
    "inputTape2 = \"10011\"  # Binary representation of 19\n",
    "result2 = addOneTuringMachine(inputTape2)  # Process the second test case\n",
    "print(f\"Initial state: {inputTape2}, Result: {result2}\")  \n",
    "print(f\"Mid-bit carry test: {'Passed' if result2 == '10100' else 'Failed'}\\n\") \n",
    "\n",
    "inputTape3 = \"0\"  # Test case for the smallest possible input\n",
    "result3 = addOneTuringMachine(inputTape3)  # Handle the edge case of a single digit\n",
    "print(f\"Initial state: {inputTape3}, Result: {result3}\")\n",
    "print(f\"Single digit test: {'Passed' if result3 == '1' else 'Failed'}\\n\") "
   ]
  },
  {
   "cell_type": "markdown",
   "metadata": {},
   "source": [
    "## Test 3: Symbol Transition Logic\n",
    "This test examines the state transition mechanics by:\n",
    "\n",
    "- Using input tapes that specifically trigger the carry operation (['1', '1'], ['1', '1', '1'], ['1', '0', '1', '1'])\n",
    "- Verifying that when the machine reads a '1' in 'add' state, it correctly writes a '0' and changes to 'carry' state\n",
    "- Confirming the machine's ability to propagate the carry operation through multiple digits\n",
    "- Testing the conditional logic defined in the code for state transitions based on current symbol and state\n",
    "\n",
    "For instance, with ['1', '1'] (binary 3), it checks if the result is ['1', '0', '0'] (binary 4), which requires the machine to not only change the rightmost '1' to '0' but also carry and add a new digit."
   ]
  },
  {
   "cell_type": "code",
   "execution_count": 284,
   "metadata": {},
   "outputs": [
    {
     "name": "stdout",
     "output_type": "stream",
     "text": [
      "Initial state: 11, Result: 100\n",
      "Basic carry test: Passed\n",
      "\n",
      "Initial state: 111, Result: 1000\n",
      "Single digit overflow test: Passed\n",
      "\n",
      "Initial state: 10111, Result: 11000\n",
      "Complex binary addition test: Passed\n",
      "\n"
     ]
    }
   ],
   "source": [
    "inputTape4 = \"11\"  # Binary representation of 3\n",
    "result4 = addOneTuringMachine(inputTape4)  # Add 1 to the binary number\n",
    "print(f\"Initial state: {inputTape4}, Result: {result4}\") \n",
    "print(f\"Basic carry test: {'Passed' if result4 == '100' else 'Failed'}\\n\") \n",
    "\n",
    "inputTape5 = \"111\"  # Binary representation of 7\n",
    "result5 = addOneTuringMachine(inputTape5)  # Process second test case\n",
    "print(f\"Initial state: {inputTape5}, Result: {result5}\")\n",
    "print(f\"Single digit overflow test: {'Passed' if result5 == '1000' else 'Failed'}\\n\") \n",
    "\n",
    "inputTape6 = \"10111\"  # Binary representation of 23\n",
    "result6 = addOneTuringMachine(inputTape6)  # Handle the case requiring multiple carries\n",
    "print(f\"Initial state: {inputTape6}, Result: {result6}\") \n",
    "print(f\"Complex binary addition test: {'Passed' if result6 == '11000' else 'Failed'}\\n\") "
   ]
  },
  {
   "cell_type": "markdown",
   "metadata": {},
   "source": [
    "## Test 4: Tape Head Movement\n",
    "This test examines the tape handling and head movement by:\n",
    "\n",
    "- Testing an empty tape to verify tape expansion behavior\n",
    "- Using a tape with leading zeros (['0', '0', '0']) to test head position movement\n",
    "- Testing a sequence of all ones (['1', '1', '1', '1', '1']) to verify multiple head movements and carries\n",
    "- Confirming the machine correctly handles boundary conditions by inserting new digits when necessary\n",
    "\n",
    "For example, testing with an empty tape checks if the machine correctly inserts a '1', demonstrating how it handles the infinite tape concept when expanding beyond initial boundaries."
   ]
  },
  {
   "cell_type": "code",
   "execution_count": 285,
   "metadata": {},
   "outputs": [
    {
     "name": "stdout",
     "output_type": "stream",
     "text": [
      "Initial state: , Result: 1\n",
      "Empty tape test: Passed\n",
      "\n",
      "Initial state: 001, Result: 010\n",
      "Leading zeros test: Passed\n",
      "\n",
      "Initial state: 11111, Result: 100000\n",
      "Multiple carries test: Passed\n",
      "\n"
     ]
    }
   ],
   "source": [
    "inputTape7 = \"\"  # Empty tape\n",
    "result7 = addOneTuringMachine(inputTape7)  # Add 1 to an empty tape\n",
    "print(f\"Initial state: {inputTape7}, Result: {result7}\")\n",
    "print(f\"Empty tape test: {'Passed' if result7 == '1' else 'Failed'}\\n\") \n",
    "\n",
    "inputTape8 = \"001\"  # Binary representation of 1\n",
    "result8 = addOneTuringMachine(inputTape8)  # Process the case with leading zeros\n",
    "print(f\"Initial state: {inputTape8}, Result: {result8}\")\n",
    "print(f\"Leading zeros test: {'Passed' if result8 == '010' else 'Failed'}\\n\") \n",
    "\n",
    "inputTape9 = \"11111\"  # Binary representation of 31\n",
    "result9 = addOneTuringMachine(inputTape9)  # Handle the case requiring multiple carries\n",
    "print(f\"Initial state: {inputTape9}, Result: {result9}\")\n",
    "print(f\"Multiple carries test: {'Passed' if result9 == '100000' else 'Failed'}\\n\")"
   ]
  },
  {
   "cell_type": "markdown",
   "metadata": {},
   "source": [
    "# Task 8: Computational Complexity\n",
    "Bubble sort is one of the oldest and simplest sorting algorithms that works by repeatedly stepping through the list, comparing adjacent elements and swapping them if they're in the wrong order. This process causes larger values to \"bubble\" to the end of the list with each complete pass, hence the name \"bubble sort.\" The algorithm completes when no swaps are needed during a pass, indicating the list is fully sorted. Despite its simplicity, it is among the most inefficient for real-world applications. This thorough research by Omar Khan Durrani and Sayed AbdulHayan from Ghousia College of Engineering and P A College of Engineering respectively involved asymptotic analysis of various sorting algorithms implemented in Python and Java. Bubble sort operates with a general time complexity of O(n²) and best-case complexity of O(n), requiring only O(1) auxiliary space. Performance measurements on random data samples in Python revealed extremely poor efficiency at scale, with sorting 100,000 elements taking 748.49 seconds. For worst-case scenarios (already sorted data), the algorithm performed even worse, requiring approximately 1748.8 seconds (about 195 minutes) to process 500,000 elements. The study confirmed bubble sort belongs to the \"too slow\" O(n²) category of algorithms, exhibiting substantial performance degradation as dataset sizes increase, validating its O(n²) complexity for large inputs.\n",
    "\n",
    "- https://chatgpt.com/share/681573c6-44fc-800f-8aa2-6ed208ee0497"
   ]
  },
  {
   "cell_type": "code",
   "execution_count": 286,
   "metadata": {},
   "outputs": [],
   "source": [
    "def bubbleSort(arr):\n",
    "    n = len(arr) # Get length of the input array\n",
    "    comparisons = 0 # Initialize comparison counter\n",
    "    arrayCopy = arr.copy() # Create a copy to preserve original array\n",
    "    \n",
    "    # Outer loop through array elements\n",
    "    for i in range(n):\n",
    "        swapped = False # Flag to track if any swaps occur in this pass\n",
    "\n",
    "        # Inner loop to compare adjacent elements\n",
    "        for j in range(0, n-i-1):\n",
    "            comparisons += 1 # Increment comparison counter\n",
    "            if arrayCopy[j] > arrayCopy[j+1]: # Compare adjacent elements\n",
    "                arrayCopy[j], arrayCopy[j+1] = arrayCopy[j+1], arrayCopy[j] # Swap if in wrong order\n",
    "                swapped = True # Set flag as swap occurred\n",
    "        \n",
    "        if not swapped: # If no swaps occurred, array is sorted\n",
    "            break \n",
    "    \n",
    "    return comparisons # Return total comparison count"
   ]
  },
  {
   "cell_type": "markdown",
   "metadata": {},
   "source": [
    "## Test 1: Basic Usage"
   ]
  },
  {
   "cell_type": "code",
   "execution_count": 287,
   "metadata": {},
   "outputs": [
    {
     "name": "stdout",
     "output_type": "stream",
     "text": [
      "(1, 2, 3, 4, 5) -> 4\n",
      "(1, 2, 3, 5, 4) -> 7\n",
      "(1, 2, 4, 3, 5) -> 7\n",
      "(1, 2, 4, 5, 3) -> 9\n",
      "(1, 2, 5, 3, 4) -> 7\n",
      "(1, 2, 5, 4, 3) -> 9\n",
      "(1, 3, 2, 4, 5) -> 7\n",
      "(1, 3, 2, 5, 4) -> 7\n",
      "(1, 3, 4, 2, 5) -> 9\n",
      "(1, 3, 4, 5, 2) -> 10\n",
      "(1, 3, 5, 2, 4) -> 9\n",
      "(1, 3, 5, 4, 2) -> 10\n",
      "(1, 4, 2, 3, 5) -> 7\n",
      "(1, 4, 2, 5, 3) -> 9\n",
      "(1, 4, 3, 2, 5) -> 9\n",
      "(1, 4, 3, 5, 2) -> 10\n",
      "(1, 4, 5, 2, 3) -> 9\n",
      "(1, 4, 5, 3, 2) -> 10\n",
      "(1, 5, 2, 3, 4) -> 7\n",
      "(1, 5, 2, 4, 3) -> 9\n",
      "(1, 5, 3, 2, 4) -> 9\n",
      "(1, 5, 3, 4, 2) -> 10\n",
      "(1, 5, 4, 2, 3) -> 9\n",
      "(1, 5, 4, 3, 2) -> 10\n",
      "(2, 1, 3, 4, 5) -> 7\n",
      "(2, 1, 3, 5, 4) -> 7\n",
      "(2, 1, 4, 3, 5) -> 7\n",
      "(2, 1, 4, 5, 3) -> 9\n",
      "(2, 1, 5, 3, 4) -> 7\n",
      "(2, 1, 5, 4, 3) -> 9\n",
      "(2, 3, 1, 4, 5) -> 9\n",
      "(2, 3, 1, 5, 4) -> 9\n",
      "(2, 3, 4, 1, 5) -> 10\n",
      "(2, 3, 4, 5, 1) -> 10\n",
      "(2, 3, 5, 1, 4) -> 10\n",
      "(2, 3, 5, 4, 1) -> 10\n",
      "(2, 4, 1, 3, 5) -> 9\n",
      "(2, 4, 1, 5, 3) -> 9\n",
      "(2, 4, 3, 1, 5) -> 10\n",
      "(2, 4, 3, 5, 1) -> 10\n",
      "(2, 4, 5, 1, 3) -> 10\n",
      "(2, 4, 5, 3, 1) -> 10\n",
      "(2, 5, 1, 3, 4) -> 9\n",
      "(2, 5, 1, 4, 3) -> 9\n",
      "(2, 5, 3, 1, 4) -> 10\n",
      "(2, 5, 3, 4, 1) -> 10\n",
      "(2, 5, 4, 1, 3) -> 10\n",
      "(2, 5, 4, 3, 1) -> 10\n",
      "(3, 1, 2, 4, 5) -> 7\n",
      "(3, 1, 2, 5, 4) -> 7\n",
      "(3, 1, 4, 2, 5) -> 9\n",
      "(3, 1, 4, 5, 2) -> 10\n",
      "(3, 1, 5, 2, 4) -> 9\n",
      "(3, 1, 5, 4, 2) -> 10\n",
      "(3, 2, 1, 4, 5) -> 9\n",
      "(3, 2, 1, 5, 4) -> 9\n",
      "(3, 2, 4, 1, 5) -> 10\n",
      "(3, 2, 4, 5, 1) -> 10\n",
      "(3, 2, 5, 1, 4) -> 10\n",
      "(3, 2, 5, 4, 1) -> 10\n",
      "(3, 4, 1, 2, 5) -> 9\n",
      "(3, 4, 1, 5, 2) -> 10\n",
      "(3, 4, 2, 1, 5) -> 10\n",
      "(3, 4, 2, 5, 1) -> 10\n",
      "(3, 4, 5, 1, 2) -> 10\n",
      "(3, 4, 5, 2, 1) -> 10\n",
      "(3, 5, 1, 2, 4) -> 9\n",
      "(3, 5, 1, 4, 2) -> 10\n",
      "(3, 5, 2, 1, 4) -> 10\n",
      "(3, 5, 2, 4, 1) -> 10\n",
      "(3, 5, 4, 1, 2) -> 10\n",
      "(3, 5, 4, 2, 1) -> 10\n",
      "(4, 1, 2, 3, 5) -> 7\n",
      "(4, 1, 2, 5, 3) -> 9\n",
      "(4, 1, 3, 2, 5) -> 9\n",
      "(4, 1, 3, 5, 2) -> 10\n",
      "(4, 1, 5, 2, 3) -> 9\n",
      "(4, 1, 5, 3, 2) -> 10\n",
      "(4, 2, 1, 3, 5) -> 9\n",
      "(4, 2, 1, 5, 3) -> 9\n",
      "(4, 2, 3, 1, 5) -> 10\n",
      "(4, 2, 3, 5, 1) -> 10\n",
      "(4, 2, 5, 1, 3) -> 10\n",
      "(4, 2, 5, 3, 1) -> 10\n",
      "(4, 3, 1, 2, 5) -> 9\n",
      "(4, 3, 1, 5, 2) -> 10\n",
      "(4, 3, 2, 1, 5) -> 10\n",
      "(4, 3, 2, 5, 1) -> 10\n",
      "(4, 3, 5, 1, 2) -> 10\n",
      "(4, 3, 5, 2, 1) -> 10\n",
      "(4, 5, 1, 2, 3) -> 9\n",
      "(4, 5, 1, 3, 2) -> 10\n",
      "(4, 5, 2, 1, 3) -> 10\n",
      "(4, 5, 2, 3, 1) -> 10\n",
      "(4, 5, 3, 1, 2) -> 10\n",
      "(4, 5, 3, 2, 1) -> 10\n",
      "(5, 1, 2, 3, 4) -> 7\n",
      "(5, 1, 2, 4, 3) -> 9\n",
      "(5, 1, 3, 2, 4) -> 9\n",
      "(5, 1, 3, 4, 2) -> 10\n",
      "(5, 1, 4, 2, 3) -> 9\n",
      "(5, 1, 4, 3, 2) -> 10\n",
      "(5, 2, 1, 3, 4) -> 9\n",
      "(5, 2, 1, 4, 3) -> 9\n",
      "(5, 2, 3, 1, 4) -> 10\n",
      "(5, 2, 3, 4, 1) -> 10\n",
      "(5, 2, 4, 1, 3) -> 10\n",
      "(5, 2, 4, 3, 1) -> 10\n",
      "(5, 3, 1, 2, 4) -> 9\n",
      "(5, 3, 1, 4, 2) -> 10\n",
      "(5, 3, 2, 1, 4) -> 10\n",
      "(5, 3, 2, 4, 1) -> 10\n",
      "(5, 3, 4, 1, 2) -> 10\n",
      "(5, 3, 4, 2, 1) -> 10\n",
      "(5, 4, 1, 2, 3) -> 9\n",
      "(5, 4, 1, 3, 2) -> 10\n",
      "(5, 4, 2, 1, 3) -> 10\n",
      "(5, 4, 2, 3, 1) -> 10\n",
      "(5, 4, 3, 1, 2) -> 10\n",
      "(5, 4, 3, 2, 1) -> 10\n"
     ]
    }
   ],
   "source": [
    "L = [1, 2, 3, 4, 5] # Test list of integers\n",
    "\n",
    "# Generate all permutations\n",
    "for perm in itertools.permutations(L):\n",
    "    permList = list(perm) # Convert tuple to list\n",
    "    comparisons = bubbleSort(permList) # Sort and count comparisons\n",
    "    print(perm, \"->\", comparisons)"
   ]
  },
  {
   "cell_type": "markdown",
   "metadata": {},
   "source": [
    "## Test 2: Best Case Performance (O(n))"
   ]
  },
  {
   "cell_type": "code",
   "execution_count": 288,
   "metadata": {},
   "outputs": [
    {
     "name": "stdout",
     "output_type": "stream",
     "text": [
      "Size | Comparisons | Execution Time (sec)\n",
      "----------------------------------------\n",
      "100 | 99 | 0.0000136600\n",
      "250 | 249 | 0.0000195600\n",
      "500 | 499 | 0.0000490000\n",
      "750 | 749 | 0.0000902600\n",
      "1000 | 999 | 0.0001125000\n",
      "2000 | 1999 | 0.0002484400\n",
      "5000 | 4999 | 0.0006281800\n",
      "7500 | 7499 | 0.0010832400\n",
      "10000 | 9999 | 0.0009696400\n",
      "15000 | 14999 | 0.0030287600\n"
     ]
    }
   ],
   "source": [
    "sizeList = [100, 250, 500, 750, 1000, 2000, 5000, 7500, 10000, 15000] # Define list of array sizes to test\n",
    "iterations = 5 # Number of iterations for time averaging\n",
    "\n",
    "print(\"Size | Comparisons | Execution Time (sec)\") \n",
    "print(\"-\" * 40)\n",
    "\n",
    "# Loop through each array size\n",
    "for size in sizeList:\n",
    "    totalTime = 0 # Initialize total time for averaging\n",
    "    \n",
    "    # Create sorted array - best case for bubble sort\n",
    "    testArray = list(range(size))\n",
    "    \n",
    "    # Run multiple iterations and average the time\n",
    "    for i in range(iterations):\n",
    "        startTime = time.perf_counter() # Record start time before sorting\n",
    "        comparisons = bubbleSort(testArray) # Apply bubble sort and store comparison count\n",
    "        totalTime += time.perf_counter() - startTime # Calculate execution time by finding difference\n",
    "    \n",
    "    avgTime = totalTime / iterations # Calculate average time taken\n",
    "    print(f\"{size} | {comparisons} | {avgTime:.10f}\")"
   ]
  },
  {
   "cell_type": "markdown",
   "metadata": {},
   "source": [
    "The best case complexity is O(n) as we can see the comparisons increase linearly with array size"
   ]
  },
  {
   "cell_type": "markdown",
   "metadata": {},
   "source": [
    "## Test 3: Worst Case Scenario (O(n²))"
   ]
  },
  {
   "cell_type": "code",
   "execution_count": 289,
   "metadata": {},
   "outputs": [
    {
     "name": "stdout",
     "output_type": "stream",
     "text": [
      "Size | Comparisons | Execution Time (sec)\n",
      "----------------------------------------\n",
      "100 | 4950 | 0.0000000000\n",
      "250 | 31125 | 0.0039989948\n",
      "500 | 124750 | 0.0220015049\n",
      "750 | 280875 | 0.0379972458\n",
      "1000 | 499500 | 0.0669994354\n",
      "2000 | 1999000 | 0.2900009155\n",
      "5000 | 12497500 | 1.9341263771\n",
      "7500 | 28121250 | 4.2536776066\n",
      "10000 | 49995000 | 7.6941225529\n",
      "15000 | 112492500 | 17.3087792397\n"
     ]
    }
   ],
   "source": [
    "sizeList = [100, 250, 500, 750, 1000, 2000, 5000, 7500, 10000, 15000] # Define list of array sizes to test\n",
    "print(\"Size | Comparisons | Execution Time (sec)\") \n",
    "print(\"-\" * 40)\n",
    "\n",
    "# Loop through each array size\n",
    "for size in sizeList:\n",
    "    # Create reverse sorted array - worst case for bubble sort\n",
    "    testArray = list(range(size, 0, -1))\n",
    "    \n",
    "    startTime = time.time() # Record start time before sorting\n",
    "    comparisons = bubbleSort(testArray) # Apply bubble sort and store comparison count\n",
    "    executionTime = time.time() - startTime # Calculate execution time by finding difference\n",
    "    \n",
    "    print(f\"{size} | {comparisons} | {executionTime:.10f}\")"
   ]
  },
  {
   "cell_type": "markdown",
   "metadata": {},
   "source": [
    "The worst case complexity is O(n²) as we can see the comparisons increase quadratically"
   ]
  },
  {
   "cell_type": "markdown",
   "metadata": {},
   "source": [
    "## Test 4: Average Case Performance and Memory Usage (O(n²) time, O(1) space)"
   ]
  },
  {
   "cell_type": "code",
   "execution_count": 290,
   "metadata": {},
   "outputs": [
    {
     "name": "stdout",
     "output_type": "stream",
     "text": [
      "Size | Comparisons | Execution Time (sec)\n",
      "----------------------------------------\n",
      "100 | 4814 | 0.0010120869\n",
      "250 | 31059 | 0.0029997826\n",
      "500 | 124659 | 0.0140001774\n",
      "750 | 279794 | 0.0310015678\n",
      "1000 | 498905 | 0.0585601330\n",
      "2000 | 1996984 | 0.2546410561\n",
      "5000 | 12478585 | 1.6150000095\n",
      "7500 | 28114922 | 3.5897576809\n",
      "10000 | 49979424 | 6.3875448704\n",
      "15000 | 112486395 | 14.8106031418\n"
     ]
    }
   ],
   "source": [
    "sizeList = [100, 250, 500, 750, 1000, 2000, 5000, 7500, 10000, 15000] # Define list of array sizes to test\n",
    "print(\"Size | Comparisons | Execution Time (sec)\") \n",
    "print(\"-\" * 40)\n",
    "\n",
    "# Loop through each array size\n",
    "for size in sizeList:\n",
    "    \n",
    "    testArray = list(range(size)) # Generate test array \n",
    "    random.shuffle(testArray) # Randomize the array to create average case scenario\n",
    "    \n",
    "    startTime = time.time() # Record start time before sorting\n",
    "    comparisons = bubbleSort(testArray) # Apply bubble sort and store comparison count\n",
    "    executionTime = time.time() - startTime # Calculate execution time by finding difference\n",
    "    \n",
    "    print(f\"{size} | {comparisons} | {executionTime:.10f}\")"
   ]
  },
  {
   "cell_type": "markdown",
   "metadata": {},
   "source": [
    "Average case shows O(n²) behavior with actual execution time increasing significantly with input size\n",
    "\n",
    "Note: Bubble sort uses O(1) auxiliary space as it only needs a few variables regardless of input size"
   ]
  },
  {
   "cell_type": "markdown",
   "metadata": {},
   "source": [
    "# Bibliography\n",
    "**[1]** -\n",
    "National Institute of Standards and Technology (US). Secure hash standard.\n",
    "    Technical Report NIST FIPS 180-4, National Institute of Standards and Tech-\n",
    "    nology (U.S.), Washington, D.C., 2015. URL: https://nvlpubs.nist.gov/nistpubs/FIPS/NIST.FIPS.180-4.pdf\n",
    "    nistpubs/FIPS/NIST.FIPS.180-4.pdf, doi:10.6028/NIST.FIPS.180-4.\n",
    "\n",
    "**[2]** -\n",
    "Brian W. Kernighan and Dennis M. Ritchie. The C programming language.\n",
    "Prentice-Hall software series. Prentice-Hall PTR, Upper Saddle River, NJ, 2.\n",
    "ed., 52. print edition, 2014. URL: https://www.cimat.mx/ciencia_para_jovenes/bachillerato/libros/%5BKernighan-Ritchie%5DThe_C_Programming_Language.pdf"
   ]
  }
 ],
 "metadata": {
  "kernelspec": {
   "display_name": "Python 3",
   "language": "python",
   "name": "python3"
  },
  "language_info": {
   "codemirror_mode": {
    "name": "ipython",
    "version": 3
   },
   "file_extension": ".py",
   "mimetype": "text/x-python",
   "name": "python",
   "nbconvert_exporter": "python",
   "pygments_lexer": "ipython3",
   "version": "3.12.0"
  },
  "orig_nbformat": 4
 },
 "nbformat": 4,
 "nbformat_minor": 2
}
